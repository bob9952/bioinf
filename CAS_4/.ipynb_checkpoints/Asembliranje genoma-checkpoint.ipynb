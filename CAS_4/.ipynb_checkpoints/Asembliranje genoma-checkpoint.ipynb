{
 "cells": [
  {
   "cell_type": "code",
   "execution_count": 1,
   "metadata": {},
   "outputs": [],
   "source": [
    "from copy import deepcopy"
   ]
  },
  {
   "cell_type": "code",
   "execution_count": 2,
   "metadata": {},
   "outputs": [],
   "source": [
    "class Graph:\n",
    "    #konstruktorska funkcija (metod)\n",
    "    def __init__(self, adjacency_list):\n",
    "        self.adjacency_list = deepcopy(adjacency_list)\n",
    "    \n",
    "    #metod koji vraca stringovsku reprezentaciju grafa\n",
    "    def __str__(self):\n",
    "        return self.adjacency_list.__str__()      #II nacin: f'{self.adjacency_list}' ili  str(self.adjacency_list)\n",
    "    \n",
    "    #metod koji vraca listu svih cvorova u grafu\n",
    "    def get_all_nodes(self):\n",
    "        return list(self.adjacency_list.keys())\n",
    "    \n",
    "    #metod koji vraca listu suseda za dati cvor 'node'\n",
    "    def get_neighbors(self, node):\n",
    "        return self.adjacency_list[node]\n",
    "    \n",
    "    #metod koji vraca broj suseda za dati cvor 'node'\n",
    "    def num_neighbors(self, node):\n",
    "        return len(self.get_neighbors(node))\n",
    "    \n",
    "    #metod koji dodaje novog suseda 'neighbor' za dati cvor 'node'\n",
    "    def add_neighbor(self, node, neighbor):\n",
    "        self.adjacency_list[node].append(neighbor)\n",
    "    \n",
    "    #metod koji uklanja suseda 'neighbor' za dati cvor 'node'\n",
    "    def remove_neighbor(self, node, neighbor):\n",
    "        self.adjacency_list[node].remove(neighbor)\n",
    "    \n",
    "    #metod koji vrsi dodavanje novog cvora 'node' u graf\n",
    "    def add_node(self, node):\n",
    "        if node not in self.get_all_nodes():\n",
    "            self.adjacency_list[node] = []\n",
    "        \n",
    "    #metod koji vrsi uklanjanje cvora 'node' iz grafa\n",
    "    def remove_node(self, node):\n",
    "        if node in self.adjacency_list:\n",
    "            del self.adjacency_list[node]\n",
    "            \n",
    "        for key, neighbors in self.adjacency_list.items():\n",
    "            self.adjacency_list[key] = [n for n in neighbors if n != node]\n",
    "           \n",
    "    #metod koji vraca listu izlaznih grana za dati cvor 'node'\n",
    "    def outbound_edges(self, node):\n",
    "        neighbors = self.get_neighbors(node)\n",
    "        edges = [(node, neighbor) for neighbor in neighbors]\n",
    "        return edges\n",
    "    \n",
    "    #metod koji vraca listu ulaznih grana za dati cvor 'node'\n",
    "    def inbound_edges(self, node):\n",
    "        edges = []\n",
    "        \n",
    "        for key, neighbors in self.adjacency_list.items():\n",
    "            for neighbor in neighbors:\n",
    "                if neighbor == node:\n",
    "                    edges.append((key, node))\n",
    "                    \n",
    "        return edges    \n",
    "        \n",
    "    #metod koji racuna izlazni stepen (broj izlaznih grana) za dati cvor 'node' \n",
    "    def out_degree(self, node):\n",
    "        return len(self.outbound_edges(node))\n",
    "    \n",
    "    #metod koji racuna ulazni stepen (broj ulaznih grana) za dati cvor 'node'\n",
    "    def in_degree(self, node):\n",
    "        return len(self.inbound_edges(node))  \n",
    "    \n",
    "    #metod koji vraca listu svih grana u grafu\n",
    "    def get_all_edges(self):\n",
    "        edges = []\n",
    "        \n",
    "        for node in self.get_all_nodes():\n",
    "            edges += self.outbound_edges(node)\n",
    "            \n",
    "        return edges    \n",
    "    \n",
    "    #metod koji vraca listu neposecenih grana zadatog cvora 'node' \n",
    "    #(grane koje pripadaju listi neposecenih grana 'unvisited_edges')\n",
    "    def get_unvisited_edges(self, node, unvisited_edges):\n",
    "        node_edges = self.outbound_edges(node)\n",
    "        \n",
    "        node_unvisited_edges = []\n",
    "        \n",
    "        for egde in unvisited_edges:\n",
    "            (node_out, node_in) = egde\n",
    "            if node_out == node:\n",
    "                node_unvisited_edges.append(egde)\n",
    "                \n",
    "        return node_unvisited_edges        \n",
    "    \n",
    "    #metod koji ispituje da li dati cvor 'node' ima neposecene grane u listi 'unvisited_edges'\n",
    "    def has_unvisited_edges(self, node, unvisited_edges):\n",
    "        unvisited_edges = self.get_unvisited_edges(node, unvisited_edges)\n",
    "        \n",
    "        return len(unvisited_edges) > 0\n",
    "    \n",
    "    #metod koji pronalazi jedan Ojlerov ciklus u grafu\n",
    "    def eulerian_cycle(self):\n",
    "        cycle = []\n",
    "        unvisited_edges = self.get_all_edges()\n",
    "        current_node = self.get_all_nodes()[0]\n",
    "        \n",
    "        while len(unvisited_edges) > 0:\n",
    "            current_cycle = []\n",
    "            \n",
    "            while self.has_unvisited_edges(current_node, unvisited_edges):\n",
    "                unvisited_edges_from_current_node = self.get_unvisited_edges(current_node, unvisited_edges)\n",
    "                selected_edge = unvisited_edges_from_current_node[0]\n",
    "                unvisited_edges.remove(selected_edge)\n",
    "                \n",
    "                (node_out, node_in) = selected_edge\n",
    "                current_cycle.append(node_in)\n",
    "                current_node = node_in            \n",
    "                \n",
    "            cycle += current_cycle\n",
    "            \n",
    "            for i in range(len(cycle)):\n",
    "                node = cycle[i]\n",
    "                \n",
    "                if self.has_unvisited_edges(node, unvisited_edges):\n",
    "                    cycle = cycle[i+1:] + cycle[i+1]\n",
    "                    current_node = node\n",
    "                    break\n",
    "                    \n",
    "        return [cycle[-1]] + cycle\n",
    "    \n",
    "    #metod koji vrsi tzv. prevezivanje u grafu za cvorove 'u', 'v' i 'w'\n",
    "    #dodajuci novi cvor 'v*' i obilazni put preko njega\n",
    "    def bypass(self, u, v, w):\n",
    "        new_node = v + '*' * self.in_degree(v)\n",
    "        self.add_node(new_node)\n",
    "        \n",
    "        self.remove_neighbor(u, v)\n",
    "        self.remove_neighbor(v, w)\n",
    "        self.add_neighbor(u, new_node)\n",
    "        self.add_neighbor(new_node, w)\n",
    "    \n",
    "    #metod koji proverava da li je graf prost u smislu da svaki   \n",
    "    #cvor ima ulazni (a samim tim i izlazni) stepen tacno 1\n",
    "    def is_simple(self):\n",
    "        for node in self.get_all_nodes():\n",
    "            if self.in_degree(node) > 1:\n",
    "                return False\n",
    "            \n",
    "        return True\n",
    "    \n",
    "    #metod koji vraca listu neposecenih suseda zadatog cvora 'node' \n",
    "    #(cvorovi koje ne pripadaju listi posecenih cvorova 'visited_nodes')\n",
    "    def get_unvisited_neighbors(self, node, visited_nodes):\n",
    "        unvisited_neighbors = []\n",
    "        \n",
    "        for neighbor in self.get_neighbors(node):\n",
    "                if neighbor not in visited_nodes:\n",
    "                    unvisited_neighbors.append(neighbor)\n",
    "                    \n",
    "        return unvisited_neighbors         \n",
    "    \n",
    "    #metod koji ispituje da li dati cvor 'node' ima neposecene susede \n",
    "    #u odnosu na listi posecenih cvorova 'visited_nodes'\n",
    "    def has_unvisited_neighbors(self, node, visited_nodes):\n",
    "        unvisited_neighbors = self.get_unvisited_neighbors(node, visited_nodes)\n",
    "        \n",
    "        return len(unvisited_neighbors) > 0        \n",
    "    \n",
    "    #metod koji proverava da li je graf povezan (DFS obilazak)\n",
    "    def is_connected(self):\n",
    "        visited_nodes = set([])                                 #skup obidjenih cvorova\n",
    "        begin_node = self.get_all_nodes()[0]                    #obilazak grafa pocinjemo iz proizvoljnog cvora\n",
    "        stack = [begin_node]\n",
    "        \n",
    "        while len(stack) > 0:\n",
    "            current_node = stack[-1]\n",
    "            visited_nodes.add(current_node)\n",
    "            \n",
    "            if self.has_unvisited_neighbors(current_node, visited_nodes):\n",
    "                unvisited_neighbors = self.get_unvisited_neighbors(current_node, visited_nodes)\n",
    "                stack.append(unvisited_neighbors[0])            #dodajemo samo jednog (proizvoljnog) suseda, ne sve\n",
    "            else:\n",
    "                stack.pop() \n",
    "                \n",
    "        total_num_nodes = len(self.get_all_nodes())\n",
    "        \n",
    "        return len(visited_nodes) == total_num_nodes            \n",
    "    \n",
    "    #metod koji pronalazi sve Ojlerove cikluse u grafu\n",
    "    def all_eulerian_cycles(self):\n",
    "        simple_graphs = []\n",
    "        non_simple_graphs = []\n",
    "        \n",
    "        if self.is_simple():\n",
    "            simple_graphs.append(self)    \n",
    "        else:\n",
    "            non_simple_graphs.append(self)\n",
    "        \n",
    "        #svaki non-simple graf uproscavamo dok ne postane simple pravljenjem bypass-ova    \n",
    "        while len (non_simple_graphs) > 0:\n",
    "            current_graph = non_simple_graphs[0]\n",
    "            \n",
    "            #pronalazimo (proizvoljni) non-simple cvor (koji ima ulazni a samim tim i izlazni stepen >1)\n",
    "            #takav cvor mora da postoji s obzirom da graf nije prost! \n",
    "            non_simple_node = None\n",
    "            for node in current_graph.get_all_nodes():\n",
    "                if current_graph.in_degree(node) > 1:\n",
    "                    non_simple_node = node\n",
    "                    break\n",
    "                    \n",
    "            #i pravimo novi graf sa bypass-om na tom cvoru tj. odjednom pravimo za sve moguce bypass-ove\n",
    "            #(za sve moguce kombinacije parove grana u/iz) na jednom cvoru po jedan novi (zaseban) graf\n",
    "            non_simple_node_inbound_edges = current_graph.inbound_edges(non_simple_node)\n",
    "            non_simple_node_outbound_edges = current_graph.outbound_edges(non_simple_node)\n",
    "            \n",
    "            for (u, _) in non_simple_node_inbound_edges:\n",
    "                for (_, w) in non_simple_node_outbound_edges:\n",
    "                    if u == non_simple_node and non_simple_node == w: #petlju (grana koja ide iz cvora nazad u \n",
    "                        continue                                      #samog sebe) ne raspetljavamo pomocu bypass-a\n",
    "                    \n",
    "                    new_graph = Graph(current_graph.adjacency_list)\n",
    "                    new_graph.bypass(u, non_simple_node, w)\n",
    "                    \n",
    "                    if new_graph.is_connected():\n",
    "                        if new_graph.is_simple():\n",
    "                            simple_graphs.append(new_graph)\n",
    "                        else:\n",
    "                            non_simple_graphs.append(new_graph)\n",
    "            \n",
    "            non_simple_graphs.remove(current_graph)\n",
    "           \n",
    "        all_cycles = []    \n",
    "        for graph in simple_graphs:\n",
    "            cycle = graph.eulerian_cycle()\n",
    "            all_cycles.append([node.replace('*', '') for node in cycle])\n",
    "            \n",
    "        deduplicated_cycles = set([tuple(cycle) for cycle in all_cycles])    \n",
    "            \n",
    "        return deduplicated_cycles    \n",
    "    \n",
    "    #metod koji pronalazi cvorove ciji se ulazni stepen razlikuje od izlaznog\n",
    "    def get_unbalanced_nodes(self):\n",
    "        unbalanced_nodes = []\n",
    "        \n",
    "        for node in self.get_all_nodes():\n",
    "            if self.in_degree(node) != self.out_degree(node):\n",
    "                unbalanced_nodes.append(node)\n",
    "                \n",
    "        return unbalanced_nodes\n",
    "    \n",
    "    #metod koji povezuje nebalansirane cvorove (to su pocetni i krajnji cvor kod De Brujin-ovog grafa) \n",
    "    #kako bi obezbedili uslov da graf sadrzi Ojlerov ciklus (ulazni stepen == izlazni stepen, za svaki cvor)\n",
    "    def close_to_cycle(self):\n",
    "        [u, v] = self.get_unbalanced_nodes()\n",
    "        \n",
    "        if self.in_degree(u) > self.out_degree(u):\n",
    "            self.add_neighbor(u, v)\n",
    "        else:\n",
    "            self.add_neighbor(v, u)"
   ]
  },
  {
   "cell_type": "markdown",
   "metadata": {},
   "source": [
    "<img src=\"assets/graph_eulerian_cycle.jpg\" width=\"400\">"
   ]
  },
  {
   "cell_type": "code",
   "execution_count": 3,
   "metadata": {},
   "outputs": [],
   "source": [
    "adjacency_list = {\n",
    "    'A' : ['B', 'E'],\n",
    "    'B' : ['C'],\n",
    "    'C' : ['A', 'E'],\n",
    "    'D' : ['C'],\n",
    "    'E' : ['D', 'F'],\n",
    "    'F' : ['G'],\n",
    "    'G' : ['A']\n",
    "}"
   ]
  },
  {
   "cell_type": "code",
   "execution_count": 4,
   "metadata": {},
   "outputs": [],
   "source": [
    "g = Graph(adjacency_list)"
   ]
  },
  {
   "cell_type": "code",
   "execution_count": 5,
   "metadata": {},
   "outputs": [
    {
     "name": "stdout",
     "output_type": "stream",
     "text": [
      "{'A': ['B', 'E'], 'B': ['C'], 'C': ['A', 'E'], 'D': ['C'], 'E': ['D', 'F'], 'F': ['G'], 'G': ['A']}\n"
     ]
    }
   ],
   "source": [
    "print(g)"
   ]
  },
  {
   "cell_type": "code",
   "execution_count": 6,
   "metadata": {},
   "outputs": [
    {
     "data": {
      "text/plain": [
       "['A', 'B', 'C', 'D', 'E', 'F', 'G']"
      ]
     },
     "execution_count": 6,
     "metadata": {},
     "output_type": "execute_result"
    }
   ],
   "source": [
    "g.get_all_nodes()"
   ]
  },
  {
   "cell_type": "code",
   "execution_count": 7,
   "metadata": {},
   "outputs": [
    {
     "data": {
      "text/plain": [
       "['D', 'F']"
      ]
     },
     "execution_count": 7,
     "metadata": {},
     "output_type": "execute_result"
    }
   ],
   "source": [
    "g.get_neighbors('E')"
   ]
  },
  {
   "cell_type": "code",
   "execution_count": 8,
   "metadata": {},
   "outputs": [
    {
     "data": {
      "text/plain": [
       "2"
      ]
     },
     "execution_count": 8,
     "metadata": {},
     "output_type": "execute_result"
    }
   ],
   "source": [
    "g.num_neighbors('C')"
   ]
  },
  {
   "cell_type": "code",
   "execution_count": 9,
   "metadata": {},
   "outputs": [
    {
     "name": "stdout",
     "output_type": "stream",
     "text": [
      "{'A': ['B', 'E'], 'B': ['C', 'D'], 'C': ['A', 'E'], 'D': ['C'], 'E': ['D', 'F'], 'F': ['G'], 'G': ['A']}\n"
     ]
    }
   ],
   "source": [
    "g.add_neighbor('B', 'D')\n",
    "print(g)"
   ]
  },
  {
   "cell_type": "code",
   "execution_count": 10,
   "metadata": {},
   "outputs": [
    {
     "name": "stdout",
     "output_type": "stream",
     "text": [
      "{'A': ['B', 'E'], 'B': ['C'], 'C': ['A', 'E'], 'D': ['C'], 'E': ['D', 'F'], 'F': ['G'], 'G': ['A']}\n"
     ]
    }
   ],
   "source": [
    "g.remove_neighbor('B', 'D')\n",
    "print(g)"
   ]
  },
  {
   "cell_type": "code",
   "execution_count": 11,
   "metadata": {},
   "outputs": [
    {
     "name": "stdout",
     "output_type": "stream",
     "text": [
      "{'A': ['B', 'E'], 'B': ['C', 'H'], 'C': ['A', 'E'], 'D': ['C'], 'E': ['D', 'F'], 'F': ['G'], 'G': ['A'], 'H': ['D']}\n"
     ]
    }
   ],
   "source": [
    "g.add_node('H')\n",
    "g.add_neighbor('H', 'D')\n",
    "g.add_neighbor('B', 'H')\n",
    "print(g)"
   ]
  },
  {
   "cell_type": "code",
   "execution_count": 12,
   "metadata": {},
   "outputs": [
    {
     "name": "stdout",
     "output_type": "stream",
     "text": [
      "{'A': ['B', 'E'], 'B': ['C'], 'C': ['A', 'E'], 'D': ['C'], 'E': ['D', 'F'], 'F': ['G'], 'G': ['A']}\n"
     ]
    }
   ],
   "source": [
    "g.remove_node('H')\n",
    "print(g)"
   ]
  },
  {
   "cell_type": "code",
   "execution_count": 13,
   "metadata": {},
   "outputs": [
    {
     "data": {
      "text/plain": [
       "[('B', 'C')]"
      ]
     },
     "execution_count": 13,
     "metadata": {},
     "output_type": "execute_result"
    }
   ],
   "source": [
    "g.outbound_edges('B')"
   ]
  },
  {
   "cell_type": "code",
   "execution_count": 14,
   "metadata": {},
   "outputs": [
    {
     "data": {
      "text/plain": [
       "[('B', 'C'), ('D', 'C')]"
      ]
     },
     "execution_count": 14,
     "metadata": {},
     "output_type": "execute_result"
    }
   ],
   "source": [
    "g.inbound_edges('C')"
   ]
  },
  {
   "cell_type": "code",
   "execution_count": 15,
   "metadata": {},
   "outputs": [
    {
     "data": {
      "text/plain": [
       "1"
      ]
     },
     "execution_count": 15,
     "metadata": {},
     "output_type": "execute_result"
    }
   ],
   "source": [
    "g.out_degree('B')"
   ]
  },
  {
   "cell_type": "code",
   "execution_count": 16,
   "metadata": {},
   "outputs": [
    {
     "data": {
      "text/plain": [
       "2"
      ]
     },
     "execution_count": 16,
     "metadata": {},
     "output_type": "execute_result"
    }
   ],
   "source": [
    "g.in_degree('C')"
   ]
  },
  {
   "cell_type": "code",
   "execution_count": 17,
   "metadata": {},
   "outputs": [
    {
     "data": {
      "text/plain": [
       "[('A', 'B'),\n",
       " ('A', 'E'),\n",
       " ('B', 'C'),\n",
       " ('C', 'A'),\n",
       " ('C', 'E'),\n",
       " ('D', 'C'),\n",
       " ('E', 'D'),\n",
       " ('E', 'F'),\n",
       " ('F', 'G'),\n",
       " ('G', 'A')]"
      ]
     },
     "execution_count": 17,
     "metadata": {},
     "output_type": "execute_result"
    }
   ],
   "source": [
    "g.get_all_edges()"
   ]
  },
  {
   "cell_type": "code",
   "execution_count": 18,
   "metadata": {},
   "outputs": [
    {
     "data": {
      "text/plain": [
       "[('A', 'E')]"
      ]
     },
     "execution_count": 18,
     "metadata": {},
     "output_type": "execute_result"
    }
   ],
   "source": [
    "unvisited_edges = [('A', 'E'), ('E', 'F'), ('F', 'G'), ('G', 'A')]\n",
    "g.get_unvisited_edges('A', unvisited_edges)"
   ]
  },
  {
   "cell_type": "code",
   "execution_count": 19,
   "metadata": {},
   "outputs": [
    {
     "data": {
      "text/plain": [
       "True"
      ]
     },
     "execution_count": 19,
     "metadata": {},
     "output_type": "execute_result"
    }
   ],
   "source": [
    "unvisited_edges = [('A', 'E'), ('E', 'F'), ('F', 'G'), ('G', 'A')]\n",
    "g.has_unvisited_edges('A', unvisited_edges)"
   ]
  },
  {
   "cell_type": "code",
   "execution_count": 20,
   "metadata": {},
   "outputs": [
    {
     "data": {
      "text/plain": [
       "['A', 'B', 'C', 'A', 'E', 'D', 'C', 'E', 'F', 'G', 'A']"
      ]
     },
     "execution_count": 20,
     "metadata": {},
     "output_type": "execute_result"
    }
   ],
   "source": [
    "g.eulerian_cycle()"
   ]
  },
  {
   "cell_type": "code",
   "execution_count": 21,
   "metadata": {},
   "outputs": [
    {
     "name": "stdout",
     "output_type": "stream",
     "text": [
      "{'A': ['E'], 'B': ['C'], 'C': ['A', 'E'], 'D': ['C'], 'E': ['D', 'F'], 'F': ['G'], 'G': ['A**'], 'A**': ['B']}\n"
     ]
    }
   ],
   "source": [
    "g.bypass('G', 'A', 'B')\n",
    "print(g)"
   ]
  },
  {
   "cell_type": "code",
   "execution_count": 22,
   "metadata": {},
   "outputs": [
    {
     "data": {
      "text/plain": [
       "False"
      ]
     },
     "execution_count": 22,
     "metadata": {},
     "output_type": "execute_result"
    }
   ],
   "source": [
    "g.is_simple()"
   ]
  },
  {
   "cell_type": "code",
   "execution_count": 23,
   "metadata": {},
   "outputs": [
    {
     "data": {
      "text/plain": [
       "['D']"
      ]
     },
     "execution_count": 23,
     "metadata": {},
     "output_type": "execute_result"
    }
   ],
   "source": [
    "visited_nodes = ['A', 'E', 'F', 'G',]\n",
    "g.get_unvisited_neighbors('E', visited_nodes)"
   ]
  },
  {
   "cell_type": "code",
   "execution_count": 24,
   "metadata": {},
   "outputs": [
    {
     "data": {
      "text/plain": [
       "True"
      ]
     },
     "execution_count": 24,
     "metadata": {},
     "output_type": "execute_result"
    }
   ],
   "source": [
    "visited_nodes = ['A', 'E', 'F', 'G',]\n",
    "g.has_unvisited_neighbors('E', visited_nodes)"
   ]
  },
  {
   "cell_type": "code",
   "execution_count": 25,
   "metadata": {},
   "outputs": [
    {
     "data": {
      "text/plain": [
       "True"
      ]
     },
     "execution_count": 25,
     "metadata": {},
     "output_type": "execute_result"
    }
   ],
   "source": [
    "g.is_connected()"
   ]
  },
  {
   "cell_type": "code",
   "execution_count": 26,
   "metadata": {},
   "outputs": [
    {
     "data": {
      "text/plain": [
       "{('A', 'E', 'D', 'C', 'E', 'F', 'G', 'A', 'B', 'C', 'A'),\n",
       " ('A', 'E', 'F', 'G', 'A', 'B', 'C', 'E', 'D', 'C', 'A')}"
      ]
     },
     "execution_count": 26,
     "metadata": {},
     "output_type": "execute_result"
    }
   ],
   "source": [
    "g.all_eulerian_cycles()"
   ]
  },
  {
   "cell_type": "markdown",
   "metadata": {},
   "source": [
    "Klasa <code>DeBruijn</code> nasleđuje sve osobine bazne klase <code>Graph</code> i omogućava konstrukciju DeBruijn-ovog grafa na osnovu datih ocitavanja (read-ova) genoma koji se sekvencira."
   ]
  },
  {
   "cell_type": "code",
   "execution_count": 27,
   "metadata": {},
   "outputs": [],
   "source": [
    "class DeBruijn(Graph):    \n",
    "    #metod koji vraca k-gramski sastav (lista preklapajućih k-grama) za data ocitavanja 'reads'    \n",
    "    def get_kmers(self, reads, k):\n",
    "        kmers = []\n",
    "        \n",
    "        for read in reads:\n",
    "            n = len(read)\n",
    "            for i in range(n-k+1):\n",
    "                kmer = read[i:i+k]\n",
    "                kmers.append(kmer)\n",
    "                      \n",
    "        return kmers    \n",
    "    \n",
    "    #konstruktorska funkcija (metod) koja na osnovu k-gramskog sastava ocitavanja 'reads' pravi graf\n",
    "    #ciji su cvorovi prefiksi i sufiksi k-grama a grane odgovaraju k-gramima tj. za svaki od k-grama \n",
    "    #iz k-gramskog sastava postoji po jedna grana izmedju cvorova koji odgovaraju njegovom prefiksu i sufiksu      \n",
    "    def __init__(self, reads, k):\n",
    "        kmers = self.get_kmers(reads, k)\n",
    "        adjacency_list = {}\n",
    "        \n",
    "        for kmer in kmers:\n",
    "            u = kmer[:-1]\n",
    "            v = kmer[1:]\n",
    "            \n",
    "            if u not in adjacency_list:\n",
    "                adjacency_list[u] = []\n",
    "            if v not in adjacency_list:\n",
    "                adjacency_list[v] = []\n",
    "                \n",
    "            adjacency_list[u].append(v)\n",
    "            \n",
    "        super().__init__(adjacency_list)"
   ]
  },
  {
   "cell_type": "code",
   "execution_count": 28,
   "metadata": {},
   "outputs": [
    {
     "name": "stdout",
     "output_type": "stream",
     "text": [
      "{'TA': ['AA'], 'AA': ['AT'], 'AT': ['TG', 'TG', 'TG'], 'TG': ['GC', 'GG', 'GT'], 'GC': ['CC'], 'CC': ['CA'], 'CA': ['AT'], 'GG': ['GG', 'GA'], 'GA': ['AT'], 'GT': ['TT'], 'TT': []}\n"
     ]
    }
   ],
   "source": [
    "reads = ['TAATGCCATGGGATGTT']   \n",
    "db_graph = DeBruijn(reads, 3)\n",
    "print(db_graph)"
   ]
  },
  {
   "cell_type": "markdown",
   "metadata": {},
   "source": [
    "<img src=\"assets/DeBruijn_graph.png\" width=\"400\">"
   ]
  },
  {
   "cell_type": "code",
   "execution_count": 29,
   "metadata": {},
   "outputs": [
    {
     "data": {
      "text/plain": [
       "{('TA',\n",
       "  'AA',\n",
       "  'AT',\n",
       "  'TG',\n",
       "  'GC',\n",
       "  'CC',\n",
       "  'CA',\n",
       "  'AT',\n",
       "  'TG',\n",
       "  'GG',\n",
       "  'GG',\n",
       "  'GA',\n",
       "  'AT',\n",
       "  'TG',\n",
       "  'GT',\n",
       "  'TT',\n",
       "  'TA'),\n",
       " ('TA',\n",
       "  'AA',\n",
       "  'AT',\n",
       "  'TG',\n",
       "  'GG',\n",
       "  'GG',\n",
       "  'GA',\n",
       "  'AT',\n",
       "  'TG',\n",
       "  'GC',\n",
       "  'CC',\n",
       "  'CA',\n",
       "  'AT',\n",
       "  'TG',\n",
       "  'GT',\n",
       "  'TT',\n",
       "  'TA')}"
      ]
     },
     "execution_count": 29,
     "metadata": {},
     "output_type": "execute_result"
    }
   ],
   "source": [
    "db_graph.close_to_cycle()\n",
    "db_graph.all_eulerian_cycles()"
   ]
  }
 ],
 "metadata": {
  "kernelspec": {
   "display_name": "Python 3",
   "language": "python",
   "name": "python3"
  },
  "language_info": {
   "codemirror_mode": {
    "name": "ipython",
    "version": 3
   },
   "file_extension": ".py",
   "mimetype": "text/x-python",
   "name": "python",
   "nbconvert_exporter": "python",
   "pygments_lexer": "ipython3",
   "version": "3.8.10"
  }
 },
 "nbformat": 4,
 "nbformat_minor": 4
}
