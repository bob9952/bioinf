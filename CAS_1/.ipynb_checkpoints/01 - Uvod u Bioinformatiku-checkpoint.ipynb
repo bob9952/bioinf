{
 "cells": [
  {
   "cell_type": "markdown",
   "metadata": {},
   "source": [
    "## Oblast izučavanja bioinformatike"
   ]
  },
  {
   "cell_type": "markdown",
   "metadata": {},
   "source": [
    "Bioinformatika je interdisciplinarna oblast koja se bavi razvijanjem matematičkih modela i softverskih alata za analizu i interpretaciju bioloških podataka. Osnovni zadatak bioinformatike je matematicko modelovanje bioloskih procesa u cilju njihovog automatizovanog proučavanja.\n",
    "\n",
    "**<u>Def</u>:** Bioinformatika predstavlja primenu računarskih tehnologija u istraživanjima u oblasti biologije i srodnih nauka.\n",
    "\n",
    "Na ovom kursu cemo se prevashodno baviti analizom protoka genetickih informacija kroz generacije i ćeliju. Genetičke informacije čuvaju se u molekulu DNK i prenose se na potomstvo procesom **replikacije** (udvajanja) DNK molekula tokom deobe ćelije. Tokom života celije, na osnovu nekih regiona DNK molekula (*gena*) se procesom **transkripcije** (prepisivanja) sintetišu RNK molekuli koji predstavljaju kopije odgovarajućih segmenata genetičkih informacija i mogu imati različite uloge (informaciona, transportna, ribozomska RNK i mnoge druge). Molekuli informacione RNK sadrže genetičku informaciju (uputstvo) za sintezu proteina koja se procesom **translacije** (prevođenja) odvija na ribozomima (uz pomoć transportne i ribozomske RNK). Kroz ova tri procesa se objasnjava protok genetickih informacija i to se naziva **centralnom dogmom molekularne biologije**. Naziva se dogma zato sto nije u potpunosti izucen proces.\n",
    "\n",
    "<img src=\"assets/central_dogma.png\" width=\"700\">"
   ]
  },
  {
   "cell_type": "markdown",
   "metadata": {},
   "source": [
    "**Geni** su, dakle, regioni DNK molekula koji bivaju transkribovani u RNK molekule. Proces prepisivanja gena u funkcionalnu jedinicu (RNK molekul) još se naziva **ekspresija gena**, a rezultat **genski produkt**. Kompletan genetski materijal nekog organizma (DNK molekul) predstavlja njegov **genom**, dok svi transkribovani RNK molekuli cine **transkriptom**, a svi sintetisani proteini **proteom**. Tri velike oblasti bioinformatike koje prikupljaju i analiziraju ove podatke su: **genomika**, **transkriptomika** i **proteomika**."
   ]
  },
  {
   "cell_type": "markdown",
   "metadata": {},
   "source": [
    "## Ključni bioloski makromolekuli"
   ]
  },
  {
   "cell_type": "markdown",
   "metadata": {},
   "source": [
    "**DNK**, **RNK** i **proteini** su molekuli koji imaju uloge <u>čuvanja</u>, <u>prenosa</u> i <u>ekspresije</u> genetickih informacija. To su makromolekuli koji se sastoje od sekvence monomernih jedinica povezanih kovalentnim vezama. \n",
    "\n",
    "DNK i RNK su po hemijskom sastavu nukleinske kiseline cija je osnovna gradivna (monomerna) jedinica **nukleotid**. Svaki nukleotid sadrzi jednu od azotnih baza **adenin**, **citozin**, **guanin**, **timin** i **uracil**, koje redom označavamo slovima **A**, **C**, **G** i **T**. Molekul DNK izgradjuju nukleotidi koji sadrze azotne baze A, C, G i T, dok molekul RNK izgradjuju nukleotidi sa azotnim bazama A, C, G i U. Nukleotidi se fosfodiestarskim vezama povezuju u polinukleotidne lance. RNK se sastoji od jednog polinukleotidnog lanca, dok se DNK sastoji od dva lanca koji imaju antiparalelnu orijentaciju i medjusobno su spojeni tako da se veze uspostavljaju iskljucivo izmedju **A** i **T** ili **C** i **G**, zbog cega se kaze da su DNK lanci <u>medjusobno komplementarni</u>. Na osnovu toga, ako nam je poznat sastav jednog lanca DNK, lako mozemo rekonsktruisati i sastav drugog lanca. Sa bioinformaticke tacke gledista, molekule DNK i RNK cemo posmatrati kao niske nad azbukom **{A, C, G, T/U}**. \n",
    "\n",
    "Osnovna gradivna (monomerna) jedinica **proteina** su aminokiseline. Aminokiseline se peptidnim vezama povezuju u polipeptidne lance, pa se za proteine cesto koristi i naziv *polipeptidi*. U prirodi postoji veliki broj aminokiselina, ali samo 20 učestvuje u izgradnji proteina i one se nazivaju *osnovnim (proteinskim) aminokiselinama*. Spisak osnovnih aminokiselina sa njihovim skraćenicama koje se koriste u predstavljanju sekvenci proteina prikazane su na sledecoj slici: \n",
    "\n",
    "<img src=\"assets/aminoacids.png\" width=\"350\">\n",
    "\n",
    "Broj, vrsta i redosled aminokiselina u polipeptidnom lancu proteina predstavlja njegovu **primarnu strukturu**.\n",
    "Ona je primarni izvor informacija o proteinu i njegovoj funkciji. Da bi bili u stanju da obavljaju svoju biolosku funkciju, proteini tj. njihovi polipeptidni lanci se uvijaju u jednu ili vise specificnih prostornih struktura (konformacija). U zavisnosti od dimenzije prostora u kojoj se posmatra konformacija proteina, moze se govoriti o **sekundarnoj**, **tercijarnoj** i **kvaternernoj strukturi** proteina. \n",
    "\n",
    "<img src=\"assets/protein_structure_levels.png\" width=\"750\">\n",
    "\n",
    "**Primarna struktura** predstavlja redosled povezivanja aminokiselina peptidnom vezom u polipeptidnom lancu proteina. Primarna struktura proteina je odredjena genom na osnovu kog se vrsi sinteza tog proteina. Poznato je da proteini sa slicnim primarnim strukturama teze da obavljaju iste funkcije. Mutacije na primarnoj strukturi proteina dovode do nepravilnog uvijanja proteina, odnosno do mutacije na sekundarnoj, tercijarnoj i kvaternernoj strukturi.\n",
    "\n",
    "**Sekundarna struktura** je lokalna prostorna organizacija polipeptidnog lanca proteina. Opisuje odnos i prostorni raspored susednih aminokiselina u polipeptidnom lancu. Najcesce sekundarne strukture su α-heliksi i β-ravni. Ona, ipak, ne opisuje specificne polozaje atoma u 3D prostoru, vec njih opisuje tercijarna struktura proteina.\n",
    "\n",
    "**Tercijarna struktura** opisuje globalnu konformaciju proteina, odnosno trodimenzioni raspored molekula u <u>jednom</u> polipeptidnom lancu. Tercijarna struktura je zavisna i od primarne i od sekundarne strukture, jer je definisana interakcijama izmedu aminokiselina koje mogu biti veoma udaljene u polipeptidnom lancu, ali se usled uvijanja polipeptidnog lanca one nadju jedna blizu druge. Pod tercijarnom strukturom podrazumevamo prostorne koordinate svih molekula polipeptidnog lanca. Cesto, slicne sekvence proteina imaju i slicne trodimenzione strukture.\n",
    "\n",
    "Mnogi proteini su sastavljeni od vise polipeptidnih lanaca, takozvanih podjedinica proteina koje cine proteinski kompleks. Podjedinice mogu biti medusobno razlicite ili potpuno iste. **Kvaternarna struktura** proteina podrazumeva trodimenzionalni oblik podjedinica proteinskog kompleksa, odnosno nacin na koji su podjedinice smestene unutar kompleksa. Postoje proteini cija kompleksnost nije dovoljno velika da bi sadrzali i kvartenarnu strukturu, sto znaci da ona nije definisana za sve proteine."
   ]
  },
  {
   "cell_type": "markdown",
   "metadata": {},
   "source": [
    "## Replikacija DNK"
   ]
  },
  {
   "cell_type": "markdown",
   "metadata": {},
   "source": [
    "**Replikacija DNK** se vrsi tako sto se polinukleotidni lanci DNK razdvoje na osnovni i na komplementarni lanac, a na nedostajuce delove se vezu odgovarajuci komplementarni nukleotidi koji plivaju po celijskoj plazmi. Svaki od novonastalih molekula DNK sadrži po jedan stari i jedan novi lanac DNK.\n",
    "\n",
    "<img src=\"assets/DNA_replication.jpg\" width=\"650\">"
   ]
  },
  {
   "cell_type": "markdown",
   "metadata": {},
   "source": [
    "## Sinteza proteina"
   ]
  },
  {
   "cell_type": "markdown",
   "metadata": {},
   "source": [
    "Eukariotski geni koji sadrze informaciju za sintezu proteina su cesto *diskontinuirani*. Kodirajuci regioni gena sadrze informaciju za sintezu proteina i nazivaju se **egzoni**. U okviru gena postoji vise nekodirajucih regiona cija velicina i broj zavise od samog gena i vrste. Ovakvi nekodirajuci regioni nazivaju se **introni**. Naziv se odnosi na nekodirajuce sekvence i na DNK molekulu i u okviru njemu odgovajauce transkribovane iRNK.\n",
    "\n",
    "**Sinteza proteina** se vrsi tako sto se odgovarajuci gen DNK prepise u iRNK (*transkripcija*), zatim se izvrsi isecanje introna (tzv. *splajsing*, u hemijskom smislu podrayumeva raskidanje i sintezu fosfodiestarskih veza), a onda se iRNK koja se sadrzi iskljucivo od kodirajucih regiona prenosi iz jedra do ribozoma gde se geneticka informacija sadrzana u redosledu nukleotida na iRNK prevodi (*translacija*) u redosled aminokiselina koje cine protein. \n",
    "\n",
    "<img src=\"assets/protein_synthesis.jpg\" width=\"550\">\n",
    "\n",
    "Odnos izmedju sekvence iRNK i sekvence proteina naziva se **genetski kod** (slika u nastavku). Triplet je set od tri susedna nukleotida u sekvenci iRNK koji kodira jednu aminokiselinu.  Ovakvi tripleti nazivaju se **kodoni** i medjusobno se ne preklapaju, vec se jedan po jedan ceo triplet prevodi u po jednu aminokiselinu. Genetski kod je univerzalan, odnosno koriste ga svi zivi organizmi. Univerzalnost genetskog koda je posledica (ujedno i dokaz) postojanja zajednickog evolutivnog pretka svih organizama na planeti.\n",
    "\n",
    "<img src=\"assets/genetic_code.png\" width=\"400\">\n",
    "\n",
    "Kako imamo 20 osnovnih aminokiselina a sa 3 nukleotida imamo 4^3 kombinacija, imamo vise kobinacija tripleta nukleotida nego aminokiselina. Tu imamo dve posebne kombinacije, tzv. **START kodon** ('AUG' : metionin) i **STOP kodon** (ima ih vise) koje oznacava pocetak i kraj sinteze proteina. Od ostalih kombinacija neke kodiraju iste aminokiseline i to su one kobinacije koje su nastajale mutacijama i koje su uspele da opstanu kroz evoluciju. Moze se desiti da ta mutacija ne poremeti nista, tj. da ne menja aminokiselinu koju kodira, ali to zavisi od mesta gde je nastala mutacija i u sta je mutiralo. Postoje regioni gde se retko desavaju mutacije (to je npr. START kodon), i oni na kojima se cesto desava."
   ]
  },
  {
   "cell_type": "markdown",
   "metadata": {},
   "source": [
    "## Baze podataka i alati"
   ]
  },
  {
   "cell_type": "markdown",
   "metadata": {},
   "source": [
    "* [NCBI](https://www.ncbi.nlm.nih.gov/) - National Center for Biotechnology Information\n",
    "* [Blast](https://blast.ncbi.nlm.nih.gov/Blast.cgi) - Basic Local Alignment Search Tool\n",
    "* [UniProt](https://uniprot.org) - Opšta baza podataka o proteinima\n",
    "* [DisProt](https://disprot.org) - Baza podataka o neuređenim proteinima\n",
    "* [PDB](https://www.rcsb.org/) - Protein Data Bank, baza podataka o strukturi proteina\n",
    "* [BioPython](https://biopython.org/) - BioPython biblioteka\n",
    "* [IEDB](https://www.iedb.org/) - Immune Epitope Database and Analysis Resource\n",
    "* [ELM](http://elm.eu.org/) - The Eukaryotic Linear Motif resource for Functional Sites in Proteins \n",
    "* [DisGeNet](https://www.disgenet.org/) - Baza podataka o vezama između gena i bolesti\n",
    "* [TANTIGEN](http://projects.met-hilab.org/tadb/) - Tumor T-Cell Antigen Database\n",
    "* [DICE](https://dice-database.org/) - Data of Immune Cell Expression\n",
    "* [PhysioNet](https://physionet.org/about/database/) - Kolekcija baza podataka o biološkim signalima\n",
    "\n"
   ]
  },
  {
   "cell_type": "markdown",
   "metadata": {},
   "source": [
    "## Korisni linkovi"
   ]
  },
  {
   "cell_type": "markdown",
   "metadata": {},
   "source": [
    "* [Centralna dogma molekularne biologije](https://www.youtube.com/watch?v=0VA275plaQE) \n",
    "* [Transkripcija](https://biosintezaproteinajovana.wordpress.com/transkripcija/)\n",
    "* [Regulacija ekspresije gena](https://bs.wikipedia.org/wiki/Ekspresija_gena#Regulacija_ekspresije_gena)\n",
    "* [Youtube kanal Bioinformatics Algorithms: An Active Learning Approach](https://www.youtube.com/channel/UCKSUVRs2N2FdDNvQoRWKhoQ)"
   ]
  }
 ],
 "metadata": {
  "kernelspec": {
   "display_name": "Python 3",
   "language": "python",
   "name": "python3"
  },
  "language_info": {
   "codemirror_mode": {
    "name": "ipython",
    "version": 3
   },
   "file_extension": ".py",
   "mimetype": "text/x-python",
   "name": "python",
   "nbconvert_exporter": "python",
   "pygments_lexer": "ipython3",
   "version": "3.8.10"
  }
 },
 "nbformat": 4,
 "nbformat_minor": 2
}
