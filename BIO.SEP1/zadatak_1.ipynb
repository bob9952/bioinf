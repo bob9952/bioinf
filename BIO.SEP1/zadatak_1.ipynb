{
 "cells": [
  {
   "cell_type": "markdown",
   "id": "77615873",
   "metadata": {},
   "source": [
    "Funkcija **symbol_to_number** vrsi preslikavanje simbola nukleotida u odgovarajuce numericke vrednost - cifre iz brojevnog sistema sa osnovom 4."
   ]
  },
  {
   "cell_type": "code",
   "execution_count": null,
   "id": "8908fd44",
   "metadata": {},
   "outputs": [],
   "source": [
    "def symbol_to_number(symbol):\n",
    "    mapping = {\n",
    "        'A': 0,\n",
    "        'T': 1,\n",
    "        'C': 2,\n",
    "        'G': 3\n",
    "    }\n",
    "    \n",
    "    return mapping[symbol]"
   ]
  },
  {
   "cell_type": "markdown",
   "id": "1e0c2ca5",
   "metadata": {},
   "source": [
    "Funkcija **pattern_to_number** vrsi preslikavanje nukleotidne sekvence **pattern** u odgovarajuci numericku vrednost koriscenjem funkcije **symbol_to_number**. "
   ]
  },
  {
   "cell_type": "code",
   "execution_count": null,
   "id": "b7834f67",
   "metadata": {},
   "outputs": [],
   "source": [
    "def pattern_to_number(pattern):\n",
    "    # ======== STUDENTSKI KOD ======== #\n",
    "    \n",
    "    \n",
    "    # ================================ #"
   ]
  },
  {
   "cell_type": "markdown",
   "id": "712c5cbb",
   "metadata": {},
   "source": [
    "Funkcija **number_to_symbol** za datu cifru iz sistema sa osnovom 4 vraca odgovarajuci simbol nukleotida."
   ]
  },
  {
   "cell_type": "code",
   "execution_count": null,
   "id": "9cad6796",
   "metadata": {},
   "outputs": [],
   "source": [
    "def number_to_symbol(number):\n",
    "    mapping = {\n",
    "        0: 'A',\n",
    "        1: 'T',\n",
    "        2: 'C',\n",
    "        3: 'G'\n",
    "    }\n",
    "    \n",
    "    if number not in [0,1,2,3]:\n",
    "        print('Invalid number')\n",
    "        return None\n",
    "    \n",
    "    return mapping[number]"
   ]
  },
  {
   "cell_type": "markdown",
   "id": "ca695c19",
   "metadata": {},
   "source": [
    "Funkcija **number_to_pattern** prevodi datu numericku vrednost (**number**) u nukleotidnu sekvencu duzine **k** koriscenjem funkcije **number_to_symbol**. "
   ]
  },
  {
   "cell_type": "code",
   "execution_count": null,
   "id": "ab6da8fe",
   "metadata": {},
   "outputs": [],
   "source": [
    "def number_to_pattern(number, k):\n",
    "    if k==1:\n",
    "        return number_to_symbol(number)\n",
    "    else:\n",
    "        prefix = number//4\n",
    "        remainder = number%4\n",
    "        return number_to_pattern(prefix, k-1) + number_to_symbol(remainder)"
   ]
  },
  {
   "cell_type": "markdown",
   "id": "4aaf59c7",
   "metadata": {},
   "source": [
    "Funkcija **hamming_distance** izracunava rastojanje izmedju dve niske jednake duzine kao broj pozicija na kojima se razlikuju."
   ]
  },
  {
   "cell_type": "code",
   "execution_count": null,
   "id": "ecd7fdc8",
   "metadata": {},
   "outputs": [],
   "source": [
    "def hamming_distance(string1, string2):\n",
    "    n = len(string1)       \n",
    "    \n",
    "    distance = 0\n",
    "    for i in range(n):\n",
    "        if string1[i] != string2[i]:\n",
    "            distance += 1\n",
    "            \n",
    "    return distance     "
   ]
  },
  {
   "cell_type": "markdown",
   "id": "ccd613dd",
   "metadata": {},
   "source": [
    "Funkcija **immediate_neighbors** generise listu niski koje su na Hamingovom rastojanju 1 od zadate niske **pattern**."
   ]
  },
  {
   "cell_type": "code",
   "execution_count": null,
   "id": "2d263723",
   "metadata": {},
   "outputs": [],
   "source": [
    "def immediate_neighbors(pattern):\n",
    "    # ======== STUDENTSKI KOD ======== #\n",
    "    \n",
    "    \n",
    "    # ================================ #"
   ]
  },
  {
   "cell_type": "markdown",
   "id": "5ada064c",
   "metadata": {},
   "source": [
    "Funkcija **neighbors** generise listu niski koje su na najvise **d** Hamingovom rastojanju od zadate niske **pattern**."
   ]
  },
  {
   "cell_type": "code",
   "execution_count": null,
   "id": "6ba5021a",
   "metadata": {},
   "outputs": [],
   "source": [
    "def neighbors(pattern, d):\n",
    "    neighborhood = {pattern} \n",
    "    \n",
    "    for i in range(d):\n",
    "        new_neighbors = []      \n",
    "        \n",
    "        for current_pattern in neighborhood:\n",
    "            new_neighbors += immediate_neighbors(current_pattern)\n",
    "            \n",
    "        for neighbor in new_neighbors:\n",
    "            neighborhood.add(neighbor)\n",
    "            \n",
    "    return list(neighborhood)"
   ]
  },
  {
   "cell_type": "markdown",
   "id": "cabbb306",
   "metadata": {},
   "source": [
    "Funkcija **approximate_pattern_count** prebrojava pojavljivanja podniski u niski **text** koje su na **d** Hamingovom rastojanju od zadatke niske **pattern**."
   ]
  },
  {
   "cell_type": "code",
   "execution_count": null,
   "id": "3f4abbfd",
   "metadata": {},
   "outputs": [],
   "source": [
    "def approximate_pattern_count(text, pattern, d):\n",
    "    n = len(text)\n",
    "    k = len(pattern)\n",
    "    \n",
    "    count = 0\n",
    "   \n",
    "    for i in range(n-k+1):\n",
    "        if hamming_distance(pattern, text[i:i+k]) <= d:\n",
    "            count += 1\n",
    "            \n",
    "    return count"
   ]
  },
  {
   "cell_type": "markdown",
   "id": "7e17a117",
   "metadata": {},
   "source": [
    "Funckija **frequent_words_with_missmatches** pronalazi listu svih najzastupljenijih podniski duzine **k** u zadatoj niski **text**, dopustajuci pri poredjenju niski najvise **d** razlika. "
   ]
  },
  {
   "cell_type": "code",
   "execution_count": null,
   "id": "f6f363f6",
   "metadata": {},
   "outputs": [],
   "source": [
    "def frequent_words_with_missmatches(text, k, d):\n",
    "    # ======== STUDENTSKI KOD ======== #\n",
    "    \n",
    "    \n",
    "    # ================================ #"
   ]
  },
  {
   "cell_type": "code",
   "execution_count": null,
   "id": "1a6980fc",
   "metadata": {},
   "outputs": [],
   "source": [
    "text = 'CATAAATTTCGTATGTATCAAAATTTTGTTACTATCACATAAATTTCGTATGTATCAAAATTTTGTTACTATCA'\n",
    "k = 6\n",
    "d = 1\n",
    "\n",
    "frequent_words_with_missmatches(text, k, d)"
   ]
  }
 ],
 "metadata": {
  "kernelspec": {
   "display_name": "Python 3 (ipykernel)",
   "language": "python",
   "name": "python3"
  },
  "language_info": {
   "codemirror_mode": {
    "name": "ipython",
    "version": 3
   },
   "file_extension": ".py",
   "mimetype": "text/x-python",
   "name": "python",
   "nbconvert_exporter": "python",
   "pygments_lexer": "ipython3",
   "version": "3.10.14"
  }
 },
 "nbformat": 4,
 "nbformat_minor": 5
}
