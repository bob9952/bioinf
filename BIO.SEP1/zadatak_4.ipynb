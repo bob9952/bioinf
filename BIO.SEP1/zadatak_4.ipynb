{
 "cells": [
  {
   "cell_type": "markdown",
   "metadata": {},
   "source": [
    "Klasa **Graph** koja se koristi za predstavljanje i izgradnju filogenetskog stabla."
   ]
  },
  {
   "cell_type": "code",
   "execution_count": null,
   "metadata": {},
   "outputs": [],
   "source": [
    "class Graph:\n",
    "    #konstruktorska funkcija (metod)\n",
    "    def __init__(self, adjacency_list):\n",
    "        self.adjacency_list = adjacency_list\n",
    "        \n",
    "    #metod koji vraca stringovsku reprezentaciju grafa    \n",
    "    def __str__(self):\n",
    "        return f'{self.adjacency_list}'\n",
    "    \n",
    "    #metod koji dodaje novi cvor u graf\n",
    "    def add_node(self, v):\n",
    "        if v not in self.adjacency_list:\n",
    "            self.adjacency_list[v] = []\n",
    "    \n",
    "    #metod koji vraca listu suseda cvora v u grafu\n",
    "    def get_neighbors(self, v):\n",
    "        return self.adjacency_list[v]\n",
    "    \n",
    "    #metod koji dodaje u graf suseda cvora node sa oznakom neighbor na udaljenosti distance\n",
    "    def add_neighbor(self, node, neighbor, distance, undirected=True):\n",
    "        self.adjacency_list[node].append((neighbor, distance))\n",
    "        \n",
    "        if undirected:\n",
    "            if neighbor not in self.adjacency_list:\n",
    "                self.adjacency_list[neighbor] = []\n",
    "              \n",
    "            self.adjacency_list[neighbor].append((node, distance))\n",
    "        \n",
    "    #metod koji uklanja iz grafa suseda cvora node sa oznakom neighbor na udaljenosti distance    \n",
    "    def remove_neighbor(self, node, neighbor, distance, undirected=True):\n",
    "        self.adjacency_list[node].remove((neighbor, distance))\n",
    "        \n",
    "        if undirected:\n",
    "            self.adjacency_list[neighbor].remove((node, distance))    "
   ]
  },
  {
   "cell_type": "markdown",
   "metadata": {},
   "source": [
    "Pomocna klasa za reprezentaciju klastera UPGMA algoritma."
   ]
  },
  {
   "cell_type": "code",
   "execution_count": null,
   "metadata": {},
   "outputs": [],
   "source": [
    "class Cluster:\n",
    "    #konstruktorska funkcija (metod)\n",
    "    def __init__(self, elements=[], age = 0):          \n",
    "        self.age = age                                \n",
    "        self.elements = elements                   \n",
    "        \n",
    "    #metod koji vraca stringovsku reprezentaciju klastera    \n",
    "    def __str__(self):\n",
    "        return f'{self.elements}:{self.age}'\n",
    "        \n",
    "    #metod koji izracunava udaljenost datog klastera u\n",
    "    #odnosu na drugi klaster prema matrici rastojanja D\n",
    "    def distance(self, other_cluster, D):\n",
    "        # ======== STUDENTSKI KOD ======== #\n",
    "    \n",
    "    \n",
    "        # ================================ #\n",
    "    \n",
    "    #metod koji vrsi spajanje datog klastera sa drugim klasterom u novi klaster \n",
    "    def merge(self, other_cluster, D):\n",
    "        # ======== STUDENTSKI KOD ======== #\n",
    "    \n",
    "    \n",
    "        # ================================ #"
   ]
  },
  {
   "cell_type": "markdown",
   "metadata": {},
   "source": [
    "Funkcija **two_closest_clusters** pronalazi dva klastera iz liste klastera **clusters** koji su na najmanjoj udaljenosti prema matrici rastojanja **D**."
   ]
  },
  {
   "cell_type": "code",
   "execution_count": null,
   "metadata": {},
   "outputs": [],
   "source": [
    "def two_closest_clusters(clusters, D):\n",
    "    min_ci = None\n",
    "    min_cj = None\n",
    "    min_distance = float('inf')\n",
    "        \n",
    "    for c_i in clusters:\n",
    "        for c_j in clusters:\n",
    "            if c_i != c_j:\n",
    "                current_distance = c_i.distance(c_j, D)\n",
    "                if current_distance < min_distance:\n",
    "                    min_distance = current_distance\n",
    "                    min_ci = c_i\n",
    "                    min_cj = c_j\n",
    "                        \n",
    "    return min_ci, min_cj"
   ]
  },
  {
   "cell_type": "markdown",
   "metadata": {},
   "source": [
    "Funkcija **UPGMA** konstruise filogenetsko stablo koje odgovara matrici rastojanja **D** dimenzije **n** $\\times$ **n** primenom *UPGMA algoritma*."
   ]
  },
  {
   "cell_type": "code",
   "execution_count": null,
   "metadata": {},
   "outputs": [],
   "source": [
    "def UPGMA(D, n):\n",
    "    # ======== STUDENTSKI KOD ======== #\n",
    "    \n",
    "    \n",
    "    # ================================ #"
   ]
  },
  {
   "cell_type": "code",
   "execution_count": null,
   "metadata": {},
   "outputs": [],
   "source": [
    "D = [[0, 3, 4, 3],\n",
    "     [3, 0, 4, 5],\n",
    "     [4, 4, 0, 2],\n",
    "     [3, 5, 2, 0]]\n",
    "n = 4\n",
    "\n",
    "(tree, root) = UPGMA(D, n)\n",
    "\n",
    "print('Root = ',root)\n",
    "for node in tree.adjacency_list:\n",
    "    print(node)\n",
    "    print('Neighbors: ', tree.adjacency_list[node])"
   ]
  }
 ],
 "metadata": {
  "kernelspec": {
   "display_name": "Python 3",
   "language": "python",
   "name": "python3"
  },
  "language_info": {
   "codemirror_mode": {
    "name": "ipython",
    "version": 3
   },
   "file_extension": ".py",
   "mimetype": "text/x-python",
   "name": "python",
   "nbconvert_exporter": "python",
   "pygments_lexer": "ipython3",
   "version": "3.8.10"
  }
 },
 "nbformat": 4,
 "nbformat_minor": 5
}
