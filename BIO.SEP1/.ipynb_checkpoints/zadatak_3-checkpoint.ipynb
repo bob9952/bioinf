{
 "cells": [
  {
   "cell_type": "markdown",
   "metadata": {},
   "source": [
    "Funkcija **apply_soorting_reversal** primenjuje rotaciju (inverziju) na permutaciju **P** (niz sintenih blokova) tako da na indeks **k** postavi element koji <u>prema apsolutnoj vrednosti</u> treba da stoji na toj poziciji u sortiranom redosledu. Pretpostavka je da su elementi do indeksa **k** vec sortirani."
   ]
  },
  {
   "cell_type": "code",
   "execution_count": null,
   "metadata": {},
   "outputs": [],
   "source": [
    "def apply_sorting_reversal(P, k):\n",
    "    # ======== STUDENTSKI KOD ======== #\n",
    "    \n",
    "    \n",
    "    # ================================ #"
   ]
  },
  {
   "cell_type": "markdown",
   "metadata": {},
   "source": [
    "Funkcija **greedy_sorting_by_reversals** prevodi permutaciju **P** u jedinicnu permutaciju i racuna broj potrebnih rotacija."
   ]
  },
  {
   "cell_type": "code",
   "execution_count": null,
   "metadata": {},
   "outputs": [],
   "source": [
    "def greedy_sorting_by_reversals(P):\n",
    "    permutation_distance = 0\n",
    "    \n",
    "    n = len(P)\n",
    "    \n",
    "    for k in range(n):\n",
    "        # ======== STUDENTSKI KOD ======== #\n",
    "    \n",
    "    \n",
    "        # ================================ #\n",
    "            \n",
    "    return permutation_distance"
   ]
  },
  {
   "cell_type": "code",
   "execution_count": null,
   "metadata": {},
   "outputs": [],
   "source": [
    "P = [+1, -7, +6, -10, +9, -8, +2, -11, -3, +5, +4]\n",
    "\n",
    "permutation_distance = greedy_sorting_by_reversals(P)\n",
    "\n",
    "print(permutation_distance)"
   ]
  }
 ],
 "metadata": {
  "kernelspec": {
   "display_name": "Python 3",
   "language": "python",
   "name": "python3"
  },
  "language_info": {
   "codemirror_mode": {
    "name": "ipython",
    "version": 3
   },
   "file_extension": ".py",
   "mimetype": "text/x-python",
   "name": "python",
   "nbconvert_exporter": "python",
   "pygments_lexer": "ipython3",
   "version": "3.8.10"
  }
 },
 "nbformat": 4,
 "nbformat_minor": 5
}
