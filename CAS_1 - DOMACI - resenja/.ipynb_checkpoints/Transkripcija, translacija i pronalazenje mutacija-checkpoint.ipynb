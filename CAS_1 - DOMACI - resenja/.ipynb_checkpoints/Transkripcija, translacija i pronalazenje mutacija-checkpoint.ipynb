{
 "cells": [
  {
   "cell_type": "markdown",
   "metadata": {},
   "source": [
    "# Transkripcija (DNA -> RNA)"
   ]
  },
  {
   "cell_type": "markdown",
   "metadata": {},
   "source": [
    "U datoteci <code>dna.txt</code> nalazi se sekvenca segmenta sa jednog lanca DNK. Odrediti sekvencu RNK koja se sintetise na osnovu tog segmenta DNK i upisati je u fajl <code>rna.txt</code>."
   ]
  },
  {
   "cell_type": "code",
   "execution_count": 1,
   "metadata": {},
   "outputs": [],
   "source": [
    "ulaz = open('dna.txt', 'r')     "
   ]
  },
  {
   "cell_type": "code",
   "execution_count": 2,
   "metadata": {},
   "outputs": [],
   "source": [
    "DNA = ulaz.read()\n",
    "DNA = DNA.strip()"
   ]
  },
  {
   "cell_type": "code",
   "execution_count": 3,
   "metadata": {},
   "outputs": [],
   "source": [
    "mapping = {\n",
    "    'A':'U',\n",
    "    'T':'A',\n",
    "    'C':'G',\n",
    "    'G':'C'\n",
    "}"
   ]
  },
  {
   "cell_type": "code",
   "execution_count": 4,
   "metadata": {},
   "outputs": [],
   "source": [
    "RNA = ''\n",
    "    \n",
    "for i in range(len(DNA)):\n",
    "    RNA = RNA + mapping[DNA[i]]"
   ]
  },
  {
   "cell_type": "code",
   "execution_count": 5,
   "metadata": {},
   "outputs": [],
   "source": [
    "izlaz = open('rna.txt', 'w')\n",
    "izlaz.write(RNA)\n",
    "izlaz.close()"
   ]
  },
  {
   "cell_type": "markdown",
   "metadata": {},
   "source": [
    "# Translacija (RNA -> AA)"
   ]
  },
  {
   "cell_type": "markdown",
   "metadata": {},
   "source": [
    "U datoteci <code>rna.txt</code> nalazi se sekvenca iRNK. Odrediti sekvencu aminokiselina (proteina) koji se sintetise na osnovu date iRNK i upisati je u fajl <code>aa.txt</code>."
   ]
  },
  {
   "cell_type": "code",
   "execution_count": 6,
   "metadata": {},
   "outputs": [],
   "source": [
    "ulaz = open('rna.txt', 'r')"
   ]
  },
  {
   "cell_type": "code",
   "execution_count": 7,
   "metadata": {},
   "outputs": [],
   "source": [
    "RNA = ulaz.read()"
   ]
  },
  {
   "cell_type": "code",
   "execution_count": 8,
   "metadata": {},
   "outputs": [
    {
     "data": {
      "text/plain": [
       "'CAAUGAGUAGCGUAGAUACCUUCGC'"
      ]
     },
     "execution_count": 8,
     "metadata": {},
     "output_type": "execute_result"
    }
   ],
   "source": [
    "RNA"
   ]
  },
  {
   "cell_type": "code",
   "execution_count": 9,
   "metadata": {},
   "outputs": [],
   "source": [
    "mapping = {\"UUU\":\"F\", \"UUC\":\"F\", \"UUA\":\"L\", \"UUG\":\"L\",\n",
    "           \"UCU\":\"S\", \"UCC\":\"S\", \"UCA\":\"S\", \"UCG\":\"S\",\n",
    "           \"UAU\":\"Y\", \"UAC\":\"Y\", \"UAA\":\"STOP\", \"UAG\":\"STOP\",\n",
    "           \"UGU\":\"C\", \"UGC\":\"C\", \"UGA\":\"STOP\", \"UGG\":\"W\",\n",
    "           \"CUU\":\"L\", \"CUC\":\"L\", \"CUA\":\"L\", \"CUG\":\"L\",\n",
    "           \"CCU\":\"P\", \"CCC\":\"P\", \"CCA\":\"P\", \"CCG\":\"P\",\n",
    "           \"CAU\":\"H\", \"CAC\":\"H\", \"CAA\":\"Q\", \"CAG\":\"Q\",\n",
    "           \"CGU\":\"R\", \"CGC\":\"R\", \"CGA\":\"R\", \"CGG\":\"R\",\n",
    "           \"AUU\":\"I\", \"AUC\":\"I\", \"AUA\":\"I\", \"AUG\":\"M\",\n",
    "           \"ACU\":\"T\", \"ACC\":\"T\", \"ACA\":\"T\", \"ACG\":\"T\",\n",
    "           \"AAU\":\"N\", \"AAC\":\"N\", \"AAA\":\"K\", \"AAG\":\"K\",\n",
    "           \"AGU\":\"S\", \"AGC\":\"S\", \"AGA\":\"R\", \"AGG\":\"R\",\n",
    "           \"GUU\":\"V\", \"GUC\":\"V\", \"GUA\":\"V\", \"GUG\":\"V\",\n",
    "           \"GCU\":\"A\", \"GCC\":\"A\", \"GCA\":\"A\", \"GCG\":\"A\",\n",
    "           \"GAU\":\"D\", \"GAC\":\"D\", \"GAA\":\"E\", \"GAG\":\"E\",\n",
    "           \"GGU\":\"G\", \"GGC\":\"G\", \"GGA\":\"G\", \"GGG\":\"G\"}"
   ]
  },
  {
   "cell_type": "code",
   "execution_count": 10,
   "metadata": {},
   "outputs": [],
   "source": [
    "aa_sequence = ''\n",
    "\n",
    "start = RNA.find('AUG')\n",
    "\n",
    "while start + 2 < len(RNA):\n",
    "    kodon = RNA[start:(start+3)]\n",
    "    \n",
    "    if mapping[kodon] == \"STOP\":\n",
    "        break\n",
    "        \n",
    "    aa_sequence = aa_sequence + mapping[kodon]\n",
    "    start += 3"
   ]
  },
  {
   "cell_type": "code",
   "execution_count": 11,
   "metadata": {},
   "outputs": [],
   "source": [
    "izlaz = open('aa.txt', 'w')\n",
    "izlaz.write(aa_sequence)\n",
    "izlaz.close()"
   ]
  },
  {
   "cell_type": "markdown",
   "metadata": {},
   "source": [
    "# Pronalazenje mutacija"
   ]
  },
  {
   "cell_type": "markdown",
   "metadata": {},
   "source": [
    "Promenljiva <code>original_DNA</code> sadrzi originalnu sekvencu segmenata DNK, a promenljiva <code>mutated_DNA</code> sekvencu tog istog segmenta DNK koja ima mutacijame na nekim pozicijama. Definisati klasu <code>Mutations</code> i njen metod <code>compare</code> koji poredi dve sekvence tako sto vraca listu indeksa pozicija na kojima se sekvence razlikuju. Pretpostaviti da su duzine sekvenci koje se porede jednake duzine. Zatim kreirati objekat definisane klase i primeniti ga za poredjenje sekvenci <code>original_DNA</code> i <code>mutated_DNA</code>. "
   ]
  },
  {
   "cell_type": "code",
   "execution_count": 12,
   "metadata": {},
   "outputs": [],
   "source": [
    "original_DNA = 'AGCGTAG'\n",
    "mutated_DNA = 'AGGTTAC'"
   ]
  },
  {
   "cell_type": "code",
   "execution_count": 13,
   "metadata": {},
   "outputs": [],
   "source": [
    "class Mutations:\n",
    "    def __init__(self):\n",
    "        pass\n",
    "    \n",
    "    def compare(self, original_DNA, mutated_DNA):\n",
    "        mutation_positions = []\n",
    "        \n",
    "        n = len(original_DNA)\n",
    "        \n",
    "        for i in range(n):\n",
    "            if original_DNA[i] != mutated_DNA[i]:\n",
    "                mutation_positions.append(i)\n",
    "                \n",
    "        return mutation_positions"
   ]
  },
  {
   "cell_type": "code",
   "execution_count": 14,
   "metadata": {},
   "outputs": [],
   "source": [
    "m = Mutations()"
   ]
  },
  {
   "cell_type": "code",
   "execution_count": 15,
   "metadata": {},
   "outputs": [
    {
     "name": "stdout",
     "output_type": "stream",
     "text": [
      "[2, 3, 6]\n"
     ]
    }
   ],
   "source": [
    "m_positions = m.compare(original_DNA, mutated_DNA)\n",
    "print(m_positions)"
   ]
  }
 ],
 "metadata": {
  "kernelspec": {
   "display_name": "Python 3",
   "language": "python",
   "name": "python3"
  },
  "language_info": {
   "codemirror_mode": {
    "name": "ipython",
    "version": 3
   },
   "file_extension": ".py",
   "mimetype": "text/x-python",
   "name": "python",
   "nbconvert_exporter": "python",
   "pygments_lexer": "ipython3",
   "version": "3.8.10"
  }
 },
 "nbformat": 4,
 "nbformat_minor": 2
}
