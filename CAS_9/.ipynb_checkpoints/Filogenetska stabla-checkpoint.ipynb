{
 "cells": [
  {
   "cell_type": "markdown",
   "metadata": {},
   "source": [
    "Darvinova teorija evolucije kaze da sva ziva bica imaju zajednickog pretka i da je svaki od njih adaptacijom na razlicite promene klimatskih uslova razvio svoj organizam onako kako izgleda danas. Carls Darvin je vodeci se tim proncipom klasifikovao sve biljne i zivotinjske vrste u jedno veliko evolutivo stablo - stablo zivota. Disciplina koja se bavi rekonstrukcijom evolutivnih stabala naziva se **filogeneza**. \n",
    "\n",
    "**Filogenetska stabla** ili **evolutivna stabla** su stabla koja u listovima imaju postojece vrste, dok se u unutrasnjim cvorovima nalaze zajednicki preci koji su izumrli. Osim za klasifikaciju zivih bica, evolutivna stabla se koriste za odredjivanje porekla novih virusa koji su nastali mutacijom vec postojecih.\n",
    "\n",
    "<img src=\"assets/rooted_and_unrooted_phylogenetic_tree.png\" width=\"1000\"> "
   ]
  },
  {
   "cell_type": "markdown",
   "metadata": {},
   "source": [
    "# Rekonstrukcija stabla na osnovu rastojanja"
   ]
  },
  {
   "cell_type": "markdown",
   "metadata": {},
   "source": [
    "Kada su nam poznate genomske sekvence organizama mozemo odrediti evolutivno rastojanje tih organizama tako sto cemo (visestruko) poravnati sekvence i izracunati na koliko pozicija se razlikuju. Na taj nacin formiramo **matricu rastojanja D** takvu da se na polju **$D[i][j]$** nalazi rastojanje $i$-te i $j$-te sekvence, tj. $i$-te i $j$-te vrste. Matrica rastojanja je simetricna i na dijagonali ima nule.\n",
    "\n",
    "Potrebno je konstruisati evolutivno stablo koje ce da odgovara datoj matrici rastojanja - takvo da duzina najkraceg puta od lista $i$ do lista $j$ bude jednaka rastojanju $D[i][j]$. Da bi za datu matricu rastojanja bilo moguce konstruisati odgovarajuce evolutivno stablo, matrica mora biti **aditivna**: \n",
    "\n",
    "$$D[i][j] + D[k][l]  \\leq  max \\begin{cases} D[i][k] + D[j][l] \\\\\n",
    "                                             D[i][l] + D[j][k] \n",
    "                               \\end{cases}\n",
    "\\hspace{1cm} \\forall i, j, l, k$$\n",
    "\n",
    "Moze postojati vise evolutivnih stabala koji odgovaraju datoj matrici rastojanja, medjutim od svih njih mi biramo tzv. prosto binarno stablo koje nema unutrasnje cvorove stepena 2 (to su unutrasnji cvorovi koji nemaju grananje). **Postoji tacno jedno prosto binarno stablo koje odgovaram aditivnoj matrici rastojanja.**"
   ]
  },
  {
   "cell_type": "markdown",
   "metadata": {},
   "source": [
    "Izvescemo sada jednu jednakost koja ce nam kasnije biti potrebna prilikom konstrukcije stabla. Dok sa velikim $D$ oznacavamo rastojanja izmedju $i$-te i $j$-te sekvence, odnosno $i$-tog i $j$-og lista evolutivnog stabla koje zelimo da izgradimo, sa malim $d$ cemo oznacavati matricu rastojanja izmedju svih cvorova u stablu. Tada vazi da je $d[i][j] = D[i][j]$ ako su $i$ i $j$ listovi stabla, i to su nam poznate vrednosti, dok je za unutrasnje cvorove to potrebno da odredimo.\n",
    "\n",
    "<img src=\"assets/counting_distances_for_internal_nodes.png\" width=\"500\"> \n",
    "\n",
    "Pretpostavimo da su $i$ i $j$ listovi koji trebaju da budu susedni u evolutivnom stavlu, $m$ njihov zajednicki direktni predak, i $k$ proizvoljan list razlicit od $i$ i $j$. Tada vaze sledece jednakosti:\n",
    "\n",
    "$$d[i][j] = d[i][m] + d[m][j]$$    \n",
    "$$d[i][k] = d[i][m] + d[m][k]$$   \n",
    "$$d[j][k] = d[j][m] + d[m][k]$$    \n",
    "\n",
    "Rastojanja $d[i][j] = D[i][j]$, $d[i][k] = D[i][k]$ i $d[j][k] = D[j][k]$ su nam poznata zato sto su to rastojanja izmedju listova. Zelimo da znajuci samo rastojanja izmedju listova odredimo rastojanja listova $i$, $j$, $k$ od unutrasnjeg cvora $m$. \n",
    "\n",
    "$d[i][k] + d[j][k] = d[i][m] + d[m][k] + d[j][m] + d[m][k] = d[i][j] + 2d[m][k]$ \n",
    "\n",
    "$2 d[m][k] = d[i][k] + d[j][k] - d[i][j] = D[i][k] + D[j][k] - D[i][j]$ \n",
    "\n",
    "$d[m][k] = \\frac{1}{2} (D[i][k] + D[j][k] - D[i][j])$\n",
    "\n",
    "Odavde, lako mozemo da izracunamo rastojanja $d[i][m]$ i $d[j][m]$:\n",
    "\n",
    "$d[i][m] = d[i][k] - d[m][k]$\n",
    "\n",
    "$d[j][m] = d[j][k] - d[m][k]$"
   ]
  },
  {
   "cell_type": "markdown",
   "metadata": {},
   "source": [
    "Pravimo klasu **Graph** koju cemo koristiti za predstavljanje i izgradnju filogenetskog stabla."
   ]
  },
  {
   "cell_type": "code",
   "execution_count": 3,
   "metadata": {},
   "outputs": [],
   "source": [
    "class Graph:\n",
    "    #konstruktorska funkcija (metod)\n",
    "    def __init__(self, adjacency_list):\n",
    "        self.adjacency_list = adjacency_list\n",
    "        \n",
    "    #metod koji vraca stringovsku reprezentaciju grafa    \n",
    "    def __str__(self):\n",
    "        return f'{self.adjacency_list}'\n",
    "    \n",
    "    #metod koji vraca listu suseda cvora v u grafu\n",
    "    def get_neighbors(self, v):\n",
    "        return self.adjacency_list[v]\n",
    "    \n",
    "    #metod koji dodaje u graf suseda cvora node sa oznakom neighbor na udaljenosti distance\n",
    "    def add_neighbor(self, node, neighbor, distance):\n",
    "        self.adjacency_list[node].append((neighbor, distance))\n",
    "        \n",
    "        if neighbor not in self.adjacency_list:\n",
    "            self.adjacency_list[neighbor] = []\n",
    "            \n",
    "        self.adjacency_list[neighbor].append((node, distance))\n",
    "        \n",
    "    #metod koji uklanja iz grafa suseda cvora node sa oznakom neighbor na udaljenosti distance    \n",
    "    def remove_neighbor(self, node, neighbor, distance):\n",
    "        self.adjacency_list[node].remove((neighbor, distance))\n",
    "        self.adjacency_list[neighbor].remove((node, distance))    \n",
    "       \n",
    "    #metod koji vraca duzinu grane izmedju susednih cvorova node_i i node_j\n",
    "    def distance_between_nodes(self, node_i, node_j):\n",
    "        node_i_neighbors = self.get_neighbors(node_i)\n",
    "    \n",
    "        for (w, weight) in node_i_neighbors:\n",
    "            if w == node_j:\n",
    "                return weight\n",
    "        \n",
    "        return None  \n",
    "    \n",
    "    #metod koji dodaje novi cvor izmedju cvorova node_i i node_j \n",
    "    #koji se nalazi na rastojanju distance_i od cvora node_i\n",
    "    def add_new_node_between_nodes(self, node_i, node_j, distance_i):\n",
    "        new_node = '{}+{}'.format(node_i, node_j)\n",
    "    \n",
    "        distance_ij = self.distance_between_nodes(node_i, node_j)\n",
    "        distance_j = distance_ij - distance_i\n",
    "    \n",
    "        self.remove_neighbor(node_i, node_j, distance_ij)\n",
    "        self.add_neighbor(node_i, new_node, distance_i)\n",
    "        self.add_neighbor(node_j, new_node, distance_j)\n",
    "    \n",
    "        return new_node\n",
    "    \n",
    "    #metod koji pronalazi put izmedju cvorova source i destination u grafu (DFS obilazak)\n",
    "    def find_path(self, source, destination):     \n",
    "        stack = [source]\n",
    "        visited = set([source])\n",
    "    \n",
    "        while len(stack) > 0:\n",
    "            v = stack[-1]\n",
    "        \n",
    "            if v == destination:\n",
    "                return stack\n",
    "        \n",
    "            has_neighbors = False\n",
    "        \n",
    "            for (w, weight) in self.get_neighbors(v):\n",
    "                if w not in visited:\n",
    "                    has_neighbors = True\n",
    "                    stack.append(w)\n",
    "                    visited.add(w)\n",
    "                    break\n",
    "        \n",
    "            if not has_neighbors:\n",
    "                stack.pop()\n",
    "            \n",
    "        print('Path not found')\n",
    "        return []\n",
    "    \n",
    "    #metod koji dodaje novi unutrasnji cvor ili vraca vec postojeci unutrasnji cvor na putu izmedju \n",
    "    #cvorova source i distance koji se nalazi na rastojanju distance_from_source od cvora source\n",
    "    def add_node_on_path(self, source, destination, distance_from_source):\n",
    "        path = self.find_path(source, destination)\n",
    "    \n",
    "        i = 0\n",
    "        j = 1\n",
    "        node_i = path[i]\n",
    "        node_j = path[j]\n",
    "        \n",
    "        current_distance = self.distance_between_nodes(node_i, node_j)\n",
    "    \n",
    "        while current_distance < distance_from_source:\n",
    "            i += 1\n",
    "            j += 1\n",
    "            node_i = path[i]\n",
    "            node_j = path[j]\n",
    "        \n",
    "            current_distance += self.distance_between_nodes(node_i, node_j)\n",
    "        \n",
    "        if current_distance == distance_from_source:\n",
    "            return node_j\n",
    "        else:\n",
    "            distance_j = current_distance - distance_from_source\n",
    "            return self.add_new_node_between_nodes(node_j, node_i, distance_j)"
   ]
  },
  {
   "cell_type": "code",
   "execution_count": 4,
   "metadata": {},
   "outputs": [
    {
     "name": "stdout",
     "output_type": "stream",
     "text": [
      "[('a', 3), ('c', 2), ('d', 1)]\n"
     ]
    }
   ],
   "source": [
    "G = Graph({\n",
    "    'a' : [('b', 3)],\n",
    "    'b' : [('a', 3), ('c', 2), ('d', 1)],\n",
    "    'c' : [('b', 2)],\n",
    "    'd' : [('b', 1)]\n",
    "}) \n",
    "\n",
    "print(G.get_neighbors('b'))"
   ]
  },
  {
   "cell_type": "code",
   "execution_count": 5,
   "metadata": {},
   "outputs": [
    {
     "name": "stdout",
     "output_type": "stream",
     "text": [
      "{'a': [('b', 3)], 'b': [('a', 3), ('c', 2), ('d', 1)], 'c': [('b', 2), ('d', 4)], 'd': [('b', 1), ('c', 4)]}\n"
     ]
    }
   ],
   "source": [
    "G = Graph({\n",
    "    'a' : [('b', 3)],\n",
    "    'b' : [('a', 3), ('c', 2), ('d', 1)],\n",
    "    'c' : [('b', 2)],\n",
    "    'd' : [('b', 1)]\n",
    "}) \n",
    "\n",
    "G.add_neighbor('c', 'd', 4)\n",
    "\n",
    "print(G)"
   ]
  },
  {
   "cell_type": "code",
   "execution_count": 6,
   "metadata": {},
   "outputs": [
    {
     "name": "stdout",
     "output_type": "stream",
     "text": [
      "{'a': [('b', 3)], 'b': [('a', 3), ('d', 1)], 'c': [], 'd': [('b', 1)]}\n"
     ]
    }
   ],
   "source": [
    "G = Graph({\n",
    "    'a' : [('b', 3)],\n",
    "    'b' : [('a', 3), ('c', 2), ('d', 1)],\n",
    "    'c' : [('b', 2)],\n",
    "    'd' : [('b', 1)]\n",
    "}) \n",
    "\n",
    "G.remove_neighbor('b', 'c', 2)\n",
    "\n",
    "print(G)"
   ]
  },
  {
   "cell_type": "code",
   "execution_count": 7,
   "metadata": {},
   "outputs": [
    {
     "name": "stdout",
     "output_type": "stream",
     "text": [
      "3\n"
     ]
    }
   ],
   "source": [
    "G = Graph({\n",
    "    'a' : [('b', 3)],\n",
    "    'b' : [('a', 3), ('c', 2), ('d', 1)],\n",
    "    'c' : [('b', 2)],\n",
    "    'd' : [('b', 1)]\n",
    "}) \n",
    "\n",
    "print(G.distance_between_nodes('a', 'b'))"
   ]
  },
  {
   "cell_type": "code",
   "execution_count": 8,
   "metadata": {},
   "outputs": [
    {
     "name": "stdout",
     "output_type": "stream",
     "text": [
      "{'a': [('a+b', 1)], 'b': [('c', 2), ('d', 1), ('a+b', 2)], 'c': [('b', 2)], 'd': [('b', 1)], 'a+b': [('a', 1), ('b', 2)]}\n"
     ]
    }
   ],
   "source": [
    "G = Graph({\n",
    "    'a' : [('b', 3)],\n",
    "    'b' : [('a', 3), ('c', 2), ('d', 1)],\n",
    "    'c' : [('b', 2)],\n",
    "    'd' : [('b', 1)]\n",
    "}) \n",
    "\n",
    "G.add_new_node_between_nodes('a', 'b', 1)\n",
    "\n",
    "print(G)"
   ]
  },
  {
   "cell_type": "code",
   "execution_count": 9,
   "metadata": {},
   "outputs": [
    {
     "name": "stdout",
     "output_type": "stream",
     "text": [
      "['a', 'b', 'c']\n"
     ]
    }
   ],
   "source": [
    "G = Graph({\n",
    "    'a' : [('b', 3)],\n",
    "    'b' : [('a', 3), ('c', 2), ('d', 1)],\n",
    "    'c' : [('b', 2)],\n",
    "    'd' : [('b', 1)]\n",
    "}) \n",
    "\n",
    "print(G.find_path('a', 'c'))"
   ]
  },
  {
   "cell_type": "code",
   "execution_count": 10,
   "metadata": {},
   "outputs": [
    {
     "name": "stdout",
     "output_type": "stream",
     "text": [
      "{'a': [('b', 3)], 'b': [('a', 3), ('d', 1), ('c+b', 1)], 'c': [('c+b', 1)], 'd': [('b', 1)], 'c+b': [('c', 1), ('b', 1)]}\n"
     ]
    }
   ],
   "source": [
    "G = Graph({\n",
    "    'a' : [('b', 3)],\n",
    "    'b' : [('a', 3), ('c', 2), ('d', 1)],\n",
    "    'c' : [('b', 2)],\n",
    "    'd' : [('b', 1)]\n",
    "}) \n",
    "\n",
    "G.add_node_on_path('a', 'c', 4)\n",
    "\n",
    "print(G)"
   ]
  },
  {
   "cell_type": "markdown",
   "metadata": {},
   "source": [
    "# Aditivna filogenija"
   ]
  },
  {
   "cell_type": "markdown",
   "metadata": {},
   "source": [
    "Algoritam aditivne filogenije se zasniva na izracunavanju duzina tzv. **spoljnih grana** - grana koje povezuju listova sa nekim unutrasnjim cvorom, a zatim se izgradjuje stablo dodavanjem jednog po jednog lista u do tad konstruisano stablo tako sto se na odgvarajucem mestu doda novi unutrasnji cvor za koji se kaci nova spoljna grana koja odgovara listu koji dodajemo.\n",
    "\n",
    "Pokazali smo kako se moze izracunati rastojanje lista od unutrasnjeg cvora, ali pod pretpostavkom da nam je poznato koji je njegov susedni list. Medjutim, ukoliko za fiksirani list $j$ posmatramo vrednost izraza $\\frac{1}{2} (D[i][j] + D[k][j] - D[i][k])$ za sve moguce izbore listova za $i$ i $k$, ona ce biti minimalna onda kada za $i$ ili $k$ izaberemo bas onaj list koji treba da bude susedan listu $j$. Tada duzinu spoljasnje grane koja odgovara cvoru $j$ oznacavamo sa $limb\\_length(j)$ i racunamo je na sledeci nacin: \n",
    "\n",
    "$$limb\\_lenght(j) = \\min\\limits_{i, k} \\frac{1}{2}(D[i][j] + D[k][j] - D[i][k])$$"
   ]
  },
  {
   "cell_type": "code",
   "execution_count": 1,
   "metadata": {},
   "outputs": [],
   "source": [
    "def limb_length(D, n, j):\n",
    "    min_length = float('inf')\n",
    "    min_i = None\n",
    "    min_j = None\n",
    "\n",
    "    for i in range(n):\n",
    "        for k in range(n):\n",
    "            if i!=j and k!=j:\n",
    "                length = (D[i][j] + D[k][j] - D[i][k]) / 2\n",
    "                \n",
    "                if length < min_length:\n",
    "                    min_length = length\n",
    "                    min_i = i\n",
    "                    min_k = k\n",
    "                    \n",
    "    return (min_i, min_k, min_length)"
   ]
  },
  {
   "cell_type": "code",
   "execution_count": 2,
   "metadata": {},
   "outputs": [],
   "source": [
    "D = [[ 0, 13, 21, 22],\n",
    "     [13,  0, 12, 13], \n",
    "     [21, 12,  0, 13], \n",
    "     [22, 13, 13,  0]]\n",
    "i = 0\n",
    "j = 1\n",
    "k = 3\n",
    "\n",
    "(min_i, min_k, length) = limb_length(D, 3, j)\n",
    "\n",
    "print('i = {}, k = {}, length = {}'.format(min_i, min_k, length))"
   ]
  },
  {
   "cell_type": "markdown",
   "metadata": {},
   "source": [
    "Skica algoritma **Additive philogeny**: \n",
    "- Izaberemo proizvoljan list $j$ \n",
    "- Izracunamo duzinu njegove spoljne grane $limb\\_length(j)$ \n",
    "- Oduzmemo $limb\\_length(j)$ od rastojanja od lista $j$ do svih drugih listova u matrici $D$, i na taj nacin dobijamo tzv. ogoljenu matricu rastojanja $D^{bald}$ u kojoj od lista $j$ vodi ogoljena grana (duzine 0) do njegovog direkrnog pretka \n",
    "- Uklanjamo $j$-ti red i $j$-tu kolonu i na taj nacin formiramo matricu rastojanja $D^{trimmed}$ u kojoj nema cvora $j$ \n",
    "- Rekurzivno konstruisemo stablo nad ovako izmenjenom matricom $D^{trimmed}$ koja je za jedan manje dimenzije od polazne matrice $D$ \n",
    "- Identifikujemo granu u do tad formiranom stablu koju treba da presecemo novim unutrasnjim cvorom za koji cemo zakaciti list $j$, tj. njegovu spoljnu granu duzine $limb\\_length(j)$\n",
    "- Ponavljamo rekurzivni korak sve do baznog slucaja kada dobijemo matricu rastojanja $D$ dimenzije $2 \\times 2$\n",
    "\n",
    "**NAPOMENA**: Mi cemo za list $j$ u svakom koraku uzimati onaj koji odgovara poslednjem redu/koloni u matrici $D$ kako ne bismo morali da vrsimo operaciju trim-ovanja matrice za $j$-ti red i kolonu (vremenski skupa operacija), vec cemo samo smanjujuci opseg indeksa posmatrati podmatricu matrice $D^{bald}$ bez poslednjeg reda i kolone. "
   ]
  },
  {
   "cell_type": "markdown",
   "metadata": {},
   "source": [
    "<img src=\"assets/additive_philogeny_example.png\" width=\"700\">"
   ]
  },
  {
   "cell_type": "markdown",
   "metadata": {},
   "source": [
    "Funkcija **additive_philogeny** konstruise filogenetsko stablo koje odgovara matrici rastojanja **D** dimenzije **n** $\\times$ **n** primenom *algoritma aditivne filogenije*."
   ]
  },
  {
   "cell_type": "code",
   "execution_count": 11,
   "metadata": {},
   "outputs": [],
   "source": [
    "def additive_philogeny(D, n):\n",
    "    if n == 2:\n",
    "        return Graph({0 : [(1, D[0][1])],\n",
    "                      1 : [(0, D[0][1])]\n",
    "                      })\n",
    "    \n",
    "    #za list j biramo onaj kome u matrici D odgovaraju poslednja vrsta i poslednja kolona \n",
    "    j = n-1\n",
    "    \n",
    "    (i, k, limb_length_j) = limb_length(D, n, j)\n",
    "    \n",
    "    for v in range(n-1):\n",
    "        D[v][j] -= limb_length_j\n",
    "        D[j][v] -= limb_length_j\n",
    "        \n",
    "    distance_i = D[i][j]       #ovo je udaljenost lista j = n-1 od lista i u ogoljenoj matrici D, ta vrednost ce\n",
    "                               #nam biti potrebna kada se vratimo iz rekurzije da znamo na kojoj udaljenosti od\n",
    "                               #lista i na putanji od lista i do lista k treba da umetremo unutrasnji cvor m i za\n",
    "                               #njega da zakacimo list j = n-1\n",
    "            \n",
    "    tree = additive_philogeny(D, n-1)\n",
    "    \n",
    "    #NAPOMENA: cvor j = n-1 umecemo na putu izmedju cvorova i i k, i to nije potrebno da racunamo ponovo,\n",
    "    #jer su to upravo oni i i k za koje se prilikom izracunavanja limb_length(j) dostize minimum!\n",
    "    \n",
    "    m = tree.add_node_on_path(i, k, distance_i)\n",
    "    tree.add_neighbor(m, j, limb_length_j)\n",
    "    \n",
    "    return tree"
   ]
  },
  {
   "cell_type": "code",
   "execution_count": 12,
   "metadata": {},
   "outputs": [
    {
     "name": "stdout",
     "output_type": "stream",
     "text": [
      "{0: [('1+0', 11.0)], 1: [('1+0', 2.0)], '1+0': [(1, 2.0), (0, 11.0), ('2+1+0', 4.0)], 2: [('2+1+0', 6.0)], '2+1+0': [(2, 6.0), ('1+0', 4.0), (3, 7.0)], 3: [('2+1+0', 7.0)]}\n"
     ]
    }
   ],
   "source": [
    "D = [[ 0, 13, 21, 22],\n",
    "     [13,  0, 12, 13], \n",
    "     [21, 12,  0, 13], \n",
    "     [22, 13, 13,  0]]\n",
    "n = 4\n",
    "\n",
    "tree = additive_philogeny(D, n)\n",
    "print(tree)"
   ]
  }
 ],
 "metadata": {
  "kernelspec": {
   "display_name": "Python 3",
   "language": "python",
   "name": "python3"
  },
  "language_info": {
   "codemirror_mode": {
    "name": "ipython",
    "version": 3
   },
   "file_extension": ".py",
   "mimetype": "text/x-python",
   "name": "python",
   "nbconvert_exporter": "python",
   "pygments_lexer": "ipython3",
   "version": "3.8.10"
  }
 },
 "nbformat": 4,
 "nbformat_minor": 4
}
