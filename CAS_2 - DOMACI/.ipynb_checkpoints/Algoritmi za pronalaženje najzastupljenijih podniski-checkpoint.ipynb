{
 "cells": [
  {
   "cell_type": "markdown",
   "metadata": {},
   "source": [
    "1. Implementirati modifikaciju algoritma **Faster Frequent Words** koja koristi recnik (<code>dict</code>) za cuvanje brojaca samo onih <code>k</code>-grama koji se pojavljuju u niski <code>text</code>."
   ]
  },
  {
   "cell_type": "code",
   "execution_count": null,
   "metadata": {},
   "outputs": [],
   "source": [
    "def computing_frequencies_dict(text, k):\n",
    "    pass"
   ]
  },
  {
   "cell_type": "code",
   "execution_count": null,
   "metadata": {},
   "outputs": [],
   "source": [
    "def faster_frequent_words_dict(text, k):\n",
    "    pass"
   ]
  },
  {
   "cell_type": "code",
   "execution_count": null,
   "metadata": {},
   "outputs": [],
   "source": [
    "oriC = 'ATCAATGATCAACGTAAGCTTCTAAGCATGATCAAGGTGCTCACACAGTTTATCCACAACCTGAGTGGATGACATCAAGATAGGTCGTTGTATCTCCTTCCTCTCGTACTCTCATGACCACGGAAAGATGATCAAGAGAGGATGATTTCTTGGCCATATCGCAATGAATACTTGTGACTTGTGCTTCCAATTGACATCTTCAGCGCCATATTGCGCTGGCCAAGGTGACGGAGCGGGATTACGAAAGCATGATCATGGCTGTTGTTCTGTTTATCTTGTTTTGACTGAGACTTGTTAGGATAGACGGTTTTTCATCACTGACTAGCCAAAGCCTTACTCTGCCTGACATCGACCGTAAATTGATAATGAATTTACATGCTTCCGCGACGATTTACCTCTTGATCATCGATCCGATTGAAGATCTTCAATTGTTAATTCTCTTGCCTCGACTCATAGCCATGATGAGCTCTTGATCA'\n",
    "k = 9\n",
    "\n",
    "print(faster_frequent_words_dict(oriC, k))"
   ]
  },
  {
   "cell_type": "markdown",
   "metadata": {},
   "source": [
    "2. Implementirati rekurzivno funkciju <code>neighbors</code> koja pronalazi sve niske koje su na najvise <code>d</code> Hamigovom rastojanju od zadate niske <code>pattern</code>. Algoritam se bazira na pronalaženju suseda dužine <code>k-1</code> (<code>k</code> je duzina niske <code>pattern</code>) a zatim nadovezivanjem prvog, izmenjenog, karaktera uzorka, ukoliko sused dužine k ima manje od <code>d</code> izmena ili, u suprotnom, nadovezivanjem prvog karaktera polaznog uzorka. Pseudokod algoritma se nalazi na 50. strani u knjizi."
   ]
  },
  {
   "cell_type": "code",
   "execution_count": null,
   "metadata": {},
   "outputs": [],
   "source": [
    "def hamming_distance(string1, string2):\n",
    "    n = len(string1)       \n",
    "    \n",
    "    distance = 0\n",
    "    for i in range(n):\n",
    "        if string1[i] != string2[i]:\n",
    "            distance += 1\n",
    "            \n",
    "    return distance                  "
   ]
  },
  {
   "cell_type": "code",
   "execution_count": null,
   "metadata": {},
   "outputs": [],
   "source": [
    "def neighbors(pattern, d):\n",
    "    pass"
   ]
  },
  {
   "cell_type": "code",
   "execution_count": null,
   "metadata": {},
   "outputs": [],
   "source": [
    "pattern = 'AAA'\n",
    "d = 1\n",
    "print(neighbors(pattern, d))"
   ]
  },
  {
   "cell_type": "markdown",
   "metadata": {},
   "source": [
    "3. Implementirati modifikaciju algoritma **Frequent Words with Missmatches** koja koristi recnik (<code>dict</code>) za cuvanje brojaca samo onih <code>k</code>-grama koji se pojavljuju u niski <code>text</code> i njihovih <code>d</code>-suseda (<code>k</code>-grama koji se nalaze na najvise <code>d</code> Hamingovom rastojanju)."
   ]
  },
  {
   "cell_type": "code",
   "execution_count": null,
   "metadata": {},
   "outputs": [],
   "source": [
    "def approximate_pattern_count(text, pattern, d):\n",
    "    n = len(text)\n",
    "    k = len(pattern)\n",
    "    count = 0\n",
    "    \n",
    "    for i in range(n-k+1):\n",
    "        if hamming_distance(pattern, text[i : i+k]) <= d:\n",
    "            count += 1\n",
    "            \n",
    "    return count"
   ]
  },
  {
   "cell_type": "code",
   "execution_count": null,
   "metadata": {},
   "outputs": [],
   "source": [
    "def frequent_words_with_missmatches_dict(text, k, d):   \n",
    "    pass"
   ]
  },
  {
   "cell_type": "code",
   "execution_count": null,
   "metadata": {},
   "outputs": [],
   "source": [
    "text = 'ATATGCTAGTGTCGATGTGCTA'\n",
    "k = 4\n",
    "d = 2\n",
    "\n",
    "print(frequent_words_with_missmatches_dict(text, k, d))"
   ]
  }
 ],
 "metadata": {
  "kernelspec": {
   "display_name": "Python 3",
   "language": "python",
   "name": "python3"
  },
  "language_info": {
   "codemirror_mode": {
    "name": "ipython",
    "version": 3
   },
   "file_extension": ".py",
   "mimetype": "text/x-python",
   "name": "python",
   "nbconvert_exporter": "python",
   "pygments_lexer": "ipython3",
   "version": "3.8.10"
  }
 },
 "nbformat": 4,
 "nbformat_minor": 2
}
