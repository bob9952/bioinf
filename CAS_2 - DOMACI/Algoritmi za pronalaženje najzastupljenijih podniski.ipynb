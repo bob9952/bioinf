{
 "cells": [
  {
   "cell_type": "markdown",
   "metadata": {},
   "source": [
    "1. Implementirati modifikaciju algoritma **Faster Frequent Words** koja koristi recnik (<code>dict</code>) za cuvanje brojaca samo onih <code>k</code>-grama koji se pojavljuju u niski <code>text</code>."
   ]
  },
  {
   "cell_type": "code",
   "execution_count": 38,
   "metadata": {},
   "outputs": [],
   "source": [
    "def computing_frequencies_dict(text, k):\n",
    "    # aha ne koristimo niz za brojace nego dict ? \n",
    "    # kako sam racunao ove freq ? \n",
    "    # imao sam niz count i onda za sve podniske duzine k gledam da li sam se poklopio sa paternom ? \n",
    "    n = len(text)\n",
    "    brojac = {}\n",
    "    # a ne moze biti prazna mapa ? \n",
    "\n",
    "    for i in range(0, n - k + 1):\n",
    "        patern = text[i : i + k]\n",
    "        # br = brojac.get(patern, 0)\n",
    "        if patern not in brojac:\n",
    "            brojac[patern] = 1\n",
    "        else:\n",
    "            brojac[patern] += 1\n",
    "    return brojac"
   ]
  },
  {
   "cell_type": "code",
   "execution_count": 39,
   "metadata": {},
   "outputs": [
    {
     "data": {
      "text/plain": [
       "3"
      ]
     },
     "execution_count": 39,
     "metadata": {},
     "output_type": "execute_result"
    }
   ],
   "source": [
    "mapa = {'A' : 1, 'B' : 2, 'C' : 3 }\n",
    "m = max(mapa, key=mapa.get, default=None) \n",
    "mapa[m]"
   ]
  },
  {
   "cell_type": "code",
   "execution_count": 40,
   "metadata": {},
   "outputs": [],
   "source": [
    "def faster_frequent_words_dict(text, k):\n",
    "    freq_najcesce = []\n",
    "    n = len(text)\n",
    "    freqs = computing_frequencies_dict(text, k)\n",
    "    # print(freqs)\n",
    "    \n",
    "    max_freq = max(freqs.values()) # vraca kljuc \n",
    "    # print(max_freq)\n",
    "    # freqs je mapa \n",
    "    for patern, count in freqs.items():\n",
    "        # patern = text[i : i + k] # opet kroz sve\n",
    "        if max_freq == count:\n",
    "            freq_najcesce.append(patern)\n",
    "    return freq_najcesce"
   ]
  },
  {
   "cell_type": "code",
   "execution_count": 41,
   "metadata": {},
   "outputs": [
    {
     "name": "stdout",
     "output_type": "stream",
     "text": [
      "['AAGCATGAT', 'AGCATGATC', 'GCATGATCA', 'ATGATCAAG', 'CTCTTGATC', 'TCTTGATCA']\n"
     ]
    }
   ],
   "source": [
    "oriC = 'ATCAATGATCAACGTAAGCTTCTAAGCATGATCAAGGTGCTCACACAGTTTATCCACAACCTGAGTGGATGACATCAAGATAGGTCGTTGTATCTCCTTCCTCTCGTACTCTCATGACCACGGAAAGATGATCAAGAGAGGATGATTTCTTGGCCATATCGCAATGAATACTTGTGACTTGTGCTTCCAATTGACATCTTCAGCGCCATATTGCGCTGGCCAAGGTGACGGAGCGGGATTACGAAAGCATGATCATGGCTGTTGTTCTGTTTATCTTGTTTTGACTGAGACTTGTTAGGATAGACGGTTTTTCATCACTGACTAGCCAAAGCCTTACTCTGCCTGACATCGACCGTAAATTGATAATGAATTTACATGCTTCCGCGACGATTTACCTCTTGATCATCGATCCGATTGAAGATCTTCAATTGTTAATTCTCTTGCCTCGACTCATAGCCATGATGAGCTCTTGATCA'\n",
    "k = 9\n",
    "\n",
    "print(faster_frequent_words_dict(oriC, k))"
   ]
  },
  {
   "cell_type": "code",
   "execution_count": 42,
   "metadata": {},
   "outputs": [],
   "source": [
    "# ['CTCTTGATC', 'GCATGATCA', 'TCTTGATCA', 'ATGATCAAG', 'AGCATGATC', 'AAGCATGAT']"
   ]
  },
  {
   "cell_type": "markdown",
   "metadata": {},
   "source": [
    "2. Implementirati rekurzivno funkciju <code>neighbors</code> koja pronalazi sve niske koje su na najvise <code>d</code> Hamigovom rastojanju od zadate niske <code>pattern</code>. Algoritam se bazira na pronalaženju suseda dužine <code>k-1</code> (<code>k</code> je duzina niske <code>pattern</code>) a zatim nadovezivanjem prvog, izmenjenog, karaktera uzorka, ukoliko sused dužine k ima manje od <code>d</code> izmena ili, u suprotnom, nadovezivanjem prvog karaktera polaznog uzorka. Pseudokod algoritma se nalazi na 50. strani u knjizi."
   ]
  },
  {
   "cell_type": "code",
   "execution_count": 51,
   "metadata": {},
   "outputs": [],
   "source": [
    "def hamming_distance(string1, string2):\n",
    "    n = len(string1)       \n",
    "    \n",
    "    distance = 0\n",
    "    for i in range(n):\n",
    "        if string1[i] != string2[i]:\n",
    "            distance += 1\n",
    "            \n",
    "    return distance                  "
   ]
  },
  {
   "cell_type": "code",
   "execution_count": 52,
   "metadata": {},
   "outputs": [
    {
     "data": {
      "text/plain": [
       "1"
      ]
     },
     "execution_count": 52,
     "metadata": {},
     "output_type": "execute_result"
    }
   ],
   "source": [
    "hamming_distance('AB', 'AC')"
   ]
  },
  {
   "cell_type": "code",
   "execution_count": 55,
   "metadata": {},
   "outputs": [],
   "source": [
    "def neighbors(pattern, d):\n",
    "    if d == 0:\n",
    "        return pattern\n",
    "    if len(pattern) == 1:\n",
    "        return {'A', 'C', 'G', 'T'}\n",
    "\n",
    "    susedi = set([])\n",
    "    sufiksi = neighbors(pattern[1:], d)\n",
    "\n",
    "    for sufiks in sufiksi:\n",
    "        if hamming_distance(pattern[1:], sufiks) < d:\n",
    "            for nucleotide in ['A', 'C', 'G', 'T']:\n",
    "                susedi.add(nucleotide + sufiks)\n",
    "        else: \n",
    "            susedi.add(pattern[0] + sufiks)\n",
    "    return susedi"
   ]
  },
  {
   "cell_type": "code",
   "execution_count": 56,
   "metadata": {},
   "outputs": [
    {
     "name": "stdout",
     "output_type": "stream",
     "text": [
      "{'AGA', 'AAA', 'GAA', 'TAA', 'CAA', 'ACA', 'ATA', 'AAC', 'AAG', 'AAT'}\n"
     ]
    }
   ],
   "source": [
    "pattern = 'AAA'\n",
    "d = 1\n",
    "print(neighbors(pattern, d))"
   ]
  },
  {
   "cell_type": "code",
   "execution_count": 57,
   "metadata": {},
   "outputs": [],
   "source": [
    "# ['AAG', 'GAA', 'AGA', 'TAA', 'AAA', 'ACA', 'AAT', 'ATA', 'CAA', 'AAC']\n",
    "# ovo je tacno"
   ]
  },
  {
   "cell_type": "markdown",
   "metadata": {},
   "source": [
    "3. Implementirati modifikaciju algoritma **Frequent Words with Missmatches** koja koristi recnik (<code>dict</code>) za cuvanje brojaca samo onih <code>k</code>-grama koji se pojavljuju u niski <code>text</code> i njihovih <code>d</code>-suseda (<code>k</code>-grama koji se nalaze na najvise <code>d</code> Hamingovom rastojanju)."
   ]
  },
  {
   "cell_type": "code",
   "execution_count": null,
   "metadata": {},
   "outputs": [],
   "source": [
    "def approximate_pattern_count(text, pattern, d):\n",
    "    n = len(text)\n",
    "    k = len(pattern)\n",
    "    count = 0\n",
    "    \n",
    "    for i in range(n-k+1):\n",
    "        if hamming_distance(pattern, text[i : i+k]) <= d:\n",
    "            count += 1\n",
    "            \n",
    "    return count"
   ]
  },
  {
   "cell_type": "code",
   "execution_count": null,
   "metadata": {},
   "outputs": [],
   "source": [
    "def frequent_words_with_missmatches_dict(text, k, d):   \n",
    "    pass"
   ]
  },
  {
   "cell_type": "code",
   "execution_count": null,
   "metadata": {},
   "outputs": [],
   "source": [
    "text = 'ATATGCTAGTGTCGATGTGCTA'\n",
    "k = 4\n",
    "d = 2\n",
    "\n",
    "print(frequent_words_with_missmatches_dict(text, k, d))"
   ]
  }
 ],
 "metadata": {
  "kernelspec": {
   "display_name": "Python 3 (ipykernel)",
   "language": "python",
   "name": "python3"
  },
  "language_info": {
   "codemirror_mode": {
    "name": "ipython",
    "version": 3
   },
   "file_extension": ".py",
   "mimetype": "text/x-python",
   "name": "python",
   "nbconvert_exporter": "python",
   "pygments_lexer": "ipython3",
   "version": "3.10.14"
  }
 },
 "nbformat": 4,
 "nbformat_minor": 4
}
