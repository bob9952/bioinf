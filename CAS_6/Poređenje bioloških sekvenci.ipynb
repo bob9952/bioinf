{
 "cells": [
  {
   "cell_type": "markdown",
   "metadata": {},
   "source": [
    "# Problem turiste na Menhetnu"
   ]
  },
  {
   "cell_type": "markdown",
   "metadata": {},
   "source": [
    "<img src=\"assets/Manhattan_tourist.png\" width=\"700\"> "
   ]
  },
  {
   "cell_type": "markdown",
   "metadata": {},
   "source": [
    "<u>Rekurzivno resenje problema:</u>\n",
    "\n",
    "$S[i, 0] = S[i-1, 0], \\hspace{0.3cm} \\forall i$\n",
    "\n",
    "$S[0, j] = S[0, j-1], \\hspace{0.3cm} \\forall j$\n",
    "\n",
    "$S[i, j] = max \\begin{cases}\n",
    "                    S[i-1, j] + weight ((i-1, j), (i, j)) \\\\\n",
    "                    S[i, j-1] + weight ((i, j-1), (i, j)) \n",
    "                \\end{cases}$"
   ]
  },
  {
   "cell_type": "markdown",
   "metadata": {},
   "source": [
    "Funkcija **manhattan_tourist** pronalazi put najvece tezine u grafu dimenzije **n** $\\times$ **m** sa tezinama grana definisanim datim matricama **DOWN** i **RIGHT**. Pomocna funkcija **backtracking_manhattan** rekonstruise putanju koja odgovara izracunatom najboljem skoru, tj. putanju sa najvecom tezinom."
   ]
  },
  {
   "cell_type": "code",
   "execution_count": 8,
   "metadata": {},
   "outputs": [],
   "source": [
    "# s[i, 0] = S[i-1, 0] za svako i\n",
    "# s[0, j] = S[0, j-1] za svako j\n",
    "# s[i,j] = max( s[i-1, j] + weight( (i-1, j), (i, j_)) , s[i, j-1] + weight((i, j-1), (i,j)) \n",
    "# n x m graf sa dezinama grana def matricama DOWN i RIGHT \n",
    "# (n+1) x (m+1) S[n,m] <- \n",
    "def menhetn(DOWN, RIGHT, n, m):\n",
    "    S = [[0 for j in range(m)] for i in range(n)]\n",
    "    BACKTRACK = [[None for j in range(m)] for i in range(n)]\n",
    "\n",
    "    for i in range(1, n):\n",
    "        S[i][0] = S[i-1][0] + DOWN[i][0]\n",
    "        BACKTRACK[i][0] = (i-1, 0)\n",
    "\n",
    "    for j in range(1, m):\n",
    "        S[0][j] = S[0][j-1] + RIGHT[0][j]\n",
    "        BACKTRACK[0][j] = (0, j-1)\n",
    "\n",
    "    for i in range(1, n):\n",
    "        for j in range(1, m):\n",
    "            S[i][j] = max( S[i-1][j] + DOWN[i][j], S[i][j-1] + RIGHT[i][j] )\n",
    "\n",
    "            if S[i][j] == S[i-1][j] + DOWN[i][j]: # from top update backtrack \n",
    "                BACKTRACK[i][j] = (i-1, j)\n",
    "            else:\n",
    "                BACKTRACK[i][j] = (i, j-1)\n",
    "                \n",
    "    score = S[n-1][m-1]\n",
    "    path = backtrack_path(BACKTRACK, n, m)\n",
    "    return (score, path)"
   ]
  },
  {
   "cell_type": "code",
   "execution_count": 16,
   "metadata": {},
   "outputs": [],
   "source": [
    "def backtrack_path(BACKTRACK, n, m):\n",
    "    i = n - 1\n",
    "    j = m - 1\n",
    "\n",
    "    path = []\n",
    "    \n",
    "    while BACKTRACK[i][j] != None:\n",
    "        path.append(BACKTRACK[i][j])\n",
    "        (i, j) = BACKTRACK[i][j]\n",
    "\n",
    "    path.append((0,0))\n",
    "    path.reverse()\n",
    "\n",
    "    return path"
   ]
  },
  {
   "cell_type": "code",
   "execution_count": 17,
   "metadata": {},
   "outputs": [],
   "source": [
    "def manhattan_tourist(DOWN, RIGHT, n, m):\n",
    "    S = [[0 for j in range(m)] for i in range(n)]       \n",
    "    BACKTRACK = [[None for j in range(m)] for i in range(n)]\n",
    "    \n",
    "    for i in range(1, n):\n",
    "        S[i][0] = S[i-1][0] + DOWN[i][0]\n",
    "        BACKTRACK[i][0] = (i-1, 0)\n",
    "        \n",
    "    for j in range(1, m):\n",
    "        S[0][j] = S[0][j-1] + RIGHT[0][j]\n",
    "        BACKTRACK[0][j] = (0, j-1)\n",
    "        \n",
    "    for i in range(1, n):\n",
    "        for j in range(1, m):\n",
    "            from_top = S[i-1][j] + DOWN[i][j]\n",
    "            from_left = S[i][j-1] + RIGHT[i][j]\n",
    "            \n",
    "            S[i][j] = max(from_top, from_left)\n",
    "            \n",
    "            if S[i][j] == from_top:\n",
    "                BACKTRACK[i][j] = (i-1, j)\n",
    "            else:\n",
    "                BACKTRACK[i][j] = (i, j-1)\n",
    "             \n",
    "    score = S[n-1][m-1]\n",
    "    path = backtracking_manhattan(BACKTRACK, n, m)\n",
    "    \n",
    "    return (score, path)"
   ]
  },
  {
   "cell_type": "code",
   "execution_count": 18,
   "metadata": {},
   "outputs": [],
   "source": [
    "def backtracking_manhattan(BACKTRACK, n, m):\n",
    "    i = n - 1\n",
    "    j = m - 1\n",
    "    \n",
    "    path = []\n",
    "        \n",
    "    while BACKTRACK[i][j] != None:      #jedino je na polju (0, 0) ostalo None   \n",
    "        path.append((i, j))\n",
    "        (i, j) = BACKTRACK[i][j]\n",
    "        \n",
    "    path.append((0, 0))\n",
    "    path.reverse()\n",
    "    \n",
    "    return path"
   ]
  },
  {
   "cell_type": "markdown",
   "metadata": {},
   "source": [
    "<u>Nas primer:</u>"
   ]
  },
  {
   "cell_type": "raw",
   "metadata": {},
   "source": [
    "o - 1 - o - 1 - o \n",
    "|       |       | \n",
    "1       2       1\n",
    "|       |       |\n",
    "o - 1 - o - 1 - o\n",
    "|       |       |\n",
    "1       2       1\n",
    "|       |       |\n",
    "o - 1 - o - 2 - o"
   ]
  },
  {
   "cell_type": "code",
   "execution_count": 19,
   "metadata": {},
   "outputs": [],
   "source": [
    "DOWN = [[0, 0, 0],\n",
    "        [1, 2, 1],\n",
    "        [1, 2, 1]]\n",
    "\n",
    "RIGHT = [[0, 1, 1],\n",
    "         [0, 1, 1],\n",
    "         [0, 1, 2]]"
   ]
  },
  {
   "cell_type": "code",
   "execution_count": 20,
   "metadata": {},
   "outputs": [
    {
     "name": "stdout",
     "output_type": "stream",
     "text": [
      "7\n",
      "[(0, 0), (0, 0), (0, 1), (1, 1), (2, 1)]\n"
     ]
    }
   ],
   "source": [
    "(skor, putanja) = menhetn(DOWN, RIGHT, 3, 3)\n",
    "print(skor)\n",
    "print(putanja)"
   ]
  },
  {
   "cell_type": "code",
   "execution_count": 21,
   "metadata": {},
   "outputs": [
    {
     "name": "stdout",
     "output_type": "stream",
     "text": [
      "Score:  7\n",
      "Path:  [(0, 0), (0, 1), (1, 1), (2, 1), (2, 2)]\n"
     ]
    }
   ],
   "source": [
    "(score, path) = manhattan_tourist(DOWN, RIGHT, 3, 3)\n",
    "\n",
    "print('Score: ', score)\n",
    "print('Path: ', path)"
   ]
  },
  {
   "cell_type": "markdown",
   "metadata": {},
   "source": [
    "# Problem pronalazenja najduze zajednicke podsekvence"
   ]
  },
  {
   "cell_type": "markdown",
   "metadata": {},
   "source": [
    "Terminologija:\n",
    "- podstring = niz uzastopnih karaktera iz stringa\n",
    "- podsekvenca = niz karaktera takav da su indeksi pozicija tih karaktera unutar datog stringa u rastucem poretku\n",
    "\n",
    "Problem pronalazenja najduze zajednicke podsekvence za dve niske mozemo svesti na problem turiste na Menhetnu, uz male modifikacije. Mrezni graf koji pridruzujemo ovom problemu ima (n+1) $\\times$ (m+1) cvorova (n i m su duzine stringova) i osim grana koje vode 'na dole' i 'na desno' imamo i dijagonalne grane. Grane 'na dole' odgovaraju preskakanju karaktera unutar jednog ili drugog stringa, dok dok dijagonalne grane odgovaraju **(ne)poklapanjima** odgovarajucih karaktera u niskama. Tezine grana definisemo u skladu sa time - grane koje su dijagonalne i koje uparuju (poravnavaju) iste simbole imaju tezinu razlicitu od 0, dok sve ostale grane imaju tezinu 0."
   ]
  },
  {
   "cell_type": "markdown",
   "metadata": {},
   "source": [
    "<img src=\"assets/longest_common_subsequence.png\" width=\"350\"> "
   ]
  },
  {
   "cell_type": "markdown",
   "metadata": {},
   "source": [
    "<u>Rekurzivno resenje problema:</u>\n",
    "\n",
    "$S[i, 0] = 0, \\hspace{0.3cm} \\forall i$\n",
    "\n",
    "$S[0, j] = 0, \\hspace{0.3cm} \\forall j$\n",
    "\n",
    "$S[i, j] = max \\begin{cases}\n",
    "                    S[i-1, j] + 0 \\\\ \n",
    "                    S[i, j-1] + 0 \\\\ \n",
    "                    S[i-1, j-1] + match (seq1[i], seq2[j]) \n",
    "               \\end{cases}$"
   ]
  },
  {
   "cell_type": "markdown",
   "metadata": {},
   "source": [
    "Funkcija **longest_common_subsequence** pronalazi najduzu zajednicku podsekvencu za niske **seq1** i **seq2**. Pomocna funkcija **backtracking_lcs** rekonstruise putanju (tj. podsekvencu) koja odgovara izracunatom najboljem skoru."
   ]
  },
  {
   "cell_type": "code",
   "execution_count": 29,
   "metadata": {},
   "outputs": [],
   "source": [
    "def longest_common_subsequence(seq1, seq2):\n",
    "    n = len(seq1) + 1\n",
    "    m = len(seq2) + 1\n",
    "    \n",
    "    S = [[0 for j in range(m)] for i in range(n)]\n",
    "    BACKTRACK = [[None for j in range(m)] for i in range(n)]    \n",
    "    \n",
    "    for i in range(1, n):\n",
    "        #S[i][0] ostavljamo da bude 0\n",
    "        BACKTRACK[i][0] = (i-1, 0)\n",
    "        \n",
    "    for j in range(1, m):\n",
    "        #S[0][j] ostavljamo da bude 0\n",
    "        BACKTRACK[0][j] = (0, j-1)\n",
    "        \n",
    "    for i in range(1, n):\n",
    "        for j in range(1, m):\n",
    "            from_top = S[i-1][j] + 0\n",
    "            from_left = S[i][j-1] + 0\n",
    "            from_diagonal = S[i-1][j-1] + int(seq1[i-1] == seq2[j-1])\n",
    "                \n",
    "            S[i][j] = max(from_top, from_left, from_diagonal)\n",
    "            \n",
    "            if S[i][j] == from_top:\n",
    "                BACKTRACK[i][j] = (i-1, j)\n",
    "            elif S[i][j] == from_left:\n",
    "                BACKTRACK[i][j] = (i, j-1)\n",
    "            else:\n",
    "                BACKTRACK[i][j] = (i-1, j-1)\n",
    "                    \n",
    "    score = S[n-1][m-1]\n",
    "    lcs = backtracking_lcs(BACKTRACK, n, m, seq1, seq2)\n",
    "    \n",
    "    return (score, lcs)"
   ]
  },
  {
   "cell_type": "code",
   "execution_count": 30,
   "metadata": {},
   "outputs": [],
   "source": [
    "def backtracking_lcs(BACKTRACK, n, m, seq1, seq2):\n",
    "    i = n - 1\n",
    "    j = m - 1\n",
    "    \n",
    "    lcs = ''\n",
    "    \n",
    "    while BACKTRACK[i][j] != None:\n",
    "        if BACKTRACK[i][j] == (i-1, j-1) :    #ako smo dosli po dijagonali\n",
    "            lcs = seq1[i-1] + lcs             #svejedno je da li uzimamo karakter iz seq1 ili seq2\n",
    "            \n",
    "        (i, j) = BACKTRACK[i][j]\n",
    "        \n",
    "    return lcs    "
   ]
  },
  {
   "cell_type": "code",
   "execution_count": 86,
   "metadata": {},
   "outputs": [],
   "source": [
    "seq1 = 'ACGTCCATTA'\n",
    "seq2 = 'ATGTTATA'"
   ]
  },
  {
   "cell_type": "code",
   "execution_count": 87,
   "metadata": {},
   "outputs": [
    {
     "name": "stdout",
     "output_type": "stream",
     "text": [
      "LCS score:  6\n",
      "LCS:  AGTATA\n"
     ]
    }
   ],
   "source": [
    "# seq1 = 'ATCGTCC'\n",
    "# seq2 = 'ATGTTATA'\n",
    "\n",
    "(score, lcs) = longest_common_subsequence(seq1, seq2)\n",
    "\n",
    "print('LCS score: ', score)\n",
    "print('LCS: ', lcs)"
   ]
  },
  {
   "cell_type": "markdown",
   "metadata": {},
   "source": [
    "# Edit (Levenstajnovo) rastojanja dve niske"
   ]
  },
  {
   "cell_type": "markdown",
   "metadata": {},
   "source": [
    "Za razliku od Hamingovog rastojanja koje se koristi za poredjenje niski jednake duzine, edit rastojanje dopusta da poredimo i niske razlicitih duzina. Edit rastojanje se definise kao najmanji broj *edit operacija* potrebnih da bi se jedna niska transformisala u drugu.\n",
    "\n",
    "Edit operacije: \n",
    "- delecije - brisanje karaktera is jedne niske\n",
    "- insercije - umetanje karaktera u jednu nisku \n",
    "- supstitucije - uparivanje karaktera iz obe niske (moze biti 'match' ili 'mismatch')"
   ]
  },
  {
   "cell_type": "markdown",
   "metadata": {},
   "source": [
    "<u>Rekurzivno resenje problema:</u>\n",
    "\n",
    "$S[i, 0] = i, \\hspace{0.3cm} \\forall i$\n",
    "\n",
    "$S[0, j] = j, \\hspace{0.3cm} \\forall j$\n",
    "\n",
    "$S[i, j] = min \\begin{cases} \n",
    "                    S[i-1, j] + 1 \\\\\n",
    "                    S[i, j-1] + 1 \\\\ \n",
    "                    S[i-1, j-1] + mismatch (seq1[i], seq2[j]) \n",
    "                \\end{cases}$"
   ]
  },
  {
   "cell_type": "markdown",
   "metadata": {},
   "source": [
    "Funkcija **edit_distance** racuna edit rastojanje za niske **seq1** i **seq2**, kao i matricu poravnanja. Pomocna funkcija **backtracking_alignment** rekonstruise putanju (tj. poravnanje) koja odgovara izracunatom rastojanju (minimalni skor)."
   ]
  },
  {
   "cell_type": "code",
   "execution_count": 32,
   "metadata": {},
   "outputs": [],
   "source": [
    "def edit_distance(seq1, seq2):\n",
    "    n = len(seq1) + 1\n",
    "    m = len(seq2) + 1\n",
    "    \n",
    "    S = [[0 for j in range(m)] for i in range(n)]\n",
    "    BACKTRACK = [[None for j in range(m)] for i in range(n)]\n",
    "    \n",
    "    for i in range(1, n):\n",
    "        S[i][0] = i                \n",
    "        BACKTRACK[i][0] = (i-1, 0)\n",
    "        \n",
    "    for j in range(1, m):\n",
    "        S[0][j] = j                \n",
    "        BACKTRACK[0][j] = (0, j-1)  \n",
    "        \n",
    "    for i in range(1, n):\n",
    "        for j in range(1, m):\n",
    "            from_top = S[i-1][j] + 1\n",
    "            from_left = S[i][j-1] + 1\n",
    "            from_diagonal = S[i-1][j-1]  + int(seq1[i-1] != seq2[j-1])\n",
    "                \n",
    "            S[i][j] = min(from_top, from_left, from_diagonal)\n",
    "            \n",
    "            if S[i][j] == from_top:\n",
    "                BACKTRACK[i][j] = (i-1, j)\n",
    "            elif S[i][j] == from_left:\n",
    "                BACKTRACK[i][j] = (i, j-1)\n",
    "            else:\n",
    "                BACKTRACK[i][j] = (i-1, j-1)\n",
    "                \n",
    "    distance = S[n-1][m-1]\n",
    "    (seq1_align, seq2_align) = backtracking_alignment(BACKTRACK, n, m, seq1, seq2)\n",
    "    \n",
    "    return (distance, seq1_align, seq2_align)"
   ]
  },
  {
   "cell_type": "code",
   "execution_count": 55,
   "metadata": {},
   "outputs": [],
   "source": [
    "def backtracking_alignment(BACKTRACK, n, m, seq1, seq2):\n",
    "    i = n - 1\n",
    "    j = m - 1\n",
    "    \n",
    "    seq1_align = ''\n",
    "    seq2_align = ''\n",
    "    \n",
    "    while BACKTRACK[i][j] != None:\n",
    "        if BACKTRACK[i][j] == (i-1, j):\n",
    "            seq1_align = seq1[i-1] + seq1_align\n",
    "            seq2_align = '-' + seq2_align\n",
    "            \n",
    "        elif BACKTRACK[i][j] == (i, j-1):\n",
    "            seq1_align = '-' + seq1_align\n",
    "            seq2_align = seq2[j-1] + seq2_align\n",
    "            \n",
    "        else:\n",
    "            seq1_align = seq1[i-1] + seq1_align\n",
    "            seq2_align = seq2[j-1] + seq2_align\n",
    "            \n",
    "        (i, j) = BACKTRACK[i][j]\n",
    "        \n",
    "    return (seq1_align, seq2_align)    "
   ]
  },
  {
   "cell_type": "code",
   "execution_count": 56,
   "metadata": {},
   "outputs": [
    {
     "name": "stdout",
     "output_type": "stream",
     "text": [
      "Edit distance:  5\n",
      "Alignment:\n",
      "ATCGTCC--\n",
      "AT-GTTATA\n"
     ]
    }
   ],
   "source": [
    "seq1 = 'ATCGTCC'\n",
    "seq2 = 'ATGTTATA'\n",
    "\n",
    "(distance, seq1_align, seq2_align) = edit_distance(seq1, seq2)\n",
    "\n",
    "print('Edit distance: ', distance)\n",
    "print('Alignment:')\n",
    "print(seq1_align)\n",
    "print(seq2_align)"
   ]
  },
  {
   "cell_type": "markdown",
   "metadata": {},
   "source": [
    "# Needleman-Wunsch algoritam"
   ]
  },
  {
   "cell_type": "markdown",
   "metadata": {},
   "source": [
    "Prethodni algoritmi su podjednako kaznjavali sva nepoklapanja prilikom poravnanja. Moguce je i koristiti tzv. matricu skora koja svakoj kombinaciji nepodudaranja dodeljuje razlicitu kaznu. Za poravnjanje bioloskih sekvenci te velicine se zadaju na osnovu empirijskih verovatnoca da se odgovarajuca mutacija u prirodi dogodi (npr. neki nukleotidi/aminokiseline cesce mutiraju u neke nukleotide/aminokiseline, a u neke druge redje). \n",
    "\n",
    "<u>Rekurzivno resenje problema:</u>\n",
    "\n",
    "$S[i, 0] = i \\cdot gap\\_penalty, \\hspace{0.3cm} \\forall i$\n",
    "\n",
    "$S[0, j] = j \\cdot gap\\_penalty, \\hspace{0.3cm} \\forall j$\n",
    "\n",
    "$S[i, j] = max \\begin{cases} \n",
    "                    S[i-1, j] + gap\\_penalty \\\\ \n",
    "                    S[i, j-1] + gap\\_penalty \\\\ \n",
    "                    S[i-1, j-1] + match\\_score (seq1[i], seq2[j]) \n",
    "               \\end{cases}$"
   ]
  },
  {
   "cell_type": "markdown",
   "metadata": {},
   "source": [
    "Najcesce koriscene matrice skora za aminokiselinske sekvence su:\n",
    "- BLOSUM matrice (BLOcks SUbstitution Matrix)\n",
    "- PAM matrice(Point Accepted Mutation)"
   ]
  },
  {
   "cell_type": "code",
   "execution_count": 44,
   "metadata": {},
   "outputs": [],
   "source": [
    "# kreiranja BLOSUM_mapping-a\n",
    "# to isto treba da znam ? \n",
    "\n",
    "input_file = open('data/BLOSUM62.txt', 'r')\n",
    "\n",
    "lines = input_file.readlines()\n",
    "\n",
    "BLOSUM_mapping = {}\n",
    "\n",
    "i = 0 \n",
    "for line in lines:\n",
    "    if line.startswith('#'):\n",
    "        continue\n",
    "\n",
    "    elems = line.strip().split(' ')\n",
    "    elems = [el for el in elems if el != '']\n",
    "\n",
    "    if i == 0:\n",
    "        AAs = elems\n",
    "    else:\n",
    "        AA = elems[0]\n",
    "        for j in range(1, len(elems)):\n",
    "            BLOSUM_mapping[(AA, AAs[j-1])] = int(elems[j])\n",
    "    i += 1"
   ]
  },
  {
   "cell_type": "code",
   "execution_count": null,
   "metadata": {},
   "outputs": [],
   "source": [
    "BLOSUM_mapping"
   ]
  },
  {
   "cell_type": "code",
   "execution_count": 46,
   "metadata": {},
   "outputs": [],
   "source": [
    "input_file = open('data/BLOSUM62.txt', 'r')\n",
    "\n",
    "lines = input_file.readlines()\n",
    "\n",
    "BLOSUM_mapping = {} \n",
    "\n",
    "i = 0\n",
    "for line in lines:\n",
    "    if line.startswith(\"#\"):\n",
    "        continue\n",
    "       \n",
    "    elems = line.strip().split(' ')\n",
    "    elems = [el for el in elems if el != '']\n",
    "        \n",
    "    if i == 0:          #linija sa oznakama aminokiselina\n",
    "        AAs = elems\n",
    "    else:    \n",
    "        AA = elems[0]\n",
    "        for j in range(1, len(elems)):\n",
    "            BLOSUM_mapping[(AA, AAs[j-1])] = int(elems[j])\n",
    "             \n",
    "    i += 1"
   ]
  },
  {
   "cell_type": "code",
   "execution_count": null,
   "metadata": {},
   "outputs": [],
   "source": [
    "BLOSUM_mapping"
   ]
  },
  {
   "cell_type": "code",
   "execution_count": null,
   "metadata": {},
   "outputs": [],
   "source": [
    "# gap_pentalty uzmi A * ?! \n",
    "# nije mi jasno zasto ali ok \n",
    "# znaci uzimamo A * "
   ]
  },
  {
   "cell_type": "code",
   "execution_count": 52,
   "metadata": {},
   "outputs": [
    {
     "data": {
      "text/plain": [
       "-4"
      ]
     },
     "execution_count": 52,
     "metadata": {},
     "output_type": "execute_result"
    }
   ],
   "source": [
    "gap_penalty = BLOSUM_mapping[('A', '*')]\n",
    "gap_penalty"
   ]
  },
  {
   "cell_type": "code",
   "execution_count": 49,
   "metadata": {},
   "outputs": [],
   "source": [
    "def needleman_wunsch(seq1, seq2, match_score, gap_penalty):\n",
    "    n = len(seq1) + 1\n",
    "    m = len(seq2) + 1\n",
    "    \n",
    "    S = [[0 for j in range(m)] for i in range(n)]\n",
    "    BACKTRACK = [[None for j in range(m)] for i in range(n)]\n",
    "    \n",
    "    for i in range(1, n):\n",
    "        S[i][0] = S[i-1][0] + gap_penalty\n",
    "        BACKTRACK[i][0] = (i-1, 0)\n",
    "        \n",
    "    for j in range(1, m):\n",
    "        S[0][j] = S[0][j-1] + gap_penalty\n",
    "        BACKTRACK[0][j] = (0, j-1)\n",
    "        \n",
    "    for i in range(1, n):\n",
    "        for j in range(1, m):\n",
    "            from_top = S[i-1][j] + gap_penalty\n",
    "            from_left = S[i][j-1] + gap_penalty\n",
    "            from_diagonal = S[i-1][j-1] + match_score[(seq1[i-1], seq2[j-1])]\n",
    "                \n",
    "            S[i][j] = max(from_top, from_left, from_diagonal)\n",
    "            \n",
    "            if S[i][j] == from_top:\n",
    "                BACKTRACK[i][j] = (i-1, j)\n",
    "            elif S[i][j] == from_left:\n",
    "                BACKTRACK[i][j] = (i, j-1)\n",
    "            else:\n",
    "                BACKTRACK[i][j] = (i-1, j-1)\n",
    "                \n",
    "    i = n - 1\n",
    "    j = m - 1\n",
    "    \n",
    "    score = S[n-1][m-1]\n",
    "    seq1_align, seq2_align = backtracking_alignment(BACKTRACK, n, m, seq1, seq2)\n",
    "\n",
    "    \n",
    "    return (score, seq1_align, seq2_align)           "
   ]
  },
  {
   "cell_type": "code",
   "execution_count": 53,
   "metadata": {},
   "outputs": [
    {
     "name": "stdout",
     "output_type": "stream",
     "text": [
      "Score:  8\n",
      "Alignment:\n",
      "ATCGT-C-C\n",
      "AT-GTTATA\n"
     ]
    }
   ],
   "source": [
    "seq1 = 'ATCGTCC'\n",
    "seq2 = 'ATGTTATA'\n",
    "\n",
    "(score, seq1_align, seq2_align) = needleman_wunsch(seq1, seq2, BLOSUM_mapping, gap_penalty)\n",
    "\n",
    "print('Score: ', score)\n",
    "print('Alignment:')\n",
    "print(seq1_align)\n",
    "print(seq2_align)"
   ]
  },
  {
   "cell_type": "markdown",
   "metadata": {},
   "source": [
    "# Needleman-Wunsch algoritam sa boljom prostornom slozenoscu"
   ]
  },
  {
   "cell_type": "markdown",
   "metadata": {},
   "source": [
    "Needleman-Wunsch algoritam ima i vremensku i prostornu slozenost **O(n $\\times$ m)**, gde su n i m duzine sekvenci. Prostornu slozenost mozemo da popravimo tako da bude linearna tako sto cemo umesto da cuvamo celu matricu S cuvati samo tekucu i prethodnu vrstu/kolonu, posto nam vrednosti u tekucoj vrsti/koloni prilikom izracunavanja zavise samo od tekuce vrste/kolone (njenog dela koji je prethodno popunjen) i prethodne vrste/kolone. U zavisnosti od toga da li matricu S popunjavamo po vrstama ili kolonama, cuvacemo tekucu i poslednju vrstu ili tekucu i poslednju kolonu, ne i jedno i drugo!\n",
    "\n",
    "**Medjutim, ovakav algoritam nema mogucnost rekonstrukcije putanje (poravnjanja), vec samo racuna najbolji skor.**"
   ]
  },
  {
   "cell_type": "code",
   "execution_count": 57,
   "metadata": {},
   "outputs": [],
   "source": [
    "import copy"
   ]
  },
  {
   "cell_type": "code",
   "execution_count": 80,
   "metadata": {},
   "outputs": [],
   "source": [
    "def needleman_wunsch_score2(seq1, seq2, match_score, gap_penalty):\n",
    "    n = len(seq1) + 1\n",
    "    m = len(seq2) + 1\n",
    "\n",
    "    # cuvamo prethodnu i tekucu vrstu \n",
    "    S = [[0 for j in range(m)] for i in range(2)]\n",
    "\n",
    "    print(S)\n",
    "    # popunjavamo kao kod edit rastojanja valjda S[i,0] = i + gap_pen, a S[0, j] = j + gap_pen \n",
    "    # S[i, j] = max( S[i-1, j] + gap_pen , S[i, j-1] + gap_pen , S[i-1, j-1] + match_score(seq1[i-1], seq2[j-1])\n",
    "    for j in range(1, m):\n",
    "        S[0][j] = S[0][j-1] + gap_penalty\n",
    "\n",
    "    # sto ovde nije dva nego n ? \n",
    "    for i in range(1, n):\n",
    "        S[1][0] = S[0][0] + gap_penalty\n",
    "\n",
    "    print(S)\n",
    "\n",
    "    for i in range(1, n):\n",
    "        S[1][0] = S[0][0] + gap_penalty # ovo je element prve kolone za koje imamo jednoznacno resenje \n",
    "        \n",
    "        for j in range(1, m):\n",
    "            S[1][j] = max(S[0][j] + gap_penalty, S[1][j-1] + gap_penalty, S[0][j-1] + match_score[(seq1[i-1], seq2[j-1])])\n",
    "        S[0] = copy.copy(S[1]) # tekuca vrsta postaje prethodna vrsta za sledecu iteraciju \n",
    "    return S[1][m-1]"
   ]
  },
  {
   "cell_type": "code",
   "execution_count": null,
   "metadata": {},
   "outputs": [],
   "source": []
  },
  {
   "cell_type": "code",
   "execution_count": 81,
   "metadata": {},
   "outputs": [],
   "source": [
    "def needleman_wunsch_score(seq1, seq2, match_score, gap_penalty):\n",
    "    n = len(seq1) + 1\n",
    "    m = len(seq2) + 1\n",
    "    \n",
    "    #cuvamo prethodnu i tekucu vrstu\n",
    "    S = [[0 for j in range(m)] for i in range(2)]   \n",
    "    \n",
    "    for j in range(1, m):\n",
    "        S[0][j] = S[0][j-1] + gap_penalty\n",
    "        \n",
    "    for i in range(1, n):\n",
    "        S[1][0] = S[0][0] + gap_penalty         #ovo je element prve kolone za koje imamo jednoznacno resenje\n",
    "        \n",
    "        for j in range(1, m):\n",
    "            from_top = S[0][j] + gap_penalty\n",
    "            from_left = S[1][j-1] + gap_penalty\n",
    "            from_diagonal = S[0][j-1] + match_score[(seq1[i-1], seq2[j-1])]\n",
    "                \n",
    "            S[1][j] = max(from_top, from_left, from_diagonal)\n",
    "             \n",
    "        S[0] = copy.copy(S[1])                 #tekuca vrsta postaje prethodna vrsta za sledecu iteraciju\n",
    "        \n",
    "    return S[1][m-1]"
   ]
  },
  {
   "cell_type": "code",
   "execution_count": 82,
   "metadata": {},
   "outputs": [
    {
     "name": "stdout",
     "output_type": "stream",
     "text": [
      "Score:  8\n"
     ]
    }
   ],
   "source": [
    "seq1 = 'ATCGTCC'\n",
    "seq2 = 'ATGTTATA'\n",
    "\n",
    "score = needleman_wunsch_score(seq1, seq2, BLOSUM_mapping, gap_penalty)\n",
    "\n",
    "print('Score: ', score)"
   ]
  },
  {
   "cell_type": "code",
   "execution_count": 83,
   "metadata": {},
   "outputs": [
    {
     "name": "stdout",
     "output_type": "stream",
     "text": [
      "[[0, 0, 0, 0, 0, 0, 0, 0, 0], [0, 0, 0, 0, 0, 0, 0, 0, 0]]\n",
      "[[0, -4, -8, -12, -16, -20, -24, -28, -32], [-4, 0, 0, 0, 0, 0, 0, 0, 0]]\n",
      "Score:  8\n"
     ]
    }
   ],
   "source": [
    "seq1 = 'ATCGTCC'\n",
    "seq2 = 'ATGTTATA'\n",
    "\n",
    "score = needleman_wunsch_score2(seq1, seq2, BLOSUM_mapping, gap_penalty)\n",
    "\n",
    "print('Score: ', score)"
   ]
  },
  {
   "cell_type": "code",
   "execution_count": null,
   "metadata": {},
   "outputs": [],
   "source": []
  },
  {
   "cell_type": "code",
   "execution_count": null,
   "metadata": {},
   "outputs": [],
   "source": []
  }
 ],
 "metadata": {
  "kernelspec": {
   "display_name": "Python 3 (ipykernel)",
   "language": "python",
   "name": "python3"
  },
  "language_info": {
   "codemirror_mode": {
    "name": "ipython",
    "version": 3
   },
   "file_extension": ".py",
   "mimetype": "text/x-python",
   "name": "python",
   "nbconvert_exporter": "python",
   "pygments_lexer": "ipython3",
   "version": "3.10.14"
  }
 },
 "nbformat": 4,
 "nbformat_minor": 4
}
