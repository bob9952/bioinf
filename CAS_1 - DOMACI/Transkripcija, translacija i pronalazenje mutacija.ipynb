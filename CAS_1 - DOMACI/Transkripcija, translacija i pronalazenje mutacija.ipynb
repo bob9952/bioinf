{
 "cells": [
  {
   "cell_type": "markdown",
   "metadata": {},
   "source": [
    "# Transkripcija (DNA -> RNA)"
   ]
  },
  {
   "cell_type": "markdown",
   "metadata": {},
   "source": [
    "U datoteci <code>dna.txt</code> nalazi se sekvenca segmenta sa jednog lanca DNK. Odrediti sekvencu RNK koja se sintetise na osnovu tog segmenta DNK i upisati je u fajl <code>rna.txt</code>."
   ]
  },
  {
   "cell_type": "code",
   "execution_count": 22,
   "metadata": {},
   "outputs": [
    {
     "name": "stdout",
     "output_type": "stream",
     "text": [
      "GTTACTCATCGCATCTATGGAAGCG\n"
     ]
    }
   ],
   "source": [
    "import copy\n",
    "\n",
    "rna = None\n",
    "\n",
    "with open('dna.txt') as f:\n",
    "    dna = f.read().strip()\n",
    "    # \n",
    "    # A → U\n",
    "    # G → C\n",
    "    \n",
    "    # rna = [\"U\" if x == \"A\" else if x     for x in dna]\n",
    "    # i did it like this but i think it can be done faster but lets say it corect\n",
    "    rna_list = list(copy.deepcopy(dna))\n",
    "    for i, x in enumerate(dna):\n",
    "        if x == \"A\":\n",
    "            rna_list[i] = \"U\"\n",
    "        elif x == \"G\":\n",
    "            rna_list[i] = \"C\"\n",
    "    \n",
    "    print(dna)\n",
    "    rna = ''.join(rna_list)\n",
    "    # print(''.join(rna))"
   ]
  },
  {
   "cell_type": "code",
   "execution_count": 23,
   "metadata": {},
   "outputs": [
    {
     "name": "stdout",
     "output_type": "stream",
     "text": [
      "CTTUCTCUTCCCUTCTUTCCUUCCC\n"
     ]
    }
   ],
   "source": [
    "print(rna)"
   ]
  },
  {
   "cell_type": "code",
   "execution_count": null,
   "metadata": {},
   "outputs": [],
   "source": []
  },
  {
   "cell_type": "code",
   "execution_count": null,
   "metadata": {},
   "outputs": [],
   "source": []
  },
  {
   "cell_type": "code",
   "execution_count": null,
   "metadata": {},
   "outputs": [],
   "source": []
  },
  {
   "cell_type": "markdown",
   "metadata": {},
   "source": [
    "# Translacija (RNA -> AA)"
   ]
  },
  {
   "cell_type": "markdown",
   "metadata": {},
   "source": [
    "U datoteci <code>rna.txt</code> nalazi se sekvenca iRNK. Odrediti sekvencu aminokiselina (proteina) koji se sintetise na osnovu date iRNK i upisati je u fajl <code>aa.txt</code>."
   ]
  },
  {
   "cell_type": "code",
   "execution_count": 24,
   "metadata": {},
   "outputs": [],
   "source": [
    "mapping = {\"UUU\":\"F\", \"UUC\":\"F\", \"UUA\":\"L\", \"UUG\":\"L\",\n",
    "           \"UCU\":\"S\", \"UCC\":\"S\", \"UCA\":\"S\", \"UCG\":\"S\",\n",
    "           \"UAU\":\"Y\", \"UAC\":\"Y\", \"UAA\":\"STOP\", \"UAG\":\"STOP\",\n",
    "           \"UGU\":\"C\", \"UGC\":\"C\", \"UGA\":\"STOP\", \"UGG\":\"W\",\n",
    "           \"CUU\":\"L\", \"CUC\":\"L\", \"CUA\":\"L\", \"CUG\":\"L\",\n",
    "           \"CCU\":\"P\", \"CCC\":\"P\", \"CCA\":\"P\", \"CCG\":\"P\",\n",
    "           \"CAU\":\"H\", \"CAC\":\"H\", \"CAA\":\"Q\", \"CAG\":\"Q\",\n",
    "           \"CGU\":\"R\", \"CGC\":\"R\", \"CGA\":\"R\", \"CGG\":\"R\",\n",
    "           \"AUU\":\"I\", \"AUC\":\"I\", \"AUA\":\"I\", \"AUG\":\"M\",\n",
    "           \"ACU\":\"T\", \"ACC\":\"T\", \"ACA\":\"T\", \"ACG\":\"T\",\n",
    "           \"AAU\":\"N\", \"AAC\":\"N\", \"AAA\":\"K\", \"AAG\":\"K\",\n",
    "           \"AGU\":\"S\", \"AGC\":\"S\", \"AGA\":\"R\", \"AGG\":\"R\",\n",
    "           \"GUU\":\"V\", \"GUC\":\"V\", \"GUA\":\"V\", \"GUG\":\"V\",\n",
    "           \"GCU\":\"A\", \"GCC\":\"A\", \"GCA\":\"A\", \"GCG\":\"A\",\n",
    "           \"GAU\":\"D\", \"GAC\":\"D\", \"GAA\":\"E\", \"GAG\":\"E\",\n",
    "           \"GGU\":\"G\", \"GGC\":\"G\", \"GGA\":\"G\", \"GGG\":\"G\"}"
   ]
  },
  {
   "cell_type": "code",
   "execution_count": 26,
   "metadata": {},
   "outputs": [
    {
     "data": {
      "text/plain": [
       "8"
      ]
     },
     "execution_count": 26,
     "metadata": {},
     "output_type": "execute_result"
    }
   ],
   "source": [
    "len(rna) // 3"
   ]
  },
  {
   "cell_type": "code",
   "execution_count": 28,
   "metadata": {},
   "outputs": [
    {
     "data": {
      "text/plain": [
       "25"
      ]
     },
     "execution_count": 28,
     "metadata": {},
     "output_type": "execute_result"
    }
   ],
   "source": [
    "len(rna)"
   ]
  },
  {
   "cell_type": "code",
   "execution_count": 37,
   "metadata": {},
   "outputs": [
    {
     "name": "stdout",
     "output_type": "stream",
     "text": [
      "CAAUGAGUAGCGUAGAUACCUUCGC\n"
     ]
    }
   ],
   "source": [
    "import copy\n",
    "\n",
    "rna = None\n",
    "\n",
    "with open('rna.txt') as f:\n",
    "    dna = f.read().strip()\n",
    "    # \n",
    "    # A → U\n",
    "    # G → C\n",
    "    \n",
    "    # rna = [\"U\" if x == \"A\" else if x     for x in dna]\n",
    "    # i did it like this but i think it can be done faster but lets say it corect\n",
    "    rna_list = list(copy.deepcopy(dna))\n",
    "    # for i, x in enumerate(dna):\n",
    "        #if x == \"A\":\n",
    "         #   rna_list[i] = \"U\"\n",
    "        #elif x == \"G\":\n",
    "        #    rna_list[i] = \"C\"\n",
    "    \n",
    "    print(dna)\n",
    "    rna = ''.join(rna_list)"
   ]
  },
  {
   "cell_type": "code",
   "execution_count": 39,
   "metadata": {},
   "outputs": [
    {
     "name": "stdout",
     "output_type": "stream",
     "text": [
      "C\n",
      "A\n",
      "A\n",
      "Q\n",
      "A\n",
      "A\n",
      "U\n",
      "N\n",
      "A\n",
      "U\n",
      "G\n",
      "M\n",
      "U\n",
      "G\n",
      "A\n",
      "STOP\n",
      "G\n",
      "A\n",
      "G\n",
      "E\n",
      "A\n",
      "G\n",
      "U\n",
      "S\n",
      "G\n",
      "U\n",
      "A\n",
      "V\n",
      "U\n",
      "A\n",
      "G\n",
      "STOP\n",
      "A\n",
      "G\n",
      "C\n",
      "S\n",
      "G\n",
      "C\n",
      "G\n",
      "A\n",
      "C\n",
      "G\n",
      "U\n",
      "R\n",
      "G\n",
      "U\n",
      "A\n",
      "V\n",
      "U\n",
      "A\n",
      "G\n",
      "STOP\n",
      "A\n",
      "G\n",
      "A\n",
      "R\n",
      "G\n",
      "A\n",
      "U\n",
      "D\n",
      "A\n",
      "U\n",
      "A\n",
      "I\n",
      "U\n",
      "A\n",
      "C\n",
      "Y\n",
      "A\n",
      "C\n",
      "C\n",
      "T\n",
      "C\n",
      "C\n",
      "U\n",
      "P\n",
      "C\n",
      "U\n",
      "U\n",
      "L\n",
      "U\n",
      "U\n",
      "C\n",
      "F\n",
      "U\n",
      "C\n",
      "G\n",
      "S\n",
      "C\n",
      "G\n",
      "C\n",
      "R\n",
      "QNMSTOPESVSTOPSARVSTOPRDIYTPLFSRGC\n"
     ]
    }
   ],
   "source": [
    "# 3 po 3 \n",
    "# \n",
    "aa = None\n",
    "\n",
    "rna_list_rna = list(copy.deepcopy(rna))\n",
    "rna_list = list(rna)\n",
    "\n",
    "for i in range(0, len(rna) - 2):\n",
    "    #print(i)\n",
    "    #print(i+1)\n",
    "    #print(i+2)\n",
    "    x1 = rna_list[i]\n",
    "    x2 = rna_list[i+1]\n",
    "    x3 = rna_list[i+2]\n",
    "    print(x1)\n",
    "    print(x2)\n",
    "    print(x3)\n",
    "    \n",
    "    rna_list_rna[i] = mapping[x1 + x2 + x3]\n",
    "\n",
    "    print(rna_list_rna[i])\n",
    "    \n",
    "    # i \n",
    "    # i + 1\n",
    "    # i + 2 \n",
    "\n",
    "print(''.join(rna_list_rna))"
   ]
  },
  {
   "cell_type": "code",
   "execution_count": null,
   "metadata": {},
   "outputs": [],
   "source": []
  },
  {
   "cell_type": "code",
   "execution_count": null,
   "metadata": {},
   "outputs": [],
   "source": []
  },
  {
   "cell_type": "code",
   "execution_count": null,
   "metadata": {},
   "outputs": [],
   "source": []
  },
  {
   "cell_type": "markdown",
   "metadata": {},
   "source": [
    "# Pronalazenje mutacija"
   ]
  },
  {
   "cell_type": "markdown",
   "metadata": {},
   "source": [
    "Promenljiva <code>original_DNA</code> sadrzi originalnu sekvencu segmenata DNK, a promenljiva <code>mutated_DNA</code> sekvencu tog istog segmenta DNK koja ima mutacijame na nekim pozicijama. Definisati klasu <code>Mutations</code> i njen metod <code>compare</code> koji poredi dve sekvence tako sto vraca listu indeksa pozicija na kojima se sekvence razlikuju. Pretpostaviti da su duzine sekvenci koje se porede jednake duzine. Zatim kreirati objekat definisane klase i primeniti ga za poredjenje sekvenci <code>original_DNA</code> i <code>mutated_DNA</code>. "
   ]
  },
  {
   "cell_type": "code",
   "execution_count": 12,
   "metadata": {},
   "outputs": [],
   "source": [
    "original_DNA = 'AGCGTAG'\n",
    "mutated_DNA = 'AGGTTAC'"
   ]
  },
  {
   "cell_type": "code",
   "execution_count": null,
   "metadata": {},
   "outputs": [],
   "source": []
  },
  {
   "cell_type": "code",
   "execution_count": null,
   "metadata": {},
   "outputs": [],
   "source": []
  },
  {
   "cell_type": "code",
   "execution_count": null,
   "metadata": {},
   "outputs": [],
   "source": []
  },
  {
   "cell_type": "code",
   "execution_count": null,
   "metadata": {},
   "outputs": [],
   "source": []
  },
  {
   "cell_type": "code",
   "execution_count": null,
   "metadata": {},
   "outputs": [],
   "source": []
  }
 ],
 "metadata": {
  "kernelspec": {
   "display_name": "Python 3 (ipykernel)",
   "language": "python",
   "name": "python3"
  },
  "language_info": {
   "codemirror_mode": {
    "name": "ipython",
    "version": 3
   },
   "file_extension": ".py",
   "mimetype": "text/x-python",
   "name": "python",
   "nbconvert_exporter": "python",
   "pygments_lexer": "ipython3",
   "version": "3.10.14"
  }
 },
 "nbformat": 4,
 "nbformat_minor": 4
}
