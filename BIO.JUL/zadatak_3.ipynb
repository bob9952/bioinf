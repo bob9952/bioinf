{
 "cells": [
  {
   "cell_type": "markdown",
   "id": "3e2e88a6",
   "metadata": {},
   "source": [
    "Funkcija **needleman_wunsch** pronalazi globalno poravnanje izmedju sekvenci **seq1** i **seq2** koristeci skorove **match_score**, **missmatch_penalty** i **gap_penalty** za bodovanje poravnanja na pojedinacnim pozicijama. "
   ]
  },
  {
   "cell_type": "code",
   "execution_count": 25,
   "id": "cf9804c3",
   "metadata": {},
   "outputs": [],
   "source": [
    "def needleman_wunsch(seq1, seq2, match_score, missmatch_penalty, gap_penalty):\n",
    "    # ======== STUDENTSKI KOD ======== #\n",
    "    n = len(seq1) + 1\n",
    "    m = len(seq2) + 1\n",
    "    # print(n)\n",
    "    # print(m)\n",
    "    \n",
    "    S = [[0 for i in range(m)] for i in range(n)]\n",
    "    # BACKTRACK = dict([(i, 0) for j in range(m)] for i in range(n))\n",
    "    BACKTRACK = [[None for j in range(m)] for i in range(n)]\n",
    "\n",
    "    for i in range(1, n):\n",
    "        S[i][0] = S[i-1][0] + gap_penalty\n",
    "        BACKTRACK[i][0] = (i-1, 0)\n",
    "    \n",
    "    for j in range(1, m):\n",
    "        S[0][j] = S[0][j-1] + gap_penalty\n",
    "        BACKTRACK[0][j] = (0, j-1)\n",
    "\n",
    "    for i in range(1, n):\n",
    "        for j in range(1, m):\n",
    "            from_top = S[i-1][j] + gap_penalty\n",
    "            from_left = S[i][j-1] + gap_penalty\n",
    "            from_diag = S[i-1][j-1] + (match_score if seq1[i-1] == seq2[j-1] else missmatch_penalty)\n",
    "\n",
    "            S[i][j] = max(from_top, from_left, from_diag)\n",
    "            if S[i][j] == from_top:\n",
    "                BACKTRACK[i][j] = (i-1, j)\n",
    "            elif S[i][j] == from_left:\n",
    "                BACKTRACK[i][j] = (i, j-1)\n",
    "            else:\n",
    "                BACKTRACK[i][j] = (i-1, j-1)\n",
    "\n",
    "    score = S[n-1][m-1]\n",
    "    (seq1_align, seq2_align) = backtracking_alignment(BACKTRACK, n, m, seq1, seq2)\n",
    "    # print(S)\n",
    "    # print(BACKTRACK)\n",
    "    \n",
    "    # ================================ #\n",
    "    \n",
    "    return (score, seq1_align, seq2_align)"
   ]
  },
  {
   "cell_type": "markdown",
   "id": "b11f28e2",
   "metadata": {},
   "source": [
    "Pomocna funkcija **backtracking_alignment** rekonstruise putanju (tj. poravnanje) sekvenci **seq1** i **seq2** koja odgovara izracunatom optimalnom globalnom poravnanju na osnovu **BACKTRACK** matrice dimenzije **n** $\\times$ **m**."
   ]
  },
  {
   "cell_type": "code",
   "execution_count": 26,
   "id": "a9f5e26a",
   "metadata": {},
   "outputs": [],
   "source": [
    "def backtracking_alignment(BACKTRACK, n, m, seq1, seq2):\n",
    "    seq1_align = ''\n",
    "    seq2_align = ''\n",
    "    \n",
    "    i = n - 1\n",
    "    j = m - 1\n",
    "    \n",
    "    while BACKTRACK[i][j] != None:\n",
    "        # ======== STUDENTSKI KOD ======== #\n",
    "        if BACKTRACK[i][j] == (i-1, j):\n",
    "            seq1_align = seq1[i-1] + seq1_align \n",
    "            seq2_align = '-' + seq2_align\n",
    "        elif BACKTRACK[i][j] == (i, j-1):\n",
    "            seq1_align = '-' + seq1_align\n",
    "            seq2_align = seq2[j-1] + seq2_align\n",
    "        else:\n",
    "            seq1_align = seq1[i-1] + seq1_align\n",
    "            seq2_align = seq2[j-1] + seq2_align\n",
    "    \n",
    "        # ================================ #\n",
    "            \n",
    "        (i, j) = BACKTRACK[i][j]\n",
    "        \n",
    "    return (seq1_align, seq2_align)    "
   ]
  },
  {
   "cell_type": "code",
   "execution_count": 28,
   "id": "61215629",
   "metadata": {},
   "outputs": [
    {
     "name": "stdout",
     "output_type": "stream",
     "text": [
      "Score:  1\n",
      "Alignment:\n",
      "AGTACGCA\n",
      "--TATGC-\n"
     ]
    }
   ],
   "source": [
    "gap_penalty = -2\n",
    "missmatch_penalty = -1\n",
    "match_score = 2\n",
    "\n",
    "seq1 = 'AGTACGCA'\n",
    "seq2 = 'TATGC'\n",
    "\n",
    "(score, seq1_align, seq2_align) = needleman_wunsch(seq1, seq2, match_score, missmatch_penalty, gap_penalty)\n",
    "\n",
    "print('Score: ', score)\n",
    "print('Alignment:')\n",
    "print(seq1_align)\n",
    "print(seq2_align)\n",
    "\n",
    "# -6\n",
    "# 8 \n",
    "# 2 \n",
    "# -1 \n",
    "# 1 <- ovo je tacno"
   ]
  },
  {
   "cell_type": "code",
   "execution_count": null,
   "id": "694ce79e-321a-410f-b974-dcae4b6acc18",
   "metadata": {},
   "outputs": [],
   "source": []
  }
 ],
 "metadata": {
  "kernelspec": {
   "display_name": "Python 3 (ipykernel)",
   "language": "python",
   "name": "python3"
  },
  "language_info": {
   "codemirror_mode": {
    "name": "ipython",
    "version": 3
   },
   "file_extension": ".py",
   "mimetype": "text/x-python",
   "name": "python",
   "nbconvert_exporter": "python",
   "pygments_lexer": "ipython3",
   "version": "3.10.14"
  }
 },
 "nbformat": 4,
 "nbformat_minor": 5
}
