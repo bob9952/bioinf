{
 "cells": [
  {
   "cell_type": "markdown",
   "id": "48db896a",
   "metadata": {},
   "source": [
    "Klasa **Graph** koja se koristi za predstavljanje i izgradnju filogenetskog stabla."
   ]
  },
  {
   "cell_type": "code",
   "execution_count": 15,
   "id": "e4849fda",
   "metadata": {},
   "outputs": [],
   "source": [
    "class Graph:\n",
    "    #konstruktorska funkcija (metod)\n",
    "    def __init__(self, adjacency_list):\n",
    "        self.adjacency_list = adjacency_list\n",
    "        \n",
    "    #metod koji vraca stringovsku reprezentaciju grafa    \n",
    "    def __str__(self):\n",
    "        return f'{self.adjacency_list}'\n",
    "    \n",
    "    #metod koji dodaje novi cvor u graf\n",
    "    def add_node(self, v):\n",
    "        if v not in self.adjacency_list:\n",
    "            self.adjacency_list[v] = []\n",
    "    \n",
    "    #metod koji vraca listu suseda cvora v u grafu\n",
    "    def get_neighbors(self, v):\n",
    "        return self.adjacency_list[v]\n",
    "    \n",
    "    #metod koji dodaje u graf suseda cvora node sa oznakom neighbor na udaljenosti distance\n",
    "    def add_neighbor(self, node, neighbor, distance, undirected=True):\n",
    "        self.adjacency_list[node].append((neighbor, distance))\n",
    "        \n",
    "        if undirected:\n",
    "            if neighbor not in self.adjacency_list:\n",
    "                self.adjacency_list[neighbor] = []\n",
    "              \n",
    "            self.adjacency_list[neighbor].append((node, distance))\n",
    "        \n",
    "    #metod koji uklanja iz grafa suseda cvora node sa oznakom neighbor na udaljenosti distance    \n",
    "    def remove_neighbor(self, node, neighbor, distance, undirected=True):\n",
    "        self.adjacency_list[node].remove((neighbor, distance))\n",
    "        \n",
    "        if undirected:\n",
    "            self.adjacency_list[neighbor].remove((node, distance))    "
   ]
  },
  {
   "cell_type": "markdown",
   "id": "7a1b5f60",
   "metadata": {},
   "source": [
    "Pomocna klasa za reprezentaciju klastera UPGMA algoritma."
   ]
  },
  {
   "cell_type": "code",
   "execution_count": 61,
   "id": "e0013e12",
   "metadata": {},
   "outputs": [],
   "source": [
    "class Cluster:\n",
    "    #konstruktorska funkcija (metod)\n",
    "    def __init__(self, elements=[], age = 0):          \n",
    "        self.age = age                                \n",
    "        self.elements = elements                   \n",
    "        \n",
    "    #metod koji vraca stringovsku reprezentaciju klastera    \n",
    "    def __str__(self):\n",
    "        return f'{self.elements}:{self.age}'\n",
    "        \n",
    "    #metod koji izracunava udaljenost datog klastera u\n",
    "    #odnosu na drugi klaster prema matrici rastojanja D\n",
    "    def distance(self, other_cluster, D):\n",
    "        # ======== STUDENTSKI KOD ======== #\n",
    "        # distance(C1, C2) = suma ( D[i][j] ) / |C1| * |C2|\n",
    "        total_dist = 0\n",
    "        # n = len(D[0])\n",
    "        \n",
    "        for el_i in self.elements:\n",
    "            for el_j in other_cluster.elements:\n",
    "                total_dist += D[el_i][el_j]\n",
    "\n",
    "        total_dist = total_dist / (len(self.elements) * len(other_cluster.elements))\n",
    "        return total_dist\n",
    "        # ================================ #\n",
    "    \n",
    "    #metod koji vrsi spajanje datog klastera sa drugim klasterom u novi klaster \n",
    "    def merge(self, other_cluster, D):\n",
    "        # ======== STUDENTSKI KOD ======== #\n",
    "        # e ovo je zanimljivo ? \n",
    "        # kako se radi spajanje dva klastera ? \n",
    "        # kontam da se pravi novi klaster \n",
    "        new_elements = self.elements + other_cluster.elements \n",
    "        new_age = self.distance(other_cluster, D) / 2\n",
    "        return Cluster(new_elements, new_age)\n",
    "        # ================================ #"
   ]
  },
  {
   "cell_type": "markdown",
   "id": "bbd073f8",
   "metadata": {},
   "source": [
    "Funkcija **two_closest_clusters** pronalazi dva klastera iz liste klastera **clusters** koji su na najmanjoj udaljenosti prema matrici rastojanja **D**."
   ]
  },
  {
   "cell_type": "code",
   "execution_count": 68,
   "id": "ef2017f1",
   "metadata": {},
   "outputs": [],
   "source": [
    "def two_closest_clusters(clusters, D):\n",
    "    min_ci = None\n",
    "    min_cj = None\n",
    "    min_distance = float('inf')\n",
    "        \n",
    "    for c_i in clusters:\n",
    "        for c_j in clusters:\n",
    "            if c_i != c_j:\n",
    "                current_distance = c_i.distance(c_j, D)\n",
    "                if current_distance < min_distance:\n",
    "                    min_distance = current_distance\n",
    "                    min_ci = c_i\n",
    "                    min_cj = c_j\n",
    "    print(f'min_distance {min_distance}')\n",
    "    return min_ci, min_cj"
   ]
  },
  {
   "cell_type": "markdown",
   "id": "f3e7ca30",
   "metadata": {},
   "source": [
    "Funkcija **UPGMA** konstruise filogenetsko stablo koje odgovara matrici rastojanja **D** dimenzije **n** $\\times$ **n** primenom *UPGMA algoritma*."
   ]
  },
  {
   "cell_type": "code",
   "execution_count": 69,
   "id": "313d2b38",
   "metadata": {},
   "outputs": [],
   "source": [
    "def UPGMA(D, n):\n",
    "    # ======== STUDENTSKI KOD ======== #\n",
    "    # na pocetku su klasteri jednoclani \n",
    "    # treba mi adj_matrix \n",
    "    # napravim klaster ? \n",
    "    clusters = [Cluster([i], 0) for i in range(n)] \n",
    "    adj_matrix = dict([(i, []) for i in range(n)])\n",
    "    tree = Graph(adj_matrix)\n",
    "\n",
    "    while len(clusters) > 1:\n",
    "        # nadjem dva najbliza klastera i spojim ih \n",
    "        c_i, c_j = two_closest_clusters(clusters, D)\n",
    "        print(f'c_i {c_i}, c_j {c_j}')\n",
    "        \n",
    "        c_new = c_i.merge(c_j, D)\n",
    "        print(f'c_new {c_new}')\n",
    "            \n",
    "        # update za cvor i grane ?\n",
    "        tree.add_node(str(c_new))\n",
    "        #     def add_neighbor(self, node, neighbor, distance, undirected=True):\n",
    "        tree.add_neighbor(str(c_new), str(c_i), distance=c_new.age - c_i.age, undirected=False)\n",
    "        tree.add_neighbor(str(c_new), str(c_j), distance=c_new.age - c_j.age, undirected=False)\n",
    "        \n",
    "        # izbaci ova dva stara\n",
    "        clusters.remove(c_i)\n",
    "        clusters.remove(c_j)\n",
    "        # dodaj novi klaster\n",
    "        clusters.append(c_new) \n",
    "\n",
    "    \n",
    "    # sta vracam uoposte ? u filogenoj je tree[0] i tree \n",
    "    root = clusters[0]\n",
    "    return tree, root\n",
    "    # ================================ #"
   ]
  },
  {
   "cell_type": "code",
   "execution_count": 70,
   "id": "94de2f17",
   "metadata": {},
   "outputs": [
    {
     "name": "stdout",
     "output_type": "stream",
     "text": [
      "min_distance 2.0\n",
      "c_i [2]:0, c_j [3]:0\n",
      "c_new [2, 3]:1.0\n",
      "min_distance 3.0\n",
      "c_i [0]:0, c_j [1]:0\n",
      "c_new [0, 1]:1.5\n",
      "min_distance 4.0\n",
      "c_i [2, 3]:1.0, c_j [0, 1]:1.5\n",
      "c_new [2, 3, 0, 1]:2.0\n",
      "Root =  [2, 3, 0, 1]:2.0\n",
      "0\n",
      "Neighbors:  []\n",
      "1\n",
      "Neighbors:  []\n",
      "2\n",
      "Neighbors:  []\n",
      "3\n",
      "Neighbors:  []\n",
      "[2, 3]:1.0\n",
      "Neighbors:  [('[2]:0', 1.0), ('[3]:0', 1.0)]\n",
      "[0, 1]:1.5\n",
      "Neighbors:  [('[0]:0', 1.5), ('[1]:0', 1.5)]\n",
      "[2, 3, 0, 1]:2.0\n",
      "Neighbors:  [('[2, 3]:1.0', 1.0), ('[0, 1]:1.5', 0.5)]\n"
     ]
    }
   ],
   "source": [
    "D = [[0, 3, 4, 3],\n",
    "     [3, 0, 4, 5],\n",
    "     [4, 4, 0, 2],\n",
    "     [3, 5, 2, 0]]\n",
    "n = 4\n",
    "\n",
    "(tree, root) = UPGMA(D, n)\n",
    "\n",
    "print('Root = ',root)\n",
    "for node in tree.adjacency_list:\n",
    "    print(node)\n",
    "    print('Neighbors: ', tree.adjacency_list[node])"
   ]
  },
  {
   "cell_type": "code",
   "execution_count": null,
   "id": "9a721ab5-5822-4d8f-a0bb-a74065ba0c31",
   "metadata": {},
   "outputs": [],
   "source": []
  },
  {
   "cell_type": "code",
   "execution_count": null,
   "id": "5c0b63d2-464f-4609-81ca-e58c53ddbb75",
   "metadata": {},
   "outputs": [],
   "source": []
  }
 ],
 "metadata": {
  "kernelspec": {
   "display_name": "Python 3 (ipykernel)",
   "language": "python",
   "name": "python3"
  },
  "language_info": {
   "codemirror_mode": {
    "name": "ipython",
    "version": 3
   },
   "file_extension": ".py",
   "mimetype": "text/x-python",
   "name": "python",
   "nbconvert_exporter": "python",
   "pygments_lexer": "ipython3",
   "version": "3.10.14"
  }
 },
 "nbformat": 4,
 "nbformat_minor": 5
}
