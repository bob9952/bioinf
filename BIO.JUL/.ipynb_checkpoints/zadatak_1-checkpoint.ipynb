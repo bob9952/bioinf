{
 "cells": [
  {
   "cell_type": "markdown",
   "metadata": {},
   "source": [
    "Funkcija **symbol_to_number** vrsi preslikavanje simbola nukleotida u odgovarajuce numericke vrednost - cifre iz brojevnog sistema sa osnovom 4. "
   ]
  },
  {
   "cell_type": "code",
   "execution_count": null,
   "metadata": {},
   "outputs": [],
   "source": [
    "def symbol_to_number(symbol):\n",
    "    mapping = {\n",
    "        'A' : 0,   'a' : 0,        \n",
    "        'T' : 1,   't' : 1,\n",
    "        'C' : 2,   'c' : 2,\n",
    "        'G' : 3,   'g' : 3\n",
    "    }\n",
    "    \n",
    "    return mapping[symbol]"
   ]
  },
  {
   "cell_type": "markdown",
   "metadata": {},
   "source": [
    "Funkcija **pattern_to_number** vrsi preslikavanje nukleotidne sekvence **pattern** u odgovarajuci numericku vrednost."
   ]
  },
  {
   "cell_type": "code",
   "execution_count": null,
   "metadata": {},
   "outputs": [],
   "source": [
    "def pattern_to_number(pattern):\n",
    "    if(len(pattern) == 1):\n",
    "        return symbol_to_number(pattern)\n",
    "    else:\n",
    "        last_symbol = pattern[-1]\n",
    "        return pattern_to_number(pattern[:-1])*4 + symbol_to_number(last_symbol) "
   ]
  },
  {
   "cell_type": "markdown",
   "metadata": {},
   "source": [
    "Funkcija **number_to_symbol** za datu cifru iz sistema sa osnovom 4 vraca odgovarajuci simbol nukleotida."
   ]
  },
  {
   "cell_type": "code",
   "execution_count": null,
   "metadata": {},
   "outputs": [],
   "source": [
    "def number_to_symbol(number):\n",
    "    mapping = {\n",
    "        0 : 'A',\n",
    "        1 : 'T',\n",
    "        2 : 'C',\n",
    "        3 : 'G'\n",
    "    }\n",
    "    \n",
    "    return mapping[number]"
   ]
  },
  {
   "cell_type": "markdown",
   "metadata": {},
   "source": [
    "Funkcija **number_to_pattern** prevodi datu numericku vrednost (**number**) u nukleotidnu sekvencu duzine **k**."
   ]
  },
  {
   "cell_type": "code",
   "execution_count": null,
   "metadata": {},
   "outputs": [],
   "source": [
    "def number_to_pattern(number, k):\n",
    "    # ======== STUDENTSKI KOD ======== #\n",
    "    \n",
    "    \n",
    "    # ================================ #"
   ]
  },
  {
   "cell_type": "markdown",
   "metadata": {},
   "source": [
    "Funkcija **computing_frequencies** formira niz brojaca za svaki od mogucih **k**-grama i postavlja im vrednosti na broj pojavljivanja odgovarajućeg **k**-grama u okviru niske **text**. "
   ]
  },
  {
   "cell_type": "code",
   "execution_count": null,
   "metadata": {},
   "outputs": [],
   "source": [
    "def computing_frequencies(text, k):\n",
    "    # ======== STUDENTSKI KOD ======== #\n",
    "    \n",
    "    \n",
    "    # ================================ #"
   ]
  },
  {
   "cell_type": "markdown",
   "metadata": {},
   "source": [
    "Funkcija **faster_frequent_words** pronalazi najzastupljenije podsekvence duzine **k** u okviru niske **text**."
   ]
  },
  {
   "cell_type": "code",
   "execution_count": null,
   "metadata": {},
   "outputs": [],
   "source": [
    "def faster_frequent_words(text, k):\n",
    "    most_frequent_patterns = set([])\n",
    "    \n",
    "    # ======== STUDENTSKI KOD ======== #\n",
    "    \n",
    "    \n",
    "    # ================================ #\n",
    "    \n",
    "    return list(most_frequent_patterns)"
   ]
  },
  {
   "cell_type": "code",
   "execution_count": null,
   "metadata": {},
   "outputs": [],
   "source": [
    "text = 'CATAAATTTCGTATGTATCAAAATTTTGTTACTATCACATAAATTTCGTATGTATCAAAATTTTGTTACTATCA'\n",
    "k = 6\n",
    "\n",
    "print(faster_frequent_words(text, k))"
   ]
  }
 ],
 "metadata": {
  "kernelspec": {
   "display_name": "Python 3",
   "language": "python",
   "name": "python3"
  },
  "language_info": {
   "codemirror_mode": {
    "name": "ipython",
    "version": 3
   },
   "file_extension": ".py",
   "mimetype": "text/x-python",
   "name": "python",
   "nbconvert_exporter": "python",
   "pygments_lexer": "ipython3",
   "version": "3.8.10"
  }
 },
 "nbformat": 4,
 "nbformat_minor": 5
}
