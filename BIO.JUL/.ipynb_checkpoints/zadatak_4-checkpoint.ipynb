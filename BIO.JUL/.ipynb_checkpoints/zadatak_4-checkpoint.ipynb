{
 "cells": [
  {
   "cell_type": "markdown",
   "metadata": {},
   "source": [
    "Klasa **TrieNode** definise pojedinacne cvorove prefiksnog stabla."
   ]
  },
  {
   "cell_type": "code",
   "execution_count": null,
   "metadata": {},
   "outputs": [],
   "source": [
    "class TrieNode:\n",
    "    def __init__(self, label):                    \n",
    "        self.label = label          \n",
    "        self.neighbors = {}        \n",
    "        self.is_leaf = True         \n",
    "        \n",
    "    def add_neighbor(self, character):\n",
    "        self.is_leaf = False\n",
    "        self.neighbors[character] = TrieNode(self.label + character)\n",
    "        \n",
    "    def has_neighbor(self, character):\n",
    "        if character in self.neighbors:\n",
    "            return True\n",
    "        else:\n",
    "            return False\n",
    "        \n",
    "    def get_neighbor(self, character):\n",
    "        if self.has_neighbor(character):\n",
    "            return self.neighbors[character]\n",
    "        else:\n",
    "            return None\n",
    "        \n",
    "    def get_neighbors(self):\n",
    "        return self.neighbors"
   ]
  },
  {
   "cell_type": "markdown",
   "metadata": {},
   "source": [
    "Klasa **Trie** definise prefiksno stablo kao i algoritam pretrage sekvence nad njime."
   ]
  },
  {
   "cell_type": "code",
   "execution_count": null,
   "metadata": {},
   "outputs": [],
   "source": [
    "class Trie:\n",
    "    #konstruktorska funkcija (metod) koja za datu listu niski patterns pravi prefiksno stablo\n",
    "    def __init__(self, patterns):\n",
    "        self.root = TrieNode('')\n",
    "    \n",
    "        for pattern in patterns:\n",
    "            # ======== STUDENTSKI KOD ======== #\n",
    "    \n",
    "    \n",
    "            # ================================ #\n",
    "    \n",
    "    #metod koji pokusava da upari sablone iz prefiksnog stabla kao prefikse niske sequence\n",
    "    #metod treba da vrati upareni sablon iz prefiksnog stabla sa prefiksom niske sequence ili None\n",
    "    def prefix_trie_matching(self, sequence):\n",
    "        # ======== STUDENTSKI KOD ======== #\n",
    "    \n",
    "    \n",
    "        # ================================ # \n",
    "        \n",
    "    #metod koji pronalazi sva uparivanja sablona iz prefiksnog stabla unutar niske sequence\n",
    "    #metod treba da vrati listu svih uparenih sablona zajedno sa pozicijama na kojima oni pocinju u niski sequence\n",
    "    def trie_matching(self, sequence):\n",
    "        # ======== STUDENTSKI KOD ======== #\n",
    "    \n",
    "    \n",
    "        # ================================ #"
   ]
  },
  {
   "cell_type": "code",
   "execution_count": null,
   "metadata": {},
   "outputs": [],
   "source": [
    "patterns = ['ACCG', 'CTCT', 'GGA', 'TATA', 'ATG']\n",
    "sequence = 'ATATGCTCTTGCTAGATGTGCTATA'\n",
    "\n",
    "trie = Trie(patterns)\n",
    "trie.trie_matching()"
   ]
  }
 ],
 "metadata": {
  "kernelspec": {
   "display_name": "Python 3",
   "language": "python",
   "name": "python3"
  },
  "language_info": {
   "codemirror_mode": {
    "name": "ipython",
    "version": 3
   },
   "file_extension": ".py",
   "mimetype": "text/x-python",
   "name": "python",
   "nbconvert_exporter": "python",
   "pygments_lexer": "ipython3",
   "version": "3.8.10"
  }
 },
 "nbformat": 4,
 "nbformat_minor": 5
}
