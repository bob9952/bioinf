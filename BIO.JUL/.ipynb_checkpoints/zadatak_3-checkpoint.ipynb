{
 "cells": [
  {
   "cell_type": "markdown",
   "metadata": {},
   "source": [
    "Funkcija **needleman_wunsch** pronalazi globalno poravnanje izmedju sekvenci **seq1** i **seq2** koristeci skorove **match_score**, **missmatch_penalty** i **gap_penalty** za bodovanje poravnanja na pojedinacnim pozicijama. "
   ]
  },
  {
   "cell_type": "code",
   "execution_count": null,
   "metadata": {},
   "outputs": [],
   "source": [
    "def needleman_wunsch(seq1, seq2, match_score, missmatch_penalty, gap_penalty):\n",
    "    # ======== STUDENTSKI KOD ======== #\n",
    "    \n",
    "    \n",
    "    # ================================ #\n",
    "    \n",
    "    return (score, seq1_align, seq2_align)"
   ]
  },
  {
   "cell_type": "markdown",
   "metadata": {},
   "source": [
    "Pomocna funkcija **backtracking_alignment** rekonstruise putanju (tj. poravnanje) sekvenci **seq1** i **seq2** koja odgovara izracunatom optimalnom globalnom poravnanju na osnovu **BACKTRACK** matrice dimenzije **n** $\\times$ **m**."
   ]
  },
  {
   "cell_type": "code",
   "execution_count": null,
   "metadata": {},
   "outputs": [],
   "source": [
    "def backtracking_alignment(BACKTRACK, n, m, seq1, seq2):\n",
    "    seq1_align = ''\n",
    "    seq2_align = ''\n",
    "    \n",
    "    i = n - 1\n",
    "    j = m - 1\n",
    "    \n",
    "    while BACKTRACK[i][j] != None:\n",
    "        # ======== STUDENTSKI KOD ======== #\n",
    "    \n",
    "    \n",
    "        # ================================ #\n",
    "            \n",
    "        (i, j) = BACKTRACK[i][j]\n",
    "        \n",
    "    return (seq1_align, seq2_align)    "
   ]
  },
  {
   "cell_type": "code",
   "execution_count": null,
   "metadata": {},
   "outputs": [],
   "source": [
    "gap_penalty = -2\n",
    "missmatch_penalty = -1\n",
    "match_score = 2\n",
    "\n",
    "seq1 = 'AGTACGCA'\n",
    "seq2 = 'TATGC'\n",
    "\n",
    "(score, seq1_align, seq2_align) = needleman_wunsch(seq1, seq2, match_score, missmatch_penalty, gap_penalty)\n",
    "\n",
    "print('Score: ', score)\n",
    "print('Alignment:')\n",
    "print(seq1_align)\n",
    "print(seq2_align)"
   ]
  }
 ],
 "metadata": {
  "kernelspec": {
   "display_name": "Python 3",
   "language": "python",
   "name": "python3"
  },
  "language_info": {
   "codemirror_mode": {
    "name": "ipython",
    "version": 3
   },
   "file_extension": ".py",
   "mimetype": "text/x-python",
   "name": "python",
   "nbconvert_exporter": "python",
   "pygments_lexer": "ipython3",
   "version": "3.8.10"
  }
 },
 "nbformat": 4,
 "nbformat_minor": 5
}
