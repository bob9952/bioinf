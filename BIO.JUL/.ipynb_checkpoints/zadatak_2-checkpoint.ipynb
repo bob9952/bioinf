{
 "cells": [
  {
   "cell_type": "markdown",
   "metadata": {},
   "source": [
    "Tabela masa aminokiselina, uključujući masu 0 \"praznog\" peptida:"
   ]
  },
  {
   "cell_type": "code",
   "execution_count": null,
   "metadata": {},
   "outputs": [],
   "source": [
    "amino_acid_masses = {\n",
    "        '': 0,\n",
    "        'G': 57,\n",
    "        'A': 71,\n",
    "        'S': 87,\n",
    "        'P': 97,\n",
    "        'V': 99,\n",
    "        'T': 101,\n",
    "        'C': 103,\n",
    "        'I': 113,\n",
    "        'L': 113,\n",
    "        'N': 114,\n",
    "        'D': 115,\n",
    "        'K': 128,\n",
    "        'Q': 128,\n",
    "        'E': 129,\n",
    "        'M': 131,\n",
    "        'H': 137,\n",
    "        'F': 147,\n",
    "        'R': 156,\n",
    "        'Y': 163,\n",
    "        'W': 186,\n",
    "    }"
   ]
  },
  {
   "cell_type": "markdown",
   "metadata": {},
   "source": [
    "Funkcija **linear_spectrum** izracunava teorijski *linearni* spekrar za dati peptid **peptide**."
   ]
  },
  {
   "cell_type": "code",
   "execution_count": null,
   "metadata": {},
   "outputs": [],
   "source": [
    "def linear_spectrum(peptide):\n",
    "    n = len(peptide)\n",
    "    \n",
    "    prefix_mass = [0 for i in range(n+1)]\n",
    "    \n",
    "    for i in range(n):\n",
    "        aa = peptide[i]\n",
    "        prefix_mass[i+1] = prefix_mass[i] + amino_acid_masses[aa]\n",
    "        \n",
    "    spectrum = [0]\n",
    "    \n",
    "    for i in range(n):                 \n",
    "        for j in range(i+1, n+1):       \n",
    "            spectrum.append(prefix_mass[j] - prefix_mass[i])\n",
    "            \n",
    "    spectrum.sort()\n",
    "    \n",
    "    return spectrum"
   ]
  },
  {
   "cell_type": "markdown",
   "metadata": {},
   "source": [
    "Funkcija **cyclic_spectrum** izracunava teorijski *ciklicni* spektar za dati ciklopeptid **peptide**."
   ]
  },
  {
   "cell_type": "code",
   "execution_count": null,
   "metadata": {},
   "outputs": [],
   "source": [
    "def cyclic_spectrum(peptide):\n",
    "    n = len(peptide)\n",
    "    \n",
    "    prefix_mass = [0 for i in range(n+1)]\n",
    "    \n",
    "    for i in range(n):\n",
    "        aa = peptide[i]\n",
    "        prefix_mass[i+1] = prefix_mass[i] + amino_acid_masses[aa]\n",
    "        \n",
    "    spectrum = [0]\n",
    "    \n",
    "    # ======== STUDENTSKI KOD ======== #\n",
    "    \n",
    "    \n",
    "    # ================================ #\n",
    "                \n",
    "    spectrum.sort()\n",
    "    \n",
    "    return spectrum"
   ]
  },
  {
   "cell_type": "markdown",
   "metadata": {},
   "source": [
    "Funkcija **extend** na svaki peptid iz liste **peptides** nadovezuje po jednu aminokiselinu (po 20 kombinacija za svaku od 20 aminokiselina) i vraća listu svih tako dobijenih proširenja peptida."
   ]
  },
  {
   "cell_type": "code",
   "execution_count": null,
   "metadata": {},
   "outputs": [],
   "source": [
    "def extend(peptides):\n",
    "    extended_peptides = []\n",
    "    \n",
    "    for peptide in peptides:\n",
    "        for aa in amino_acid_masses.keys():\n",
    "            if aa != \"\":\n",
    "                extended_peptides.append(peptide + aa)\n",
    "                \n",
    "    return extended_peptides "
   ]
  },
  {
   "cell_type": "markdown",
   "metadata": {},
   "source": [
    "Funkcija **mass** izracunava masu peptida **peptide**."
   ]
  },
  {
   "cell_type": "code",
   "execution_count": null,
   "metadata": {},
   "outputs": [],
   "source": [
    "def mass(peptide):\n",
    "    total_mass = 0\n",
    "    \n",
    "    for aa in peptide:\n",
    "        total_mass += amino_acid_masses[aa]\n",
    "        \n",
    "    return total_mass    "
   ]
  },
  {
   "cell_type": "markdown",
   "metadata": {},
   "source": [
    "Funkcija **consistent** proverava da li je linearni spekrar datog peptida **peptide** konzistentan sa datim (ciklicnim) spektrom **target_spectrum**."
   ]
  },
  {
   "cell_type": "code",
   "execution_count": null,
   "metadata": {},
   "outputs": [],
   "source": [
    "def consistent(peptide, target_spectrum):\n",
    "    peptide_spectrum = linear_spectrum(peptide)\n",
    "    \n",
    "    i = 0\n",
    "    j = 0\n",
    "    n = len(peptide_spectrum)\n",
    "    m = len(target_spectrum)\n",
    "    \n",
    "    # ======== STUDENTSKI KOD ======== #\n",
    "    \n",
    "    \n",
    "    # ================================ #"
   ]
  },
  {
   "cell_type": "markdown",
   "metadata": {},
   "source": [
    "Funkcija **cyclopeptide_sequencing** pronalazi sve moguće peptide ciji je ciklicni spektar jednak datom ciklicnom spektru **target_spectrum**."
   ]
  },
  {
   "cell_type": "code",
   "execution_count": null,
   "metadata": {},
   "outputs": [],
   "source": [
    "def cyclopeptide_sequencing(target_spectrum):\n",
    "    peptides = ['']         \n",
    "    results = []            \n",
    "    \n",
    "    target_peptide_mass = target_spectrum[-1]\n",
    "    \n",
    "    while len(peptides) > 0:\n",
    "        extended_peptides = extend(peptides)\n",
    "        \n",
    "        consistent_peptides = []\n",
    "        \n",
    "        for peptide in extended_peptides:\n",
    "            if mass(peptide) == target_peptide_mass:\n",
    "                if cyclic_spectrum(peptide) == target_spectrum:\n",
    "                    results.append(peptide)\n",
    "            else:\n",
    "                if consistent(peptide, target_spectrum):\n",
    "                    consistent_peptides.append(peptide)\n",
    "                \n",
    "        peptides = consistent_peptides\n",
    "        \n",
    "    return results   "
   ]
  },
  {
   "cell_type": "markdown",
   "metadata": {},
   "source": [
    "Funkcija **score** racuna u kojoj meri se spektri **peptide_spectrum** i **target_spectrum** saglasni, tj. koliko poklapanja imaju."
   ]
  },
  {
   "cell_type": "code",
   "execution_count": null,
   "metadata": {},
   "outputs": [],
   "source": [
    "def score(peptide_spectrum, target_spectrum):\n",
    "    total_score = 0\n",
    "    \n",
    "    i = 0\n",
    "    j = 0\n",
    "    n = len(peptide_spectrum)\n",
    "    m = len(target_spectrum)\n",
    "    \n",
    "    while i < n and j < m:\n",
    "        if peptide_spectrum[i] == target_spectrum[j]:\n",
    "            i += 1\n",
    "            j += 1\n",
    "            total_score += 1\n",
    "        elif peptide_spectrum[i] > target_spectrum[j]:\n",
    "            j += 1\n",
    "        else:\n",
    "            i += 1\n",
    "        \n",
    "    return total_score"
   ]
  },
  {
   "cell_type": "markdown",
   "metadata": {},
   "source": [
    "Funkcije **linear_score** i **cyclic_score** racunaju poklapanje *linearnog* odnosno *ciklicnog* spektra datog peptida **peptide** sa spektrom **target_spectrum**."
   ]
  },
  {
   "cell_type": "code",
   "execution_count": null,
   "metadata": {},
   "outputs": [],
   "source": [
    "def linear_score(peptide, target_spectrum):\n",
    "    peptide_linear_spectrum = linear_spectrum(peptide)\n",
    "    return score(peptide_linear_spectrum, target_spectrum)"
   ]
  },
  {
   "cell_type": "code",
   "execution_count": null,
   "metadata": {},
   "outputs": [],
   "source": [
    "def cyclic_score(peptide, target_spectrum):\n",
    "    peptide_cyclic_spectrum = cyclic_spectrum(peptide)\n",
    "    return score(peptide_cyclic_spectrum, target_spectrum)"
   ]
  },
  {
   "cell_type": "markdown",
   "metadata": {},
   "source": [
    "Funkcija **trim** vrsi skracivanje liste peptida **peptides** tako sto ih prvo rangira na osnovu linearnog skora u odnosu na spektar **target_spectrum**, a zatim odbacuje sve one koji su imali manji skor od skora **N**-tog po redu."
   ]
  },
  {
   "cell_type": "code",
   "execution_count": null,
   "metadata": {},
   "outputs": [],
   "source": [
    "def trim(peptides, target_spectrum, N):\n",
    "    if len(peptides) <= N:\n",
    "        return peptides\n",
    "    \n",
    "    leaderboard = []           \n",
    "    \n",
    "    for peptide in peptides:\n",
    "        peptide_score = linear_score(peptide, target_spectrum)\n",
    "        leaderboard.append((peptide_score, peptide))     \n",
    "        \n",
    "    leaderboard.sort(reverse=True)    \n",
    "    \n",
    "    for i in range(N, len(leaderboard)):\n",
    "        if leaderboard[i][0] < leaderboard[N-1][0]:\n",
    "            break\n",
    "    \n",
    "    trimmed_leaderboard = leaderboard[:i]\n",
    "    return [el[1] for el in trimmed_leaderboard]"
   ]
  },
  {
   "cell_type": "markdown",
   "metadata": {},
   "source": [
    "Funkcija **leaderboard_cyclopeptide_sequencing** pronalazi ciklopeptid ciji je ciklicni spektar najsaglasniji sa datim spektrom **target_spectrum**. Prilikom pretrage se u svakoj iteraciji lista peptida-kandidata krati sa granicom za odsecanje **N**."
   ]
  },
  {
   "cell_type": "code",
   "execution_count": null,
   "metadata": {},
   "outputs": [],
   "source": [
    "def leaderboard_cyclopeptide_sequencing(target_spectrum, N):\n",
    "    peptides = ['']               \n",
    "    \n",
    "    leader_peptide = ''\n",
    "    leader_peptide_score = 0\n",
    "    \n",
    "    # ======== STUDENTSKI KOD ======== #\n",
    "    \n",
    "    \n",
    "    # ================================ #\n",
    "        \n",
    "    return leader_peptide    "
   ]
  },
  {
   "cell_type": "code",
   "execution_count": null,
   "metadata": {},
   "outputs": [],
   "source": [
    "experimental_spectrum = [0, 99, 113, 114, 128, 227, 257, 299, 355, 356, 370, 371, 484]\n",
    "N = 10\n",
    "\n",
    "leaderboard_cyclopeptide_sequencing(experimental_spectrum, N)"
   ]
  }
 ],
 "metadata": {
  "kernelspec": {
   "display_name": "Python 3",
   "language": "python",
   "name": "python3"
  },
  "language_info": {
   "codemirror_mode": {
    "name": "ipython",
    "version": 3
   },
   "file_extension": ".py",
   "mimetype": "text/x-python",
   "name": "python",
   "nbconvert_exporter": "python",
   "pygments_lexer": "ipython3",
   "version": "3.8.10"
  }
 },
 "nbformat": 4,
 "nbformat_minor": 5
}
