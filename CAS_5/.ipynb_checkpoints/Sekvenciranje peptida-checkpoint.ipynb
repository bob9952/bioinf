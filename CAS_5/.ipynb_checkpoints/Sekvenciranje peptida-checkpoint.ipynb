{
 "cells": [
  {
   "cell_type": "markdown",
   "metadata": {},
   "source": [
    "Tabela masa aminokiselina, uključujući masu 0 \"praznog\" peptida."
   ]
  },
  {
   "cell_type": "code",
   "execution_count": 2,
   "metadata": {},
   "outputs": [],
   "source": [
    "amino_acid_masses = {\n",
    "        '': 0,\n",
    "        'G': 57,\n",
    "        'A': 71,\n",
    "        'S': 87,\n",
    "        'P': 97,\n",
    "        'V': 99,\n",
    "        'T': 101,\n",
    "        'C': 103,\n",
    "        'I': 113,\n",
    "        'L': 113,\n",
    "        'N': 114,\n",
    "        'D': 115,\n",
    "        'K': 128,\n",
    "        'Q': 128,\n",
    "        'E': 129,\n",
    "        'M': 131,\n",
    "        'H': 137,\n",
    "        'F': 147,\n",
    "        'R': 156,\n",
    "        'Y': 163,\n",
    "        'W': 186,\n",
    "    }"
   ]
  },
  {
   "cell_type": "markdown",
   "metadata": {},
   "source": [
    "Funkcija **linear_spectrum** izracunava teorijski *linearni* spekrar za dati peptid **peptide**. To je sortirani niz masa svih mogucih podpeptida (fragmenata) datog peptida, ukljucujuci 0 (masa \"praznog\" peptida) i masu celog peptida.\n",
    "\n",
    "peptid = 'NQEL' <br/>\n",
    "linearni spektar = \\[0, m(N), m(Q), m(E), m(L), m(NQ), m(QE), m(EL), m(NQE), m(QEL), m(NQEL)\\]  "
   ]
  },
  {
   "cell_type": "code",
   "execution_count": 4,
   "metadata": {},
   "outputs": [],
   "source": [
    "# sortiran niz masa svih mogucih podpeptida( frags ) datog peptida ukljucujuci i masu praznog i masu celog peptida"
   ]
  },
  {
   "cell_type": "code",
   "execution_count": 9,
   "metadata": {},
   "outputs": [],
   "source": [
    "def linear_spectrum(peptide):\n",
    "    n = len(peptide)\n",
    "    \n",
    "    prefix_mass = [0 for i in range(n+1)]\n",
    "    # prefiksne razlike \n",
    "    for i in range(n):\n",
    "        aa = peptide[i] # odaberemo prvi peptid to je A npr     \n",
    "        # znaci 0 + 31  ,  31 + 156 itd  ... \n",
    "        prefix_mass[i+1] = prefix_mass[i] + amino_acid_masses[aa]\n",
    "\n",
    "    # kada smo izracunali prefiksne sume \n",
    "    spectrum = [0]\n",
    "    \n",
    "    for i in range(n):                  #sa indeksom i idemo do pretposlednjeg elementa da ne bismo dobili jos \n",
    "        for j in range(i+1, n+1):       #jednu 0 u spektru (kao razliku prefix_mass[n] - prefix_mass[n])\n",
    "            spectrum.append(prefix_mass[j] - prefix_mass[i])\n",
    "    # ne zaboravimo sort, bitno je   \n",
    "    spectrum.sort()\n",
    "    \n",
    "    return spectrum"
   ]
  },
  {
   "cell_type": "code",
   "execution_count": 10,
   "metadata": {},
   "outputs": [
    {
     "name": "stdout",
     "output_type": "stream",
     "text": [
      "[0, 113, 114, 128, 129, 242, 242, 257, 370, 371, 484]\n"
     ]
    }
   ],
   "source": [
    "print(linear_spectrum('NQEL'))"
   ]
  },
  {
   "cell_type": "markdown",
   "metadata": {},
   "source": [
    "Funkcija **cyclic_spectrum** izracunava teorijski *ciklicni* spektar za dati ciklopeptid **peptide**. Osim masa podpeptida (fragmenata) koje ulaze u sastav teorijskog *linearnog* spektra, sada za podpeptide (fragmente) koji su \"iz sredine\" dodajemo jos i mase njihovih komplementarnih podpeptida u odnosu na dati ciklopeptid **peptide**. \n",
    "\n",
    "peptid = 'NQEL' <br/>\n",
    "ciklicni spektar = \\[0, m(N), m(QEL), m(Q), **m(ELN)**, m(E), **m(LNQ)**, m(L), m(NQE), m(NQ), m(EL), m(QE), **m(LN)**, m(NQEL)\\]   "
   ]
  },
  {
   "cell_type": "code",
   "execution_count": 11,
   "metadata": {},
   "outputs": [],
   "source": [
    "# sim masa podpeptida (fragmenata) koje ulaze u sastav teorijskog linearnog spektra,\n",
    "# sada za podpeptide (fragmente) koji su \"iz sredine\" dodajemo jos i mase njihovih komplementarnih podpeptida u odnosu na dati ciklopeptid peptide"
   ]
  },
  {
   "cell_type": "code",
   "execution_count": null,
   "metadata": {},
   "outputs": [],
   "source": [
    "def ciklicni_spektar(peptid):\n",
    "    n = len(peptid)\n",
    "\n",
    "    prefiksne_mase = [0 for i in range(n+1)]\n",
    "\n",
    "    for i in range(n):\n",
    "        aa = peptid[i]\n",
    "        prefiskne_mase[i+1] = prefiskne_mase[i] + amino_acid_masses[aa]\n",
    "\n",
    "    # krecemo od praznog fragmenta mase 0 \n",
    "    spektar = [0]\n",
    "\n",
    "    # ovo ne znam za sta sluzi \n",
    "    peptidne_mase = prefiks_masa[-1]\n",
    "\n",
    "    for i in range(n):\n",
    "        for j in range(i+1, n+1):\n",
    "            masa_fragmenta = prefiksne_mase[j] - prefiksne_mase[i]\n",
    "            sprektar.append(masa_fragmenta)"
   ]
  },
  {
   "cell_type": "code",
   "execution_count": 13,
   "metadata": {},
   "outputs": [],
   "source": [
    "def cyclic_spectrum(peptide):\n",
    "    n = len(peptide)\n",
    "    \n",
    "    prefix_mass = [0 for i in range(n+1)]\n",
    "    \n",
    "    for i in range(n):\n",
    "        aa = peptide[i]\n",
    "        prefix_mass[i+1] = prefix_mass[i] + amino_acid_masses[aa]\n",
    "        \n",
    "    spectrum = [0]\n",
    "    # ovo se menja\n",
    "    peptide_mass = prefix_mass[-1]\n",
    "\n",
    "\n",
    "    \n",
    "    for i in range(n):\n",
    "        for j in range(i+1, n+1):\n",
    "            fragment_mass = prefix_mass[j] - prefix_mass[i]\n",
    "            spectrum.append(fragment_mass)\n",
    "            \n",
    "            #ako nije prefiks (i=0) ili sufiks(j=n), onda je fragment iz sredine, pa u spektar dodajemo \n",
    "            #i masu njegovog komplementa (za fragmente koji su prefiks ili sufiks sekvence 'peptide' njihovi\n",
    "            #komplementi su sufiks odnosno prefiks sekvence 'peptide' i bice dodati prethodnom naredbom)\n",
    "            if i > 0 and j < n:\n",
    "                spectrum.append(peptide_mass - fragment_mass)\n",
    "                \n",
    "    spectrum.sort()\n",
    "    \n",
    "    return spectrum"
   ]
  },
  {
   "cell_type": "code",
   "execution_count": 5,
   "metadata": {},
   "outputs": [
    {
     "name": "stdout",
     "output_type": "stream",
     "text": [
      "[0, 113, 114, 128, 129, 227, 242, 242, 257, 355, 356, 370, 371, 484]\n"
     ]
    }
   ],
   "source": [
    "print(cyclic_spectrum('NQEL'))"
   ]
  },
  {
   "cell_type": "markdown",
   "metadata": {},
   "source": [
    "Funkcija **extend** na svaki peptid iz liste **peptides** nadovezuje po jednu aminokiselinu (po 20 kombinacija za svaku od 20 aminokiselina)."
   ]
  },
  {
   "cell_type": "code",
   "execution_count": 6,
   "metadata": {},
   "outputs": [],
   "source": [
    "def extend(peptides):\n",
    "    extended_peptides = []\n",
    "    \n",
    "    for peptide in peptides:\n",
    "        for aa in amino_acid_masses.keys():\n",
    "            if aa != \"\":\n",
    "                extended_peptides.append(peptide + aa)\n",
    "                \n",
    "    return extended_peptides            "
   ]
  },
  {
   "cell_type": "code",
   "execution_count": 7,
   "metadata": {},
   "outputs": [
    {
     "data": {
      "text/plain": [
       "['SPG',\n",
       " 'SPA',\n",
       " 'SPS',\n",
       " 'SPP',\n",
       " 'SPV',\n",
       " 'SPT',\n",
       " 'SPC',\n",
       " 'SPI',\n",
       " 'SPL',\n",
       " 'SPN',\n",
       " 'SPD',\n",
       " 'SPK',\n",
       " 'SPQ',\n",
       " 'SPE',\n",
       " 'SPM',\n",
       " 'SPH',\n",
       " 'SPF',\n",
       " 'SPR',\n",
       " 'SPY',\n",
       " 'SPW']"
      ]
     },
     "execution_count": 7,
     "metadata": {},
     "output_type": "execute_result"
    }
   ],
   "source": [
    "peptides = ['SP']\n",
    "extend(peptides)"
   ]
  },
  {
   "cell_type": "markdown",
   "metadata": {},
   "source": [
    "Funkcija **mass** izracunava masu peptida **peptide**."
   ]
  },
  {
   "cell_type": "code",
   "execution_count": 8,
   "metadata": {},
   "outputs": [],
   "source": [
    "def mass(peptide):\n",
    "    total_mass = 0\n",
    "    \n",
    "    for aa in peptide:\n",
    "        total_mass += amino_acid_masses[aa]\n",
    "        \n",
    "    return total_mass    "
   ]
  },
  {
   "cell_type": "code",
   "execution_count": 9,
   "metadata": {},
   "outputs": [
    {
     "data": {
      "text/plain": [
       "484"
      ]
     },
     "execution_count": 9,
     "metadata": {},
     "output_type": "execute_result"
    }
   ],
   "source": [
    "mass('NQEL')"
   ]
  },
  {
   "cell_type": "markdown",
   "metadata": {},
   "source": [
    "Funkcija **consistent** proverava da li je linearni spekrar datog peptida **peptide** konzistentan sa datim (ciklicnim) spektrom **target_spectrum**. *Linearni* spektar je konzistentan sa *ciklicnim* spektrom ukoliko se sve mase iz linearnog spektra nalaze i u ciklicnom spektru, ukljucujuci i duplikate (kolika je visestrukost neke mase u linearnom spektru, barem tolika da bude i u ciklicnom spektru)."
   ]
  },
  {
   "cell_type": "code",
   "execution_count": 10,
   "metadata": {},
   "outputs": [],
   "source": [
    "def consistent(peptide, target_spectrum):\n",
    "    peptide_spectrum = linear_spectrum(peptide)\n",
    "    \n",
    "    i = 0\n",
    "    j = 0\n",
    "    n = len(peptide_spectrum)\n",
    "    m = len(target_spectrum)\n",
    "    \n",
    "    #NAPOMENA: koristimo svojstvo da su mase i u linearnom i u ciklicnom spektru sortirane!\n",
    "    while i < n and j < m:\n",
    "        if peptide_spectrum[i] == target_spectrum[j]:\n",
    "            i += 1\n",
    "            j += 1\n",
    "        elif peptide_spectrum[i] > target_spectrum[j]:\n",
    "            j += 1\n",
    "        else:\n",
    "            return False\n",
    "        \n",
    "    if i < n:\n",
    "        return False\n",
    "    else:\n",
    "        return True"
   ]
  },
  {
   "cell_type": "code",
   "execution_count": 11,
   "metadata": {},
   "outputs": [
    {
     "name": "stdout",
     "output_type": "stream",
     "text": [
      "True\n",
      "False\n"
     ]
    }
   ],
   "source": [
    "peptide1 = 'QE'\n",
    "peptide2 = 'NE'\n",
    "target_spectrum = cyclic_spectrum('NQEL')\n",
    "\n",
    "print(consistent(peptide1, target_spectrum))\n",
    "print(consistent(peptide2, target_spectrum))"
   ]
  },
  {
   "cell_type": "markdown",
   "metadata": {},
   "source": [
    "Funkcija **cyclopeptide_sequencing** pronalazi sve ciklopeptide ciji je ciklicni spektar jednak datom ciklicnom spektru **target_spectrum**. Pri tom, svaki ciklican peptid imace 2n razlicitih linearnih reprezentacija, gde je n duzina peptida. To je zato sto je kod ciklicnog peptida svejedno gde cemo ciklus da presecemo i da ga predstavimo linearno, kao i smer u kojem cemo da obidjemo ciklus od mesta presecanja."
   ]
  },
  {
   "cell_type": "code",
   "execution_count": 12,
   "metadata": {},
   "outputs": [],
   "source": [
    "def cyclopeptide_sequencing(target_spectrum):\n",
    "    peptides = ['']          #lista kandidata\n",
    "    results = []             #lista konacnih kandidata\n",
    "    \n",
    "    target_peptide_mass = target_spectrum[-1]\n",
    "    \n",
    "    while len(peptides) > 0:\n",
    "        extended_peptides = extend(peptides)\n",
    "        \n",
    "        consistent_peptides = []\n",
    "        \n",
    "        for peptide in extended_peptides:\n",
    "            if mass(peptide) == target_peptide_mass:\n",
    "                if cyclic_spectrum(peptide) == target_spectrum:\n",
    "                    results.append(peptide)\n",
    "            else:\n",
    "                if consistent(peptide, target_spectrum):\n",
    "                    consistent_peptides.append(peptide)\n",
    "                \n",
    "        peptides = consistent_peptides\n",
    "        \n",
    "    return results    "
   ]
  },
  {
   "cell_type": "code",
   "execution_count": 13,
   "metadata": {},
   "outputs": [
    {
     "data": {
      "text/plain": [
       "['INKE',\n",
       " 'INQE',\n",
       " 'IEKN',\n",
       " 'IEQN',\n",
       " 'LNKE',\n",
       " 'LNQE',\n",
       " 'LEKN',\n",
       " 'LEQN',\n",
       " 'NIEK',\n",
       " 'NIEQ',\n",
       " 'NLEK',\n",
       " 'NLEQ',\n",
       " 'NKEI',\n",
       " 'NKEL',\n",
       " 'NQEI',\n",
       " 'NQEL',\n",
       " 'KNIE',\n",
       " 'KNLE',\n",
       " 'KEIN',\n",
       " 'KELN',\n",
       " 'QNIE',\n",
       " 'QNLE',\n",
       " 'QEIN',\n",
       " 'QELN',\n",
       " 'EINK',\n",
       " 'EINQ',\n",
       " 'ELNK',\n",
       " 'ELNQ',\n",
       " 'EKNI',\n",
       " 'EKNL',\n",
       " 'EQNI',\n",
       " 'EQNL']"
      ]
     },
     "execution_count": 13,
     "metadata": {},
     "output_type": "execute_result"
    }
   ],
   "source": [
    "target_spectrum = cyclic_spectrum('NQEL')\n",
    "cyclopeptide_sequencing(target_spectrum)"
   ]
  },
  {
   "cell_type": "markdown",
   "metadata": {},
   "source": [
    "Dobili smo kao rezultat zapravo 4 razlicitih ciklopeptida - **NQEL**, **NQEI**, **NKEL** i **NKEI**. To je zato sto je mass('L') = mass('I') i mass('Q') = mass('K'). Ostale kombinacije smo dobili zato sto se ciklopeptid moze preseci na razlicitim mestima da bi se predstavio linearno i zato sto mozemo da imamo dva smera citanja ciklusa.\n",
    "\n",
    "**NQEL** = QELN = ELNQ = LNQE = LEQN = EQNL = QNLE = NLEQ<br/>\n",
    "**NQEI** = QEIN = EINQ = INQE = IEQN = EONI = QNIE = NIEQ<br/>\n",
    "**NKEL** = KELN = ELNK = LNKE = LEKN = EKNL = KNLE = NLEK<br/>\n",
    "**NKEI** = KEIN = EINK = INKE = IEKN = EKNI = KNIE = NIEK<br/>"
   ]
  },
  {
   "cell_type": "markdown",
   "metadata": {},
   "source": [
    "Situacija u kojoj nam je tacan teorijski spektar peptida koji sekvenciramo poznat je idealizovana. U realnosti se desava da neke mase fale ili da nisu tacno izmerene. Ideja je da onda uvedemo neki skor koji ce da meri koliko je teorijski spektar nekog peptida (kandidata) slican eksperimentalno dobijenom spektru peptida koji sekvenciramo.\n",
    "\n",
    "<img src=\"assets/theroretical_vs_experimental_spectrum.png\" width=\"700\"> "
   ]
  },
  {
   "cell_type": "markdown",
   "metadata": {},
   "source": [
    "Funkcija **score** racuna u kojoj meri se spektri **peptide_spectrum** i **target_spectrum** saglasni, tj. koliko poklapanja imaju."
   ]
  },
  {
   "cell_type": "code",
   "execution_count": 14,
   "metadata": {},
   "outputs": [],
   "source": [
    "def score(peptide_spectrum, target_spectrum):\n",
    "    total_score = 0\n",
    "    \n",
    "    i = 0\n",
    "    j = 0\n",
    "    n = len(peptide_spectrum)\n",
    "    m = len(target_spectrum)\n",
    "    \n",
    "    #NAPOMENA: koristimo svojstvo da su mase i u linearnom i u ciklicnom spektru sortirane!\n",
    "    while i < n and j < m:\n",
    "        if peptide_spectrum[i] == target_spectrum[j]:\n",
    "            i += 1\n",
    "            j += 1\n",
    "            total_score += 1\n",
    "        elif peptide_spectrum[i] > target_spectrum[j]:\n",
    "            j += 1\n",
    "        else:\n",
    "            i += 1\n",
    "        \n",
    "    return total_score"
   ]
  },
  {
   "cell_type": "code",
   "execution_count": 15,
   "metadata": {},
   "outputs": [
    {
     "name": "stdout",
     "output_type": "stream",
     "text": [
      "[0, 113, 114, 128, 129, 227, 242, 242, 257, 355, 356, 370, 371, 484]\n",
      "[0, 113, 114, 128, 129, 241, 242, 242, 243, 355, 356, 370, 371, 484]\n",
      "12\n"
     ]
    }
   ],
   "source": [
    "target_spectrum = cyclic_spectrum('NQEL')\n",
    "peptide_spectrum = cyclic_spectrum('NQLE')\n",
    "\n",
    "print(target_spectrum)\n",
    "print(peptide_spectrum)\n",
    "\n",
    "print(score(peptide_spectrum, target_spectrum))"
   ]
  },
  {
   "cell_type": "markdown",
   "metadata": {},
   "source": [
    "Funkcije **linear_score** i **cyclic_score** racunaju poklapanje *linearnog* odnosno *ciklicnog* spektra datog peptida **peptide** sa spektrom **target_spectrum**."
   ]
  },
  {
   "cell_type": "code",
   "execution_count": 16,
   "metadata": {},
   "outputs": [],
   "source": [
    "def linear_score(peptide, target_spectrum):\n",
    "    peptide_linear_spectrum = linear_spectrum(peptide)\n",
    "    return score(peptide_linear_spectrum, target_spectrum)"
   ]
  },
  {
   "cell_type": "code",
   "execution_count": 17,
   "metadata": {},
   "outputs": [],
   "source": [
    "def cyclic_score(peptide, target_spectrum):\n",
    "    peptide_cyclic_spectrum = cyclic_spectrum(peptide)\n",
    "    return score(peptide_cyclic_spectrum, target_spectrum)"
   ]
  },
  {
   "cell_type": "markdown",
   "metadata": {},
   "source": [
    "Funkcija **trim** vrsi skracivanje liste peptida **peptides** tako sto ih prvo rangira na osnovu linearnog skora u odnosu na spektar **target_spectrum**, a zatim odbacuje sve one koji su imali manji skor od skora **N**-tog po redu. To znaci da zadrzavamo prvih **N** najbolje rangiranih peptida, ali mozda i jos neki peptid vise - one koji imaju jednak skor kao i **N**-ti po redu."
   ]
  },
  {
   "cell_type": "code",
   "execution_count": 18,
   "metadata": {},
   "outputs": [],
   "source": [
    "def trim(peptides, target_spectrum, N):\n",
    "    if len(peptides) <= N:\n",
    "        return peptides\n",
    "    \n",
    "    leaderboard = []           #rang lista peptida prema skorovima\n",
    "    \n",
    "    for peptide in peptides:\n",
    "        peptide_score = linear_score(peptide, target_spectrum)\n",
    "        leaderboard.append((peptide_score, peptide))     #NAPOMENA: kao prvi element uredjenog para stavljamo skor\n",
    "                                                         #a ne peptid kako bi kasnije njihovo sortiranje bilo prema\n",
    "                                                         #skorovima (poredjenje torki se vrsi prema prvom elementu,\n",
    "                                                         #a ako su oni jednaki onda prema drugom elementu itd.)\n",
    "    leaderboard.sort(reverse=True)    \n",
    "    \n",
    "    for i in range(N, len(leaderboard)):\n",
    "        if leaderboard[i][0] < leaderboard[N-1][0]:\n",
    "            break\n",
    "    \n",
    "    trimmed_leaderboard = leaderboard[:i]\n",
    "    return [el[1] for el in trimmed_leaderboard]"
   ]
  },
  {
   "cell_type": "code",
   "execution_count": 19,
   "metadata": {},
   "outputs": [
    {
     "data": {
      "text/plain": [
       "['NQ', 'EL']"
      ]
     },
     "execution_count": 19,
     "metadata": {},
     "output_type": "execute_result"
    }
   ],
   "source": [
    "peptides = ['NQ', 'NE', 'QL', 'EL']\n",
    "target_spectrum = cyclic_spectrum('NQEL')\n",
    "N = 2\n",
    "\n",
    "trim(peptides, target_spectrum, N)"
   ]
  },
  {
   "cell_type": "markdown",
   "metadata": {},
   "source": [
    "Funkcija **leaderboard_cyclopeptide_sequencing** pronalazi ciklopeptid ciji je ciklicni spektar najsaglasniji sa datim spektrom **target_spectrum**. Prilikom pretrage se u svakoj iteraciji lista peptida-kandidata krati sa granicom za odsecanje **N**."
   ]
  },
  {
   "cell_type": "code",
   "execution_count": 20,
   "metadata": {},
   "outputs": [],
   "source": [
    "def leaderboard_cyclopeptide_sequencing(target_spectrum, N):\n",
    "    peptides = ['']               #lista kandidata\n",
    "    \n",
    "    leader_peptide = ''\n",
    "    leader_peptide_score = 0\n",
    "    \n",
    "    target_peptide_mass = target_spectrum[-1]\n",
    "    \n",
    "    while len(peptides) > 0:\n",
    "        extended_peptides = extend(peptides)\n",
    "        \n",
    "        consistent_peptides = []\n",
    "        \n",
    "        for peptide in extended_peptides:\n",
    "            if mass(peptide) == target_peptide_mass:\n",
    "                peptide_score = cyclic_score(peptide, target_spectrum)\n",
    "                if peptide_score > leader_peptide_score:\n",
    "                    leader_peptide = peptide\n",
    "                    leader_peptide_score = peptide_score\n",
    "            elif mass(peptide) < target_peptide_mass:\n",
    "                consistent_peptides.append(peptide)\n",
    "                    \n",
    "        peptides = trim(consistent_peptides, target_spectrum, N)\n",
    "        \n",
    "    return leader_peptide    "
   ]
  },
  {
   "cell_type": "code",
   "execution_count": 21,
   "metadata": {},
   "outputs": [
    {
     "data": {
      "text/plain": [
       "'QNLE'"
      ]
     },
     "execution_count": 21,
     "metadata": {},
     "output_type": "execute_result"
    }
   ],
   "source": [
    "experimental_spectrum = [0, 99, 113, 114, 128, 227, 257, 299, 355, 356, 370, 371, 484]\n",
    "N = 10\n",
    "\n",
    "leaderboard_cyclopeptide_sequencing(experimental_spectrum, N)"
   ]
  }
 ],
 "metadata": {
  "kernelspec": {
   "display_name": "Python 3 (ipykernel)",
   "language": "python",
   "name": "python3"
  },
  "language_info": {
   "codemirror_mode": {
    "name": "ipython",
    "version": 3
   },
   "file_extension": ".py",
   "mimetype": "text/x-python",
   "name": "python",
   "nbconvert_exporter": "python",
   "pygments_lexer": "ipython3",
   "version": "3.10.14"
  }
 },
 "nbformat": 4,
 "nbformat_minor": 4
}
