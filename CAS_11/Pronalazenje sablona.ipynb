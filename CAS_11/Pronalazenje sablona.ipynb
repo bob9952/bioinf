{
 "cells": [
  {
   "cell_type": "markdown",
   "metadata": {},
   "source": [
    "Ovo je nastavak price o sekvencioniranju genoma. Tada smo govorili o sekvencioniranju genoma na nivou vrste organizama, a sada govorimo o sekvencioniranju individualnih genoma u cilju lociranja mutacija koje izazivaju bolesti. \n",
    "\n",
    "Genom koji uzimamo kao reprezentativni genom jedne vrste organizama naziva se **referentni genom**. Kada smo sekvencirali referentni genom kretali smo sa sklapanjem od nule. Sada zelimo da iskoristimo to sto nam je poznat referentni genom i da na efikasniji nacin sastavljamo individualne genome koristeci referentni. To radimo **mapiranjem ocitavanja** individualnog genoma u referentnom genomu, tj. odredjivanjem pozicije u referentnom genomu sa kojima ocitavanja individualnog genoma imaju veliku slicnost. Na ovaj nacin smo sveli problem na problem **uparaivanja sablona** - da li je jedna niska (sablon) podniska druge niske."
   ]
  },
  {
   "cell_type": "markdown",
   "metadata": {},
   "source": [
    "# Prefiksna stabla"
   ]
  },
  {
   "cell_type": "markdown",
   "metadata": {},
   "source": [
    "**Prefiksno stablo** (jos se naziva **trie**, od engleske reci reTRIEval) je struktura podataka u obliku uredjenog stabla koje se koristi za cuvanje vise niski (sablona) na takav nacin da se zajednicki prefiksi razlicitih niski predstavljaju istim putanjama od korena do tacke (cvora) razlikovanja. Osnovna ideja ovakve strukture podataka je da se omoguci istovremeno pretrazivanje vise niski (sablona) unutar druge niske (sekvence) na efikasan nacin. Svakoj od polaznih niski odgovara tacno po jedna putanja od korena do lista. Granama prefiksnog stabla su pridruzeni pojedinacni karakteri niski, dok se cvorovima pridruzuju (pod)niske koje se dobijaju nadovezivanjem karaktera koji se nalaze na granama duz putanje od korena do tog cvora (korenu odgovara prazna niska). Postoji vise razlicitih implementacija ovako definisane strukture podataka, u smislu toga sta se od informacija cuva u cvorovima a sta na granama stabla. \n",
    "\n",
    "<img src=\"assets/prefix_tree.png\" width=\"450\"> \n",
    "\n",
    "Uparivanje, tj. pretrazivanje sablona (pojedinacnih ocitavanja) iz prefiksnog stabla unutar druge sekvence (referentnog genoma) vrsimo tako sto krenemo redom po simbolima sekvence u kojoj trazimo sablone i pokusavamo da ih uparimo sa simbolima u stablu, pocev od korena, i ako na taj nacin stignemo do lista, onda zakljucujemo da se sablon koji odgovara putanji od korena do tog lista nalazi u datoj sekvenci. \n",
    "\n",
    "Poboljsanje prethodnog algoritma je u tome da se prolazak kroz nisku u kojoj trazimo sablone ne vrsi za po jedan pomeraj, vec potencijalno za vise (kao kod KMP algoritma). To cemo omoguciti dodavanjem dodatnih grana u stablu, tzv. **failure links**. Situacija u kojoj bi bilo pozeljno da se pomerimo za vise simbola odjendom jeste kada imamo da se **sufiks prethodnog sablona koji smo trazili (i nismo uspeli da ga nadjemo) preklapa sa prefiksom nekog drugog sablona**. Tada, ukoliko smo uparili prefiks prvog sablona i nismo uspeli, ne zelimo da se vracamo u koren i od pocetka uparujemo drugi sablon, vec da onaj deo koji se preklapa smatramo vec uparenim i da u niski u kojoj trazimo sablone nastavimo uparivanje tamo gde smo se zaustavili prilikom uparivanja prvog sablona. To omogucavamo failure linkom koji iz cvora u kojem smo naisli na nepoklapanje prilikom uparivanja prvog sablona vodi do cvora koji odgovara uparenju prefiksa drugog sablona. Ukoliko ne postoji drugi sablon ciji se prefiks poklapa sa sufiksom prethodnog sablona koji smo trazili, failure link vodi u koren stabla. **Ovaj algoritam je uopstenje KMP algoritma za visestruko uparivanje sablona.** \n",
    "\n",
    "Ovde cemo implementirati samo osnovnu varijantu prefiksnih stabala (bez poboljsanja sa failure link-ovima) i algoritma za pretragu sablona koriscenjem prefiksnog stabla. Nije nam cilj da postignemo maksimalnu efikasnost implementacije, vec samo da vidimo konceptualno princip primene prefiksnih stabala za ovakvu vrstu problema.\n",
    "\n",
    "**NAPOMENA:** Pretpostavljacemo da nijedan sablon nije prefiks nekog drugog sablona (iako postoji nacin da se prevazidje ovo ogranicenje), tako da algoritam pronalazi uparivanje sa jednim sablonom, ili ni sa jednim."
   ]
  },
  {
   "cell_type": "markdown",
   "metadata": {},
   "source": [
    "Klasa **TrieNode** definise pojedinacne cvorove prefiksnog stabla."
   ]
  },
  {
   "cell_type": "code",
   "execution_count": null,
   "metadata": {},
   "outputs": [],
   "source": [
    "class TrieNode:\n",
    "    def __init__(self, label):\n",
    "        self.label = label\n",
    "        self.neighbors = {}\n",
    "        self.is_leaf = True\n",
    "\n",
    "    def add_neighbor(self, character):\n",
    "        self.is_leaf = False\n",
    "        self.neighbors[character] = TrieNode(self.label + character)\n",
    "\n",
    "    def has_neighbor(self, character):\n",
    "        if character in self.neighbors:\n",
    "            return True\n",
    "        else:\n",
    "            return False\n",
    "\n",
    "    def get_neighbor(self, character):\n",
    "        if character in self.neighbors:\n",
    "            return self.neighbors[character]\n",
    "        else:\n",
    "            return None\n",
    "\n"
   ]
  },
  {
   "cell_type": "code",
   "execution_count": 1,
   "metadata": {},
   "outputs": [],
   "source": [
    "class TrieNode:\n",
    "    def __init__(self, label):                    \n",
    "        self.label = label          #niska od nadovezanih karaktera sa grana na putu od korena do tog cvora\n",
    "        self.neighbors = {}         #mapa suseda u formatu {karakter_pridruzen_grani : cvor_sused}\n",
    "        self.is_leaf = True         #indikator da se u tom cvoru zavrsava jedna kompletna niska (sablon)\n",
    "        \n",
    "    def add_neighbor(self, character):\n",
    "        self.is_leaf = False\n",
    "        self.neighbors[character] = TrieNode(self.label + character)\n",
    "        \n",
    "    def has_neighbor(self, character):\n",
    "        if character in self.neighbors:\n",
    "            return True\n",
    "        else:\n",
    "            return False\n",
    "        \n",
    "    def get_neighbor(self, character):\n",
    "        if self.has_neighbor(character):\n",
    "            return self.neighbors[character]\n",
    "        else:\n",
    "            return None\n",
    "        \n",
    "    def get_neighbors(self):\n",
    "        return self.neighbors"
   ]
  },
  {
   "cell_type": "markdown",
   "metadata": {},
   "source": [
    "Klasa **Trie** definise prefiksno stablo kao i algoritam pretrage sekvence nad njime."
   ]
  },
  {
   "cell_type": "code",
   "execution_count": 2,
   "metadata": {},
   "outputs": [],
   "source": [
    "class Trie:\n",
    "    #konstruktorska funkcija (metod) koja za datu\n",
    "    #listu niski patterns pravi prefiksno stablo\n",
    "    def __init__(self, patterns):\n",
    "        self.root = TrieNode('')\n",
    "    \n",
    "        for pattern in patterns:\n",
    "            current_node = self.root          #svaki pattern pocinje iz korena\n",
    "        \n",
    "            for current_symbol in pattern:\n",
    "                if not current_node.has_neighbor(current_symbol):\n",
    "                    current_node.add_neighbor(current_symbol)\n",
    "                current_node = current_node.get_neighbor(current_symbol)\n",
    "    \n",
    "    #metod koji pokusava da upari sablone iz prefiksnog stabla kao prefikse niske sequence\n",
    "    def prefix_trie_matching(self, sequence):\n",
    "        current_node = self.root\n",
    "    \n",
    "        for character in sequence:\n",
    "            if current_node.is_leaf:\n",
    "                return current_node.label\n",
    "            \n",
    "            if current_node.has_neighbor(character):\n",
    "                current_node = current_node.get_neighbor(character)\n",
    "            else:\n",
    "                return False\n",
    "        \n",
    "        #ovo je potrebno kada je sablon cela niska sequence\n",
    "        if current_node.is_leaf:\n",
    "            return current_node.label\n",
    "        else:\n",
    "            return False\n",
    "        \n",
    "    #metod koji pronalazi sva uparivanja sablona iz prefiksnog stabla unutar niske sequence    \n",
    "    def trie_matching(self, sequence):\n",
    "        results = []\n",
    "    \n",
    "        for i in range(len(sequence)):\n",
    "            match = self.prefix_trie_matching(sequence[i:])\n",
    "            if match:\n",
    "                results.append((match, i))\n",
    "            \n",
    "        return results"
   ]
  },
  {
   "cell_type": "code",
   "execution_count": 3,
   "metadata": {},
   "outputs": [],
   "source": [
    "patterns = [\"ananas\", \"and\", \"antenna\", \"banana\", \"bandana\", \"nab\", \"nana\", \"pan\"]\n",
    "\n",
    "trie = Trie(patterns)"
   ]
  },
  {
   "cell_type": "code",
   "execution_count": 4,
   "metadata": {},
   "outputs": [
    {
     "data": {
      "text/plain": [
       "'pan'"
      ]
     },
     "execution_count": 4,
     "metadata": {},
     "output_type": "execute_result"
    }
   ],
   "source": [
    "trie.prefix_trie_matching('panamabananas')"
   ]
  },
  {
   "cell_type": "code",
   "execution_count": 5,
   "metadata": {},
   "outputs": [
    {
     "data": {
      "text/plain": [
       "[('pan', 0), ('banana', 6), ('ananas', 7), ('nana', 8)]"
      ]
     },
     "execution_count": 5,
     "metadata": {},
     "output_type": "execute_result"
    }
   ],
   "source": [
    "trie.trie_matching('panamabananas')"
   ]
  },
  {
   "cell_type": "markdown",
   "metadata": {},
   "source": [
    "# Sufiksna stabla"
   ]
  },
  {
   "cell_type": "markdown",
   "metadata": {},
   "source": [
    "**Sufiksno stablo** je struktura podataka koja pomocu uredjenog stabla opisuje internu strukturu (jedne) niske tako sto cuva sve sufikse date niske na takav nacin da svakom sufiksu odgovara po jedna putanja od korena do lista. Da bismo obezbedili da ce putanja pridruzena svakom sufiksu da se zavrsava u listu a ne u nekom unutrasnjem cvor, dodajemo na kraj svakog sufiksa specijalni terminirajuci karakter \\$.\n",
    "\n",
    "<img src=\"assets/suffix_tree.png\" width=\"650\"> \n",
    "\n",
    "Osnovna ideja ovakve strukture podataka je da se omoguci istovremeno pretrazivanje vise niski (sablona) unutar druge niske (sekvence) na efikasan nacin, sto je takodje bio slucaj kod prefiksnog stabla, s tim sto se sada stablo konstruise za nisku unutar koje se vrsi pretaga sablona. Dakle, pretpostavka je da ce se pretraga vrsiti uvek unutar jedne iste niske. Najcesca primena sufiksnih stabala jeste prebrojavanje broja pojavljivanja neke niske (sablona) unutar date niske (sekvence) za koju je konstruisano sufiksno stablo.\n",
    "\n",
    "Za predstavljanje sufiksnog stabla mozemo iskoristiti prethodno definisanu klasu <code>Trie</code>."
   ]
  },
  {
   "cell_type": "markdown",
   "metadata": {},
   "source": [
    "# Sufiksni niz"
   ]
  },
  {
   "cell_type": "markdown",
   "metadata": {},
   "source": [
    "**Sufiksni niz je samo kompaktnija reprezentacija sufiksnog stabla.** Nad sufiksnim nizom mozemo da vrsimo sve operacije kao nad sufiksnim stablom. To je niz koji sadrzi sve sufikse date niske (sa specijalnim terminirajucim karakterom) zajedno sa pocetnim pozicijama (indeksima) na kojima pocinje taj sufiks, i to sortirane leksikografski.\n",
    "\n",
    "<img src=\"assets/suffix_array.png\" width=\"350\"> \n",
    "\n",
    "Uparivanje sablona vrsi se binarnom pretragom kroz sufiksni niz formiran za nisku koja se pretrazuje, tako sto se krene od sufiksa kojem odgovara srednja pozicija u sufiksnom nizu (koji je sortiran leksikografski) i uporedimo (leksikografski) sablon sa <u>prefiksom</u> tog sufiksa koji je jednake duzine kao sablon. Na osnovu leksikografskog poredjenja sablona i prefiksa srednjeg sufiksa zakljucujemo da li smo pronasli uparivanje ili odredjujemo u kojoj polovini sufiksnog niza treba nastaviti dalje pretragu. Pri tom, kada pronadjemo jedno uparivanje, potrebno je da proverimo i oko te pozicije u sufiksnom nizu da li mozemo da uparimo sablon sa sufiksima koji su leksikografski susedni pronadjenom uparivanju. "
   ]
  },
  {
   "cell_type": "markdown",
   "metadata": {},
   "source": [
    "Funkcija **generate_suffix_array** pravi sufiksni niz za nisku **sequence**."
   ]
  },
  {
   "cell_type": "code",
   "execution_count": 7,
   "metadata": {},
   "outputs": [],
   "source": [
    "def generate_suffix_array(sequence):\n",
    "    suffixes = [(sequence[i:], i) for i in range(len(sequence))]\n",
    "    \n",
    "    suffixes.sort()     #sortiranje se vrsi po prvoj koordinati!\n",
    "    \n",
    "    return suffixes"
   ]
  },
  {
   "cell_type": "code",
   "execution_count": 8,
   "metadata": {},
   "outputs": [
    {
     "name": "stdout",
     "output_type": "stream",
     "text": [
      "[('$', 13), ('abananas$', 5), ('amabananas$', 3), ('anamabananas$', 1), ('ananas$', 7), ('anas$', 9), ('as$', 11), ('bananas$', 6), ('mabananas$', 4), ('namabananas$', 2), ('nanas$', 8), ('nas$', 10), ('panamabananas$', 0), ('s$', 12)]\n"
     ]
    }
   ],
   "source": [
    "sequence = 'panamabananas$'\n",
    "\n",
    "suffix_array = generate_suffix_array(sequence)\n",
    "print(suffix_array)"
   ]
  },
  {
   "cell_type": "markdown",
   "metadata": {},
   "source": [
    "Funkcija **is_prefix** pokusava da upari sablon **pattern** sa prefiksom niske **suffix**."
   ]
  },
  {
   "cell_type": "code",
   "execution_count": 9,
   "metadata": {},
   "outputs": [],
   "source": [
    "def is_prefix(pattern, suffix):\n",
    "    n = len(pattern)\n",
    "    m = len(suffix)\n",
    "    \n",
    "    if n > m:\n",
    "        return False\n",
    "    else:\n",
    "        return pattern == suffix[:n]"
   ]
  },
  {
   "cell_type": "code",
   "execution_count": 10,
   "metadata": {},
   "outputs": [
    {
     "name": "stdout",
     "output_type": "stream",
     "text": [
      "True\n"
     ]
    }
   ],
   "source": [
    "suffix = 'panamabananas'\n",
    "pattern = 'panama'\n",
    "\n",
    "print(is_prefix(pattern, sequence))"
   ]
  },
  {
   "cell_type": "code",
   "execution_count": 11,
   "metadata": {},
   "outputs": [
    {
     "name": "stdout",
     "output_type": "stream",
     "text": [
      "False\n"
     ]
    }
   ],
   "source": [
    "suffix = 'panamabananas'\n",
    "pattern = 'ana'\n",
    "\n",
    "print(is_prefix(pattern, sequence))"
   ]
  },
  {
   "cell_type": "markdown",
   "metadata": {},
   "source": [
    "Funkcija **pattern_matching_with_suffix_array** vraca niz ideksa u niski za koju je formiran sufiksni niz **suffix_array** na kojima je pronadjeno uparivanje sa niskom **pattern**."
   ]
  },
  {
   "cell_type": "code",
   "execution_count": 23,
   "metadata": {},
   "outputs": [],
   "source": [
    "def pattern_matching_with_suffix_array_bob9952(suffix_array, pattern):\n",
    "    left_ind = 0\n",
    "    right_ind = len(suffix_array) - 1\n",
    "\n",
    "    while left_ind <= right_ind:\n",
    "        mid_ind = (left_ind + right_ind) // 2\n",
    "        mid_suffix = suffix_array[mid_ind][0]\n",
    "\n",
    "        if is_prefix(pattern, mid_suffix):\n",
    "            # idemo levo i desno dokle god uspevamo da uparimo sablon\n",
    "            i = mid_ind\n",
    "            j = mid_ind\n",
    "            # levo\n",
    "            while i-1 >= 0:\n",
    "                if is_prefix(pattern, suffix_array[i-1][0]):\n",
    "                    i -= 1\n",
    "                else:\n",
    "                    break\n",
    "            # desno\n",
    "            while j+1 <= right_ind:\n",
    "                if is_prefix(pattern, suffix_array[j+1][0]):\n",
    "                    j += 1\n",
    "                else:\n",
    "                    break\n",
    "            # vracamo sufiks u [i, j] delu\n",
    "            return [elem[1] for elem in suffix_array[i:j+1]] # od i do j \n",
    "\n",
    "        # gde sad idemo\n",
    "        # ako je mid_suffix veci od patterna onda resenje sigurno ne nalazimo u desnom delu, tkd right_ind pomeramo na sredinu i pretragu nastavljamo\n",
    "        # u delu [levo, sredina]\n",
    "        if pattern < mid_suffix:\n",
    "            right_ind = mid_ind\n",
    "        else:\n",
    "            left_ind = mid_ind\n",
    "    return []"
   ]
  },
  {
   "cell_type": "code",
   "execution_count": 19,
   "metadata": {},
   "outputs": [],
   "source": [
    "def pattern_matching_with_suffix_array(suffix_array, pattern):\n",
    "    left_ind = 0\n",
    "    right_ind = len(suffix_array) - 1\n",
    "    \n",
    "    while left_ind <= right_ind:\n",
    "        mid_ind = (left_ind + right_ind) // 2\n",
    "        mid_suffix = suffix_array[mid_ind][0]\n",
    "        \n",
    "        if is_prefix(pattern, mid_suffix):\n",
    "            #idemo levo i desno dokle god uspevamo da uparimo sablon\n",
    "            i = mid_ind \n",
    "            j = mid_ind \n",
    "            \n",
    "            while i-1 >= 0:\n",
    "                if is_prefix(pattern, suffix_array[i-1][0]):\n",
    "                    i -= 1\n",
    "                else:\n",
    "                    break\n",
    "                \n",
    "            while j+1 < len(suffix_array):\n",
    "                if is_prefix(pattern, suffix_array[j+1][0]):\n",
    "                    j += 1\n",
    "                else:\n",
    "                    break\n",
    "            \n",
    "            return [elem[1] for elem in suffix_array[i:j+1]]\n",
    "               \n",
    "        if pattern < mid_suffix:\n",
    "            right_ind = mid_ind\n",
    "        else: \n",
    "            left_ind = mid_ind\n",
    "    \n",
    "    return []"
   ]
  },
  {
   "cell_type": "code",
   "execution_count": 20,
   "metadata": {},
   "outputs": [
    {
     "name": "stdout",
     "output_type": "stream",
     "text": [
      "[1, 7, 9]\n"
     ]
    }
   ],
   "source": [
    "sequence = 'panamabananas$'\n",
    "pattern = 'ana'\n",
    "\n",
    "suffix_array = generate_suffix_array(sequence)\n",
    "\n",
    "print(pattern_matching_with_suffix_array(suffix_array, pattern))"
   ]
  },
  {
   "cell_type": "code",
   "execution_count": 21,
   "metadata": {},
   "outputs": [
    {
     "name": "stdout",
     "output_type": "stream",
     "text": [
      "[1, 7, 9]\n"
     ]
    }
   ],
   "source": [
    "sequence = 'panamabananas$'\n",
    "pattern = 'ana'\n",
    "\n",
    "suffix_array = generate_suffix_array(sequence)\n",
    "\n",
    "print(pattern_matching_with_suffix_array_bob9952(suffix_array, pattern))"
   ]
  },
  {
   "cell_type": "markdown",
   "metadata": {},
   "source": [
    "# Burrows-Wheeler transformacija"
   ]
  },
  {
   "cell_type": "markdown",
   "metadata": {},
   "source": [
    "U nastavku govorimo o tome na koji nacin mozemo da smanjimo kolicinu memorije potrebne za cuvanje sufiksnog niza (koji za velike niske moze biti poprilicno veliki, npr. citav referentni genom), ali tako da mozemo da je ga rekonstruisemo i da na njega primenimo algoritme za uparivanje sablona.\n",
    "\n",
    "Burrows-Wheeler transformaciju (krace, BWT) niske dobijamo na sledeci nacin: \n",
    "- formirati sve ciklicne rotacije niske (sa dodatim specijalnim terminirajucim karakterom \\$)\n",
    "- dobijene niske sortirati leksikografski ($ ima najmanju leksikografsku vrednost) \n",
    "- smestimo sortirane niske u matricu ciklicnih rotacija\n",
    "- BWT niske je poslednja kolona na ovaj nacin dobijena matrice ciklicnih rotacija \n",
    "\n",
    "<img src=\"assets/BWT.png\" width=\"450\"> "
   ]
  },
  {
   "cell_type": "markdown",
   "metadata": {},
   "source": [
    "Funkcija **construct_bwt** vraca BW transformaciju niske **sequence**."
   ]
  },
  {
   "cell_type": "code",
   "execution_count": 24,
   "metadata": {},
   "outputs": [],
   "source": [
    "def construct_bwt(sequence):\n",
    "    n = len(sequence)\n",
    "    \n",
    "    sequence_cyclic_rotations = [sequence[i:n] + sequence[:i] for i in range(n)]\n",
    "    sequence_cyclic_rotations.sort()\n",
    "    \n",
    "    bwt_sequence = ''.join([rotation[-1] for rotation in sequence_cyclic_rotations])\n",
    "    \n",
    "    return bwt_sequence"
   ]
  },
  {
   "cell_type": "code",
   "execution_count": 25,
   "metadata": {},
   "outputs": [
    {
     "name": "stdout",
     "output_type": "stream",
     "text": [
      "smnpbnnaaaaa$a\n"
     ]
    }
   ],
   "source": [
    "sequence = 'panamabananas$'\n",
    "\n",
    "print(construct_bwt(sequence))"
   ]
  },
  {
   "cell_type": "markdown",
   "metadata": {},
   "source": [
    "## Inverzna Burrows-Wheeler transformacija"
   ]
  },
  {
   "cell_type": "markdown",
   "metadata": {},
   "source": [
    "Rekonstrukciju niske na osnovu njene BWT-niske mozemo da vrsimo na sledeci nacin: \n",
    "- sortiranjem BWT-niske, tj. poslednje kolonu matrice ciklicnih rotacija dobijemo prvu kolonu matrice ciklicnih rotacija \n",
    "- spojimo poslednju i prvu kolonu, i na taj nacin formiramo 2-gramski sastav ciklicne reprezentacije niske \n",
    "- sortiramo 2-gramski sastav i dobijemo prve dve kolone matrice ciklicnih rotacija \n",
    "- spojimo poslednju i prethodno rekonstruisane prve dve kolone i na taj nacin formiramo 3-gramski sastav ciklicne reprezentacije niske \n",
    "- nastavljamo postupak sve dok ne dobijemo n-gramski sastav, odnosno celu matricu ciklicnih rotacija\n",
    "- prva ciklicna rotacija bez pocetnog simbola \\$ je originalna niska (ili ciklicna rotacija koja u poslednjoj koloni ima simbol \\\\$)"
   ]
  },
  {
   "cell_type": "markdown",
   "metadata": {},
   "source": [
    "Funkcija **inverse_bwt** rekonstruise originalnu nisku na osnovu njene BWT-niske **bwt_sequence** tako sto rekonstruise celu matricu ciklicnih rotacija i uzima onu vrstu koja u posledjnjoj koloni ima simbol \\$."
   ]
  },
  {
   "cell_type": "code",
   "execution_count": 32,
   "metadata": {},
   "outputs": [],
   "source": [
    "import copy"
   ]
  },
  {
   "cell_type": "code",
   "execution_count": 33,
   "metadata": {},
   "outputs": [],
   "source": [
    "def inverse_bwt(bwt_sequence):\n",
    "    last_column = list(bwt_sequence)               \n",
    "    \n",
    "    columns = copy.deepcopy(last_column)    \n",
    "    columns.sort()              \n",
    "    \n",
    "    for i in range(len(bwt_sequence) - 1):\n",
    "        for j in range(len(bwt_sequence)):\n",
    "            columns[j] = last_column[j] + columns[j]\n",
    "            \n",
    "        columns.sort()\n",
    "        \n",
    "    #print(columns)              #rekonstruisana matrica sortiranih ciklicnih rotacija \n",
    "    \n",
    "    result_index = bwt_sequence.index('$')\n",
    "    \n",
    "    return columns[result_index]"
   ]
  },
  {
   "cell_type": "code",
   "execution_count": 34,
   "metadata": {},
   "outputs": [
    {
     "data": {
      "text/plain": [
       "'panamabananas$'"
      ]
     },
     "execution_count": 34,
     "metadata": {},
     "output_type": "execute_result"
    }
   ],
   "source": [
    "sequence = 'panamabananas$'\n",
    "\n",
    "bwt_sequence = construct_bwt(sequence)\n",
    "\n",
    "inverse_bwt(bwt_sequence)"
   ]
  },
  {
   "cell_type": "markdown",
   "metadata": {},
   "source": [
    "# Uparivanje sablona preko BW transformacije niske"
   ]
  },
  {
   "cell_type": "markdown",
   "metadata": {},
   "source": [
    "Rekonstrukcija niske od njene BWT-niske na prethodno opisan nacin (inverzna BWT) zahteva rekonstrukciju i cuvanje cele matrice ciklicnih rotacija. Originalnu nisku mozemo rekonstruisati i na drugi nacin, bez potrebe za rekonstrukcijom matrice ciklicnih rotacija: \n",
    "- sortiranjem BWT-niske, tj. poslednje kolonu matrice ciklicnih rotacija dobijemo prvu kolonu matrice ciklicnih rotacija\n",
    "- originalnu nisku rekonstruisemo unazad polazeci od simbola \\$ u prvoj koloni i trazeci njegovog prethodnika u poslednjoj koloni \n",
    "- na taj nacin smo odredili poslednji simbol niske, i u narednom koraku trazimo njegovo pojavljivanje u prvoj koloni da bismo iz njemu odgovarajuce pozicije u poslednjoj koloni odredili pretposlednji simbol originalne niske \n",
    "- medjitim, poslednji simbol ne mora imati jedinstveno pojavljivanje u prvoj koloni, pa se postavlja pitanje koji od njih odgovara poslednjem pojavljivanju tog simbola u originalnoj niski <br/>\n",
    "- **<u>first-last svojstvo</u>: k-to pojavljivanje nekog simbola u prvoj koloni i k-to pojavljivanje tog istog simbola u poslednjoj koloni odgovaraju istoj poziciji simbola u originalnoj niski** \n",
    "- na osnovu first-last svojstva pronalazimo odgovarajuce pojavljivanje poslednjeg simbola u prvoj koloni i nastavljamo dalje postupak \n",
    "\n",
    "**First-last svojstvo** vazi zato sto ako bismo iz matrice ciklicnih rotacija izdvojili samo one ciklicne rotacije koje pocinju npr. simbolom 'a', i ukoliko bismo svima uklonili taj simbol 'a', dobili bismo niske koje su i dalje sortirane (jer su inicijalno bile leksikografski sortirane). Ako bismo zatim dodali svakoj od njih simbol 'a' na kraj, i dalje ce niske ostati u sortiranom redosledu zato sto smo na sortirane niske dodali svima isti simbol na kraj. Te niske se takodje nalaze u matrici ciklicnih rotacija (jer smo ih dobili tako sto smo ih sve ciklicno zarotirali za 1), i one ce biti u tom ISTOM PORETKU - ne moraju biti uzastopne kao sto su bile pre nego sto smo ih zarotirali ciklicno za 1, ali moraju imati nepromenjen redosled."
   ]
  },
  {
   "cell_type": "markdown",
   "metadata": {},
   "source": [
    "Funkcija **last_to_first** na osnovu first-last svojstva pronalazi odgovarajuce pojavljivanje simbola **last_column[index]** u **first_column**."
   ]
  },
  {
   "cell_type": "code",
   "execution_count": 39,
   "metadata": {},
   "outputs": [],
   "source": [
    "def last_to_first(last_column, index, first_column):\n",
    "    character = last_column[index]\n",
    "    \n",
    "    last_column_rank = 0           #rang, tj. redni broj pojavljivanja simbola character u poslednjoj koloni\n",
    "    \n",
    "    for i in range(index + 1):\n",
    "        if last_column[i] == character:\n",
    "            last_column_rank += 1\n",
    "            \n",
    "    first_column_rank = 0          #rang, tj. redni broj pojavljivanja simbola character u prvoj koloni\n",
    "    \n",
    "    for i in range(len(first_column)):\n",
    "        if first_column[i] == character:\n",
    "            first_column_rank += 1 \n",
    "            \n",
    "        if first_column_rank == last_column_rank:\n",
    "            return i"
   ]
  },
  {
   "cell_type": "code",
   "execution_count": 40,
   "metadata": {},
   "outputs": [
    {
     "name": "stdout",
     "output_type": "stream",
     "text": [
      "11\n"
     ]
    }
   ],
   "source": [
    "last_column = '$aaaaaabmnnnps'\n",
    "first_column = 'smnpbnnaaaaa$a'\n",
    "index = 5\n",
    "\n",
    "print(last_to_first(last_column, index, first_column))"
   ]
  },
  {
   "cell_type": "markdown",
   "metadata": {},
   "source": [
    "**Sortirana matrica ciklicnih rotacija niske je zapravo isto sto i sufiksni niz niske, s tim sto posle svakog karaktera \\$ za sufiksni niz odbacujemo sve sto ide posle.** Zelimo BW transformaciju niske da iskoristimo kao strukturu podataka za 'cuvanje' sufiksnog niza i za uparivanje sablona kao prefiksa nekog od sufiksa.\n",
    "\n",
    "Skica algoritma: \n",
    "- trazimo sva pojavljivanja poslednjeg simbol sablona u BWT-niski tj. poslednjoj koloni matrice ciklicnih rotacija\n",
    "- na osnovu **first-last svojstva** trazimo odgovarajuca pojavljivanja tih u prvoj koloni matrice ciklicnih rotacija \n",
    "- pronalazimo indekse **top** i **bottom** takve da odgovaraju prvom i poslednjem pojavljivanju poslednjeg simbola sablona <u>u prvoj koloni</u>  \n",
    "- za svaki od indeksa iz opsega **[top, bottom]** posmatramo koji se simbol nalazi u poslednjoj koloni, i medju njima trazimo pretposlednji simbol sablona \n",
    "- azuriramo indekse na osnovu **first-last svojstva** tako da vazi da **top** indeks ukazuje na prvo a **bottom** indeks na poslednje pojavljivanje dela sablona koji smo do tada uparili (oba indeksa su u odnosu na prvu kolonu!) \n",
    "- ponavljamo isti postupak sve dok ne uparimo sve karaktera sablona\n",
    "- ukoliko se u nekom od koraka ne pronalazi uparivanje narednog karaktera sablona (tj. prethodnog karaktera posto pretragu vrsimo od pozadi), prekida se pretraga i vraca 0 kao informacija da sablon nije uparen nijednom\n",
    "- inace, povratna vrednost je broj uparivanja sablona **bottom - top + 1**"
   ]
  },
  {
   "cell_type": "markdown",
   "metadata": {},
   "source": [
    "Funkcija **bwt_matching** pronalazi na koliko pozicija se niska **pattern** moze upariti sa niskom koja je zadata svojom BWT-niskom **bwt_sequence**."
   ]
  },
  {
   "cell_type": "code",
   "execution_count": 43,
   "metadata": {},
   "outputs": [],
   "source": [
    "def bwt_matching(bwt_sequence, pattern):\n",
    "    first_column = sorted(bwt_sequence)\n",
    "    last_column = bwt_sequence \n",
    "    \n",
    "    top_ind = 0\n",
    "    bottom_ind = len(bwt_sequence) - 1\n",
    "    \n",
    "    i = len(pattern) - 1    #indeks simbola u pattern-u koji pokusavamo da uparimo\n",
    "    \n",
    "    while i >= 0:\n",
    "        #print('top_ind: {} bottom_ind: {}'.format(top_ind, bottom_ind))\n",
    "        \n",
    "        character = pattern[i]\n",
    "        i -= 1\n",
    "            \n",
    "        top_ind_new = -1\n",
    "        bottom_ind_new = -1\n",
    "            \n",
    "        for k in range(top_ind, bottom_ind + 1):\n",
    "            if top_ind_new == -1 and last_column[k] == character:\n",
    "                top_ind_new = k\n",
    "                bottom_ind_new = k\n",
    "            elif last_column[k] == character:\n",
    "                bottom_ind_new = k\n",
    "                \n",
    "        if top_ind_new == -1 or bottom_ind_new == -1:       #nije pronadjeno uparivanje narednog karaktera\n",
    "            return 0\n",
    "            \n",
    "        top_ind = last_to_first(last_column, top_ind_new, first_column)\n",
    "        bottom_ind = last_to_first(last_column, bottom_ind_new, first_column)\n",
    "           \n",
    "    return bottom_ind - top_ind + 1"
   ]
  },
  {
   "cell_type": "code",
   "execution_count": 44,
   "metadata": {},
   "outputs": [
    {
     "data": {
      "text/plain": [
       "3"
      ]
     },
     "execution_count": 44,
     "metadata": {},
     "output_type": "execute_result"
    }
   ],
   "source": [
    "sequence = 'panamabananas$'\n",
    "pattern = 'ana'\n",
    "\n",
    "bwt_sequence = construct_bwt(sequence)\n",
    "\n",
    "bwt_matching(bwt_sequence, pattern)"
   ]
  },
  {
   "cell_type": "code",
   "execution_count": null,
   "metadata": {},
   "outputs": [],
   "source": []
  }
 ],
 "metadata": {
  "kernelspec": {
   "display_name": "Python 3 (ipykernel)",
   "language": "python",
   "name": "python3"
  },
  "language_info": {
   "codemirror_mode": {
    "name": "ipython",
    "version": 3
   },
   "file_extension": ".py",
   "mimetype": "text/x-python",
   "name": "python",
   "nbconvert_exporter": "python",
   "pygments_lexer": "ipython3",
   "version": "3.10.14"
  }
 },
 "nbformat": 4,
 "nbformat_minor": 4
}
