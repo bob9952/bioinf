{
 "cells": [
  {
   "cell_type": "markdown",
   "metadata": {},
   "source": [
    "# Hirschberg algoritam "
   ]
  },
  {
   "cell_type": "markdown",
   "metadata": {},
   "source": [
    "Hirschberg algoritam je varijanta Needleman-Wunsch algoritma samo sa boljom (linearnom) prostornom slozenoscu i rekonstrukcijom putanje. Da bismo omogucili i rekonstrukciju putanje, a da ostanemo u linearnoj prostornij slozenosti, zrtvovacemo vremensku slozenost, ali samo uz povecanje za konstantan faktor (udvostrucena vremenska slozenost u odnosu na standardni Needleman-Wunsch algoritam). Ovaj algoritam se oslanja na Needleman-Wunsch algoritam koji u linearnoj prostornoj slozenosti izracunava skor najboljeg poravnanja, tj. vraca poslednji red matrice skorova koja sadrzi skorove poravnanja citavih sekvenci. \n",
    "\n",
    "<u>Osnovna ideja Hirschberg-ovog algoritma</u>:\n",
    "\n",
    "<img src=\"assets/hirschberg.png\" width=\"550\"> \n",
    "\n",
    "Alogoritam se zasniva na *Divide-and-Conquer* principu koji prilikom podele osnovnog problema (trazenje optimalne putanje od cvora u gornjem levom cosku do cvora u donjem desnom cosku u grafu poravnanja) ujedno pamti cvorove kroz koje prolazi optimalna putanja. Osnovna ideja algoritma je da u svakom koraku pronalazimo srednji cvor na optimalnoj putanji - cvor koji se nalazi u preseku srednje vrste (kolone) i optimalne putanje, i da zatim svedemo problem na dva manja podproblema - pronalazenje optimalne putanje od pocetnog do srednjeg cvora i od srednjeg cvora do krajnjeg. Pamteci sredisnje cvorove algoritam ima mogucnost da pored optimalnog skora vrati i optimalnu putanju, tj. poravnanje sekvenci koje daje optimalni skor. Potrebno je samo jos definisati na koji nacin se pronalazi srednji cvor, a da ostanemo u trazenom vremenskom i prostornom okviru. \n",
    "\n",
    "<img src=\"assets/hirschberg_step.png\" width=\"1150\"> \n",
    "\n",
    "Srednji cvor optimalne putanje nalazimo tako sto za svaki **i-ti** cvor iz srednje vrste (kolone) izracunamo skor tzv. **i-te putanje** - putanje od polaznog cvora (u gornjem levom cosku) do krajnjeg cvora (u donjem desnom cosku) takvu da sece srednju vrstu (kolonu) u **i-tom** cvoru. **Trazeni srednji cvor je upravo onaj i-ti cvor srednje vrste (kolone) cija i-ta putanja ima najveci skor.** To je tako zato sto racunanajuci skor i-te putanje mi zapravo uzimamo u obzir sve moguce putanje koje prolaze kroz i-ti cvor u srednjoj vrsti (koloni), i uzimamo najbolju, a zatim od svih i-tih putanja uzimamo onu koja je najbolja, sto onda mora odgovarati najboljoj putanji od polaznog do krajnjeg cvora.\n",
    "\n",
    "<u>Stablo dekompozicije problema na potprobleme</u>: \n",
    "\n",
    "<img src=\"assets/hirschberg_decomposition_tree.png\" width=\"450\" align=\"left\"> "
   ]
  },
  {
   "cell_type": "markdown",
   "metadata": {},
   "source": [
    "Funkcija **needleman_wunsch_last_line** radi sve isto sto i funkcija **needleman_wunsch_score** sa proslog casa, samo umesto najboljeg skora (poslednji element u poslednjem redu matrice skorova) vraca citav poslednji red matrice skorova. Jos jedna razlika je u tome sto cemo sada sve kombinacije uparivanja razlicitih aminokiselina bodovati istim skorom **missmatch_penalty** a sva uparivanja istih aminokiselina skorom **match_score**. Ovo je pojednostavljenje u odnosu na koriscenje BLOSSUM matrice skorova koje je pokazano na prethodnom casu."
   ]
  },
  {
   "cell_type": "code",
   "execution_count": 1,
   "metadata": {},
   "outputs": [],
   "source": [
    "import copy"
   ]
  },
  {
   "cell_type": "code",
   "execution_count": 2,
   "metadata": {},
   "outputs": [],
   "source": [
    "def needleman_wunsch_last_line(seq1, seq2, match_score, missmatch_penalty, gap_penalty):\n",
    "    n = len(seq1) + 1\n",
    "    m = len(seq2) + 1\n",
    "    \n",
    "    S = [[0 for j in range(m)] for i in range(2)]   \n",
    "    \n",
    "    for j in range(1, m):\n",
    "        S[0][j] = S[0][j-1] + gap_penalty\n",
    "        \n",
    "    for i in range(1, n):\n",
    "        S[1][0] = S[0][0] + gap_penalty         \n",
    "        \n",
    "        for j in range(1, m):\n",
    "            from_top = S[0][j] + gap_penalty\n",
    "            from_left = S[1][j-1] + gap_penalty\n",
    "            from_diagonal = S[0][j-1] + (match_score if seq1[i-1] == seq2[j-1] else missmatch_penalty)\n",
    "                \n",
    "            S[1][j] = max(from_top, from_left, from_diagonal)\n",
    "             \n",
    "        S[0] = copy.copy(S[1])                 \n",
    "        \n",
    "    return S[0]"
   ]
  },
  {
   "cell_type": "code",
   "execution_count": 3,
   "metadata": {},
   "outputs": [
    {
     "name": "stdout",
     "output_type": "stream",
     "text": [
      "Last line:  [-16, -12, -8, -7, -3, 1]\n"
     ]
    }
   ],
   "source": [
    "gap_penalty = -2\n",
    "missmatch_penalty = -1\n",
    "match_score = 2\n",
    "\n",
    "seq1 = 'AGTACGCA'\n",
    "seq2 = 'TATGC'\n",
    "\n",
    "last_line = needleman_wunsch_last_line(seq1, seq2, match_score, missmatch_penalty, gap_penalty)\n",
    "\n",
    "print('Last line: ', last_line)"
   ]
  },
  {
   "cell_type": "markdown",
   "metadata": {},
   "source": [
    "Trebace nam i osnovni Needleman-Wunsch algoritam koji se koristi za bazni slucaj kada se jedna sekvenca poredi sa jednim karakterom, a tada i osnovna verzija algoritma radi u linearnoj prostornoj (a i vremenskoj) slozenosti u odnosu na polazne duzine sekvenci. Pomocna funkcija **backtracking_alignment** rekonstruise putanju (tj. poravnanje) koja odgovara izracunatom optimalnom poravnanju (maksimalni skor)."
   ]
  },
  {
   "cell_type": "code",
   "execution_count": 4,
   "metadata": {},
   "outputs": [],
   "source": [
    "def needleman_wunsch(seq1, seq2, match_score, missmatch_penalty, gap_penalty):\n",
    "    n = len(seq1) + 1\n",
    "    m = len(seq2) + 1\n",
    "    \n",
    "    S = [[0 for j in range(m)] for i in range(n)]\n",
    "    BACKTRACK = [[None for j in range(m)] for i in range(n)]\n",
    "    \n",
    "    for i in range(1, n):\n",
    "        S[i][0] = S[i-1][0] + gap_penalty\n",
    "        BACKTRACK[i][0] = (i-1, 0)\n",
    "        \n",
    "    for j in range(1, m):\n",
    "        S[0][j] = S[0][j-1] + gap_penalty\n",
    "        BACKTRACK[0][j] = (0, j-1)\n",
    "        \n",
    "    for i in range(1, n):\n",
    "        for j in range(1, m):\n",
    "            from_top = S[i-1][j] + gap_penalty\n",
    "            from_left = S[i][j-1] + gap_penalty\n",
    "            from_diagonal = S[i-1][j-1] + (match_score if seq1[i-1] == seq2[j-1] else missmatch_penalty)\n",
    "                \n",
    "            S[i][j] = max(from_top, from_left, from_diagonal)\n",
    "            \n",
    "            if S[i][j] == from_top:\n",
    "                BACKTRACK[i][j] = (i-1, j)\n",
    "            elif S[i][j] == from_left:\n",
    "                BACKTRACK[i][j] = (i, j-1)\n",
    "            else:\n",
    "                BACKTRACK[i][j] = (i-1, j-1)\n",
    "                \n",
    "    i = n - 1\n",
    "    j = m - 1\n",
    "    \n",
    "    score = S[n-1][m-1]\n",
    "    seq1_align, seq2_align = backtracking_alignment(BACKTRACK, n, m, seq1, seq2)\n",
    "    \n",
    "    return (score, seq1_align, seq2_align)           "
   ]
  },
  {
   "cell_type": "code",
   "execution_count": 5,
   "metadata": {},
   "outputs": [],
   "source": [
    "def backtracking_alignment(BACKTRACK, n, m, seq1, seq2):\n",
    "    i = n - 1\n",
    "    j = m - 1\n",
    "    \n",
    "    seq1_align = ''\n",
    "    seq2_align = ''\n",
    "    \n",
    "    while BACKTRACK[i][j] != None:\n",
    "        if BACKTRACK[i][j] == (i-1, j):\n",
    "            seq1_align = seq1[i-1] + seq1_align\n",
    "            seq2_align = '-' + seq2_align\n",
    "            \n",
    "        elif BACKTRACK[i][j] == (i, j-1):\n",
    "            seq1_align = '-' + seq1_align\n",
    "            seq2_align = seq2[j-1] + seq2_align\n",
    "            \n",
    "        else:\n",
    "            seq1_align = seq1[i-1] + seq1_align\n",
    "            seq2_align = seq2[j-1] + seq2_align\n",
    "            \n",
    "        (i, j) = BACKTRACK[i][j]\n",
    "        \n",
    "    return (seq1_align, seq2_align)    "
   ]
  },
  {
   "cell_type": "markdown",
   "metadata": {},
   "source": [
    "Funkcija **hirschberg** odredjuje poravnanje niski **seq1** i **seq2** koristeci *Divide-and-Conquer* tehniku i Needleman-Wunsch algoritam za resavanje problema manje dimenzije."
   ]
  },
  {
   "cell_type": "code",
   "execution_count": 6,
   "metadata": {},
   "outputs": [],
   "source": [
    "def hirschberg(seq1, seq2, match_score, missmatch_penalty, gap_penalty):\n",
    "    n = len(seq1)\n",
    "    m = len(seq2)\n",
    "    \n",
    "    #izlasci iz rekurzije su kada je jedna niska prazna (tada se poravnanje sastoji samo od insercija/delecija)\n",
    "    #bazni slucaj je takodje kada je jedna od niski duzine 1, jer tada nemamo sta da delimo na pola\n",
    "    if n == 0:\n",
    "        seq1_align = '-' * m \n",
    "        seq2_align = seq2\n",
    "        \n",
    "    elif m == 0:\n",
    "        seq1_align = seq1\n",
    "        seq2_align = '-' * n \n",
    "    \n",
    "    elif n == 1 or m == 1:\n",
    "        (_, seq1_align, seq2_align) = needleman_wunsch(seq1, seq2, match_score, missmatch_penalty, gap_penalty)\n",
    "        \n",
    "    else:\n",
    "        x_mid = n // 2\n",
    "    \n",
    "        last_line_L = needleman_wunsch_last_line(seq1[:x_mid], seq2, match_score, missmatch_penalty, gap_penalty)\n",
    "        last_line_R = needleman_wunsch_last_line(seq1[x_mid:][::-1], seq2[::-1], match_score, missmatch_penalty, gap_penalty)\n",
    "        last_line_R.reverse()        \n",
    "        \n",
    "        max_score = float('-inf')\n",
    "        y_mid = None\n",
    "    \n",
    "        for j in range(m):\n",
    "            score = last_line_L[j] + last_line_R[j]\n",
    "            \n",
    "            if score > max_score:\n",
    "                max_score = score\n",
    "                y_mid = j\n",
    "            \n",
    "        (seq1_align_L, seq2_align_L) = hirschberg(seq1[:x_mid], seq2[:y_mid], match_score, missmatch_penalty, gap_penalty)\n",
    "        (seq1_align_R, seq2_align_R) = hirschberg(seq1[x_mid:], seq2[y_mid:], match_score, missmatch_penalty, gap_penalty)\n",
    "    \n",
    "        seq1_align = seq1_align_L + seq1_align_R\n",
    "        seq2_align = seq2_align_L + seq2_align_R\n",
    "    \n",
    "    return (seq1_align, seq2_align)"
   ]
  },
  {
   "cell_type": "code",
   "execution_count": 7,
   "metadata": {},
   "outputs": [
    {
     "name": "stdout",
     "output_type": "stream",
     "text": [
      "Alignment:\n",
      "AGTACGCA\n",
      "--TATGC-\n"
     ]
    }
   ],
   "source": [
    "gap_penalty = -2\n",
    "missmatch_penalty = -1\n",
    "match_score = 2\n",
    "\n",
    "seq1 = 'AGTACGCA'\n",
    "seq2 = 'TATGC'\n",
    "\n",
    "(seq1_align, seq2_align) = hirschberg(seq1, seq2, match_score, missmatch_penalty, gap_penalty)\n",
    "\n",
    "print('Alignment:')\n",
    "print(seq1_align)\n",
    "print(seq2_align)"
   ]
  },
  {
   "cell_type": "markdown",
   "metadata": {},
   "source": [
    "# Smith-Waterman algoritam "
   ]
  },
  {
   "cell_type": "markdown",
   "metadata": {},
   "source": [
    "Rastojanja koja smo do sada razmatrali trazila su **globalno poravnanje** - pokusavaju da poravnaju sekvence u celosti. Nekada su pozeljnija poravnanja koja nisu ona sa najvecim *globalnim* skorom, vec da imamo duze regione sekvenci koje se u potpunosti podudaraju, dok se na drugim delovima mogu potpuno razlikovati. Tada govorimo o **lokalnom poravnanju**.\n",
    "\n",
    "Kog globalnog poravnanja nam je bilo vaznije da imamo sto veci broj match-eva, potencijalno sa velikim broje insercija i delecija izmedju svaka dva match-a, dok nam je ovde vazno da imamo sto veci broj susednih match-eva. Zato kod lokalnog poravnanja necemo kaznjavati pocetne i krajnje insercije tj. delecije.\n",
    "\n",
    "<u>Rekurzivno resenje problema:</u>\n",
    "\n",
    "$S[i, 0] = 0, \\hspace{0.3cm} \\forall i$\n",
    "\n",
    "$S[0, j] = 0, \\hspace{0.3cm} \\forall j$\n",
    "\n",
    "$S[i, j] = max \\begin{cases} \n",
    "                    S[i-1, j] + gap\\_penalty \\\\ \n",
    "                    S[i, j-1] + gap\\_penalty \\\\ \n",
    "                    S[i-1, j-1] + match\\_score (seq1[i], seq2[j]) \\\\\n",
    "                    0\n",
    "               \\end{cases}$"
   ]
  },
  {
   "cell_type": "code",
   "execution_count": 8,
   "metadata": {},
   "outputs": [],
   "source": [
    "def smith_waterman(seq1, seq2, match_score, missmatch_penalty, gap_penalty):\n",
    "    n = len(seq1) + 1\n",
    "    m = len(seq2) + 1\n",
    "    \n",
    "    S = [[0 for j in range(m)] for i in range(n)]\n",
    "    BACKTRACK = [[None for j in range(m)] for i in range(n)]\n",
    "    \n",
    "    for i in range(1, n):\n",
    "        #S[i][0] ostavljamo da bude 0 \n",
    "        BACKTRACK[i][0] = (i-1, 0) \n",
    "        \n",
    "    for j in range(1, m):\n",
    "        #S[0][j] ostavljamo da bude 0 \n",
    "        BACKTRACK[0][j] = (0, j-1)\n",
    "        \n",
    "    for i in range(1, n):\n",
    "        for j in range(1, m):\n",
    "            from_top = S[i-1][j] + gap_penalty\n",
    "            from_left = S[i][j-1] + gap_penalty\n",
    "            from_diagonal = S[i-1][j-1] + (match_score if seq1[i-1] == seq2[j-1] else missmatch_penalty)\n",
    "                \n",
    "            S[i][j] = max(from_top, from_left, from_diagonal, 0)    \n",
    "            \n",
    "            if S[i][j] == from_top:\n",
    "                BACKTRACK[i][j] = (i-1, j)\n",
    "            elif S[i][j] == from_left:\n",
    "                BACKTRACK[i][j] = (i, j-1)\n",
    "            else:\n",
    "                BACKTRACK[i][j] = (i-1, j-1)        #NAPOMENA:ovde podpada i slucaj kada je S[i][j] = 0, ali \n",
    "                                                    #nam u tom slucaju nije bitno odakle smo dosli do cvora (i, j) \n",
    "                                                    #jer prilikom rekonstrukcije putanje kada naidjemo na \n",
    "                                                    #S[i][j] = 0 tu zaustavljamo backtracking!\n",
    "                            \n",
    "    #pronalazimo poziciju max vrednost u matrici S (skor najboljeg lokalnog poravnanja) \n",
    "    #odakle zapocinjemo putanju (tj. poravnanje) koja odgovara izracunatom skoru\n",
    "    max_score = float('-inf')\n",
    "    max_score_pos = None\n",
    "    \n",
    "    for i in range(n):\n",
    "        for j in range(m):\n",
    "            if S[i][j] > max_score:\n",
    "                max_score = S[i][j]\n",
    "                max_score_pos = (i, j)\n",
    "                \n",
    "    (max_i, max_j) = max_score_pos\n",
    "    \n",
    "    score = S[max_i][max_j]\n",
    "    (seq1_align, seq2_align) = backtracking_alignment_sw(BACKTRACK, S, max_i, max_j, seq1, seq2)\n",
    "        \n",
    "    return (score, seq1_align, seq2_align)"
   ]
  },
  {
   "cell_type": "code",
   "execution_count": 9,
   "metadata": {},
   "outputs": [],
   "source": [
    "def backtracking_alignment_sw(BACKTRACK, S, i, j, seq1, seq2):\n",
    "    seq1_align = ''\n",
    "    seq2_align = ''\n",
    "    \n",
    "    while BACKTRACK[i][j] != None and S[i][j] != 0:\n",
    "        if BACKTRACK[i][j] == (i-1, j):\n",
    "            seq1_align = seq1[i-1] + seq1_align\n",
    "            seq2_align = '-' + seq2_align\n",
    "            \n",
    "        elif BACKTRACK[i][j] == (i, j-1):\n",
    "            seq1_align = '-' + seq1_align\n",
    "            seq2_align = seq2[j-1] + seq2_align\n",
    "            \n",
    "        else:\n",
    "            seq1_align = seq1[i-1] + seq1_align\n",
    "            seq2_align = seq2[j-1] + seq2_align\n",
    "            \n",
    "        (i, j) = BACKTRACK[i][j]\n",
    "        \n",
    "    #seq1_align = seq1[:i] + seq1_align + seq1[max_i:] \n",
    "    #seq2_align = ('-' * i) + seq2_align + ('-' * (n - 1 - max_i))    \n",
    "        \n",
    "    return (seq1_align, seq2_align)    "
   ]
  },
  {
   "cell_type": "code",
   "execution_count": 10,
   "metadata": {},
   "outputs": [],
   "source": [
    "gap_penalty = -2\n",
    "missmatch_penalty = -1\n",
    "match_score = 2\n",
    "\n",
    "seq1 = 'AGTCGTGATCGTTGTA'\n",
    "seq2 = 'GTATGAA'"
   ]
  },
  {
   "cell_type": "code",
   "execution_count": 11,
   "metadata": {},
   "outputs": [
    {
     "name": "stdout",
     "output_type": "stream",
     "text": [
      "Score:  7\n",
      "Alignment:\n",
      "GTCGTGA\n",
      "GTA-TGA\n"
     ]
    }
   ],
   "source": [
    "(score, seq1_align, seq2_align) = smith_waterman(seq1, seq2, match_score, missmatch_penalty, gap_penalty)\n",
    "\n",
    "print('Score: ', score)\n",
    "print('Alignment:')\n",
    "print(seq1_align)\n",
    "print(seq2_align)"
   ]
  },
  {
   "cell_type": "code",
   "execution_count": 12,
   "metadata": {},
   "outputs": [
    {
     "name": "stdout",
     "output_type": "stream",
     "text": [
      "Alignment:\n",
      "AGTCGTGATCGTTGTA\n",
      "----GT-A----TGAA\n"
     ]
    }
   ],
   "source": [
    "(seq1_align, seq2_align) = hirschberg(seq1, seq2, match_score, missmatch_penalty, gap_penalty)\n",
    "\n",
    "print('Alignment:')\n",
    "print(seq1_align)\n",
    "print(seq2_align)"
   ]
  },
  {
   "cell_type": "markdown",
   "metadata": {},
   "source": [
    "# Affine gap penalty alignment"
   ]
  },
  {
   "cell_type": "markdown",
   "metadata": {},
   "source": [
    "Do sada smo insercije i delecije kaznjavali fiksno. Iako smo kod lokalnog poravnanja dozvolili besplatnim taksi voznjama da se insercije i delecije sa pocetka i sa kraja ne kaznjavaju, i dalje bi se sve one koje se desavaju u unutrasnjosti podniski koje poravnavamo kaznjavale na isti nacin, nevezano od toga gde su se pojavile. Iz bioloske perspektive pozeljno je manje kaznjavati insercije i delecije koje se pojavljuju uzastopno, u odnosu na to kada se pojavljuju pojedinacno, **zato sto niz uzastopnih insercija i delecija cesto predstavlja jedan isti evolutivni dogadjaj, dok pojedinacne insercije i delecije razlicite evolutivne dogadjaje**. Ovo ima smisla jer bismo time ukazali na to koje su niske evolutivno vise slicne, odnosno razlicite.\n",
    "\n",
    "Afina kazna za praznine (insercije i delecije) podrazumeva sledeci nacin kaznjavanja:\n",
    "- **sigma** - kazna za otvaranje praznine (tj. novog niza praznina)\n",
    "- **epsilon** - kazna za prosirenje praznine (tj. za svaku sledecu uzastopnu prazninu) \n",
    "\n",
    "Pri tome, da bismo postigli efekat manjeg kaznjavanja uzastopnih praznina u odnosu na pojedinacne, potrebno je da vazi **sigma > epsilon**.\n",
    "\n",
    "Pravimo graf 3-slojni graf takav da: \n",
    "- donji sloj koji ima samo grane koje odgovaraju insercijama (grane na dole) \n",
    "- srednji sloj koji ima samo grane koje odgovaraju poravnaju istih ili razlicitih simbola (dijagonalne grane) \n",
    "- gornji sloj koji ima samo grane koje odgovaraju delecijama (grane u desno) \n",
    "\n",
    "Osim grana izmedju cvorova u okviru istog sloja imamo i grane izmedju cvorova iz donjeg sloja u srednji sloj, iz srednjeg sloja u donji i u gornji sloj, i iz gornjeg sloja u srednji sloj. Te grane postoje samo izmedju cvorova koji imaju susedne/iste koordinate u okviru razlicitih slojeva. Npr. iz cvora (1, 1) u srednjem sloju mozemo stici do cvora (1, 2) u donjem sloju i do cvora (2, 1) u gornjem sloju (pomeramo se sa koordinatama za jednu poziciju dole, odnosno u desno). Ukoliko se vracamo iz donjeg ili gornjeg sloja, tada prelazimo u cvor sa istom koordinatom. **Ove grane odgovaraju otvaranju i zatvaranju niza praznina - niza insercija ili niza delecija.** \n"
   ]
  },
  {
   "cell_type": "markdown",
   "metadata": {},
   "source": [
    "<img src=\"assets/affine_gap_alignment.png\" width=\"750\">  "
   ]
  },
  {
   "cell_type": "markdown",
   "metadata": {},
   "source": [
    "Formule za izracunavanje matrica S_LOWER, S_MIDDLE i S_UPPER koje pridruzujemo slojevima grafa:\n",
    "\n",
    "$\\begin{cases}\n",
    "    S\\_MIDDLE [0, 0] = 0 \\\\\n",
    "    S\\_MIDDLE [i, 0] = \\infty, \\hspace{2.3cm} \\forall i > 1 \\\\\n",
    "    S\\_MIDDLE [0, j] = \\infty, \\hspace{2.3cm} \\forall j > 1\n",
    "\\end{cases}$\n",
    "\n",
    "$\\begin{cases}\n",
    "    S\\_LOWER [i, 0] = \\sigma + (i-1) \\cdot \\epsilon, \\hspace{0.3cm} \\forall i > 1 \\\\\n",
    "    S\\_LOWER [0, j] = \\infty, \\hspace{2.4cm} \\forall j\n",
    "\\end{cases}$\n",
    "\n",
    "$\\begin{cases}\n",
    "    S\\_UPPER [0, j] = \\sigma + (j-1) \\cdot \\epsilon, \\hspace{0.4cm} \\forall j > 1 \\\\\n",
    "    S\\_UPPER [i, 0] = \\infty, \\hspace{2.5cm} \\forall i \n",
    "\\end{cases}$\n",
    "\n",
    "$S\\_LOWER [i, j] = max \\begin{cases} \n",
    "                    S\\_LOWER[i-1, j] + \\epsilon \\\\ \n",
    "                    S\\_MIDDLE[i-1, j] + \\sigma \n",
    "               \\end{cases}$\n",
    "\n",
    "$S\\_UPPER [i, j] = max \\begin{cases} \n",
    "                    S\\_UPPER[i, j-1] + \\epsilon \\\\ \n",
    "                    S\\_MIDDLE[i, j-1] + \\sigma \n",
    "               \\end{cases}$\n",
    "               \n",
    "$S\\_MIDDLE [i, j] = max \\begin{cases} \n",
    "                    S\\_LOWER[i, j] \\\\\n",
    "                    S\\_UPPER[i, j] \\\\\n",
    "                    S\\_MIDDLE[i-1, j + match\\_score (seq1[i], seq2[j])  \n",
    "               \\end{cases}$               \n",
    "               \n",
    "Vrstu po vrstu racunamo paralelno vrednosti ove 3 matrice, i to u sledecem redosledu: prvo racunamo tekucu vrstu za S_LOWER i S_UPPER jer one zavise samo od njihove prethodne vrste i prethodne vrste iz S_MIDDLE, a na kraju racunamo za S_MIDDLE jer njena tekuca vrsta zavise od nejne prethodne vrste i od tekucih vrsta S_LOWER i S_UPPER.                "
   ]
  },
  {
   "cell_type": "code",
   "execution_count": 13,
   "metadata": {},
   "outputs": [],
   "source": [
    "def affine_gap_alignment(seq1, seq2, match_score, missmatch_penalty, epsilon, sigma):\n",
    "    n = len(seq1) + 1\n",
    "    m = len(seq2) + 1\n",
    "    \n",
    "    S_LOWER = [[0 for j in range(m)] for i in range(n)]\n",
    "    S_MIDDLE = [[0 for j in range(m)] for i in range(n)]\n",
    "    S_UPPER = [[0 for j in range(m)] for i in range(n)]\n",
    "    BACKTRACK = [[None for j in range(m)] for i in range(n)]\n",
    "    \n",
    "    #kako kretanje kroz 3-slojni graf polazimo iz cvora sa koordinatama (0, 0) u srednjem sloju, \n",
    "    #i grana koje prelaskom u donji ili gornji sloj prelaze u cvor sa jednom koordinatom uvecanom\n",
    "    #u odnosu na polazni cvor, to znaci da u cvorove u donjem sloju sa prvom koordinatom 0 i u \n",
    "    #cvorove u gornjem sloju sa drugom koordinatom 0 nikada ne mozemo da dodjemo; takodje, polazeci\n",
    "    #iz cvora sa koordinatama (0, 0) i krecuci se dijagonalnim granama na srednjem sloju, nikada \n",
    "    #necemo moci da dodjemo do cvorova sa koordinatama (0, j) i (i, 0), za i, j > 0\n",
    "    \n",
    "    for j in range(m):\n",
    "        S_LOWER[0][j] = float('-inf')\n",
    "        \n",
    "    for i in range(n):\n",
    "        S_UPPER[i][0] = float('-inf')\n",
    "        \n",
    "    for j in range(1, m):\n",
    "        S_MIDDLE[0][j] = float('-inf')\n",
    "        \n",
    "    for i in range(1, n):\n",
    "        S_MIDDLE[i][0] = float('-inf')\n",
    "        \n",
    "    #posebno racunamo putanje za cvorove u 1.koloni na donjem sloju i cvorove u 1.vrsti na gornjem sloju, \n",
    "    #jer do njih mozemo stici samo pomocu 1 grane --> jednoznacno odredjena putanja     \n",
    "        \n",
    "    for i in range(1, n):\n",
    "        S_LOWER[i][0] = sigma + (i-1) * epsilon\n",
    "        BACKTRACK[i][0] = (i-1, 0)\n",
    "        \n",
    "    for j in range(1, m):\n",
    "        S_UPPER[0][j] = sigma + (j-1) * epsilon\n",
    "        BACKTRACK[0][j] = (0, j-1)\n",
    "        \n",
    "    #opsti slucaj    \n",
    "        \n",
    "    for i in range(1, n):\n",
    "        for j in range(1, m):\n",
    "            S_LOWER[i][j] = max(S_LOWER[i-1][j] + epsilon, \n",
    "                                S_MIDDLE[i-1][j] + sigma)\n",
    "            \n",
    "            S_UPPER[i][j] = max(S_UPPER[i][j-1] + epsilon, \n",
    "                                S_MIDDLE[i][j-1] + sigma)\n",
    "            \n",
    "            S_MIDDLE[i][j] = max(S_LOWER[i][j], \n",
    "                                 S_UPPER[i][j], \n",
    "                                 S_MIDDLE[i-1][j-1] + (match_score if seq1[i-1] == seq2[j-1] else missmatch_penalty))\n",
    "            \n",
    "            if S_MIDDLE[i][j] == S_LOWER[i][j]:\n",
    "                BACKTRACK[i][j] = (i-1, j)\n",
    "            elif S_MIDDLE[i][j] == S_UPPER[i][j]:\n",
    "                BACKTRACK[i][j] = (i, j-1)\n",
    "            else:\n",
    "                BACKTRACK[i][j] = (i-1, j-1)\n",
    "     \n",
    "    #print(S_MIDDLE)\n",
    "    #print(S_UPPER)\n",
    "    #print(S_LOWER)\n",
    "        \n",
    "    #zavisi da li smo zavrsili sa insercijom, poravnjanjem karaktera ili delecijom    \n",
    "    score = max(S_LOWER[n-1][m-1], S_MIDDLE[n-1][m-1], S_UPPER[n-1][m-1])\n",
    "    (seq1_align, seq2_align) = backtracking_alignment(BACKTRACK, n, m, seq1, seq2)\n",
    "    \n",
    "    return (score, seq1_align, seq2_align)"
   ]
  },
  {
   "cell_type": "code",
   "execution_count": 14,
   "metadata": {},
   "outputs": [
    {
     "name": "stdout",
     "output_type": "stream",
     "text": [
      "Score:  1\n",
      "Alignment:\n",
      "AACGCT\n",
      "A---CT\n"
     ]
    }
   ],
   "source": [
    "sigma = -10\n",
    "epsilon = -2\n",
    "match_score = 5\n",
    "missmatch_penalty = -1\n",
    "\n",
    "seq1 = 'AACGCT'\n",
    "seq2 = 'ACT'\n",
    "\n",
    "(score, seq1_align, seq2_align) = affine_gap_alignment(seq1, seq2, match_score, missmatch_penalty, epsilon, sigma)\n",
    "\n",
    "print('Score: ', score)\n",
    "print('Alignment:')\n",
    "print(seq1_align)\n",
    "print(seq2_align)"
   ]
  }
 ],
 "metadata": {
  "kernelspec": {
   "display_name": "Python 3",
   "language": "python",
   "name": "python3"
  },
  "language_info": {
   "codemirror_mode": {
    "name": "ipython",
    "version": 3
   },
   "file_extension": ".py",
   "mimetype": "text/x-python",
   "name": "python",
   "nbconvert_exporter": "python",
   "pygments_lexer": "ipython3",
   "version": "3.8.10"
  }
 },
 "nbformat": 4,
 "nbformat_minor": 4
}
