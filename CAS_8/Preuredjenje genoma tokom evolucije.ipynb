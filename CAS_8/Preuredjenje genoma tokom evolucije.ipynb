{
 "cells": [
  {
   "cell_type": "code",
   "execution_count": null,
   "metadata": {},
   "outputs": [],
   "source": []
  },
  {
   "cell_type": "markdown",
   "metadata": {},
   "source": [
    "Preuredjenje genoma tokom evolucije predstavlja niz razlicitih evolutivnih transformacija genoma koje su desavale tokom godina i koje su dovodile do odvajanja razlicitih vrsta organizama od zajednickog pretka. Posmatracemo genome orgnizama koji danas postoje i traziti koliko je evolutivnih transformacija potrebno da se od jednog genoma dobije drugi, odnosno koji je niz transformacija potreban da se od jedne vrste organizama dodje do zajednickog pretka, a zatim od zadjednickog pretka do druge vrste organizama.\n",
    "\n",
    "<img src=\"assets/synteny_blocks.png\" width=\"650\"> \n",
    "\n",
    "Umesto na nivou nukleotida posmatracemo genome na visem nivou - nivo tzv. **sinteni blokovi**, blokova konzerviranih susednih gena. Posmatranje preuredjenja genoma cemo ograniciti samo na jednu vrstu evolutivnih transformacija genoma - tzv. **inverzija** (eng. *reversal*). Ta vrsta transformacije genoma podrazumevamo sledeci evolutivni dogadjaj: sekvenca se uvrne, pa pukne na mestu gde se dodiruju, i onda se uspostave nove veze izmedju razlicitih krajeva koji su nastali pucanjem. Podrazumevacemo da se uvrtanje i prekid sekvence moze dogoditi samo na mestima izmedju pojedinacnih blokova sintenije, tj. da ne moze doci do deljenja blokova sintenije. Ovakva vrsta transformacije menja redosled i usmerenje blokova sintenije u genomu izmedju 2 tacke prekida (koje su nastale prilikom uvrtanja sekvence) tako da blokovi idu u obrnutom redosledu i imaju drugacije usmerenje nego pre uvrtanja. \n",
    "\n",
    "<img src=\"assets/chromosomal_inversion.png\" width=\"650\"> \n",
    "\n",
    "Ovakva ogranicenja imaju bioloskog smisla, jer ukoliko blok gena promeni poziciju u okviru genoma, pa cak i usmerenje, to je i dalje jedan isti blok gena, tj. na osnovu tih gena i dalje mogu da se sintetisu isti proteini, samo je potrebno da se ti delovi sekvenci citaju u drugom smeru (tj. sa drugog lanca DNK). Dok, ukoliko bi doslo do prekida bloka sintenije, tada vise ne bi mogli da se sintetisu proteini za koje su bili zaduzeni ti geni, i takav organizam ne bi preziveo, pa zato takve slucajeve ne razmatramo. \n",
    "\n",
    "Kod jednog (referentnog) genoma blokove obelezavamo redom pozitivnim celim brojevima, a kod drugog genoma (onog koji poredimo sa referentnim genomom) blokove obelezavamo tako da imaju oznaku kao odgovarajuci sinteni blok u prvom genomu, pri cemu ukoliko je blok usmeren u suprotnom smeru od usmerenja u prvom genomu, tada oznaci dodajemo predznak '-'. **Na ovaj nacin smo sveli problem na trazenje niza transformacija koje neku permutaciju (niz oznaka sintenih blokova drugog genoma) prevodi u jedinicnu permutaciju (niz oznaka blokova prvog, referentnog genoma).** \n",
    "\n",
    "<img src=\"assets/genome_rearangement_scenario.png\" width=\"600\"> "
   ]
  },
  {
   "cell_type": "markdown",
   "metadata": {},
   "source": [
    "# Greedy Algoritithm for Sorting by Reversals"
   ]
  },
  {
   "cell_type": "markdown",
   "metadata": {},
   "source": [
    "Govorimo o sortiranju, jer smo rekli da transformisemo proizvoljnu permutaciju do jedinicne permutacije, sto odgovara tome da uzimamo proizvoljan neuredjen niz brojeva i sortiramo ga. Jedina dozvoljena operacija kojom mozemo da transformisemo niz jeste rotacija podniza koja obrce redosled elemenata podniza i menja im znak. Pohlepan pristup se zasniva na tome da u svakom koraku primenom jedne (ili dve) rotacije postavimo na svoje mesto jedan element niza.\n",
    "\n",
    "<img src=\"assets/reversal_transformation.png\" width=\"650\"> "
   ]
  },
  {
   "cell_type": "markdown",
   "metadata": {},
   "source": [
    "Funkcija **apply_soorting_reversal** primenjuje rotaciju (inverziju) na permutaciju **P** (niz sintenih blokova) tako da na indeks **k** postavi element koji <u>prema apsolutnoj vrednosti</u> treba da stoji na toj poziciji u sortiranom redosledu. Pretpostavka je da su elementi do indeksa **k** vec sortirani."
   ]
  },
  {
   "cell_type": "code",
   "execution_count": 1,
   "metadata": {},
   "outputs": [],
   "source": [
    "def apply_sorting_reversal_bob9952(P, k):\n",
    "    n = len(P)\n",
    "\n",
    "    # znaci tako da na indeks k, postavi element koji prema aps vr treba da stoji na toj poziciji u sortiranom redosteldu\n",
    "    # PP. indeksi niza do k vec sortirani\n",
    "    for i in range(k, n):      \n",
    "        if abs(P[i]) == k+1:  # na indeksu k treba da stoji element sa abs vrednoscu k + 1 \n",
    "            Left = P[:k]   # P[0:3]  1 2 3 \n",
    "            Mid = P[k:i+1]  # P[3:8] -8 -7 -6 -5 -4\n",
    "            Right = P[i+1:] # P[8:end] 9 10 \n",
    "            \n",
    "            return Left + [-x for x in Mid[::-1]] + Right "
   ]
  },
  {
   "cell_type": "code",
   "execution_count": 2,
   "metadata": {},
   "outputs": [],
   "source": [
    "def apply_sorting_reversal(P, k):\n",
    "    n = len(P)\n",
    "    \n",
    "    for i in range(k, n):\n",
    "        if abs(P[i]) == k+1:      #na indeksu k treba da stoji element sa abs vrednoscu k+1\n",
    "            Left = P[:k]\n",
    "            Mid = P[k:i+1]\n",
    "            Right = P[i+1:]\n",
    "            \n",
    "            return Left + [-x for x in Mid[::-1]] + Right"
   ]
  },
  {
   "cell_type": "code",
   "execution_count": 3,
   "metadata": {},
   "outputs": [
    {
     "name": "stdout",
     "output_type": "stream",
     "text": [
      "[1, 2, 3, 4, 5, 6, 7, 8, 9, 10]\n"
     ]
    }
   ],
   "source": [
    "P = [1, 2, 3, -8, -7, -6, -5, -4, 9, 10]\n",
    "\n",
    "print(apply_sorting_reversal(P, 3))"
   ]
  },
  {
   "cell_type": "code",
   "execution_count": 4,
   "metadata": {},
   "outputs": [
    {
     "name": "stdout",
     "output_type": "stream",
     "text": [
      "[1, 2, 3, 4, 5, 6, 7, 8, 9, 10]\n"
     ]
    }
   ],
   "source": [
    "P = [1, 2, 3, -8, -7, -6, -5, -4, 9, 10]\n",
    "\n",
    "print(apply_sorting_reversal_bob9952(P, 3))"
   ]
  },
  {
   "cell_type": "markdown",
   "metadata": {},
   "source": [
    "Funkcija **greedy_sorting_by_reversals** prevodi permutaciju **P** u jedinicnu permutaciju i racuna broj potrebnih rotacija."
   ]
  },
  {
   "cell_type": "code",
   "execution_count": 8,
   "metadata": {},
   "outputs": [],
   "source": [
    "def greedy_sorting_by_reversals(P, verbose=False):\n",
    "    permutation_distance = 0\n",
    "    \n",
    "    n = len(P)\n",
    "    \n",
    "    for k in range(n):\n",
    "        if P[k] != k+1:     #k-ti element nije na svom mestu\n",
    "            P = apply_sorting_reversal(P, k)\n",
    "            permutation_distance += 1\n",
    "            \n",
    "            if verbose:\n",
    "                print(P)\n",
    "            \n",
    "        #nakon primene prethodne rotacije moze se desiti da smo doveli dobar blok na svoje mesto \n",
    "        #ali da ima pogresno usmerenje, pa je potrebno izvrsiti jos jednu rotaciju samo oko njega      \n",
    "        if P[k] == -(k+1):  \n",
    "            P[k] = -P[k]\n",
    "            permutation_distance += 1\n",
    "            \n",
    "            if verbose:\n",
    "                print(P)\n",
    "            \n",
    "    return permutation_distance"
   ]
  },
  {
   "cell_type": "code",
   "execution_count": 13,
   "metadata": {},
   "outputs": [],
   "source": [
    "def greedy_sorting_by_reversals_bob9952(P, verbose=False):\n",
    "    n = len(P)\n",
    "\n",
    "    permutation_distance = 0 \n",
    "    \n",
    "    for k in range(n):\n",
    "        if abs(P[k]) != k+1:\n",
    "            P = apply_sorting_reversal(P, k)\n",
    "            # ?? \n",
    "            permutation_distance +=1 \n",
    "\n",
    "            if verbose:\n",
    "                print(P)\n",
    "\n",
    "        #nakon primene prethodne rotacije moze se desiti da smo doveli dobar blok na svoje mesto \n",
    "        #ali da ima pogresno usmerenje, pa je potrebno izvrsiti jos jednu rotaciju samo oko njega    \n",
    "        if (-P[k]) == k+1:\n",
    "            P[k] = -P[k]\n",
    "            permutation_distance +=1 \n",
    "\n",
    "            if verbose:\n",
    "                print(P)\n",
    "\n",
    "    return permutation_distance\n",
    "            "
   ]
  },
  {
   "cell_type": "code",
   "execution_count": 10,
   "metadata": {},
   "outputs": [
    {
     "name": "stdout",
     "output_type": "stream",
     "text": [
      "[1, -2, 8, -9, 10, -6, 7, -11, -3, 5, 4]\n",
      "[1, 2, 8, -9, 10, -6, 7, -11, -3, 5, 4]\n",
      "[1, 2, 3, 11, -7, 6, -10, 9, -8, 5, 4]\n",
      "[1, 2, 3, -4, -5, 8, -9, 10, -6, 7, -11]\n",
      "[1, 2, 3, 4, -5, 8, -9, 10, -6, 7, -11]\n",
      "[1, 2, 3, 4, 5, 8, -9, 10, -6, 7, -11]\n",
      "[1, 2, 3, 4, 5, 6, -10, 9, -8, 7, -11]\n",
      "[1, 2, 3, 4, 5, 6, -7, 8, -9, 10, -11]\n",
      "[1, 2, 3, 4, 5, 6, 7, 8, -9, 10, -11]\n",
      "[1, 2, 3, 4, 5, 6, 7, 8, 9, 10, -11]\n",
      "[1, 2, 3, 4, 5, 6, 7, 8, 9, 10, 11]\n",
      "11\n"
     ]
    }
   ],
   "source": [
    "P = [+1, -7, +6, -10, +9, -8, +2, -11, -3, +5, +4]\n",
    "\n",
    "permutation_distance = greedy_sorting_by_reversals(P, True)\n",
    "\n",
    "print(permutation_distance)"
   ]
  },
  {
   "cell_type": "code",
   "execution_count": 14,
   "metadata": {},
   "outputs": [
    {
     "name": "stdout",
     "output_type": "stream",
     "text": [
      "[1, -2, 8, -9, 10, -6, 7, -11, -3, 5, 4]\n",
      "[1, 2, 8, -9, 10, -6, 7, -11, -3, 5, 4]\n",
      "[1, 2, 3, 11, -7, 6, -10, 9, -8, 5, 4]\n",
      "[1, 2, 3, -4, -5, 8, -9, 10, -6, 7, -11]\n",
      "[1, 2, 3, 4, -5, 8, -9, 10, -6, 7, -11]\n",
      "[1, 2, 3, 4, 5, 8, -9, 10, -6, 7, -11]\n",
      "[1, 2, 3, 4, 5, 6, -10, 9, -8, 7, -11]\n",
      "[1, 2, 3, 4, 5, 6, -7, 8, -9, 10, -11]\n",
      "[1, 2, 3, 4, 5, 6, 7, 8, -9, 10, -11]\n",
      "[1, 2, 3, 4, 5, 6, 7, 8, 9, 10, -11]\n",
      "[1, 2, 3, 4, 5, 6, 7, 8, 9, 10, 11]\n",
      "11\n"
     ]
    }
   ],
   "source": [
    "P = [+1, -7, +6, -10, +9, -8, +2, -11, -3, +5, +4]\n",
    "\n",
    "permutation_distance = greedy_sorting_by_reversals_bob9952(P, True)\n",
    "\n",
    "print(permutation_distance)"
   ]
  },
  {
   "cell_type": "code",
   "execution_count": 11,
   "metadata": {},
   "outputs": [],
   "source": [
    "# nije minimalan broj, ali daje resenje ( valjda )\n"
   ]
  },
  {
   "cell_type": "markdown",
   "metadata": {},
   "source": [
    "Uporedjivanjem sa slikom gore, vidimo da greedy pristup ne daje minimalan broj inverzija koje transformisu jedan genom u drugi (na slici je prikazano 7 inverzija)."
   ]
  },
  {
   "cell_type": "markdown",
   "metadata": {},
   "source": [
    "# Shortest Rearrangement Scenario Algorithm"
   ]
  },
  {
   "cell_type": "markdown",
   "metadata": {},
   "source": [
    "Smatra se da *evolucija uvek ide kracim putem*, tj. da prati put koji zahteva najmanje promena, sto znaci da je najkraci niz inverzija koji transformise jedan genom u drugi onaj koji se evolutivno i desio. Stoga, nas problem se svodi na izracunavanje rastojanja permutacija. Bioloski gledano, rastojanje permutacija odgovara tome koliko je evolutivno udaljen jedan oragnizam od drugog.\n",
    "\n",
    "**Rastojanje permutacija:** Najmani broj promena potrebnih za transformisanje jedne permutacije u drugu.\n",
    "\n",
    "Umesto linearno redosled sintenih blokova u genomu cemo sada predstavljati cirkularno, i to svaki od hromozoma pojedinacno. Takva struktura nam je pogodnija za implementaciju algoritma koji pronalazi najmanji broj potrebnih inverzija da se redosled sintenih blokova jednog genoma transformise u redosled sintenih blokova drugog (referentnog) genoma. Takodje, posmatranje problema preuredjenja genoma uopstiti na multihromozomalne genome, s obzirom da se algoritam **Shortest Rearrangement Scenario Algorithm** po konstrukciji moze primeniti kako za preuredjenje pojedinacnih hromozoma, tako i za preuredjenje vise hromozoma odjednom."
   ]
  },
  {
   "cell_type": "markdown",
   "metadata": {},
   "source": [
    "## Cirkularna reprezentacija genoma"
   ]
  },
  {
   "cell_type": "markdown",
   "metadata": {},
   "source": [
    "<img src=\"assets/genome_circular_representation.png\" width=\"250\"> \n",
    "\n",
    "Funkcija **chromosome_to_cycle** pravi cirkularnu reprezentaciju na osnovu linearne reprezentacije hromozoma **chromosome**. Cirkularnu reprezentaciju pojedinacnih hromozoma predstavljamo nizom cvorova cirkularnog grafa, pri cemu cvorove navodimo u redosledu koji odgovara redosledu obilaska usmerenih grana koje smo pridruzili svakom od blokova sintenije iz linearne reprezentacije.\n",
    "\n",
    "Usmerene grane predstavljamo parom cvorova (polazni_cvor, dolazni_cvor). Za usmerenu granu koju pridruzujemo bloku sintenije sa oznakom **k** polazni_cvor obelezavamo sa **2k-1**, a dolazni_cvor sa **2k**."
   ]
  },
  {
   "cell_type": "code",
   "execution_count": 15,
   "metadata": {},
   "outputs": [],
   "source": [
    "def chromosome_to_cycle_bob9952(chromosome):\n",
    "    n = len(chromosome)\n",
    "\n",
    "    cycle = [0] * (2*n) # duplo vise grana valjda zbog toga je 2*n ? ako je n broj cvorova ? \n",
    "\n",
    "    for i in range(n):\n",
    "        j = chromosome[i]\n",
    "\n",
    "        # pozitivno orj granu obilazimo od polaznog cvora do dolaznog cvora \n",
    "        if j > 0:\n",
    "            cycle[2*i] = 2 * j - 1\n",
    "            cycle[2*i + 1] =  2 * j\n",
    "        else: \n",
    "            # negativno orj granu obilazimo od dolaznog cvora do polaznog cvora\n",
    "            cycle[2 * i] = -2 * j\n",
    "            cycle[2 * i + 1] = -2 * j - 1\n",
    "        print(cycle)\n",
    "    return cycle"
   ]
  },
  {
   "cell_type": "code",
   "execution_count": 16,
   "metadata": {},
   "outputs": [],
   "source": [
    "def chromosome_to_cycle(chromosome):\n",
    "    n = len(chromosome)\n",
    "    \n",
    "    cycle = [0] * (2*n)      #NAPOMENA: obavezno ograditi 2*n!\n",
    "    \n",
    "    for i in range(n):\n",
    "        j = chromosome[i]\n",
    "        \n",
    "        #pozitivno orijentisanu granu obilazimo od polaznog_cvora do dolaznog_cvora\n",
    "        if j>0:     \n",
    "            cycle[2*i] = 2*j - 1\n",
    "            cycle[2*i + 1] = 2*j\n",
    "            \n",
    "        #negativno orijentisanu granu obilazimo od dolaznog_cvora do polaznog_cvora    \n",
    "        else:\n",
    "            cycle[2*i] = -2*j\n",
    "            cycle[2*i + 1] = -2*j - 1\n",
    "            \n",
    "    return cycle"
   ]
  },
  {
   "cell_type": "code",
   "execution_count": 17,
   "metadata": {},
   "outputs": [
    {
     "name": "stdout",
     "output_type": "stream",
     "text": [
      "[1, 2, 4, 3, 6, 5, 7, 8]\n"
     ]
    }
   ],
   "source": [
    "chromosome = [+1, -2, -3, +4]\n",
    "\n",
    "print(chromosome_to_cycle(chromosome))"
   ]
  },
  {
   "cell_type": "code",
   "execution_count": 18,
   "metadata": {},
   "outputs": [
    {
     "name": "stdout",
     "output_type": "stream",
     "text": [
      "[1, 2, 0, 0, 0, 0, 0, 0]\n",
      "[1, 2, 4, 3, 0, 0, 0, 0]\n",
      "[1, 2, 4, 3, 6, 5, 0, 0]\n",
      "[1, 2, 4, 3, 6, 5, 7, 8]\n",
      "[1, 2, 4, 3, 6, 5, 7, 8]\n"
     ]
    }
   ],
   "source": [
    "chromosome = [+1, -2, -3, +4]\n",
    "\n",
    "print(chromosome_to_cycle_bob9952(chromosome))"
   ]
  },
  {
   "cell_type": "markdown",
   "metadata": {},
   "source": [
    "Funkcija **cycle_to_chromosome** pravi linearnu reprezentaciju na osnovu cirkularne reprezentacije hromozoma **cycle_nodes**."
   ]
  },
  {
   "cell_type": "code",
   "execution_count": 29,
   "metadata": {},
   "outputs": [],
   "source": [
    "def cycle_to_chromosome_bob9952(cycle_nodes):\n",
    "    m = len(cycle_nodes)\n",
    "\n",
    "    chromosome = [0] * (m // 2)\n",
    "\n",
    "    for i in range(0, m, 2):\n",
    "        if cycle_nodes[i] < cycle_nodes[i+1]: # poz orj granu smo obilazili od polaznog do dolaznog cvora\n",
    "            chromosome[i // 2] = cycle_nodes[i+1] // 2\n",
    "        else:\n",
    "            chromosome[i // 2] = -cycle_nodes[i] // 2\n",
    "        print(chromosome)\n",
    "    return chromosome"
   ]
  },
  {
   "cell_type": "code",
   "execution_count": 30,
   "metadata": {},
   "outputs": [],
   "source": [
    "def cycle_to_chromosome(cycle_nodes):\n",
    "    m = len(cycle_nodes)\n",
    "    \n",
    "    chromosome = [0] * (m//2)     #NAPOMENA: obavezno ograditi m//2! \n",
    "    \n",
    "    for j in range(0, m, 2):\n",
    "        #pozitivno orijentisanu granu smo obilazili od polaznog_cvora do dolaznog_cvora \n",
    "        if cycle_nodes[j] < cycle_nodes[j+1]:\n",
    "            chromosome[j//2] = cycle_nodes[j+1] // 2\n",
    "        \n",
    "        #negativno orijentisanu granu smo obilazili od dolaznog_cvora do polaznog_cvora \n",
    "        else:\n",
    "            chromosome[j//2] = -cycle_nodes[j] // 2\n",
    "            \n",
    "    return chromosome"
   ]
  },
  {
   "cell_type": "code",
   "execution_count": 31,
   "metadata": {},
   "outputs": [
    {
     "name": "stdout",
     "output_type": "stream",
     "text": [
      "[1, -2, -3, 4]\n"
     ]
    }
   ],
   "source": [
    "cycle_nodes = [1, 2, 4, 3, 6, 5, 7, 8]\n",
    "\n",
    "print(cycle_to_chromosome(cycle_nodes))"
   ]
  },
  {
   "cell_type": "code",
   "execution_count": 33,
   "metadata": {},
   "outputs": [
    {
     "name": "stdout",
     "output_type": "stream",
     "text": [
      "[1, 0, 0, 0]\n",
      "[1, -2, 0, 0]\n",
      "[1, -2, -3, 0]\n",
      "[1, -2, -3, 4]\n",
      "[1, -2, -3, 4]\n"
     ]
    }
   ],
   "source": [
    "cycle_nodes = [1, 2, 4, 3, 6, 5, 7, 8]\n",
    "\n",
    "print(cycle_to_chromosome_bob9952(cycle_nodes))"
   ]
  },
  {
   "cell_type": "markdown",
   "metadata": {},
   "source": [
    "Funkcija **colored_edges** vraca sve obojene grane (neusmerene grane) cirkularne reprezentacije genoma **P** (niz hromozoma, tj. niz permutacija)."
   ]
  },
  {
   "cell_type": "code",
   "execution_count": 34,
   "metadata": {},
   "outputs": [],
   "source": [
    "def colored_edges(P):\n",
    "    edges = []\n",
    "    \n",
    "    for chromosome in P:\n",
    "        cycle_nodes = chromosome_to_cycle(chromosome)\n",
    "        m = len(cycle_nodes)\n",
    "        \n",
    "        for j in range(1, m-1, 2):\n",
    "            edges.append((cycle_nodes[j], cycle_nodes[j+1]))\n",
    "            \n",
    "        edges.append((cycle_nodes[m-1], cycle_nodes[0]))\n",
    "        \n",
    "    return edges"
   ]
  },
  {
   "cell_type": "code",
   "execution_count": 35,
   "metadata": {},
   "outputs": [
    {
     "name": "stdout",
     "output_type": "stream",
     "text": [
      "[(2, 4), (3, 6), (5, 7), (8, 1)]\n"
     ]
    }
   ],
   "source": [
    "P = [[+1, -2, -3, +4]]        \n",
    "\n",
    "print(colored_edges(P))"
   ]
  },
  {
   "cell_type": "markdown",
   "metadata": {},
   "source": [
    "Funkcija **black_edges** vraca sve crne grane (usmerene grane) cirkularne reprezentacije genoma **P** (niz hromozoma, tj. niz permutacija)."
   ]
  },
  {
   "cell_type": "code",
   "execution_count": 36,
   "metadata": {},
   "outputs": [],
   "source": [
    "def black_edges(P):\n",
    "    edges = []\n",
    "    \n",
    "    for chromosome in P:\n",
    "        cycle_nodes = chromosome_to_cycle(chromosome)\n",
    "        m = len(cycle_nodes)\n",
    "        \n",
    "        for j in range(0, m, 2):\n",
    "            edges.append((cycle_nodes[j], cycle_nodes[j+1]))\n",
    "            \n",
    "    return edges"
   ]
  },
  {
   "cell_type": "code",
   "execution_count": 37,
   "metadata": {},
   "outputs": [
    {
     "name": "stdout",
     "output_type": "stream",
     "text": [
      "[(1, 2), (4, 3), (6, 5), (7, 8)]\n"
     ]
    }
   ],
   "source": [
    "P = [[+1, -2, -3, +4]]       \n",
    "\n",
    "print(black_edges(P))"
   ]
  },
  {
   "cell_type": "markdown",
   "metadata": {},
   "source": [
    "## Cirkularna reprezentacija genoma grafom"
   ]
  },
  {
   "cell_type": "markdown",
   "metadata": {},
   "source": [
    "Pravimo klasu **GenomeGraph** koja na osnovu skupa grana formira graf. Prethodne funckije su nam bile potrebne da bismo mogli da odredimo koje su to grane koje trebaju da udju u graf kojim predstavljamo cirkularnu reprezentaciju genoma (za inicijalizaciju objekta grafa). \n",
    "\n",
    "**NAPOMENA:** Instance klase GenomeGraph bice neusmereni grafovi, medjutim ukoliko nam treba da saznamo koje je usmerenje neke grane, to uvek mozemo da zakljucimo na osnovu numeracije cvorova - polazni cvor uvek ima numeraciju neparnim brojem, a dolazni cvor parnim brojem!"
   ]
  },
  {
   "cell_type": "code",
   "execution_count": 39,
   "metadata": {},
   "outputs": [],
   "source": [
    "class GenomeGraph:\n",
    "    #konstruktorska funkcija (metod)\n",
    "    def __init__(self, edges):\n",
    "        self.adjacency_list = {}\n",
    "        \n",
    "        for (u, v) in edges:\n",
    "            if u not in self.adjacency_list:\n",
    "                self.adjacency_list[u] = []\n",
    "            if v not in self.adjacency_list:\n",
    "                self.adjacency_list[v] = []\n",
    "                \n",
    "            self.adjacency_list[u].append(v)\n",
    "            self.adjacency_list[v].append(u)\n",
    "    \n",
    "    #metod koji vraca listu ciklusa u grafu\n",
    "    def get_cycles(self):\n",
    "        # ovo je lista cvorova ako se ne varam , da \n",
    "        unvisited = list(self.adjacency_list.keys())\n",
    "        \n",
    "        cycles = []\n",
    "        \n",
    "        while len(unvisited) > 0:\n",
    "            # uzmem cvor \n",
    "            v = unvisited[0]\n",
    "\n",
    "            # dodam ga u ciklus \n",
    "            current_cycle = [v]\n",
    "            # uklonim ga iz liste neposeceni\n",
    "            unvisited.remove(v)\n",
    "\n",
    "            # pokusavam da prosirim ciklus dokle god mogu time sto posecujem cvorove\n",
    "            while True:\n",
    "                next_v = None\n",
    "                \n",
    "                for w in self.adjacency_list[v]:\n",
    "                    if w in unvisited:\n",
    "                        next_v = w\n",
    "                        break\n",
    "                        \n",
    "                if next_v == None:\n",
    "                    break\n",
    "                    \n",
    "                current_cycle.append(next_v)\n",
    "                unvisited.remove(next_v)\n",
    "                v = next_v\n",
    "                \n",
    "            # u listu ciklusa dodajem pronadjeni\n",
    "            cycles.append(current_cycle)\n",
    "            \n",
    "        return cycles\n",
    "    \n",
    "    #metod koji iz grafa uklanja neusmerenu granu \n",
    "    def remove_undirected_edge(self, edge):\n",
    "        (u, v) = edge\n",
    "        \n",
    "        self.adjacency_list[u].remove(v)\n",
    "        self.adjacency_list[v].remove(u)\n",
    "       \n",
    "    #metod koji u graf dodaje neusmerenu granu \n",
    "    def add_undirected_edge(self, edge):\n",
    "        (u, v) = edge\n",
    "        \n",
    "        self.adjacency_list[u].append(v)\n",
    "        self.adjacency_list[v].append(u)"
   ]
  },
  {
   "cell_type": "code",
   "execution_count": 41,
   "metadata": {},
   "outputs": [
    {
     "name": "stdout",
     "output_type": "stream",
     "text": [
      "[(1, 2), (4, 3), (6, 5), (7, 8), (9, 10), (11, 12), (2, 4), (3, 6), (5, 7), (8, 1), (10, 11), (12, 9)]\n",
      "[[1, 2, 4, 3, 6, 5, 7, 8], [9, 10, 11, 12]]\n"
     ]
    }
   ],
   "source": [
    "P = [[1, -2, -3, 4], [5, 6]]\n",
    "\n",
    "\n",
    "grane = black_edges(P) + colored_edges(P)\n",
    "print(grane)\n",
    "genome_graph = GenomeGraph(black_edges(P) + colored_edges(P))\n",
    "\n",
    "print(genome_graph.get_cycles())"
   ]
  },
  {
   "cell_type": "markdown",
   "metadata": {},
   "source": [
    "Funkcija **graph_to_genome** vraca linearnu reprezentaciju genoma predstavljenim cirkularnim grafom **genome_graph**."
   ]
  },
  {
   "cell_type": "code",
   "execution_count": 42,
   "metadata": {},
   "outputs": [],
   "source": [
    "def graph_to_genome(genome_graph):\n",
    "    P = []     #prazan niz hromozoma\n",
    "    \n",
    "    cycles = genome_graph.get_cycles()\n",
    "    \n",
    "    for cycle in cycles:\n",
    "        chromosome = cycle_to_chromosome(cycle)\n",
    "        P.append(chromosome)\n",
    "        \n",
    "    return P"
   ]
  },
  {
   "cell_type": "code",
   "execution_count": 43,
   "metadata": {},
   "outputs": [
    {
     "name": "stdout",
     "output_type": "stream",
     "text": [
      "[[1, -2, -3, 4], [5, 6]]\n"
     ]
    }
   ],
   "source": [
    "P = [[1, -2, -3, 4], [5, 6]]\n",
    "\n",
    "genome_graph = GenomeGraph(black_edges(P) + colored_edges(P))\n",
    "\n",
    "print(graph_to_genome(genome_graph))"
   ]
  },
  {
   "cell_type": "markdown",
   "metadata": {},
   "source": [
    "## 2 - prekidi"
   ]
  },
  {
   "cell_type": "markdown",
   "metadata": {},
   "source": [
    "Uvodimo pojam **2-prekida** koji podrazumeva raskidanje dve <u>obojene</u> grane i uspostavljanje dve nove grane na cirkularnoj reprezentaciji genoma grafom. \n",
    "\n",
    "<img src=\"assets/2-break.png\" width=\"550\"> "
   ]
  },
  {
   "cell_type": "markdown",
   "metadata": {},
   "source": [
    "Funkcija **two_break_on_genome_graph** pravi 2-prekid u cirkularnoj reprezentaciji genoma grafom **genome_graph** raskidanjem neusmerenih grana (**i**, **i_p**) i (**j**, **j_p**), i uspostavljanjem novih grana (**i**, **j**) i (**i_p**, **j_p**)."
   ]
  },
  {
   "cell_type": "code",
   "execution_count": 44,
   "metadata": {},
   "outputs": [],
   "source": [
    "def two_break_on_genome_graph(genome_graph, i, i_p, j, j_p):\n",
    "    genome_graph.remove_undirected_edge((i, i_p))\n",
    "    genome_graph.remove_undirected_edge((j, j_p))\n",
    "    \n",
    "    genome_graph.add_undirected_edge((i, j))\n",
    "    genome_graph.add_undirected_edge((i_p, j_p))\n",
    "    \n",
    "    return genome_graph"
   ]
  },
  {
   "cell_type": "code",
   "execution_count": 45,
   "metadata": {},
   "outputs": [
    {
     "name": "stdout",
     "output_type": "stream",
     "text": [
      "[[1, 2, 4, 3, 6, 5, 7, 8]]\n",
      "[[1, 2, 4, 3], [6, 5, 7, 8]]\n"
     ]
    }
   ],
   "source": [
    "P = [[1, -2, -3, 4]]\n",
    "\n",
    "genome_graph = GenomeGraph(black_edges(P) + colored_edges(P))\n",
    "\n",
    "print(genome_graph.get_cycles())                \n",
    "genome_graph = two_break_on_genome_graph(genome_graph, 1, 8, 3, 6)\n",
    "print(genome_graph.get_cycles()) "
   ]
  },
  {
   "cell_type": "markdown",
   "metadata": {},
   "source": [
    "Funcija **two_break_on_genome** pravi cirkularnu reprezentaciju genoma **P** (niz hromozoma, tj. niz permutacija) grafom i nad njim vrsi 2-prekih raskidanjem neusmerenih grana (**i**, **i_p**) i (**j**, **j_p**), i uspostavljanjem novih grana (**i**, **j**) i (**i_p**, **j_p)**. \n",
    "\n",
    "**Graf nam je samo pomocni sredstvo koje nam omogucava da izvrsimo 2-prekid i da nadjemo mesto na kojem treba da se izvrsi 2-prekid.**"
   ]
  },
  {
   "cell_type": "code",
   "execution_count": 46,
   "metadata": {},
   "outputs": [],
   "source": [
    "def two_break_on_genome(P, i, i_p, j, j_p):\n",
    "    genome_graph = GenomeGraph(black_edges(P) + colored_edges(P))\n",
    "    genome_graph = two_break_on_genome_graph(genome_graph, i, i_p, j, j_p)\n",
    "    \n",
    "    P = graph_to_genome(genome_graph)  \n",
    "    \n",
    "    return P"
   ]
  },
  {
   "cell_type": "code",
   "execution_count": 47,
   "metadata": {},
   "outputs": [
    {
     "name": "stdout",
     "output_type": "stream",
     "text": [
      "[[1, -2], [-3, 4]]\n",
      "[[1, -2, -4, 3]]\n"
     ]
    }
   ],
   "source": [
    "P = [[1, -2, -3, 4]]\n",
    "\n",
    "print(two_break_on_genome(P, 1, 8, 3, 6))\n",
    "print(two_break_on_genome(P, 8, 1, 3, 6))        #broj ciklusa se nije povecao jer je izvrsen drugaciji 2-prekid!"
   ]
  },
  {
   "cell_type": "markdown",
   "metadata": {},
   "source": [
    "## Break Point graf"
   ]
  },
  {
   "cell_type": "markdown",
   "metadata": {},
   "source": [
    "Algoritam za nalazenje minimalnog broja transformacija potrebnog da se genom **P** transformise u genom **Q** se zasniva na tzv. **Break Point grafu**.  \n",
    "\n",
    "Break Point graf za genome P i Q formiramo na sledeci nacin: <br/> \n",
    "-formiramo cirkularnu reprezentaciju za genom Q <br/>\n",
    "-formiramo cirkularnu reprezentaciju za genom P, ali takvu da raspored crnih grana bude isti kao u cirkularnoj reprezentaciji za Q (**cirkularna reprezentacija nije jedinstvena!**) <br/>\n",
    "-tzv. obojene grane u P obojimo crvenom bojom, a obojene grane u Q plavom bojom <br/>\n",
    "-preklopimo cirkularne reprezentacije za P i Q <br/>\n",
    "-iz dobijenog grafa eliminisemo crne grane \n",
    "\n",
    "U ovako formiranom grafu ostaju samo crvene i plave grane, takve da formiraju alternirajuce cikluse - naizmenicno idu crvene i plave grane. Dobijeni **neusmereni** graf koji se sastoji samo od crvenih i plavih grana je Break Point graf za P i Q.\n",
    "\n",
    "<img src=\"assets/breakpoint_graph.png\" width=\"800\">\n",
    "\n",
    "Algoritam **shortest_rearangement_scenario** transformise genom **P** u genom **Q** tako sto formira Break Point graf za P i Q, a zatim vrsi 2-prekide nad dobijenim grafom tako da razbija alternirajuce cikluse na manje, sve dok u grafu ne ostanu samo trivijalni alterinrajuci ciklusi (alternirajuci ciklus od dve grane - jedne crvene i jedne plave). Kada je Break Point graf za P i Q takav da ima samo trivijalne alternirajuce cikluse, to implicitno znaci da grafovi ciklicnih reprezentacija za P i Q imaju iste obojene grane, a kako imaju i iste crne grane, to znaci da su im i ciklicne reprezentacije iste. Drugim recima, to znaci da razbijanjem alternirajucih ciklusa u Break Point grafu implicitno transformisemo graf ciklicne reprezentacije za P u graf ciklicne reprezentacije za Q, tj. genom P u genom Q."
   ]
  },
  {
   "cell_type": "code",
   "execution_count": 50,
   "metadata": {},
   "outputs": [],
   "source": [
    "import random\n",
    "random.seed(5)"
   ]
  },
  {
   "cell_type": "code",
   "execution_count": 54,
   "metadata": {},
   "outputs": [],
   "source": [
    "def shortest_rearangement_scenario(P, Q, verbose=False):\n",
    "    permutation_distance = 0\n",
    "    \n",
    "    red_edges = colored_edges(P) \n",
    "    blue_edges = colored_edges(Q)\n",
    "    breakpoint_graph = GenomeGraph(red_edges + blue_edges)\n",
    "    \n",
    "    while True:\n",
    "        cycles = breakpoint_graph.get_cycles()\n",
    "        \n",
    "        selected_cycle = None\n",
    "        for cycle in cycles:\n",
    "            if len(cycle) > 2:\n",
    "                selected_cycle = cycle\n",
    "                break\n",
    "                \n",
    "        if selected_cycle == None:\n",
    "            break\n",
    "                 \n",
    "        selected_cycle_edges = [(selected_cycle[i], selected_cycle[i+1]) for i in range(len(selected_cycle)-1)] \\\n",
    "                             + [(selected_cycle[-1], selected_cycle[0])]        \n",
    "                \n",
    "        #2-PREKIDE VRSIMO SAMO NAD CRVENIM GRANAMA, JER SU TO GRANE KOJE DEFINISU REDOSLED BLOKOVA U GENOMU P!\n",
    "        #biramo proizvoljnu PLAVU GRANU (i, j) i uzimamo njoj susedne crvene grane (i_p, i) i (j, j_p), i nad njima\n",
    "        #vrsimo 2-prekid, koji ce ukloniti (i_p, i) i (j, j_p), a uspostaviti CRVENU GRANU (i, j), kao i (i_p, j_p) \n",
    "        #NA TAJ NACIN IZDVAJAMO JEDAN TRIVIJALNI CIKLUS KOJI SE SASTOJI OD JEDNE PLAVE I JEDNE CRVENE GRANE (i, j)!\n",
    "            \n",
    "        n = len(selected_cycle_edges)\n",
    "        k = random.randrange(0, n)\n",
    "        \n",
    "        selected_edge = selected_cycle_edges[k]\n",
    "        (u, v) = selected_edge\n",
    "        \n",
    "        #NAPOMENA: u blue_edges imamo samo po jedan primerak neusmerene grane, \n",
    "        #tek kad ih dodamo u graf onda dodajemo obe, pa zato ovakva provera!\n",
    "        if (u, v) not in blue_edges and (v, u) not in blue_edges:\n",
    "            k = (k+1) % n              #ako k-ta nije plava onda prva sledeca sigurno jeste, posto idu naizmenicno!\n",
    "            \n",
    "        selected_edge = selected_cycle_edges[k]\n",
    "        previous_red_edge = selected_cycle_edges[(k-1) % n]\n",
    "        next_red_edge = selected_cycle_edges[(k+1) % n]\n",
    "        \n",
    "        (i_p, i) = previous_red_edge\n",
    "        (i, j) = selected_edge\n",
    "        (j, j_p) = next_red_edge\n",
    "        \n",
    "        breakpoint_graph = two_break_on_genome_graph(breakpoint_graph, i, i_p, j, j_p)\n",
    "        permutation_distance += 1\n",
    "        \n",
    "        #ovo sluzi samo za ispis, da mozemo da pratimo sta radimo na grafu\n",
    "        if verbose:\n",
    "            print(selected_edge)\n",
    "            print(P)\n",
    "            P = two_break_on_genome(P, i, i_p, j, j_p)\n",
    "            print(P)\n",
    "            \n",
    "    return permutation_distance"
   ]
  },
  {
   "cell_type": "code",
   "execution_count": 55,
   "metadata": {},
   "outputs": [
    {
     "name": "stdout",
     "output_type": "stream",
     "text": [
      "(7, 6)\n",
      "[[1, -2, -3, 4]]\n",
      "[[1, -2, 3, 4]]\n",
      "(3, 2)\n",
      "[[1, -2, 3, 4]]\n",
      "[[1, 2, 3, 4]]\n"
     ]
    },
    {
     "data": {
      "text/plain": [
       "2"
      ]
     },
     "execution_count": 55,
     "metadata": {},
     "output_type": "execute_result"
    }
   ],
   "source": [
    "P = [[1, -2, -3, 4]]\n",
    "Q = [[1, 2, 3, 4]]\n",
    "\n",
    "shortest_rearangement_scenario(P, Q, verbose=True)"
   ]
  },
  {
   "cell_type": "markdown",
   "metadata": {},
   "source": [
    "**NAPOMENA**: ovaj test primer se razlikuje od onog prikazanog na slici koja objasnjava formiranje BreakPoint grafa - tamo je <code>P = [[1, -2, -3, 4]]</code> a <code>Q = [[1, 3, 2, -4]]</code>; takodje u primeru na slici kao referentni genom (sa fiksiranim redosledom sintenih blokova) uzima se <code>P</code> a premestaju se sinteni blokovi genoma <code>Q</code>, tj. njemu odgovarajuce grane u BreakPoint grafu, dok je kod funkcije <code>shortest_rearangement_scenario</code> to obrnuto!"
   ]
  },
  {
   "cell_type": "code",
   "execution_count": 53,
   "metadata": {},
   "outputs": [
    {
     "data": {
      "text/plain": [
       "7"
      ]
     },
     "execution_count": 53,
     "metadata": {},
     "output_type": "execute_result"
    }
   ],
   "source": [
    "P = [[+1, -7, +6, -10, +9, -8, +2, -11, -3, +5, +4]]\n",
    "Q = [[1, 2, 3, 4, 5, 6, 7, 8, 9, 10, 11]]\n",
    "\n",
    "shortest_rearangement_scenario(P, Q)"
   ]
  },
  {
   "cell_type": "code",
   "execution_count": null,
   "metadata": {},
   "outputs": [],
   "source": []
  }
 ],
 "metadata": {
  "kernelspec": {
   "display_name": "Python 3 (ipykernel)",
   "language": "python",
   "name": "python3"
  },
  "language_info": {
   "codemirror_mode": {
    "name": "ipython",
    "version": 3
   },
   "file_extension": ".py",
   "mimetype": "text/x-python",
   "name": "python",
   "nbconvert_exporter": "python",
   "pygments_lexer": "ipython3",
   "version": "3.10.14"
  }
 },
 "nbformat": 4,
 "nbformat_minor": 4
}
