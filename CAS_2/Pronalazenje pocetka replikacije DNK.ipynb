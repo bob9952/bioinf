{
 "cells": [
  {
   "cell_type": "markdown",
   "metadata": {},
   "source": [
    "Replikacija genoma pocinje u delu DNK koji nazivamo **pocetni region replikacije** (skraceno **oriC** - Origin of RepliCation). Prokarioti (bakterije izmedju ostalog) tipicno imaju samo jedan DNK molekul kruznog oblika i samo jedan oriC region. Za razliku od prokariota, eukariotski DNK molekuli su linearni i mnogo veći (duzi) od prokariotskih, i imaju vise oriC regiona sto znaci da se replikacija moze zapoceti istovremeno na vise lokacija duz svakog DNK molekula (eukariotski genom se obicno sastoji od veceg broja DNK molekula, tj. hromozoma).\n",
    "\n",
    "Ogranicicemo razmatranje samo na replikaciju DNK kod bakterija. Replikacija bakterijske DNK, dakle, pocinje od uvek istog regiona - **oriC regiona**. Unutar oriC regiona nalaze se kratke DNK sekvence (duzine od oko 9 nukleotida) koje predstavljaju mesta za koje se vezuje protein **DnaA** i inicira proces replikacije. Te kratke sekvence, mesta vezivanja DnaA proteina nazivaju se **DnaA boksovi**. Evolucija je obezbedila visestruka ponavljanja DnaA boksova unutar oriC regiona, kako bi se sa vecom verovatnocom obezbedilo vezivanje DnaA proteina i otpocela replikacija. To je potrebno, jer ako DnaA protein promasi mesto vezivanja, celija odumire.\n",
    "\n",
    "<img src=\"assets/dna_replication.png\" width=\"700\">\n",
    "\n",
    "Replikacija pocinje rasplitanjem polinukleotidnih lanaca DNK molekula u oriC regionu, sto vrsi <u>DnaA protein</u>. Dalje razdvajanje lanaca DNK vrsi enzim <u>DNK helikaza</u>. Vezivanje odgovarajucih komplementarnih nukleotida (koji se vec nalaze u celiji, \"plivaju\" po citoplazmi) za otvorene lance DNK i njihovo medjusobno povezivanje fosfodiestarskim vezama u nove (komplementarne) lance vrsi enzim <u>DNK polimeraza</u>. Kako su lanci DNK *anitparalelni*<a name=\"cite_ref-1\"></a>[<sup>[1]</sup>](#cite_note-1), proces sinteze novih lanaca DNK se vrsi u suprotnim smerovima. Ono sto je karakteristicno za DNK plimerazu je to da sintezu novih lanaca DNK moze da vrsi iskljucivo u smeru $5' \\rightarrow 3'$, sto rezultuje time da se jedan novi lanac sintetise kontinuirano dok se drugi lanac sintetise iz delova (tzv. <u>Okazaki fragmenti</u>). Lanac koji se sintetise kontinuirano naziva se <u>vodeci lanac</u> a lanac koji se sintetise iz delova <u>zaostajuci lanac</u>. Enzim <u>DNK ligaza</u> vrsi spajanje Okazaki fragmenata na zaostajucem lancu.\n",
    "\n",
    "<a name=\"cite_note-1\"></a>[<sup>[1]</sup>](#cite_ref-1) Vazna osobina polinukleotidnih lanaca je njihova usmerenost. Na jednom kraju lanca nalazi se C5' fosfatna grupa i taj kraj se naziva <u>5' kraj</u>, dok se na drugom kraju nalazi C3' hidroksilna grupa i to je <u>3' kraj</u>. Antiparalelnost lanaca kod DNK molekula podrazumeva to da se naspram 5' kraja jednog lanca nalazi se 3' kraj drugog."
   ]
  },
  {
   "cell_type": "markdown",
   "metadata": {},
   "source": [
    "# Problem pronalazenja DnaA boksova unutar oriC regiona"
   ]
  },
  {
   "cell_type": "markdown",
   "metadata": {},
   "source": [
    "Za pocetak, pretpostavimo da nam je poznat oriC region. Problem pronalazenja DnaA boksova svodimo na problem pronalazenja visestruko ponovljenih kratkih sekvenci unutar teksta."
   ]
  },
  {
   "cell_type": "markdown",
   "metadata": {},
   "source": [
    "## Naivni algoritam"
   ]
  },
  {
   "cell_type": "markdown",
   "metadata": {},
   "source": [
    "Naivni pristup pronalazenja visetruko ponovljenih sekvenci duzine k (k-grami) unutar teksta zasniva se na izdvajanju svih podniski duzine k (k-grama) i prebrojavanju (pretrazi) koliko puta se svaka od njih nalazi unutar datog teksta."
   ]
  },
  {
   "cell_type": "markdown",
   "metadata": {},
   "source": [
    "**Vremenska slozenost:** `k x |Text| x (|Text|-k) = O(k x |Text|^2)`   <br/>\n",
    "**Prostorna slozenost:** `|Text|-k+1 = O(|Text|)`"
   ]
  },
  {
   "cell_type": "markdown",
   "metadata": {},
   "source": [
    "Funkcija **pattern_count** prebrojava pojavljivanja niske **pattern** u okviru niske **text**."
   ]
  },
  {
   "cell_type": "code",
   "execution_count": 1,
   "metadata": {},
   "outputs": [],
   "source": [
    "def pattern_count(text, pattern):\n",
    "    n = len(text)\n",
    "    k = len(pattern)\n",
    "    count = 0\n",
    "    \n",
    "    for i in range(0, n-k+1):\n",
    "        current_pattern = text[i:i+k]\n",
    "        if current_pattern == pattern:\n",
    "            count += 1\n",
    "        \n",
    "    return count"
   ]
  },
  {
   "cell_type": "code",
   "execution_count": 5,
   "metadata": {},
   "outputs": [],
   "source": [
    "def prebroj_patern(text, pattern):\n",
    "    n = len(text)\n",
    "    k = len(pattern)\n",
    "    br = 0\n",
    "\n",
    "    for i in range(0, n - k + 1):\n",
    "        curr_pattern = text[i:i+k] # k-grami\n",
    "        if curr_pattern == pattern:\n",
    "            br += 1\n",
    "    print(br)\n",
    "    return br"
   ]
  },
  {
   "cell_type": "code",
   "execution_count": null,
   "metadata": {},
   "outputs": [],
   "source": []
  },
  {
   "cell_type": "code",
   "execution_count": 2,
   "metadata": {},
   "outputs": [
    {
     "name": "stdout",
     "output_type": "stream",
     "text": [
      "3\n"
     ]
    }
   ],
   "source": [
    "text = 'ATATGCTAGTGCTAGATGTGCTA'\n",
    "pattern = 'TGCT'\n",
    "\n",
    "print(pattern_count(text, pattern))"
   ]
  },
  {
   "cell_type": "code",
   "execution_count": 6,
   "metadata": {},
   "outputs": [
    {
     "name": "stdout",
     "output_type": "stream",
     "text": [
      "3\n"
     ]
    },
    {
     "data": {
      "text/plain": [
       "3"
      ]
     },
     "execution_count": 6,
     "metadata": {},
     "output_type": "execute_result"
    }
   ],
   "source": [
    "prebroj_patern(text, pattern)"
   ]
  },
  {
   "cell_type": "markdown",
   "metadata": {},
   "source": [
    "Funkcija **frequent_words** pronalazi najzastupljenije podsekvence duzine **k** u okviru niske **text**."
   ]
  },
  {
   "cell_type": "code",
   "execution_count": null,
   "metadata": {},
   "outputs": [],
   "source": [
    "# najzastupljenije podsekvence duzine k u okviru niske text\n",
    "\n",
    "def frekfenca_reci(text, k):\n",
    "    n = len(text)\n",
    "\n",
    "     brojaci = [1 for i in range(0, n-k+1)]\n",
    "\n",
    "     for i in range(0, n - k + 1):\n",
    "         patern = text[i : i+k]\n",
    "         brojaci[i] = prebroj_patern(text, patern)\n",
    "\n",
    "     max_count = max(brojaci)\n"
   ]
  },
  {
   "cell_type": "code",
   "execution_count": 7,
   "metadata": {},
   "outputs": [],
   "source": [
    "def frequent_words(text, k):\n",
    "    n = len(text)\n",
    "    \n",
    "    #niz koji ce sluziti za brojanje pojavljivanja svakog k-grama\n",
    "    #indeksi su indeksi pocetka k-grama u niski text, a vrednosti su brojevi pojavljivanja k-grama\n",
    "    counts = [1 for i in range(0, n-k+1)]\n",
    "    \n",
    "    for i in range(0, n-k+1):\n",
    "        pattern = text[i:i+k]\n",
    "        counts[i] = pattern_count(text, pattern)\n",
    "    \n",
    "    max_count = max(counts)\n",
    "    \n",
    "    #skup koji ce cuvati sve najzastupljenije k-grame, bez duplikata\n",
    "    most_frequent_patterns = set([])\n",
    "    \n",
    "    for i in range(0, n-k+1):\n",
    "        if counts[i] == max_count:\n",
    "            most_frequent_patterns.add(text[i:i+k])\n",
    "            \n",
    "    return list(most_frequent_patterns)    "
   ]
  },
  {
   "cell_type": "code",
   "execution_count": 8,
   "metadata": {},
   "outputs": [
    {
     "name": "stdout",
     "output_type": "stream",
     "text": [
      "['GCTA', 'TGCT']\n"
     ]
    }
   ],
   "source": [
    "text = 'ATATGCTAGTGCTAGATGTGCTA'\n",
    "k = 4\n",
    "\n",
    "print(frequent_words(text, k))"
   ]
  },
  {
   "cell_type": "code",
   "execution_count": 9,
   "metadata": {},
   "outputs": [
    {
     "name": "stdout",
     "output_type": "stream",
     "text": [
      "['GCATGATCA', 'AAGCATGAT', 'TCTTGATCA', 'CTCTTGATC', 'AGCATGATC', 'ATGATCAAG']\n"
     ]
    }
   ],
   "source": [
    "oriC = 'ATCAATGATCAACGTAAGCTTCTAAGCATGATCAAGGTGCTCACACAGTTTATCCACAACCTGAGTGGATGACATCAAGATAGGTCGTTGTATCTCCTTCCTCTCGTACTCTCATGACCACGGAAAGATGATCAAGAGAGGATGATTTCTTGGCCATATCGCAATGAATACTTGTGACTTGTGCTTCCAATTGACATCTTCAGCGCCATATTGCGCTGGCCAAGGTGACGGAGCGGGATTACGAAAGCATGATCATGGCTGTTGTTCTGTTTATCTTGTTTTGACTGAGACTTGTTAGGATAGACGGTTTTTCATCACTGACTAGCCAAAGCCTTACTCTGCCTGACATCGACCGTAAATTGATAATGAATTTACATGCTTCCGCGACGATTTACCTCTTGATCATCGATCCGATTGAAGATCTTCAATTGTTAATTCTCTTGCCTCGACTCATAGCCATGATGAGCTCTTGATCA'\n",
    "k = 9\n",
    "\n",
    "print(frequent_words(oriC, k))"
   ]
  },
  {
   "cell_type": "markdown",
   "metadata": {},
   "source": [
    "## Napredniji algoritam"
   ]
  },
  {
   "cell_type": "markdown",
   "metadata": {},
   "source": [
    "Osnovna ideja naprednijeg algoritma je to da se u samo jednom prolazu kroz nisku text izvrsi prebrojavanje svih k-grama. Na taj nacin se positze smanjenje vremenske slozenosti, ali na ustrb povecanja prostorne slozenosti.\n",
    "\n",
    "Kako se niska koja predstavlja DNK sastoji samo od 4 karaktera, tada je broj razlicitih k-grama jednak $4^k$. Tada mozemo napraviti preslikavanje k-grama u brojeve na sledeci nacin: <br/>\n",
    "\n",
    "**'A' $\\rightarrow$ 0**   <br/>\n",
    "**'T' $\\rightarrow$ 1**   <br/>\n",
    "**'C' $\\rightarrow$ 2**   <br/>\n",
    "**'G' $\\rightarrow$ 3**   <br/>\n",
    "\n",
    "Tada svaki k-gram mozemo da predstavimo jednim k-tocifrenim brojem u brojcanom sistemu sa osnovom 4 (cifre {0, 1, 2, 3}), pri cemu je najmanji broj $\\mathbf{0 = 00...0}$, a najveci broj $\\mathbf{4^k-1 = 33...3}$. Na ovaj nacin smo zapravo napravili preslikavanje svih k-grama u brojeve iz intervala $\\mathbf{[0, 4^k-1]}$.\n",
    "\n",
    "Ideja algoritma je da napravimo niz brojaca za svaki od mogucih k-grama, niz duzine $4^k$ (ciji su indeksi iz opsega \\[0, $4^k$-1\\]), i da u jednom prolasku kroz nisku text izdvajamo jedan po jedan k-gram, preslikamo ga u broj opisanim preslikavanjem, i uvecamo njemu odgovarajuci brojac (na odgovarajucem indeksu niza brojaca)."
   ]
  },
  {
   "cell_type": "markdown",
   "metadata": {},
   "source": [
    "**Vremenska slozenost:** `O(|Text|)`    <br/>\n",
    "**Prostorna slozenost:** `O(4^k)`    \n",
    "\n",
    "Kako su, u konkretnom problemu pronalazenja pocetka replikacije, DnaA boksovi kratke sekvence (do 10-ak nukleotida) sledi da je k mali broj, pa nam je ova eksponencijalna prostorna slozenost prihvatljiva. "
   ]
  },
  {
   "cell_type": "markdown",
   "metadata": {},
   "source": [
    "Funkcija **symbol_to_number** vrsi preslikavanje simbola nukleotida u odgovarajuce numericke vrednost - cifre iz brojevnog sistema sa osnovom 4."
   ]
  },
  {
   "cell_type": "code",
   "execution_count": 12,
   "metadata": {},
   "outputs": [],
   "source": [
    "def symbol_to_number(symbol):\n",
    "    mapping = {\n",
    "        'A' : 0,\n",
    "        'T' : 1,\n",
    "        'C' : 2,\n",
    "        'G' : 3\n",
    "    }\n",
    "    \n",
    "    return mapping[symbol]"
   ]
  },
  {
   "cell_type": "code",
   "execution_count": 13,
   "metadata": {},
   "outputs": [
    {
     "name": "stdout",
     "output_type": "stream",
     "text": [
      "2\n"
     ]
    }
   ],
   "source": [
    "print(symbol_to_number('C'))"
   ]
  },
  {
   "cell_type": "markdown",
   "metadata": {},
   "source": [
    "Funkcija **pattern_to_number** vrsi preslikavanje nukleotidne sekvence **pattern** u odgovarajuci numericku vrednost. Prevodjenje se vrsi rekurzivno, primenom Hornerove sheme. Algoritam je ekvivalentan algoritmu za prevodjenje zapisa iz sistema sa osnovom 4 u dekadni zapis. <br/>\n",
    "`pattern_to_number('ATCG') = pattern_to_number('ATC') * 4 + symbol_to_number('G')}`"
   ]
  },
  {
   "cell_type": "code",
   "execution_count": 14,
   "metadata": {},
   "outputs": [],
   "source": [
    "def pattern_to_number(pattern):\n",
    "    if(len(pattern) == 1):\n",
    "        return symbol_to_number(pattern)\n",
    "    else:\n",
    "        last_symbol = pattern[-1]\n",
    "        return pattern_to_number(pattern[:-1])*4 + symbol_to_number(last_symbol)    "
   ]
  },
  {
   "cell_type": "code",
   "execution_count": 15,
   "metadata": {},
   "outputs": [
    {
     "name": "stdout",
     "output_type": "stream",
     "text": [
      "27\n"
     ]
    }
   ],
   "source": [
    "pattern = 'ATCG'\n",
    "print(pattern_to_number(pattern))"
   ]
  },
  {
   "cell_type": "markdown",
   "metadata": {},
   "source": [
    "Potrebno je da imamo i funkciju koja vrsi inverzno preslikavanje - preslikavanje numerickih vrednosti iz opsega $[0, 4^k-1]$ u nisku duzine k. Potrebno je da primetimo da se svakoj numerickoj vrednosti moze pridruzivi vise razlicitih k-grama:\n",
    "\n",
    "A = 0     $\\hspace{1.5cm}$      TT = 5     <br/>\n",
    "AA = 0    $\\hspace{1.3cm}$      ATT = 5  <br/>\n",
    "AAA = 0   $\\hspace{1cm}$        AATT = 5  <br/>\n",
    "...       $\\hspace{2.1cm}$      ...\n",
    "\n",
    "Medjutim, ako nam je poznat broj k (duzina sekvence koju treba da pridruzimo datoj numerickoj vrednosti), onda je preslikavanje jednoznacno odredjeno. Potrebno je samo odrediti sekvencu minimalne duzine koja odgovara datoj numerickoj vrednosti i dopuniti je odgovarajucim brojem vodecih 'A'-ova (neutral) do duzine k."
   ]
  },
  {
   "cell_type": "markdown",
   "metadata": {},
   "source": [
    "Funkcija **number_to_symbol** za datu cifru iz sistema sa osnovom 4 vraca odgovarajuci simbol nukleotida."
   ]
  },
  {
   "cell_type": "code",
   "execution_count": 16,
   "metadata": {},
   "outputs": [],
   "source": [
    "def number_to_symbol(number):\n",
    "    mapping = {\n",
    "        0 : 'A',\n",
    "        1 : 'T',\n",
    "        2 : 'C',\n",
    "        3 : 'G'\n",
    "    }\n",
    "    \n",
    "    return mapping[number]"
   ]
  },
  {
   "cell_type": "code",
   "execution_count": 17,
   "metadata": {},
   "outputs": [
    {
     "name": "stdout",
     "output_type": "stream",
     "text": [
      "C\n"
     ]
    }
   ],
   "source": [
    "number = 2\n",
    "print(number_to_symbol(number))"
   ]
  },
  {
   "cell_type": "markdown",
   "metadata": {},
   "source": [
    "Funkcija **number_to_pattern** prevodi datu numericku vrednost (**number**) u nukleotidnu sekvencu duzine **k**. Prevodjenje se vrsi rekurzivno, primenom Hornerove sheme. Algoritam je ekvivalentan algoritmu za prevodjenje dekadnog zapisa u zapis u sistemu sa osnovom 4.<br/>\n",
    "`number_to_pattern(27, 4) = number_to_pattern(27 // 4, 3) + number_to_symbol(27 % 4)`"
   ]
  },
  {
   "cell_type": "code",
   "execution_count": 18,
   "metadata": {},
   "outputs": [],
   "source": [
    "def number_to_pattern(number, k):\n",
    "    if k==1:\n",
    "        return number_to_symbol(number)\n",
    "    else:\n",
    "        prefix = number//4\n",
    "        remainder = number%4\n",
    "        return number_to_pattern(prefix, k-1) + number_to_symbol(remainder)"
   ]
  },
  {
   "cell_type": "code",
   "execution_count": 19,
   "metadata": {},
   "outputs": [
    {
     "name": "stdout",
     "output_type": "stream",
     "text": [
      "AAATCG\n"
     ]
    }
   ],
   "source": [
    "number = 27\n",
    "k = 6\n",
    "print(number_to_pattern(number, k))"
   ]
  },
  {
   "cell_type": "markdown",
   "metadata": {},
   "source": [
    "Funkcija **computing_frequencies** formira niz brojaca za svaki od mogucih k-grama. Svakom k-gramu odgovara onaj brojac koji ima indeks sa vrednoscu koja odgovara numerickoj vrednosti tog k-grama datim preslikavanjem."
   ]
  },
  {
   "cell_type": "code",
   "execution_count": 20,
   "metadata": {},
   "outputs": [],
   "source": [
    "def computing_frequencies(text, k):\n",
    "    frequency_array = [0 for x in range(4**k)]\n",
    "    \n",
    "    n = len(text)\n",
    "    \n",
    "    for i in range(0, n-k+1):\n",
    "        pattern = text[i:i+k]\n",
    "        number = pattern_to_number(pattern)\n",
    "        frequency_array[number] += 1\n",
    "        \n",
    "    return frequency_array"
   ]
  },
  {
   "cell_type": "markdown",
   "metadata": {},
   "source": [
    "Funkcija **faster_frequent_words** pronalazi najzastupljenije podsekvence duzine **k** u okviru niske **text**."
   ]
  },
  {
   "cell_type": "code",
   "execution_count": 21,
   "metadata": {},
   "outputs": [],
   "source": [
    "def faster_frequent_words(text, k):\n",
    "    #ovde ne mora da bude skup zato sto prilikom ubacivanja prolazimo kroz skup svih razlicitih k-grama\n",
    "    most_frequent_patterns = set([])           \n",
    "    \n",
    "    frequency_array = computing_frequencies(text, k)\n",
    "    \n",
    "    max_count = max(frequency_array)\n",
    "    \n",
    "    for number in range(0, 4**k):\n",
    "        if frequency_array[number] == max_count:\n",
    "            most_frequent_patterns.add(number_to_pattern(number, k))\n",
    "            \n",
    "    return list(most_frequent_patterns)"
   ]
  },
  {
   "cell_type": "code",
   "execution_count": 22,
   "metadata": {},
   "outputs": [
    {
     "name": "stdout",
     "output_type": "stream",
     "text": [
      "['GCATGATCA', 'AAGCATGAT', 'TCTTGATCA', 'CTCTTGATC', 'AGCATGATC', 'ATGATCAAG']\n"
     ]
    }
   ],
   "source": [
    "oriC = 'ATCAATGATCAACGTAAGCTTCTAAGCATGATCAAGGTGCTCACACAGTTTATCCACAACCTGAGTGGATGACATCAAGATAGGTCGTTGTATCTCCTTCCTCTCGTACTCTCATGACCACGGAAAGATGATCAAGAGAGGATGATTTCTTGGCCATATCGCAATGAATACTTGTGACTTGTGCTTCCAATTGACATCTTCAGCGCCATATTGCGCTGGCCAAGGTGACGGAGCGGGATTACGAAAGCATGATCATGGCTGTTGTTCTGTTTATCTTGTTTTGACTGAGACTTGTTAGGATAGACGGTTTTTCATCACTGACTAGCCAAAGCCTTACTCTGCCTGACATCGACCGTAAATTGATAATGAATTTACATGCTTCCGCGACGATTTACCTCTTGATCATCGATCCGATTGAAGATCTTCAATTGTTAATTCTCTTGCCTCGACTCATAGCCATGATGAGCTCTTGATCA'\n",
    "k = 9\n",
    "\n",
    "print(faster_frequent_words(oriC, k))"
   ]
  },
  {
   "cell_type": "markdown",
   "metadata": {},
   "source": [
    "**NAPOMENA:** Vremenska slozenost prethodnog algoritma je zapravo `max{|Text|, 4^k}` zbog petlje koja ide od 0 do $4^k$, sto znaci da je vremenska slozenost `O(|Text|)` samo ukoliko je `4^k << |Text|`, sto u vecini realnih situacija i jeste slucaj.\n",
    "\n",
    "Postoji algoritam koji ima zagarantovanu vremensku slozenost `O(|Text|)` koriscenjem sufiksnog stabla."
   ]
  },
  {
   "cell_type": "markdown",
   "metadata": {},
   "source": [
    "# Problem pronalazenja DnaA boksova sa izvesnim brojem mutacija unutar oriC regiona"
   ]
  },
  {
   "cell_type": "markdown",
   "metadata": {},
   "source": [
    "DnaA boks moze da se pojavljuje i sa izvesnim mutacijama, takvim da se i za dalje za njega moze vezati DnaA protein. Iz tog razloga, problem pronalazenja DnaA boksova svodimo na problem pronalazenja visestruko ponovljenih kratkih sekvenci unutar teksta, <u>uz dozvoljeno odstupanje</u>."
   ]
  },
  {
   "cell_type": "markdown",
   "metadata": {},
   "source": [
    "**Hamingovo rastojanje** definise se kao broj pozicija na kojima se dve niske razlikuju. Podrazumevamo da su duzine stringova jednake kada racunamo Hamingovo rastojanje. Hamingovo rastojanje se ne koristi za niske razlicitih duzine, vec neke druge metrike."
   ]
  },
  {
   "cell_type": "code",
   "execution_count": 17,
   "metadata": {},
   "outputs": [],
   "source": [
    "def hamming_distance(string1, string2):\n",
    "    n = len(string1)       \n",
    "    \n",
    "    distance = 0\n",
    "    for i in range(n):\n",
    "        if string1[i] != string2[i]:\n",
    "            distance += 1\n",
    "            \n",
    "    return distance                 "
   ]
  },
  {
   "cell_type": "code",
   "execution_count": 18,
   "metadata": {},
   "outputs": [
    {
     "name": "stdout",
     "output_type": "stream",
     "text": [
      "2\n"
     ]
    }
   ],
   "source": [
    "string1 = 'AAAA'\n",
    "string2 = 'ACAT'\n",
    "print(hamming_distance(string1, string2))"
   ]
  },
  {
   "cell_type": "markdown",
   "metadata": {},
   "source": [
    "Funkcija **immediate_neighbors** generise listu niski koje su na Hamingovom rastojanju 1 od zadate niske **pattern**."
   ]
  },
  {
   "cell_type": "code",
   "execution_count": 19,
   "metadata": {},
   "outputs": [],
   "source": [
    "def immediate_neighbors(pattern):\n",
    "    neighborhood = {pattern}\n",
    "    \n",
    "    for i in range(len(pattern)):\n",
    "        for nucleotide in ['A', 'C', 'G', 'T']:\n",
    "            \n",
    "            #ovaj uslov cak nije ni neophodan posto ubacujemo u skup, tako da ce biti eliminisani duplikati\n",
    "            if nucleotide != pattern[i]:          \n",
    "                neighbor = pattern[:i] + nucleotide + pattern[i+1:]\n",
    "                neighborhood.add(neighbor)\n",
    "                \n",
    "    return list(neighborhood)"
   ]
  },
  {
   "cell_type": "code",
   "execution_count": 20,
   "metadata": {},
   "outputs": [
    {
     "name": "stdout",
     "output_type": "stream",
     "text": [
      "['AAC', 'GAA', 'AAT', 'AGA', 'CAA', 'AAA', 'TAA', 'ACA', 'ATA', 'AAG']\n"
     ]
    }
   ],
   "source": [
    "pattern = 'AAA'\n",
    "print(immediate_neighbors(pattern))"
   ]
  },
  {
   "cell_type": "markdown",
   "metadata": {},
   "source": [
    "Funkcija **neighbors** je iterativna implementacija funkcije koja generise listu niski koje su na najvise **d** Hamingovom rastojanju od zadate niske **pattern**."
   ]
  },
  {
   "cell_type": "code",
   "execution_count": 21,
   "metadata": {},
   "outputs": [],
   "source": [
    "def neighbors(pattern, d):\n",
    "    neighborhood = {pattern} \n",
    "    \n",
    "    for i in range(d):\n",
    "        new_neighbors = []      #NAPOMENA: Python ne dozvoljava da se menja sadrzaj kolekcije tokom iteriranja \n",
    "                                #kroz istu, zbog toga imamo ovu pomocnu kolekciju koju koristimo u naredne dve \n",
    "                                #petlje zajedno sa glavnom kolekcijom (neighborhood) na taj nacin da se kroz jednu \n",
    "                                #kolekciju iterira dok se u drugu dodaju novi elementi!\n",
    "        \n",
    "        for current_pattern in neighborhood:\n",
    "            new_neighbors += immediate_neighbors(current_pattern)\n",
    "            \n",
    "        for neighbor in new_neighbors:\n",
    "            neighborhood.add(neighbor)\n",
    "            \n",
    "    return list(neighborhood)"
   ]
  },
  {
   "cell_type": "code",
   "execution_count": 22,
   "metadata": {},
   "outputs": [
    {
     "name": "stdout",
     "output_type": "stream",
     "text": [
      "['AAC', 'GAA', 'AAT', 'AGA', 'AAA', 'CAA', 'TAA', 'ACA', 'ATA', 'AAG']\n"
     ]
    }
   ],
   "source": [
    "pattern = 'AAA'\n",
    "d = 1\n",
    "print(neighbors(pattern, d))"
   ]
  },
  {
   "cell_type": "markdown",
   "metadata": {},
   "source": [
    "Funkcija **approximate_pattern_count** prebrojava pojavljivanja podniski u niski **text** koje su na **d** Hamingovom rastojanju od zadatke niske **pattern**."
   ]
  },
  {
   "cell_type": "code",
   "execution_count": 23,
   "metadata": {},
   "outputs": [],
   "source": [
    "def approximate_pattern_count(text, pattern, d):\n",
    "    n = len(text)\n",
    "    k = len(pattern)\n",
    "    \n",
    "    count = 0\n",
    "   \n",
    "    for i in range(n-k+1):\n",
    "        if hamming_distance(pattern, text[i:i+k]) <= d:\n",
    "            count += 1\n",
    "            \n",
    "    return count"
   ]
  },
  {
   "cell_type": "markdown",
   "metadata": {},
   "source": [
    "Funckija **frequent_words_with_missmatches** pronalazi listu svih najzastupljenijih podniski duzine **k** u zadatoj niski **text**, dopustajuci pri poredjenju niski najvise **d** razlika. Drugim recima, funckija pronalazi najzastupljenije podsekvence oriC-a duzine k sa najvise d dozvoljenih mutacija."
   ]
  },
  {
   "cell_type": "code",
   "execution_count": 24,
   "metadata": {},
   "outputs": [],
   "source": [
    "def frequent_words_with_missmatches(text, k, d):\n",
    "    #ova lista nam samo sluzi da u njoj zabelezimo indikatore 0 ili 1 u zavisnosti od toga da li se k-gram sa\n",
    "    #vrednoscu koja odgovara datom indeksu nalazi na d Hamingovom rastojanju od nekog k-grama u okviru niske text\n",
    "    #ili ne, tj. samo da zabelezimo koji su to kandidati za DNA boksove\n",
    "    candidats_indicator = [0 for i in range(4**k)]\n",
    "    \n",
    "    frequency_array = [0 for i in range(4**k)]\n",
    "    \n",
    "    n = len(text)\n",
    "    \n",
    "    for i in range(0, n-k+1):\n",
    "        neighborhood = neighbors(text[i:i+k], d)\n",
    "        \n",
    "        for pattern in neighborhood:\n",
    "            number = pattern_to_number(pattern)\n",
    "            candidats_indicator[number] = 1\n",
    "            \n",
    "    for number in range(0, 4**k):\n",
    "        if(candidats_indicator[number] == 1):\n",
    "            pattern = number_to_pattern(number, k)\n",
    "            frequency_array[number] = approximate_pattern_count(text, pattern, d)\n",
    "                \n",
    "    max_count = max(frequency_array)\n",
    "        \n",
    "    most_frequent_patterns = set([])    \n",
    "    for number in range(0, 4**k):\n",
    "        if frequency_array[number] == max_count:\n",
    "            pattern = number_to_pattern(number, k)\n",
    "            most_frequent_patterns.add(pattern)\n",
    "        \n",
    "    return list(most_frequent_patterns)"
   ]
  },
  {
   "cell_type": "code",
   "execution_count": 25,
   "metadata": {},
   "outputs": [
    {
     "name": "stdout",
     "output_type": "stream",
     "text": [
      "['GGTT', 'GTTG', 'TTGG']\n"
     ]
    }
   ],
   "source": [
    "text = 'ATATGCTAGTGTCGATGTGCTA'\n",
    "k = 4\n",
    "d = 2\n",
    "\n",
    "print(frequent_words_with_missmatches(text, k, d))"
   ]
  },
  {
   "cell_type": "markdown",
   "metadata": {},
   "source": [
    "**NAPOMENA**: Postavlja se pitanje zasto ne racunamo **approximate_pattern_count** samo za one k-grame koji su podsekvence niske text, vec i za sve njihove d-susede (na najvise d Hamingovom rastojanju). To je zato sto se k-gram koji ima najvise pojavljivanja do na d razlika mozda ne pojavljuje u neizmenjenom obliku (bez mutacija) niti jednom u niski text!\n",
    "\n",
    "<u>PRIMER</u>: `text = 'ATGCAAC'` <br/>\n",
    "               $\\hspace{1.6cm}$svi 3-grami koji se pojaviljuju u niski text imaju tacno po 1 pojavljivanje uzimajuci u obzir i sve njihove 1-susede, medjutim 3-gram 'ATC' koji se <br/>\n",
    "               $\\hspace{1.6cm}$nijednom ne pojavljuje u niski tekst ima 2 pojavljivanja svojih 1-suseda ('ATG' i 'AAC'), sto bi znacilo da je 'ATC' najbolji kandidat za DnaA box"
   ]
  },
  {
   "cell_type": "markdown",
   "metadata": {},
   "source": [
    "# G-C Skew dijagram"
   ]
  },
  {
   "cell_type": "markdown",
   "metadata": {},
   "source": [
    "Sada kada znamo kako da pronadjemo DnaA boksove kada nam je oriC poznat, potrebno je jos da pronadjemo oriC region u okviru DNK. Pokazuje se da se prilikom replikacije DNK desava to da pre nego sto DNK polimeraza dodje na scenu i pocne da vezuje nukleotide iz citoplazme celije za \"otvoreni\" lanac, ti lanci stoje otvoreni neko vreme dok se replikaciona viljuska ne uveca dovoljno. To znaci da je region pocetka replikacije onaj region lanca koji najduze ostaje \"otvoren\" prilikom replikacije, i koji je samim tim najpodlozniji mutacijama (**\"otvoreni\" lanci su znacajno vise podlozni mutacijama nego kada su DNK lanci povezani**).\n",
    "\n",
    "Interesuje nas koji to nukleotidi imaju najvecu stopu mutacija, jer ce nam njegov manjak u delovima DNK ukazati da se bas na tom mestu zapocinje replikacija, tj. da je tu oriC. **Ispostavlja se da C najcesce mutira u T (deaminacija - nestanak amino grupe), sto znaci da cemo u regionu oriC-a na lancu koji predstavlja sablon zaostajuceg lanca (region koji ostaje najduze otvoren) imati manje C-a u odnosu na kolicinu G-a.** Zbog komplementarnosti DNK lanaca, to znaci da ce na lancu koji predstavlja sablon vodeceg lanca (glavni, osnovni lanac) imati manje G-a u odnosu na kolicinu C-a. **Kako kada radimo sa DNK uobicajeno posmatramo glavni lanac, to znaci da cemo oriC traziti kao region na kome razlika G-C dostize svoj minimum.**"
   ]
  },
  {
   "cell_type": "code",
   "execution_count": 26,
   "metadata": {},
   "outputs": [],
   "source": [
    "def calculate_GC_Skew(dna_sequence):\n",
    "    last = 0\n",
    "    skew = [0 for c in dna_sequence]\n",
    "    \n",
    "    for i in range(len(dna_sequence)):\n",
    "        if dna_sequence[i] == 'G':\n",
    "            skew[i] = last + 1\n",
    "            last += 1\n",
    "            \n",
    "        elif dna_sequence[i] == 'C':\n",
    "            skew[i] = last - 1\n",
    "            last -= 1\n",
    "            \n",
    "        else:\n",
    "            skew[i] = last\n",
    "            \n",
    "    return skew"
   ]
  },
  {
   "cell_type": "code",
   "execution_count": 27,
   "metadata": {},
   "outputs": [],
   "source": [
    "import matplotlib.pyplot as plt"
   ]
  },
  {
   "cell_type": "code",
   "execution_count": 28,
   "metadata": {},
   "outputs": [],
   "source": [
    "def draw_GC_Skew(dna_sequence):\n",
    "    x = [i for i in range(len(dna_sequence))]\n",
    "    y = calculate_GC_Skew(dna_sequence)\n",
    "    \n",
    "    plt.plot(x, y)\n",
    "    plt.show()"
   ]
  },
  {
   "cell_type": "code",
   "execution_count": 29,
   "metadata": {},
   "outputs": [
    {
     "data": {
      "image/png": "[encoded data removed]",
      "text/plain": [
       "<Figure size 432x288 with 1 Axes>"
      ]
     },
     "metadata": {
      "needs_background": "light"
     },
     "output_type": "display_data"
    }
   ],
   "source": [
    "dna_sequence = 'ACTAGTAGTGCACTAGCTAGCTA'\n",
    "\n",
    "draw_GC_Skew(dna_sequence)"
   ]
  },
  {
   "cell_type": "code",
   "execution_count": 30,
   "metadata": {},
   "outputs": [],
   "source": [
    "ulaz = open('ecoli.txt')\n",
    "dna_sequence = ulaz.read()"
   ]
  },
  {
   "cell_type": "code",
   "execution_count": 31,
   "metadata": {},
   "outputs": [
    {
     "data": {
      "image/png": "[encoded data removed]",
      "text/plain": [
       "<Figure size 432x288 with 1 Axes>"
      ]
     },
     "metadata": {
      "needs_background": "light"
     },
     "output_type": "display_data"
    }
   ],
   "source": [
    "draw_GC_Skew(dna_sequence)"
   ]
  }
 ],
 "metadata": {
  "kernelspec": {
   "display_name": "Python 3 (ipykernel)",
   "language": "python",
   "name": "python3"
  },
  "language_info": {
   "codemirror_mode": {
    "name": "ipython",
    "version": 3
   },
   "file_extension": ".py",
   "mimetype": "text/x-python",
   "name": "python",
   "nbconvert_exporter": "python",
   "pygments_lexer": "ipython3",
   "version": "3.10.14"
  }
 },
 "nbformat": 4,
 "nbformat_minor": 4
}
