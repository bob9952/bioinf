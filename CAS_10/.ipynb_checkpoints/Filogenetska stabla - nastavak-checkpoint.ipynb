{
 "cells": [
  {
   "cell_type": "markdown",
   "metadata": {},
   "source": [
    "# Klasa Graph"
   ]
  },
  {
   "cell_type": "markdown",
   "metadata": {},
   "source": [
    "Klasa **Graph** sa prethodnog casa (tj. njen deo) koju cemo koristiti i sada za predstavljanje i izgradnju filogenetskog stabla."
   ]
  },
  {
   "cell_type": "code",
   "execution_count": 1,
   "metadata": {},
   "outputs": [],
   "source": [
    "class Graph:\n",
    "    #konstruktorska funkcija (metod)\n",
    "    def __init__(self, adjacency_list):\n",
    "        self.adjacency_list = adjacency_list\n",
    "        \n",
    "    #metod koji vraca stringovsku reprezentaciju grafa    \n",
    "    def __str__(self):\n",
    "        return f'{self.adjacency_list}'\n",
    "    \n",
    "    #metod koji dodaje novi cvor u graf\n",
    "    def add_node(self, v):\n",
    "        if v not in self.adjacency_list:\n",
    "            self.adjacency_list[v] = []\n",
    "    \n",
    "    #metod koji vraca listu suseda cvora v u grafu\n",
    "    def get_neighbors(self, v):\n",
    "        return self.adjacency_list[v]\n",
    "    \n",
    "    #metod koji dodaje u graf suseda cvora node sa oznakom neighbor na udaljenosti distance\n",
    "    def add_neighbor(self, node, neighbor, distance, undirected=True):\n",
    "        self.adjacency_list[node].append((neighbor, distance))\n",
    "        \n",
    "        if undirected:\n",
    "            if neighbor not in self.adjacency_list:\n",
    "                self.adjacency_list[neighbor] = []\n",
    "              \n",
    "            self.adjacency_list[neighbor].append((node, distance))\n",
    "        \n",
    "    #metod koji uklanja iz grafa suseda cvora node sa oznakom neighbor na udaljenosti distance    \n",
    "    def remove_neighbor(self, node, neighbor, distance, undirected=True):\n",
    "        self.adjacency_list[node].remove((neighbor, distance))\n",
    "        \n",
    "        if undirected:\n",
    "            self.adjacency_list[neighbor].remove((node, distance))    "
   ]
  },
  {
   "cell_type": "markdown",
   "metadata": {},
   "source": [
    "# Ultrametricna evolutivna stabla - UPGMA algoritam"
   ]
  },
  {
   "cell_type": "markdown",
   "metadata": {},
   "source": [
    "Prethodni algoritam je na osnovu matrice rastojanja izgradjivao nekorensko evolutivno stablo. U prakticnim primenama je pozeljno da evolutivno stablo ima vremensku komponentu, odnosno da modeluje i informaciju o tome kada se koje razdvajanje vrsta dogodilo. To modelujemo korenim evolutivnim stablom kod koga svaki unutrasnji cvor predstavlja jednu **specijaciju** - evolutivni dogadjaj kada se jedna vrsta deli na dve.\n",
    "\n",
    "**Ultrametricna stabla** su korenska tezinska stabla koja imaju osobinu da je udaljenost korena od bilo kog lista jednaka. Ovakva stabla su nam pogodna za predstavljanje vremenske komponente u evolutivnom stablu, gde ce se u listovima nalaziti postojece vrste, unutrasnji cvorovi ce predstavljati zajednickog pretka a tezine grana odgovarati vremenu proteklom od razdvajanja vrsta. Prema tome, tezina puta od unutrasnjeg cvora do njegovih potomaka u listovima predstavljaju vreme od trenutka specijacije do danas.\n",
    "\n",
    "Jedan od nacina za izgradnju ultrametricnih stabala je **UPGMA algoritam**. UPGMA algoritam predstavlja heuristicku metodu za hijerarhijsko klasterovanje.\n",
    "\n",
    "<img src=\"assets/hierarchical_clustering.png\" width=\"450\"> \n",
    "\n",
    "Skica **UPGMA algoritma**: <br/>\n",
    "- Na pocetku su klasteri jednoclani i sadrze samo po jedan list koji odgovara jednoj postojecoj vrsti \n",
    "- Spajaju se dva najbliza klastera C1 i C2 na osnovu prosecnog rastojanja izmedju svih parova elemenata iz oba klastera. $$distance(C1, C2) = \\frac{1}{|C1||C2|}\\sum\\limits_{\\substack{i \\in C1, j \\in C2}} D[i][j]$$ Spajanje klastera modelujemo formiranjem novog unutrasnjeg cvora ciji su direktni potomci cvorovi pridruzeni klasterima C1 i C2. Tezine grana odredjujemo tako da udaljenost unutrasnjeg cvora od listova koji odgovaraju elementima novog klastera bude $\\frac{1}{2} distance(C1, C2)$. \n",
    "- Ponavljamo postupak spajanja klastera sve dok ne dodjemo do jednog klastera koji sadrzi sve listove.\n",
    "\n",
    "<img src=\"assets/UPGMA_example.png\" width=\"600\">\n",
    "\n",
    "**Ovo je heuristicki pristup koji kreira ultrametricno evolutivno stablo, i moze se primeniti i nad neaditivnom matricom rastojanja. Medjutim, dobijeno evolutivno stablo ne mora da odgovara aditivnoj matrici rastojanja (neaditivnoj sigurno nece da odgovara!).** "
   ]
  },
  {
   "cell_type": "markdown",
   "metadata": {},
   "source": [
    "Pomocna klasa za reprezentaciju klastera UPGMA algoritma."
   ]
  },
  {
   "cell_type": "code",
   "execution_count": 2,
   "metadata": {},
   "outputs": [],
   "source": [
    "class Cluster:\n",
    "    #konstruktorska funkcija (metod)\n",
    "    def __init__(self, elements=[], age = 0):          \n",
    "        self.age = age                                 #starost klastera predstavlja vreme proteklo od specijacije\n",
    "        self.elements = elements                       #zajednickog pretka svih elemenata klastera do danas\n",
    "        \n",
    "    #metod koji vraca stringovsku reprezentaciju klastera    \n",
    "    def __str__(self):\n",
    "        return f'{self.elements}:{self.age}'\n",
    "        \n",
    "    #metod koji izracunava udaljenost datog klastera u\n",
    "    #odnosu na drugi klaster prema matrici rastojanja D\n",
    "    def distance(self, other_cluster, D):\n",
    "        total_distance = 0\n",
    "        for e_i in self.elements:\n",
    "            for e_j in other_cluster.elements:\n",
    "                d_ij = D[e_i][e_j]\n",
    "                total_distance += d_ij\n",
    "                \n",
    "        return total_distance / (len(self.elements) * len(other_cluster.elements))\n",
    "    \n",
    "    #metod koji vrsi spajanje datog klastera sa drugim klasterom u novi klaster \n",
    "    def merge(self, other_cluster, D):\n",
    "        new_cluster_elements = self.elements + other_cluster.elements\n",
    "        new_cluster_age = self.distance(other_cluster, D) / 2\n",
    "        \n",
    "        return Cluster(new_cluster_elements, new_cluster_age)"
   ]
  },
  {
   "cell_type": "code",
   "execution_count": 3,
   "metadata": {},
   "outputs": [
    {
     "name": "stdout",
     "output_type": "stream",
     "text": [
      "[1, 2]:0\n",
      "[3]:0\n",
      "[]:0\n"
     ]
    }
   ],
   "source": [
    "C1 = Cluster([1, 2])\n",
    "C2 = Cluster([3])\n",
    "C3 = Cluster([])\n",
    "\n",
    "print(C1)\n",
    "print(C2)\n",
    "print(C3)"
   ]
  },
  {
   "cell_type": "code",
   "execution_count": 4,
   "metadata": {},
   "outputs": [
    {
     "name": "stdout",
     "output_type": "stream",
     "text": [
      "4.0\n"
     ]
    }
   ],
   "source": [
    "D = [[0, 3, 4, 3],\n",
    "     [3, 0, 4, 5],\n",
    "     [4, 4, 0, 2],\n",
    "     [3, 5, 2, 0]]\n",
    "\n",
    "c1 = Cluster([0, 1])\n",
    "c2 = Cluster([2, 3])\n",
    "\n",
    "print(c1.distance(c2, D))"
   ]
  },
  {
   "cell_type": "code",
   "execution_count": 5,
   "metadata": {},
   "outputs": [
    {
     "name": "stdout",
     "output_type": "stream",
     "text": [
      "[0, 1, 2, 3]:2.0\n"
     ]
    }
   ],
   "source": [
    "D = [[0, 3, 4, 3],\n",
    "     [3, 0, 4, 5],\n",
    "     [4, 4, 0, 2],\n",
    "     [3, 5, 2, 0]]\n",
    "\n",
    "c1 = Cluster([0, 1])\n",
    "c2 = Cluster([2, 3])\n",
    "\n",
    "print(c1.merge(c2, D))"
   ]
  },
  {
   "cell_type": "markdown",
   "metadata": {},
   "source": [
    "Funkcija **two_closest_clusters** pronalazi dva klastera iz liste klastera **clusters** koji su na najmanjoj udaljenosti prema matrici rastojanja **D**."
   ]
  },
  {
   "cell_type": "code",
   "execution_count": 6,
   "metadata": {},
   "outputs": [],
   "source": [
    "def two_closest_clusters(clusters, D):\n",
    "    min_ci = None\n",
    "    min_cj = None\n",
    "    min_distance = float('inf')\n",
    "        \n",
    "    for c_i in clusters:\n",
    "        for c_j in clusters:\n",
    "            if c_i != c_j:\n",
    "                current_distance = c_i.distance(c_j, D)\n",
    "                if current_distance < min_distance:\n",
    "                    min_distance = current_distance\n",
    "                    min_ci = c_i\n",
    "                    min_cj = c_j\n",
    "                        \n",
    "    return min_ci, min_cj"
   ]
  },
  {
   "cell_type": "code",
   "execution_count": 7,
   "metadata": {},
   "outputs": [
    {
     "name": "stdout",
     "output_type": "stream",
     "text": [
      "[2]:0\n",
      "[3]:0\n"
     ]
    }
   ],
   "source": [
    "D = [[0, 3, 4, 3],\n",
    "     [3, 0, 4, 5],\n",
    "     [4, 4, 0, 2],\n",
    "     [3, 5, 2, 0]]\n",
    "\n",
    "c1 = Cluster([0, 1])\n",
    "c2 = Cluster([2])\n",
    "c3 = Cluster([3])\n",
    "\n",
    "min_ci, min_cj = two_closest_clusters([c1, c2, c3], D)\n",
    "print(min_ci)\n",
    "print(min_cj)"
   ]
  },
  {
   "cell_type": "markdown",
   "metadata": {},
   "source": [
    "Funkcija **UPGMA** konstruise filogenetsko stablo koje odgovara matrici rastojanja **D** dimenzije **n** $\\times$ **n** primenom *UPGMA algoritma*."
   ]
  },
  {
   "cell_type": "code",
   "execution_count": 8,
   "metadata": {},
   "outputs": [],
   "source": [
    "def UPGMA(D, n):\n",
    "    clusters = [Cluster([i], 0) for i in range(n)]\n",
    "    adjacency_list = dict([(i, []) for i in range(n)])\n",
    "    tree = Graph(adjacency_list)\n",
    "    \n",
    "    while len(clusters) > 1:\n",
    "        c_i, c_j= two_closest_clusters(clusters, D)\n",
    "        c_new = c_i.merge(c_j, D)\n",
    "        \n",
    "        tree.add_node(str(c_new))\n",
    "        tree.add_neighbor(str(c_new), str(c_i), distance=c_new.age - c_i.age, undirected=False)\n",
    "        tree.add_neighbor(str(c_new), str(c_j), distance=c_new.age - c_j.age, undirected=False)\n",
    "            \n",
    "        clusters.remove(c_i)\n",
    "        clusters.remove(c_j)\n",
    "        clusters.append(c_new)\n",
    "            \n",
    "    root = clusters[0]\n",
    "    return tree, root"
   ]
  },
  {
   "cell_type": "code",
   "execution_count": 9,
   "metadata": {},
   "outputs": [
    {
     "name": "stdout",
     "output_type": "stream",
     "text": [
      "Root =  [2, 3, 0, 1]:2.0\n",
      "0\n",
      "Neighbors:  []\n",
      "1\n",
      "Neighbors:  []\n",
      "2\n",
      "Neighbors:  []\n",
      "3\n",
      "Neighbors:  []\n",
      "[2, 3]:1.0\n",
      "Neighbors:  [('[2]:0', 1.0), ('[3]:0', 1.0)]\n",
      "[0, 1]:1.5\n",
      "Neighbors:  [('[0]:0', 1.5), ('[1]:0', 1.5)]\n",
      "[2, 3, 0, 1]:2.0\n",
      "Neighbors:  [('[2, 3]:1.0', 1.0), ('[0, 1]:1.5', 0.5)]\n"
     ]
    }
   ],
   "source": [
    "D = [[0, 3, 4, 3],\n",
    "     [3, 0, 4, 5],\n",
    "     [4, 4, 0, 2],\n",
    "     [3, 5, 2, 0]]\n",
    "n = 4\n",
    "\n",
    "(tree, root) = UPGMA(D, n)\n",
    "\n",
    "print('Root = ',root)\n",
    "for node in tree.adjacency_list:\n",
    "    print(node)\n",
    "    print('Neighbors: ', tree.adjacency_list[node])"
   ]
  },
  {
   "cell_type": "markdown",
   "metadata": {},
   "source": [
    "Primer sa proslog casa (aditivna filogenija):"
   ]
  },
  {
   "cell_type": "code",
   "execution_count": 10,
   "metadata": {},
   "outputs": [
    {
     "name": "stdout",
     "output_type": "stream",
     "text": [
      "Root =  [0, 3, 1, 2]:9.333333333333334\n",
      "0\n",
      "Neighbors:  []\n",
      "1\n",
      "Neighbors:  []\n",
      "2\n",
      "Neighbors:  []\n",
      "3\n",
      "Neighbors:  []\n",
      "[1, 2]:6.0\n",
      "Neighbors:  [('[1]:0', 6.0), ('[2]:0', 6.0)]\n",
      "[3, 1, 2]:6.5\n",
      "Neighbors:  [('[3]:0', 6.5), ('[1, 2]:6.0', 0.5)]\n",
      "[0, 3, 1, 2]:9.333333333333334\n",
      "Neighbors:  [('[0]:0', 9.333333333333334), ('[3, 1, 2]:6.5', 2.833333333333334)]\n"
     ]
    }
   ],
   "source": [
    "D = [[ 0, 13, 21, 22],\n",
    "     [13,  0, 12, 13], \n",
    "     [21, 12,  0, 13], \n",
    "     [22, 13, 13,  0]]\n",
    "n = 4\n",
    "\n",
    "(tree, root) = UPGMA(D, n)\n",
    "\n",
    "print('Root = ',root)\n",
    "for node in tree.adjacency_list:\n",
    "    print(node)\n",
    "    print('Neighbors: ', tree.adjacency_list[node])"
   ]
  },
  {
   "cell_type": "markdown",
   "metadata": {},
   "source": [
    "# Neighbor-Joining algoritam"
   ]
  },
  {
   "cell_type": "markdown",
   "metadata": {},
   "source": [
    "Kod UPGMA algoritma smo potencijalno dobijali evolutivno stablo koje ne odgovara matrici rastojanja zato sto implicitno pretpostavljali nesto sto ne mora da vazi: <br/>\n",
    "- da minimalna vrednost u matrici rastojanja odgovara susednim listovima <br/>\n",
    "- da je udaljenost danasnjih vrsta od njihovog zajednickog pretka jednaka, tj. da su se vrste odvojile u isto vremenskom trenutku, sto ne mora da bude slucaj (mozda se jedna vrsta odvojila i njihov zajedniciki predak nastavio da zivi, pa se tek kasnije odvojila druga vrsta)\n",
    "\n",
    "Kod Neighbor-Joining algoritma ne pravimo ovakve pretpostavke. Algoritam se moze primeniti i na neaditivne matrice i daje uvek evolutivno stablo koje odgovara matrici rastojanja. Prethodne dve pogresne pretpostavke zamenjujemo sledecim pretpostavkama: \n",
    "- da su listovi susedni ne zakljucujemo direktno na osnovu matrice rastojanja D, vec na osnovu tzv. neighbor-joining matrice D* koja se definise na sledeci nacin: $$D^{*}[i][j] = (n-2)D[i][j] - total\\_distance(D, i) - total\\_distance(D, j)$$ gde je $total\\_distance(D, i)$ suma rastojanja lista $i$ od svih ostalih listova. Neighbor-Joining teorema kaze da ako je matrica D aditivna, onda minimalni element matrice D* odgovara susednim listovima u evolutivnom stablu. <br/>\n",
    "- rastojanja postojecih vrsta od direktnog prekta, odnosno duzine spoljnih grana, racunamo sledecom formulom: $$limb\\_lenght(i) = \\frac{1}{2}(D[i][j] + \\Delta_{i, j})$$ $$limb\\_lenght(j) = \\frac{1}{2}(D[i][j] - \\Delta_{i, j})$$ gde je $$\\Delta_{i, j} = \\frac{total\\_distance(D, i) - total\\_distance(D, j)}{n-2}$$Ova formula za izracunavanje $limb\\_lenght$-a je ekvivalentna sledecoj formuli: $$limb\\_lenght(i) = \\frac{1}{n-2}\\sum\\limits_{k\\neq i, j} \\frac{1}{2}(D[i][j] + D[i][k] - D[j][k])$$ gde je $j$ susedni list za $i$. Ovo rastojanje se za aditivne matrice svodi na rastojanje koje smo imali kod **algoritma aditivne filogenije**, jer tamo imamo aditivnu matricu kod koje vazi da su rastojanja $\\frac{1}{2}(D[i][j] + D[i][k] - D[j][k])$ jednaka za sve razlicite $k$-ove, dok kod neaditivnih matrica ovo rastojanje odgovara proseku svih rastojanja $\\frac{1}{2}(D[i][j] + D[i][k] - D[j][k])$ po svim $k$-ovima.\n",
    "\n",
    "**Neighbor-Joining algoritam je hibrid aditivne filogenije i UPGMA algoritma - formira nekoreno evolutivno stablo kao kod aditivne filogenije, ali vrsi formiranje stabla na slican nacin kao UPGMA tako sto izbacuje po 2 cvora (klastera) i zamenjuje ih 1 novim cvorom (neighbor joining), dok smo kod aditivne filogenije izbacivali 1 list i zamenjivali ga 1 unutrasnjim cvorom.**"
   ]
  },
  {
   "cell_type": "markdown",
   "metadata": {},
   "source": [
    "Pomocna klasa <code>DMap</code> ce nam sluziti za reprezentaciju matrice udaljenosti kao <code>dict</code> objekat. Struktura 2D mape (recnika) nam je pogodnija nego struktura matrice zato sto se iz mape (recnika) jednostavnije izbacuju elementi i jednostavno se ubacuju elementi. Pri tom, elementima 2D mape pristupamo na isti nacin kao elementima matrice sa D_map\\[ i \\]\\[ j \\]. "
   ]
  },
  {
   "cell_type": "code",
   "execution_count": 11,
   "metadata": {},
   "outputs": [],
   "source": [
    "class DMap:\n",
    "    #konstruktorska funkcija (metod) koja pravi 2D mapu na osnovu matrice D\n",
    "    def __init__(self, D):\n",
    "        self.D = D\n",
    "        self.D_map = {}\n",
    "        self.n = len(D)\n",
    "        \n",
    "        for i in range(self.n):\n",
    "            self.D_map[i] = {}\n",
    "            for j in range(self.n):\n",
    "                self.D_map[i][j] = D[i][j]\n",
    "              \n",
    "    #metod koji vraca stringovsku reprezentaciju 'mape rastojanja' \n",
    "    def __str__(self):\n",
    "        return f'{self.D_map}'\n",
    "    \n",
    "    #metod koji racuna ukupna udaljenost čvora i od svih ostalih čvorova\n",
    "    def total_distance(self, i):\n",
    "        dist = 0\n",
    "        for j in self.D_map:\n",
    "            dist += self.D_map[i][j]\n",
    "            \n",
    "        return dist\n",
    "    \n",
    "    #metod koji pravi 'mapu rastojanja' D* za datu 'mapu rastojanja' D (self)\n",
    "    def create_D_star(self):\n",
    "        D_star_map = {}\n",
    "        \n",
    "        for i in self.D_map:\n",
    "            D_star_map[i] = {}\n",
    "            for j in self.D_map[i]:\n",
    "                if i != j:\n",
    "                    D_star_map[i][j] = (self.n - 2) * self.D_map[i][j] - self.total_distance(i) - self.total_distance(j)\n",
    "                else:\n",
    "                    D_star_map[i][j] = 0\n",
    "                \n",
    "        return D_star_map\n",
    "    \n",
    "    #metod koji pronalazi cvorove koji se nalaze na minimalnom rastojanju \n",
    "    #u odnosu na'mapu rastojanja' D* za datu 'mapu rastojanja' D (self)\n",
    "    def minimal_pair_D_star(self):\n",
    "        D_star_map = self.create_D_star()\n",
    "        \n",
    "        min_i = None\n",
    "        min_j = None\n",
    "        min_distance = float('inf')\n",
    "        \n",
    "        for i in D_star_map:\n",
    "            for j in D_star_map:\n",
    "                if i != j:\n",
    "                    current_distance = D_star_map[i][j]\n",
    "                    if current_distance < min_distance:\n",
    "                        min_i = i\n",
    "                        min_j = j\n",
    "                        \n",
    "        return min_i, min_j\n",
    "    \n",
    "    #metod koji u datu 'mapu rastojanja' (self) dodaje vrednosti za novi cvor m koji nastaje spajanjem cvorova i i j\n",
    "    def add_node(self, m, i, j):\n",
    "        self.D_map[m] = {}\n",
    "        \n",
    "        for k in self.D_map:\n",
    "            if k != i and k != j:\n",
    "                if k != m:\n",
    "                    self.D_map[k][m] = 0.5 * (self.D_map[k][i] + self.D_map[k][j] - self.D_map[i][j])\n",
    "                    self.D_map[m][k] = self.D_map[k][m]\n",
    "                else:\n",
    "                    self.D_map[m][k] = 0\n",
    "    \n",
    "    #metod koji izbacuje iz date 'mape rastojanja' (self) vrednosti koje odgovaraju cvoru i\n",
    "    def remove_node(self, i):\n",
    "        del self.D_map[i]\n",
    "        \n",
    "        for j in self.D_map:\n",
    "            if j != i and i in self.D_map[j]:\n",
    "                del self.D_map[j][i]"
   ]
  },
  {
   "cell_type": "code",
   "execution_count": 12,
   "metadata": {},
   "outputs": [],
   "source": [
    "D = [[ 0, 13, 21, 22],\n",
    "     [13,  0, 12, 13], \n",
    "     [21, 12,  0, 13], \n",
    "     [22, 13, 13,  0]]\n",
    "\n",
    "D_map = DMap(D)"
   ]
  },
  {
   "cell_type": "code",
   "execution_count": 13,
   "metadata": {},
   "outputs": [
    {
     "name": "stdout",
     "output_type": "stream",
     "text": [
      "{0: {0: 0, 1: 13, 2: 21, 3: 22}, 1: {0: 13, 1: 0, 2: 12, 3: 13}, 2: {0: 21, 1: 12, 2: 0, 3: 13}, 3: {0: 22, 1: 13, 2: 13, 3: 0}}\n"
     ]
    }
   ],
   "source": [
    "print(D_map)"
   ]
  },
  {
   "cell_type": "code",
   "execution_count": 14,
   "metadata": {},
   "outputs": [
    {
     "name": "stdout",
     "output_type": "stream",
     "text": [
      "56\n"
     ]
    }
   ],
   "source": [
    "print(D_map.total_distance(0))"
   ]
  },
  {
   "cell_type": "code",
   "execution_count": 15,
   "metadata": {},
   "outputs": [
    {
     "name": "stdout",
     "output_type": "stream",
     "text": [
      "{0: {0: 0, 1: -68, 2: -60, 3: -60}, 1: {0: -68, 1: 0, 2: -60, 3: -60}, 2: {0: -60, 1: -60, 2: 0, 3: -68}, 3: {0: -60, 1: -60, 2: -68, 3: 0}}\n"
     ]
    }
   ],
   "source": [
    "D_map_star = D_map.create_D_star()\n",
    "print(D_map_star)"
   ]
  },
  {
   "cell_type": "code",
   "execution_count": 16,
   "metadata": {},
   "outputs": [
    {
     "name": "stdout",
     "output_type": "stream",
     "text": [
      "(3, 2)\n"
     ]
    }
   ],
   "source": [
    "print(D_map.minimal_pair_D_star())"
   ]
  },
  {
   "cell_type": "code",
   "execution_count": 17,
   "metadata": {},
   "outputs": [
    {
     "name": "stdout",
     "output_type": "stream",
     "text": [
      "{0: {0: 0, 1: 13, 2: 21, 3: 22}, 1: {0: 13, 1: 0, 2: 12, 3: 13}, 2: {0: 21, 1: 12, 2: 0, 3: 13, '0+1': 10.0}, 3: {0: 22, 1: 13, 2: 13, 3: 0, '0+1': 11.0}, '0+1': {2: 10.0, 3: 11.0, '0+1': 0}}\n"
     ]
    }
   ],
   "source": [
    "D_map.add_node('0+1', 0, 1)\n",
    "print(D_map)"
   ]
  },
  {
   "cell_type": "code",
   "execution_count": 18,
   "metadata": {},
   "outputs": [
    {
     "name": "stdout",
     "output_type": "stream",
     "text": [
      "{0: {0: 0, 1: 13, 3: 22}, 1: {0: 13, 1: 0, 3: 13}, 3: {0: 22, 1: 13, 3: 0, '0+1': 11.0}, '0+1': {3: 11.0, '0+1': 0}}\n"
     ]
    }
   ],
   "source": [
    "D_map.remove_node(2)\n",
    "print(D_map)"
   ]
  },
  {
   "cell_type": "markdown",
   "metadata": {},
   "source": [
    "Skica **Neighbor-joining algoritma**: \n",
    "- Konstruisemo matricu $D^{*}$ na osnovu matrice $D$ \n",
    "- Nadjemo minimalni element $D^{*}[i][j]$ \n",
    "- Spajamo cvorove $i$ i $j$ zajednickim unutrasnjim cvorom $m$ i dodjeljujemo tezine granama $limb\\_length(i)$ i $limb\\_lenght(j)$ \n",
    "- Azuriramo matricu $D$ tako sto iz nje uklanjamo $i$-tu i $j$-tu vrstu i kolonu, a dodajemo $m$-tu vrstu i kolonu sa vrednostima $$D[k][m] = \\frac{1}{2}(D[i][k] + D[j][k] - D[i][j]) = D[m][k]$$\n",
    "- Ponavljamo rekurzivni korak sve do baznog slucaja kada dobijemo matricu rastojanja $D$ dimenzije $2 \\times 2$\n",
    "\n",
    "<img src=\"assets/neighbor_joining_example.png\" width=\"600\">"
   ]
  },
  {
   "cell_type": "code",
   "execution_count": 19,
   "metadata": {},
   "outputs": [],
   "source": [
    "def neighbor_joining(D_map, n):\n",
    "    if n == 2:\n",
    "        [i, j] = list((D_map.D_map.keys()))\n",
    "        return Graph({\n",
    "            i: [(j, D_map.D_map[i][j])],\n",
    "            j: [(i, D_map.D_map[j][i])]\n",
    "        })\n",
    "        \n",
    "    i, j = D_map.minimal_pair_D_star()\n",
    "    delta = (D_map.total_distance(i) - D_map.total_distance(j)) / (n - 2)\n",
    "    limb_length_i = 0.5 * (D_map.D_map[i][j] + delta)\n",
    "    limb_length_j = 0.5 * (D_map.D_map[i][j] - delta)\n",
    "        \n",
    "    m = '{}+{}'.format(i, j)\n",
    "    D_map.add_node(m, i, j)\n",
    "    D_map.remove_node(i)\n",
    "    D_map.remove_node(j)\n",
    "        \n",
    "    tree = neighbor_joining(D_map, n - 1)\n",
    "    tree.add_neighbor(m, i, limb_length_i)\n",
    "    tree.add_neighbor(m, j, limb_length_j)\n",
    "        \n",
    "    return tree"
   ]
  },
  {
   "cell_type": "code",
   "execution_count": 20,
   "metadata": {},
   "outputs": [
    {
     "name": "stdout",
     "output_type": "stream",
     "text": [
      "{0: [('3+2+1', 11.0)], '3+2+1': [(0, 11.0), ('3+2', 4.0), (1, 2.0)], '3+2': [('3+2+1', 4.0), (3, 7.0), (2, 6.0)], 1: [('3+2+1', 2.0)], 3: [('3+2', 7.0)], 2: [('3+2', 6.0)]}\n"
     ]
    }
   ],
   "source": [
    "D = [[0, 13, 21, 22],\n",
    "    [13, 0, 12, 13],\n",
    "    [21, 12, 0, 13],\n",
    "    [22, 13, 13, 0]]\n",
    "\n",
    "D_map = DMap(D)\n",
    "print(neighbor_joining(D_map, n))"
   ]
  }
 ],
 "metadata": {
  "kernelspec": {
   "display_name": "Python 3",
   "language": "python",
   "name": "python3"
  },
  "language_info": {
   "codemirror_mode": {
    "name": "ipython",
    "version": 3
   },
   "file_extension": ".py",
   "mimetype": "text/x-python",
   "name": "python",
   "nbconvert_exporter": "python",
   "pygments_lexer": "ipython3",
   "version": "3.8.10"
  }
 },
 "nbformat": 4,
 "nbformat_minor": 4
}
