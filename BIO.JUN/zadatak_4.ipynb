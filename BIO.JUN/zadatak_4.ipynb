{
 "cells": [
  {
   "cell_type": "markdown",
   "id": "940f9f6e",
   "metadata": {},
   "source": [
    "Klasa **TrieNode** definise pojedinacne cvorove prefiksnog stabla."
   ]
  },
  {
   "cell_type": "code",
   "execution_count": 50,
   "id": "22afbe46",
   "metadata": {},
   "outputs": [],
   "source": [
    "class TrieNode:\n",
    "    def __init__(self, label):                    \n",
    "        self.label = label          \n",
    "        self.neighbors = {}        \n",
    "        self.is_leaf = True         \n",
    "        \n",
    "    def add_neighbor(self, character):\n",
    "        self.is_leaf = False\n",
    "        self.neighbors[character] = TrieNode(self.label + character) # here i create new trie node\n",
    "        \n",
    "    def has_neighbor(self, character):\n",
    "        if character in self.neighbors:\n",
    "            return True\n",
    "        else:\n",
    "            return False\n",
    "        \n",
    "    def get_neighbor(self, character):\n",
    "        if self.has_neighbor(character):\n",
    "            return self.neighbors[character]\n",
    "        else:\n",
    "            return None\n",
    "        \n",
    "    def get_neighbors(self):\n",
    "        return self.neighbors"
   ]
  },
  {
   "cell_type": "markdown",
   "id": "85e2ce6c",
   "metadata": {},
   "source": [
    "Klasa **Trie** definise prefiksno stablo kao i algoritam pretrage sekvence nad njime."
   ]
  },
  {
   "cell_type": "markdown",
   "id": "4152097c-3e8a-4a0c-a1dd-a9ba2585c4b6",
   "metadata": {},
   "source": [
    "    #metod koji pokusava da upari sablone iz prefiksnog stabla kao prefikse niske sequence\n",
    "    def prefix_trie_matching(self, sequence):\n",
    "        current_node = self.root\n",
    "    \n",
    "        for character in sequence:\n",
    "            if current_node.is_leaf:\n",
    "                return current_node.label\n",
    "            \n",
    "            if current_node.has_neighbor(character):\n",
    "                current_node = current_node.get_neighbor(character)\n",
    "            else:\n",
    "                return False\n",
    "        \n",
    "        #ovo je potrebno kada je sablon cela niska sequence\n",
    "        if current_node.is_leaf:\n",
    "            return current_node.label\n",
    "        else:\n",
    "            return False\n",
    "        \n",
    "    #metod koji pronalazi sva uparivanja sablona iz prefiksnog stabla unutar niske sequence    \n",
    "    def trie_matching(self, sequence):\n",
    "        results = []\n",
    "    \n",
    "        for i in range(len(sequence)):\n",
    "            match = self.prefix_trie_matching(sequence[i:])\n",
    "            if match:\n",
    "                results.append((match, i))\n",
    "            \n",
    "        return results"
   ]
  },
  {
   "cell_type": "code",
   "execution_count": 51,
   "id": "1dc7373f",
   "metadata": {},
   "outputs": [],
   "source": [
    "class Trie:\n",
    "    #konstruktorska funkcija (metod) koja za datu listu niski patterns pravi prefiksno stablo\n",
    "    def __init__(self, patterns):\n",
    "        self.root = TrieNode('')\n",
    "    \n",
    "        for pattern in patterns:\n",
    "            # ======== STUDENTSKI KOD ======== #\n",
    "            current_node = self.root # svaki patern pocinje od korena \n",
    "\n",
    "            for char in pattern:\n",
    "                if not current_node.has_neighbor(char):\n",
    "                    current_node.add_neighbor(char)\n",
    "                current_node = current_node.get_neighbor(char)\n",
    "            # ================================ #\n",
    "    \n",
    "    #metod koji pokusava da upari sablone iz prefiksnog stabla kao prefikse niske sequence\n",
    "    #metod treba da vrati upareni sablon iz prefiksnog stabla sa prefiksom niske sequence ili None\n",
    "    def prefix_trie_matching(self, sequence):\n",
    "        # ======== STUDENTSKI KOD ======== #\n",
    "        current_node = self.root \n",
    "\n",
    "        for char in sequence:\n",
    "            if current_node.is_leaf:\n",
    "                return current_node.label\n",
    "            if current_node.has_neighbor(char):\n",
    "                current_node = current_node.get_neighbor(char)\n",
    "            else:\n",
    "                return False\n",
    "        if current_node.is_leaf:\n",
    "            return current_node.label\n",
    "        else:\n",
    "            return False\n",
    "        # ================================ # \n",
    "        \n",
    "    #metod koji pronalazi sva uparivanja sablona iz prefiksnog stabla unutar niske sequence\n",
    "    #metod treba da vrati listu svih uparenih sablona zajedno sa pozicijama na kojima oni pocinju u niski sequence\n",
    "    def trie_matching(self, sequence):\n",
    "        # ======== STUDENTSKI KOD ======== #\n",
    "        results = []\n",
    "\n",
    "        for i in range(len(sequence)):\n",
    "            match = self.prefix_trie_matching(sequence[i:])\n",
    "            if match:\n",
    "                results.append((match, i))\n",
    "        \n",
    "        return results\n",
    "        # ================================ #"
   ]
  },
  {
   "cell_type": "code",
   "execution_count": null,
   "id": "59389113-3701-477d-92a0-711994bb9715",
   "metadata": {},
   "outputs": [],
   "source": []
  },
  {
   "cell_type": "code",
   "execution_count": 52,
   "id": "fa3325be",
   "metadata": {},
   "outputs": [
    {
     "data": {
      "text/plain": [
       "[('ATG', 2), ('CTCT', 5), ('ATG', 15), ('TATA', 21)]"
      ]
     },
     "execution_count": 52,
     "metadata": {},
     "output_type": "execute_result"
    }
   ],
   "source": [
    "patterns = ['ACCG', 'CTCT', 'GGA', 'TATA', 'ATG']\n",
    "sequence = 'ATATGCTCTTGCTAGATGTGCTATA'\n",
    "\n",
    "trie = Trie(patterns)\n",
    "# print(trie.root.neighbors['A'].neighbors['C'].neighbors['C'].neighbors['G'].neighbors)\n",
    "\n",
    "# print(trie.prefix_trie_matching(sequence))\n",
    "trie.trie_matching(sequence)"
   ]
  },
  {
   "cell_type": "code",
   "execution_count": null,
   "id": "b0eaf7f2-6a38-43aa-9ce4-af7e5fd5701a",
   "metadata": {},
   "outputs": [],
   "source": []
  },
  {
   "cell_type": "code",
   "execution_count": null,
   "id": "f4d914cc-3a4b-42dc-b69b-ac6ff53e7da9",
   "metadata": {},
   "outputs": [],
   "source": []
  }
 ],
 "metadata": {
  "kernelspec": {
   "display_name": "Python 3 (ipykernel)",
   "language": "python",
   "name": "python3"
  },
  "language_info": {
   "codemirror_mode": {
    "name": "ipython",
    "version": 3
   },
   "file_extension": ".py",
   "mimetype": "text/x-python",
   "name": "python",
   "nbconvert_exporter": "python",
   "pygments_lexer": "ipython3",
   "version": "3.10.14"
  }
 },
 "nbformat": 4,
 "nbformat_minor": 5
}
