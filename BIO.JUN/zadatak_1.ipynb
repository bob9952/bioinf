{
 "cells": [
  {
   "cell_type": "markdown",
   "id": "5f55438b",
   "metadata": {},
   "source": [
    "Funkcija **symbol_to_number** vrsi preslikavanje simbola nukleotida u odgovarajuce numericke vrednost - cifre iz brojevnog sistema sa osnovom 4. "
   ]
  },
  {
   "cell_type": "code",
   "execution_count": 3,
   "id": "f54e4e65",
   "metadata": {},
   "outputs": [],
   "source": [
    "def symbol_to_number(symbol):\n",
    "    mapping = {\n",
    "        'A' : 0,   'a' : 0,        \n",
    "        'T' : 1,   't' : 1,\n",
    "        'C' : 2,   'c' : 2,\n",
    "        'G' : 3,   'g' : 3\n",
    "    }\n",
    "    \n",
    "    return mapping[symbol]"
   ]
  },
  {
   "cell_type": "markdown",
   "id": "9a5ad2f5",
   "metadata": {},
   "source": [
    "Funkcija **pattern_to_number** vrsi preslikavanje nukleotidne sekvence **pattern** u odgovarajuci numericku vrednost."
   ]
  },
  {
   "cell_type": "code",
   "execution_count": 4,
   "id": "bf99f47a",
   "metadata": {},
   "outputs": [],
   "source": [
    "def pattern_to_number(pattern):\n",
    "    if(len(pattern) == 1):\n",
    "        return symbol_to_number(pattern)\n",
    "    else:\n",
    "        last_symbol = pattern[-1]\n",
    "        return pattern_to_number(pattern[:-1])*4 + symbol_to_number(last_symbol) "
   ]
  },
  {
   "cell_type": "markdown",
   "id": "ed1fcd34",
   "metadata": {},
   "source": [
    "Funkcija **number_to_symbol** za datu cifru iz sistema sa osnovom 4 vraca odgovarajuci simbol nukleotida."
   ]
  },
  {
   "cell_type": "code",
   "execution_count": 5,
   "id": "62a4963a",
   "metadata": {},
   "outputs": [],
   "source": [
    "def number_to_symbol(number):\n",
    "    mapping = {\n",
    "        0 : 'A',\n",
    "        1 : 'T',\n",
    "        2 : 'C',\n",
    "        3 : 'G'\n",
    "    }\n",
    "    \n",
    "    return mapping[number]"
   ]
  },
  {
   "cell_type": "markdown",
   "id": "483700ca",
   "metadata": {},
   "source": [
    "Funkcija **number_to_pattern** prevodi datu numericku vrednost (**number**) u nukleotidnu sekvencu duzine **k**."
   ]
  },
  {
   "cell_type": "code",
   "execution_count": 6,
   "id": "e0d5f6bb",
   "metadata": {},
   "outputs": [],
   "source": [
    "def number_to_pattern(number, k):\n",
    "    if k==1:\n",
    "        return number_to_symbol(number)\n",
    "    else:\n",
    "        return number_to_pattern(number//4, k-1) + number_to_symbol(number%4)"
   ]
  },
  {
   "cell_type": "markdown",
   "id": "4c981505",
   "metadata": {},
   "source": [
    "Funkcija **hamming_distance** racuna broj pozicija na kojima se niske **string1** i **string2** razlikuju. Podrazumeva se da su niski jednake duzine."
   ]
  },
  {
   "cell_type": "code",
   "execution_count": 7,
   "id": "5bd85553",
   "metadata": {},
   "outputs": [],
   "source": [
    "def hamming_distance(string1, string2):\n",
    "    distance = 0\n",
    "    \n",
    "    # ======== STUDENTSKI KOD ======== #\n",
    "    for i in range(len(string1)):\n",
    "        if string1[i] != string2[i]:\n",
    "            distance += 1\n",
    "    \n",
    "    # ================================ #\n",
    "            \n",
    "    return distance"
   ]
  },
  {
   "cell_type": "markdown",
   "id": "330c31bf",
   "metadata": {},
   "source": [
    "Funkcija **distance** racuna rastojanje zadate niske **pattern** (kandidat za kanonski motiv) u odnosu na skup sekvenci **dna_sequences**."
   ]
  },
  {
   "cell_type": "code",
   "execution_count": 8,
   "id": "ebbe618b",
   "metadata": {},
   "outputs": [],
   "source": [
    "def distance(dna_sequences, pattern):       \n",
    "    k = len(pattern)\n",
    "    \n",
    "    total_distance = 0\n",
    "    \n",
    "    for sequence in dna_sequences:\n",
    "        # ======== STUDENTSKI KOD ======== #\n",
    "        min_dist = float('inf')\n",
    "        n = len(sequence)\n",
    "        \n",
    "        for i in range(n - k + 1):\n",
    "            current_motive = sequence[i : i + k]\n",
    "            current_distance = hamming_distance(current_motive, pattern)\n",
    "\n",
    "            if current_distance < min_dist:\n",
    "                min_dist = current_distance\n",
    "        total_distance += min_dist\n",
    "        # ================================ #\n",
    "        \n",
    "    return total_distance"
   ]
  },
  {
   "cell_type": "markdown",
   "id": "75ac5347",
   "metadata": {},
   "source": [
    "Funkcija **median_string** pronalazi nisku medijanu duzine **k** za zadati skup niski **dna_sequences**."
   ]
  },
  {
   "cell_type": "code",
   "execution_count": null,
   "id": "074bfb6b-6f59-42ef-950e-a2a15a709671",
   "metadata": {},
   "outputs": [],
   "source": []
  },
  {
   "cell_type": "code",
   "execution_count": 9,
   "id": "c4f65223",
   "metadata": {},
   "outputs": [],
   "source": [
    "def median_string(dna_sequences, k):\n",
    "    # ======== STUDENTSKI KOD ======== #\n",
    "    min_distance = float('inf')\n",
    "    median = None\n",
    "    \n",
    "    for i in range(4**k):\n",
    "        current_distance = distance(dna_sequences, number_to_pattern(i, k))\n",
    "        if current_distance < min_distance:\n",
    "            min_distance = current_distance\n",
    "            median = number_to_pattern(i, k)\n",
    "    return median\n",
    "    # ================================ #"
   ]
  },
  {
   "cell_type": "code",
   "execution_count": 10,
   "id": "98cfaecd",
   "metadata": {},
   "outputs": [
    {
     "name": "stdout",
     "output_type": "stream",
     "text": [
      "AAA\n"
     ]
    }
   ],
   "source": [
    "dna_sequences = ['ttacggtAAC',\n",
    "                 'gATAtctgtc',\n",
    "                 'ACGgcgttcg',\n",
    "                 'ccctAAAgag',\n",
    "                 'cgtcAGAggt']\n",
    "k = 3\n",
    "\n",
    "print(median_string(dna_sequences, k))"
   ]
  },
  {
   "cell_type": "code",
   "execution_count": null,
   "id": "e5163b52-2346-4e0f-a5d7-7c5466cf3ec3",
   "metadata": {},
   "outputs": [],
   "source": []
  },
  {
   "cell_type": "code",
   "execution_count": null,
   "id": "37ede889-7773-4919-98e5-efca5f2f3d18",
   "metadata": {},
   "outputs": [],
   "source": []
  }
 ],
 "metadata": {
  "kernelspec": {
   "display_name": "Python 3 (ipykernel)",
   "language": "python",
   "name": "python3"
  },
  "language_info": {
   "codemirror_mode": {
    "name": "ipython",
    "version": 3
   },
   "file_extension": ".py",
   "mimetype": "text/x-python",
   "name": "python",
   "nbconvert_exporter": "python",
   "pygments_lexer": "ipython3",
   "version": "3.10.14"
  }
 },
 "nbformat": 4,
 "nbformat_minor": 5
}
