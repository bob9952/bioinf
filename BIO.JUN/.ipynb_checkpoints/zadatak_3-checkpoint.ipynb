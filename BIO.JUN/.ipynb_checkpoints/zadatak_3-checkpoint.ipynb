{
 "cells": [
  {
   "cell_type": "markdown",
   "metadata": {},
   "source": [
    "Klasu **Graph** treba koristiti za predstavljanje i izgradnju filogenetskog stabla."
   ]
  },
  {
   "cell_type": "code",
   "execution_count": null,
   "metadata": {},
   "outputs": [],
   "source": [
    "class Graph:\n",
    "    #konstruktorska funkcija (metod)\n",
    "    def __init__(self, adjacency_list):\n",
    "        self.adjacency_list = adjacency_list\n",
    "        \n",
    "    #metod koji vraca stringovsku reprezentaciju grafa    \n",
    "    def __str__(self):\n",
    "        return f'{self.adjacency_list}'\n",
    "    \n",
    "    #metod koji vraca listu suseda cvora v u grafu\n",
    "    def get_neighbors(self, v):\n",
    "        return self.adjacency_list[v]\n",
    "    \n",
    "    #metod koji dodaje u graf suseda cvora node sa oznakom neighbor na udaljenosti distance\n",
    "    def add_neighbor(self, node, neighbor, distance):\n",
    "        self.adjacency_list[node].append((neighbor, distance))\n",
    "        \n",
    "        if neighbor not in self.adjacency_list:\n",
    "            self.adjacency_list[neighbor] = []\n",
    "            \n",
    "        self.adjacency_list[neighbor].append((node, distance))\n",
    "        \n",
    "    #metod koji uklanja iz grafa suseda cvora node sa oznakom neighbor na udaljenosti distance    \n",
    "    def remove_neighbor(self, node, neighbor, distance):\n",
    "        self.adjacency_list[node].remove((neighbor, distance))\n",
    "        self.adjacency_list[neighbor].remove((node, distance))    \n",
    "       \n",
    "    #metod koji vraca duzinu grane izmedju susednih cvorova node_i i node_j\n",
    "    def distance_between_nodes(self, node_i, node_j):\n",
    "        node_i_neighbors = self.get_neighbors(node_i)\n",
    "    \n",
    "        for (w, weight) in node_i_neighbors:\n",
    "            if w == node_j:\n",
    "                return weight\n",
    "        \n",
    "        return None  \n",
    "    \n",
    "    #metod koji dodaje novi cvor izmedju cvorova node_i i node_j \n",
    "    #koji se nalazi na rastojanju distance_i od cvora node_i\n",
    "    def add_new_node_between_nodes(self, node_i, node_j, distance_i):\n",
    "        new_node = '{}+{}'.format(node_i, node_j)\n",
    "    \n",
    "        distance_ij = self.distance_between_nodes(node_i, node_j)\n",
    "        distance_j = distance_ij - distance_i\n",
    "    \n",
    "        self.remove_neighbor(node_i, node_j, distance_ij)\n",
    "        self.add_neighbor(node_i, new_node, distance_i)\n",
    "        self.add_neighbor(node_j, new_node, distance_j)\n",
    "    \n",
    "        return new_node\n",
    "    \n",
    "    #metod koji pronalazi put izmedju cvorova source i destination u grafu (DFS obilazak)\n",
    "    def find_path(self, source, destination):     \n",
    "        stack = [source]\n",
    "        visited = set([source])\n",
    "    \n",
    "        while len(stack) > 0:\n",
    "            v = stack[-1]\n",
    "        \n",
    "            if v == destination:\n",
    "                return stack\n",
    "        \n",
    "            has_neighbors = False\n",
    "        \n",
    "            for (w, weight) in self.get_neighbors(v):\n",
    "                if w not in visited:\n",
    "                    has_neighbors = True\n",
    "                    stack.append(w)\n",
    "                    visited.add(w)\n",
    "                    break\n",
    "        \n",
    "            if not has_neighbors:\n",
    "                stack.pop()\n",
    "            \n",
    "        print('Path not found')\n",
    "        return []\n",
    "    \n",
    "    #metod koji dodaje novi unutrasnji cvor ili vraca vec postojeci unutrasnji cvor na putu izmedju \n",
    "    #cvorova source i distance koji se nalazi na rastojanju distance_from_source od cvora source\n",
    "    def add_node_on_path(self, source, destination, distance_from_source):\n",
    "        path = self.find_path(source, destination)\n",
    "    \n",
    "        i = 0\n",
    "        j = 1\n",
    "        node_i = path[i]\n",
    "        node_j = path[j]\n",
    "        \n",
    "        current_distance = self.distance_between_nodes(node_i, node_j)\n",
    "    \n",
    "        while current_distance < distance_from_source:\n",
    "            i += 1\n",
    "            j += 1\n",
    "            node_i = path[i]\n",
    "            node_j = path[j]\n",
    "        \n",
    "            current_distance += self.distance_between_nodes(node_i, node_j)\n",
    "        \n",
    "        if current_distance == distance_from_source:\n",
    "            return node_j\n",
    "        else:\n",
    "            distance_j = current_distance - distance_from_source\n",
    "            return self.add_new_node_between_nodes(node_j, node_i, distance_j)"
   ]
  },
  {
   "cell_type": "markdown",
   "metadata": {},
   "source": [
    "Funkcija **limb_length** izracunava duzina tzv. *spoljnje grane* za list **j** za datu matricu rastojanja **D** dimenzije **n** $\\times$ **n**. Funkcija pored duzine spoljnje grane vraca i cvorove **i** i **k** na osnovu kojih je izracunata duzina spoljasnje grane za list **j**."
   ]
  },
  {
   "cell_type": "code",
   "execution_count": null,
   "metadata": {},
   "outputs": [],
   "source": [
    "def limb_length(D, n, j):\n",
    "    min_length = float('inf')\n",
    "    min_i = None\n",
    "    min_k = None\n",
    "\n",
    "    # ======== STUDENTSKI KOD ======== #\n",
    "    \n",
    "    \n",
    "    # ================================ #\n",
    "                    \n",
    "    return (min_i, min_k, min_length)"
   ]
  },
  {
   "cell_type": "markdown",
   "metadata": {},
   "source": [
    "Funkcija **additive_philogeny** konstruise filogenetsko stablo koje odgovara matrici rastojanja **D** dimenzije **n** $\\times$ **n** primenom *algoritma aditivne filogenije*."
   ]
  },
  {
   "cell_type": "code",
   "execution_count": null,
   "metadata": {},
   "outputs": [],
   "source": [
    "def additive_philogeny(D, n):\n",
    "    # ======== STUDENTSKI KOD ======== #\n",
    "    \n",
    "    \n",
    "    # ================================ #"
   ]
  },
  {
   "cell_type": "code",
   "execution_count": null,
   "metadata": {},
   "outputs": [],
   "source": [
    "D = [[ 0, 13, 21, 22],\n",
    "     [13,  0, 12, 13], \n",
    "     [21, 12,  0, 13], \n",
    "     [22, 13, 13,  0]]\n",
    "n = 4\n",
    "\n",
    "tree = additive_philogeny(D, n)\n",
    "print(tree)"
   ]
  }
 ],
 "metadata": {
  "kernelspec": {
   "display_name": "Python 3",
   "language": "python",
   "name": "python3"
  },
  "language_info": {
   "codemirror_mode": {
    "name": "ipython",
    "version": 3
   },
   "file_extension": ".py",
   "mimetype": "text/x-python",
   "name": "python",
   "nbconvert_exporter": "python",
   "pygments_lexer": "ipython3",
   "version": "3.8.10"
  }
 },
 "nbformat": 4,
 "nbformat_minor": 5
}
