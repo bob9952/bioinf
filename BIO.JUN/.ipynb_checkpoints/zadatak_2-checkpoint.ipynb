{
 "cells": [
  {
   "cell_type": "markdown",
   "metadata": {},
   "source": [
    "Funkcija **longest_common_subsequence** pronalazi najduzu zajednicku podsekvencu za niske **seq1** i **seq2**. "
   ]
  },
  {
   "cell_type": "code",
   "execution_count": null,
   "metadata": {},
   "outputs": [],
   "source": [
    "def longest_common_subsequence(seq1, seq2):\n",
    "    n = len(seq1) + 1\n",
    "    m = len(seq2) + 1\n",
    "    \n",
    "    S = [[0 for j in range(m)] for i in range(n)]\n",
    "    BACKTRACK = [[None for j in range(m)] for i in range(n)]    \n",
    "    \n",
    "    # ======== STUDENTSKI KOD ======== #\n",
    "    \n",
    "    \n",
    "    # ================================ #\n",
    "                    \n",
    "    score = S[n-1][m-1]\n",
    "    lcs = backtracking_lcs(BACKTRACK, n, m, seq1, seq2)\n",
    "    \n",
    "    return (score, lcs)"
   ]
  },
  {
   "cell_type": "markdown",
   "metadata": {},
   "source": [
    "Funkcija **backtracking_lcs** rekonstruise putanju u mreznom grafu koja odgovara prethodno izracunatoj najduzoj zajednickoj podsekvenci za **seq1** i **seq2** na osnovu matrice **BACKTRACK** dimenzije **n** $\\times$ **m**."
   ]
  },
  {
   "cell_type": "code",
   "execution_count": null,
   "metadata": {},
   "outputs": [],
   "source": [
    "def backtracking_lcs(BACKTRACK, n, m, seq1, seq2):\n",
    "    lcs = ''\n",
    "    \n",
    "    # ======== STUDENTSKI KOD ======== #\n",
    "    \n",
    "    \n",
    "    # ================================ #\n",
    "        \n",
    "    return lcs    "
   ]
  },
  {
   "cell_type": "code",
   "execution_count": null,
   "metadata": {},
   "outputs": [],
   "source": [
    "seq1 = 'ACGTCCATTA'\n",
    "seq2 = 'ATGTTATA'\n",
    "\n",
    "(score, lcs) = longest_common_subsequence(seq1, seq2)\n",
    "\n",
    "print('LCS score: ', score)\n",
    "print('LCS: ', lcs)"
   ]
  }
 ],
 "metadata": {
  "kernelspec": {
   "display_name": "Python 3",
   "language": "python",
   "name": "python3"
  },
  "language_info": {
   "codemirror_mode": {
    "name": "ipython",
    "version": 3
   },
   "file_extension": ".py",
   "mimetype": "text/x-python",
   "name": "python",
   "nbconvert_exporter": "python",
   "pygments_lexer": "ipython3",
   "version": "3.8.10"
  }
 },
 "nbformat": 4,
 "nbformat_minor": 5
}
