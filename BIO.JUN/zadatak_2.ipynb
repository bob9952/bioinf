{
 "cells": [
  {
   "cell_type": "markdown",
   "id": "79cc57ed",
   "metadata": {},
   "source": [
    "Funkcija **longest_common_subsequence** pronalazi najduzu zajednicku podsekvencu za niske **seq1** i **seq2**. "
   ]
  },
  {
   "cell_type": "code",
   "execution_count": 18,
   "id": "441c8d68",
   "metadata": {},
   "outputs": [],
   "source": [
    "def longest_common_subsequence(seq1, seq2):\n",
    "    n = len(seq1) + 1\n",
    "    m = len(seq2) + 1\n",
    "    \n",
    "    S = [[0 for j in range(m)] for i in range(n)]\n",
    "    BACKTRACK = [[None for j in range(m)] for i in range(n)]    \n",
    "    \n",
    "    # ======== STUDENTSKI KOD ======== #\n",
    "    # S[i, 0] = 0 \n",
    "    # S[0, j] = 0\n",
    "    # S[i, j] = max( S[i-1][j], S[i][j-1] )  ako se razlikuju seq1[i-1] i seq2[j-1] \n",
    "    # S[i, j] = 1 + S[i-1][j-1] ako su seq1[i-1] i seq2[j-1] isti\n",
    "    for i in range(1, n):\n",
    "        BACKTRACK[i][0] = (i-1, 0)\n",
    "\n",
    "    for j in range(1, m):\n",
    "        BACKTRACK[0][j] = (0, j-1)\n",
    "\n",
    "    for i in range(1, n):\n",
    "        for j in range(1, m):\n",
    "            from_top = S[i-1][j] + 0\n",
    "            from_left = S[i][j-1] + 0\n",
    "            from_diag = S[i-1][j-1] + int(seq1[i-1] == seq2[j-1])\n",
    "\n",
    "            S[i][j] = max(from_top, from_left, from_diag)\n",
    "            if S[i][j] == from_top:\n",
    "                BACKTRACK[i][j] = (i-1, j)\n",
    "            elif S[i][j] == from_left:\n",
    "                BACKTRACK[i][j] = (i, j-1)\n",
    "            elif S[i][j] == from_diag:\n",
    "                BACKTRACK[i][j] = (i-1, j-1)\n",
    "    # ================================ #\n",
    "                    \n",
    "    score = S[n-1][m-1]\n",
    "    lcs = backtracking_lcs(BACKTRACK, n, m, seq1, seq2)\n",
    "    \n",
    "    return (score, lcs)"
   ]
  },
  {
   "cell_type": "markdown",
   "id": "6447007a",
   "metadata": {},
   "source": [
    "Funkcija **backtracking_lcs** rekonstruise putanju u mreznom grafu koja odgovara prethodno izracunatoj najduzoj zajednickoj podsekvenci za **seq1** i **seq2** na osnovu matrice **BACKTRACK** dimenzije **n** $\\times$ **m**."
   ]
  },
  {
   "cell_type": "code",
   "execution_count": 21,
   "id": "c95b47ce",
   "metadata": {},
   "outputs": [],
   "source": [
    "def backtracking_lcs(BACKTRACK, n, m, seq1, seq2):\n",
    "    lcs = ''\n",
    "    \n",
    "    # ======== STUDENTSKI KOD ======== #\n",
    "    # ovo je sad pitanje hm kako se ovo radi , ali valjda treba gore isto da postavim vrednosti u zavisnosti sta je bilo S[i][j]\n",
    "    # odakle krecem ? \n",
    "    i = n - 1\n",
    "    j = m - 1\n",
    "    \n",
    "    while BACKTRACK[i][j] != None:\n",
    "        if BACKTRACK[i][j] == (i-1, j-1):\n",
    "            lcs = seq1[i-1] + lcs\n",
    "      \n",
    "        # kako menjam BACKTRACK[i][j]  ? \n",
    "        (i, j) = BACKTRACK[i][j]\n",
    "    # ================================ #\n",
    "        \n",
    "    return lcs    "
   ]
  },
  {
   "cell_type": "code",
   "execution_count": 24,
   "id": "06a4727e",
   "metadata": {},
   "outputs": [
    {
     "name": "stdout",
     "output_type": "stream",
     "text": [
      "LCS score:  6\n",
      "LCS:  AGTATA\n"
     ]
    }
   ],
   "source": [
    "seq1 = 'ACGTCCATTA'\n",
    "seq2 = 'ATGTTATA'\n",
    "\n",
    "# ATATGA\n",
    "# da li je ovo ?! \n",
    "# HM\n",
    "# lmao bitno je kao prosirujem lcs AHAHAHA\n",
    "# koje ludilo\n",
    "# boze svasta\n",
    "(score, lcs) = longest_common_subsequence(seq1, seq2)\n",
    "\n",
    "print('LCS score: ', score)\n",
    "print('LCS: ', lcs)"
   ]
  },
  {
   "cell_type": "code",
   "execution_count": null,
   "id": "c402aba2-ec32-42b3-a53e-37c6c9d0c04d",
   "metadata": {},
   "outputs": [],
   "source": []
  }
 ],
 "metadata": {
  "kernelspec": {
   "display_name": "Python 3 (ipykernel)",
   "language": "python",
   "name": "python3"
  },
  "language_info": {
   "codemirror_mode": {
    "name": "ipython",
    "version": 3
   },
   "file_extension": ".py",
   "mimetype": "text/x-python",
   "name": "python",
   "nbconvert_exporter": "python",
   "pygments_lexer": "ipython3",
   "version": "3.10.14"
  }
 },
 "nbformat": 4,
 "nbformat_minor": 5
}
