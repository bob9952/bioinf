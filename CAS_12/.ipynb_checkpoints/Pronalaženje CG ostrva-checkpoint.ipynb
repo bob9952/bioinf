{
 "cells": [
  {
   "cell_type": "markdown",
   "metadata": {},
   "source": [
    "Razlicitih **dinukleotida**, podniski duzine 2 u okviru genomske sekvence, ima 4^2. Interesuje nas raspodela dinukleotida - koliko je koji dinukleotid zastupljen u genomima razlicitih vrsta. Pokazuje se da je dinukleotid **CG** najmanje zastupljen u odnosu na ostale dinukleotide, svega 1%. To se desava zbog toga sto kada se nukleotidi C i G nadju jedan do drugog, tada sa velikom verovatnocom dolazi do **metilacije** (dodavanje metil grupe na nukleotid C), a zatim metilozovani citozin opet promeni sastav **deaminacijom** (odbaci amino grupu) i pretvara se u timin. Kao rezultat metilacije, CG je najredji dinukleotid u genomima mnogih vrsta. Medjutim, desava se da se metilacija u nekim delovima genoma ne dogadja - takvi regioni se nazivaju **CG ostrva** (tu se CG cesto pojavljuje). \n",
    "\n",
    "Mi bismo zeleli da detektujemo gde se nalaze CG ostrva u okviru genoma. Ovaj problem modelujemo na sledeci nacin - za svaku poziciju u okviru genoma postoje dve mogucnosti, da pripada ili ne pripada nekom CG ostrvu. Potrebno je na osnovu sekvence genoma odrediti za svaku poziciju koja od ove dve mogucnosti je za nju najverovatnija."
   ]
  },
  {
   "cell_type": "markdown",
   "metadata": {},
   "source": [
    "## Skriveni Markovljevi modeli"
   ]
  },
  {
   "cell_type": "markdown",
   "metadata": {},
   "source": [
    "**Skriveni Markovljevi modeli** su verovatnosni modeli koji na osnovu prethodnih dogadjaja predvidjaju buduce dogadjaje. To su zapravo automati koji imaju skrivena stanja i mogucnost emitovanja simbola iz svakog od skrivenih stanja, pri cemu emitovane simbole vidimo, a skrivena stanja ne. Dok je u odredjenom stanju, automat donosi 2 odluke: <br/>\n",
    "\\- koji simbol ce emitovati <br/>\n",
    "\\- u koje skriveno stanje ce nakon toga preci\n",
    "\n",
    "Skriveni Markovljev model je odredjen sledecim elementima: <br/>\n",
    "\\- **$\\Sigma$** \\- azbukom simbola koji mogu biti emitovani <br/>\n",
    "\\- **States** \\- skup skrivenih stanja <br/>\n",
    "\\- **Transition** \\- |States| x |States| matrica koja oredjuje verovatnoce prelaska iz jednog stanja u drugo <br/>\n",
    "\\- **Emission** \\- |States| x |$\\Sigma$| matrica koja odredjuje verovatnoce emitovanja odredjenog simbola iz odredjenog stanja\n",
    "\n",
    "Kod nas je azbuka simbola $\\Sigma = \\{A, C, G, T\\}$, a skup skrivenih stanja je {CG, Non-CG}, gde stanje CG oznacava da se nalazimo u regionu CG ostrva, dok stanje Non-CG oznacava da se ne nalazimo u regionu CG-ostrva. **Cilj nam je da odredimo najverovatniji niz stanja na osnovu emitovanih simbola, koji su nam poznati - genomske sekvence.**\n",
    "\n",
    "$x = x_1 x_2 ... x_n$  &nbsp; &nbsp; &nbsp;    niz emitovanih simbola <br/>\n",
    "$s = s_1 s_2 ... s_n$  &nbsp; &nbsp; &nbsp;    niz stanja\n",
    "\n",
    "$P(x, s)$ - zajednicka verovatnoca da je HMM prolazio kroz stanja s i emitovao nisku x <br/>\n",
    "$P(x, s) = P (x | s) \\cdot P(s)$   &nbsp; &nbsp; &nbsp; na osnovu formule uslovne verovatnoce \n",
    "\n",
    "$P(x | s) = \\prod \\limits_{i=1}^{n} P(x_i | s_i) = \\prod \\limits_{i=1}^{n} Emission[ s_i ][ x_i ]$  <br/>\n",
    "$P(s) = \\prod \\limits_{i=1}^{n} P(s_{i-1} \\rightarrow s_i) = \\prod \\limits_{i=1}^{n} Transition [ s_{i-1} ][ s_i ]$ <br/>\n",
    "$P(x, s) = P (x | s) \\cdot P(s) = \\prod \\limits_{i=1}^{n} Emission[ s_i ][ x_i ] \\cdot \\prod \\limits_{i=1}^{n} Transition [ s_{i-1} ][ s_i ]$ \n",
    "\n",
    "Zelimo da pronadjemo optimalnu skrivenu putanju (niz stanja) sa kojom je HMM emitovao datu nisku, tj. nas problem je odredjivanje $\\max \\limits_{s}$ P(x, s). \n",
    "\n",
    "Ovaj problem lici na problem poravnanja u Menhetn grafu - trazi se putanja koja maksimizuje neki skor, a to je u ovom slucaju P(x, s). Stoga, HMM-u pridruzujemo odgovarajuci Menhetn graf koji izgradjujemo na sledeci nacin: <br/>\n",
    "\\- dodajemo *2n* cvorova koji predstavljaju stanja HMM-a (za svaki emitovani simbol u grafu imamo dva stanja iz kog je taj simbol mogao biti emitovan) <br/>\n",
    "\\- grane dodajemo tako da omogucavaju da se iz svakog od mogucih stanja iz i-tog koraka moze preci u svako od mogucih stanja u (i+1)-om koraku <br/>\n",
    "\\- dodajemo i cvorove *source* i *sink* koji odgovaraju \"stanju\" koje prethodi prvom stanju iz kojeg se emituje, odnosno \"stanje\" u koje ide nakon poslednjeg iz kojeg se emituje\n",
    "\n",
    "Tezine granama dodeljujemo na sledeci nacin: grani $(l, k, i-1)$ koja iz stanja $l$ u $(i-1)$-om koraku prelazi u stanje $k$, tj. povezuje cvorove $(l, i-1)$ i $(k, i)$, dodeljujemo tezinu $Transition[ l ][ k ] \\cdot Emission[ k ][ x_i ]$ jer ona modeluje prelazak iz stanja $l$ u stanje $k$, i emitovanje simbola $x_i$ iz stanja $k$. Sa ovako dodeljenim tezinama, PROIZVOD tezina grana jedne putanje od *source* do *sink* cvora bice jednak verovatnoci da se niska $x$ emitovala iz niza stanja koji odgovaraju toj putanji. <br/>\n",
    "$\\prod \\limits_{i=1}^{n} Transition [ s_{i-1} ][ s_i ] \\cdot Emission[ s_i ][ x_i ] = \\prod \\limits_{i=1}^{n} Transition [ s_{i-1} ][ s_i ] \\prod \\limits_{i=1}^{n} Emission[ s_i ][ x_i ]  = P(x, s)$\n",
    "\n",
    "Pridruzivanjem ovakvog grafa HMM-u sveli smo problem izracunavanja maksimalne zajednicke verovatnoce $P(x, s)$ na odredjivanje putanje u grafu sa maksimalnim skorom koji racunamo kao proizvod tezina grana te putanje. Odredjivanje putanje sa maksimalnim skorom vrsimo algoritmom dinamickog programiranja - **Viterbi algoritmom**.\n",
    "\n",
    "$score[ k ][ i ]$ - maksimalni proizvod tezina po svim putanjama do cvora *source* do $(k, i)$ <br/>\n",
    "$score[ k ][ i ] = \\max \\limits_{l} score[ l ][ i-1 ] \\cdot weight(l, k, i-1)$\n",
    "\n",
    "Putanja u grafu sa maksimalnim skorom od cvora *source* do cvora *sink* je najveci score od score-ova koji se racunaju za svako stanje $k$ u $n$-tom koraku  $$\\max \\limits_{k} {score[ k ][ n ]}$$\n",
    "\n",
    "Kako su tezine grana mali decimalni brojevi, a mi racunamo njihove proizvode za velko n (n =  broj emitovanih simbola, tj. duzina sekvence), postoji opasnost od potkoracenja. Stoga cemo kao skor racunati logaritam od prethodno definisanog skora: <br/>\n",
    "$log(score[ k ][ i ]) = log (\\max \\limits_{l} score[ l ][ i-1 ] \\cdot weight(l, k, i-1))$ <br/>\n",
    "&nbsp; &nbsp; &nbsp; &nbsp; &nbsp; &nbsp; &nbsp; &nbsp; &nbsp; &nbsp; &nbsp; &nbsp; &nbsp; &nbsp; \n",
    "                     $= \\max \\limits_{l}(log(score[ l ][ i-1 ] \\cdot weight(l, k, i-1)))$ <br/>\n",
    "&nbsp; &nbsp; &nbsp; &nbsp; &nbsp; &nbsp; &nbsp; &nbsp; &nbsp; &nbsp; &nbsp; &nbsp; &nbsp; &nbsp; \n",
    "                     $= \\max \\limits_{l} (log(score[ l ][ i-1 ]) + log(weight(l, k, i-1)))$ <br/>\n",
    "&nbsp; &nbsp; &nbsp; &nbsp; &nbsp; &nbsp; &nbsp; &nbsp; &nbsp; &nbsp; &nbsp; &nbsp; &nbsp; &nbsp; \n",
    "                     $= \\max \\limits_{l} (log(score[ l ][ i-1 ]) + log(Transition[ l ][ k ] \\cdot Emission[ k ][ x_i ]))$ <br/>\n",
    "&nbsp; &nbsp; &nbsp; &nbsp; &nbsp; &nbsp; &nbsp; &nbsp; &nbsp; &nbsp; &nbsp; &nbsp; &nbsp; &nbsp; \n",
    "                     $= \\max \\limits_{l} (log(score[ l ][ i-1 ]) + log(Transition[ l ][ k ]) + log(Emission[ k ][ x_i ]))$ <br/>\n",
    "\n",
    "$score^{*}[ k ][ i ] = \\max \\limits_{l} (score^{*}[ l ][ i-1 ] + log(Transition[ l ][ k ]) + log(Emission[ k ][ x_i ]))$\n",
    "\n",
    "Moramo da obezbedimo da nikada ne dobijemo da racunamo logaritam od nule -> dodajemo pseudovrednosti."
   ]
  },
  {
   "cell_type": "markdown",
   "metadata": {},
   "source": [
    "# Viterbi algoritam sa predefinisanim verovatnocama"
   ]
  },
  {
   "cell_type": "code",
   "execution_count": 1,
   "metadata": {},
   "outputs": [],
   "source": [
    "HMM = {\n",
    "        'Non-CG' : {\n",
    "                     'emissions' : {'G' : 0.1,\n",
    "                                    'C' : 0.1,\n",
    "                                    'A' : 0.4,\n",
    "                                    'T' : 0.4\n",
    "                                   },\n",
    "                     'transitions' : {\n",
    "                                      'Non-CG' : 0.8,\n",
    "                                      'CG' : 0.2\n",
    "                                      }\n",
    "                    },\n",
    "        'CG' : {\n",
    "                'emissions' : {\n",
    "                               'G' : 0.3,\n",
    "                               'C' : 0.3,\n",
    "                               'A' : 0.2,\n",
    "                               'T' : 0.2\n",
    "                },\n",
    "                'transitions' : {\n",
    "                                 'Non-CG' : 0.1,\n",
    "                                 'CG' : 0.9  \n",
    "                }\n",
    "        }\n",
    "}"
   ]
  },
  {
   "cell_type": "code",
   "execution_count": 2,
   "metadata": {},
   "outputs": [],
   "source": [
    "def viterbi(HMM, sequence):\n",
    "    n = len(sequence)\n",
    "    \n",
    "    #viterbi_matrix je matrica dimenzije 2xn koja odgovara cvorovima u Menhetn grafu pridruzenom HMM-u\n",
    "    #prvi red matrice odgovara cvorovima koji oznacavaju stanje Non-CG, a drugi red cvorovima koji oznacavaju stanje CG\n",
    "    #u njoj cuvamo score-ove za svaki od cvorova u Menghetn grafu pridruzenom HMM-u\n",
    "    viterbi_matrix = [[0 for j in range(n)] for i in range(2)]   \n",
    "    \n",
    "    #u backtrack matricu zapisujemo stanje iz kojeg smo dosli, kako bismo mogli da rekonstruisemo optimalnu putanju\n",
    "    backtrack = [[None for j in range(n)] for i in range(2)] \n",
    "    \n",
    "    #popunjavamo matricu kolonu po kolonu\n",
    "    for i in range(n):\n",
    "        emitted_symbol = sequence[i]\n",
    "        \n",
    "        if i == 0:\n",
    "            previous_prob = 1         #verovatnoca da smo se nasli u cvoru source\n",
    "            \n",
    "            #verovatnoce da se krene iz bilo kog skrivenog stanja su jednake \n",
    "            #--> verovatnoca prelaska iz source u Non-CG ili CG su po 0.5 (to je transition komponenta!)\n",
    "            viterbi_matrix[0][i] = previous_prob * 0.5 * HMM['Non-CG']['emissions'][emitted_symbol]\n",
    "            viterbi_matrix[1][i] = previous_prob * 0.5 * HMM['CG']['emissions'][emitted_symbol]\n",
    "            \n",
    "        else:\n",
    "            option_00 = viterbi_matrix[0][i-1] * HMM['Non-CG']['transitions']['Non-CG']  \\\n",
    "                                               * HMM['Non-CG']['emissions'][emitted_symbol]\n",
    "                \n",
    "            option_10 = viterbi_matrix[1][i-1] * HMM['CG']['transitions']['Non-CG']      \\\n",
    "                                               * HMM['Non-CG']['emissions'][emitted_symbol]\n",
    "                \n",
    "            viterbi_matrix[0][i] = max(option_00, option_10)\n",
    "            \n",
    "            if viterbi_matrix[0][i] == option_00:\n",
    "                backtrack[0][i] = 0\n",
    "            else:\n",
    "                backtrack[0][i] = 1\n",
    "            \n",
    "            option_01 = viterbi_matrix[0][i-1] * HMM['Non-CG']['transitions']['CG']   \\\n",
    "                                               * HMM['CG']['emissions'][emitted_symbol]\n",
    "                \n",
    "            option_11 = viterbi_matrix[1][i-1] * HMM['CG']['transitions']['CG']       \\\n",
    "                                               * HMM['CG']['emissions'][emitted_symbol]\n",
    "            \n",
    "            viterbi_matrix[1][i] = max(option_01, option_11)\n",
    "            \n",
    "            if viterbi_matrix[1][i] == option_01:\n",
    "                backtrack[1][i] = 0\n",
    "            else:\n",
    "                backtrack[1][i] = 1\n",
    "    \n",
    "    #rekonstrukcija optimalne putanje\n",
    "    path = ''\n",
    "    \n",
    "    if viterbi_matrix[0][n-1] > viterbi_matrix[1][n-1]:\n",
    "        last_state = 0\n",
    "    else:\n",
    "        last_state = 1\n",
    "        \n",
    "    i = n-1   \n",
    "    while i>=0:            #ili sve dok je last_state!=None \n",
    "        path = str(last_state) + path\n",
    "        \n",
    "        last_state = backtrack[last_state][i]\n",
    "        i -= 1\n",
    "        \n",
    "    for row in viterbi_matrix:\n",
    "        print(row)\n",
    "          \n",
    "    return path"
   ]
  },
  {
   "cell_type": "code",
   "execution_count": 3,
   "metadata": {},
   "outputs": [
    {
     "name": "stdout",
     "output_type": "stream",
     "text": [
      "[0.05, 0.004000000000000001, 0.0016200000000000003, 0.0005184000000000001, 4.147200000000002e-05, 3.542940000000001e-06, 9.565938000000002e-07, 1.0331213040000003e-06, 3.3059881728000014e-07, 1.0579162152960004e-07, 3.385331888947202e-08, 2.708265511157762e-09, 8.666449635704838e-10, 2.7732638834255485e-10, 8.874444426961756e-11]\n",
      "[0.15, 0.0405, 0.007290000000000001, 0.0013122000000000003, 0.00035429400000000006, 9.565938000000001e-05, 2.5828032600000005e-05, 4.6490458680000015e-06, 8.368282562400004e-07, 1.5062908612320008e-07, 2.7113235502176018e-08, 7.320573585587525e-09, 1.3177032454057546e-09, 2.3718658417303587e-10, 4.269358515114646e-11]\n"
     ]
    },
    {
     "data": {
      "text/plain": [
       "'111111100000000'"
      ]
     },
     "execution_count": 3,
     "metadata": {},
     "output_type": "execute_result"
    }
   ],
   "source": [
    "sequence = 'GCATGCCATTTCTAT'\n",
    "\n",
    "viterbi(HMM, sequence)"
   ]
  },
  {
   "cell_type": "markdown",
   "metadata": {},
   "source": [
    "# Opstiji algoritam"
   ]
  },
  {
   "cell_type": "markdown",
   "metadata": {},
   "source": [
    "Funkcija **create_HMM** pravi HMM, pri cemu emisione verovatnoce svakog od nukleotida u stanjima CG i Non-CG racuna na osnovu datih skupova sekvenci **cg_sequences** i **noncg_sequences** koje predstavljaju, odnosno ne predstavljaju CG ostrva."
   ]
  },
  {
   "cell_type": "code",
   "execution_count": 4,
   "metadata": {},
   "outputs": [],
   "source": [
    "def create_HMM(cg_sequences, noncg_sequences):\n",
    "    HMM = {\n",
    "            0 : {\n",
    "                  'emissions' : {\n",
    "                                  'A' : 1,       #zbog pseudovrednosti inicijalizujemo sve na 1\n",
    "                                  'C' : 1,\n",
    "                                  'G' : 1,\n",
    "                                  'T' : 1\n",
    "                  },\n",
    "                  'transitions' : {\n",
    "                                    0 : 0.8,\n",
    "                                    1 : 0.2\n",
    "                  }\n",
    "            },\n",
    "            1 : {\n",
    "                  'emissions' : {\n",
    "                                  'A' : 1,\n",
    "                                  'C' : 1,\n",
    "                                  'G' : 1,\n",
    "                                  'T' : 1\n",
    "                  },\n",
    "                  'transitions' : {\n",
    "                                    0 : 0.1,\n",
    "                                    1 : 0.9\n",
    "                  }\n",
    "            }\n",
    "    }\n",
    "    \n",
    "    for sequence in cg_sequences:\n",
    "        for symbol in sequence:\n",
    "            HMM[1]['emissions'][symbol] += 1\n",
    "            \n",
    "    for sequence in noncg_sequences:\n",
    "        for symbol in sequence:\n",
    "            HMM[0]['emissions'][symbol] += 1\n",
    "            \n",
    "    cg_count = 0\n",
    "    for sequence in cg_sequences:\n",
    "        cg_count += len(sequence)\n",
    "        \n",
    "    for (symbol, count) in HMM[1]['emissions'].items():\n",
    "        HMM[1]['emissions'][symbol] = count / (cg_count + 4)     #ovo +4 je zbog pseudovrednosti\n",
    "        \n",
    "    noncg_count = 0\n",
    "    for sequence in noncg_sequences:\n",
    "        noncg_count += len(sequence)\n",
    "        \n",
    "    for (symbol, count) in HMM[0]['emissions'].items():\n",
    "        HMM[0]['emissions'][symbol] = count / (noncg_count + 4)\n",
    "        \n",
    "    return HMM"
   ]
  },
  {
   "cell_type": "code",
   "execution_count": 5,
   "metadata": {},
   "outputs": [
    {
     "name": "stdout",
     "output_type": "stream",
     "text": [
      "{0: {'emissions': {'A': 0.34108527131782945, 'C': 0.12403100775193798, 'G': 0.17054263565891473, 'T': 0.3643410852713178}, 'transitions': {0: 0.8, 1: 0.2}}, 1: {'emissions': {'A': 0.171875, 'C': 0.3125, 'G': 0.3984375, 'T': 0.1171875}, 'transitions': {0: 0.1, 1: 0.9}}}\n"
     ]
    }
   ],
   "source": [
    "cg_sequences = ['CGCGGCGGCCGATGCGCCTGACGGC', \\\n",
    "                'GCCGATTAGCTAAGCGTAGGCTAAG', \\\n",
    "                'CCGCGGCGGCATTAGCGCGTACGGA', \\\n",
    "                'TCCGGACTGGCGGACCGGCATCGAACA', \\\n",
    "                'CGGATGCCGGCAGCGGGCGGCG']\n",
    "\n",
    "noncg_sequences = ['TAATCTATTATGCTAGGCTGATATT', \\\n",
    "                   'TTAGCTGATTATATGCAGTGTATTA', \\\n",
    "                   'TATAGGCTTCTAAGGCCAAGGATAA', \\\n",
    "                   'CATTGATACAGTAAATAGTATGCAT', \\\n",
    "                   'CTTGAAACATTTAGATATATCATTA']    \n",
    "\n",
    "HMM = create_HMM(cg_sequences, noncg_sequences)\n",
    "\n",
    "print(HMM)"
   ]
  },
  {
   "cell_type": "code",
   "execution_count": 6,
   "metadata": {},
   "outputs": [],
   "source": [
    "from math import log10\n",
    "\n",
    "def viterbi(HMM, sequence):\n",
    "    n = len(sequence)\n",
    "    m = len(HMM)              #broj skrivenih stanja HMM-a\n",
    "    \n",
    "    viterbi_matrix = [[0 for j in range(n)] for i in range(m)]\n",
    "    backtrack = [[None for j in range(n)] for i in range(m)]\n",
    "    \n",
    "    for i in range(n):\n",
    "        emitted_symbol = sequence[i]\n",
    "        \n",
    "        if i == 0:\n",
    "            previous_prob = 0         #LOGARITAM verovatnoce da smo se nasli u cvoru source (log1 = 0)\n",
    "            \n",
    "            #verovatnoce da se krene iz bilo kog skrivenog stanja su jednake \n",
    "            #--> 1/m --> log10(1/m)\n",
    "            \n",
    "            for state in range(m):\n",
    "                viterbi_matrix[state][i] = previous_prob + log10(1/m) + log10(HMM[state]['emissions'][emitted_symbol])      \n",
    "        else:\n",
    "            #na osnovu cele prethodne kolone odredjujemo celu tekucu kolonu \n",
    "            for state in range(m):\n",
    "                max_prob = float('-inf')\n",
    "                max_prev_state = None\n",
    "                \n",
    "                for previous_state in range(m):\n",
    "                    previous_prob = viterbi_matrix[previous_state][i-1]\n",
    "                    \n",
    "                    curr_prob = previous_prob + log10(HMM[previous_state]['transitions'][state]) + \\\n",
    "                                log10(HMM[state]['emissions'][emitted_symbol]) \n",
    "                        \n",
    "                    if curr_prob > max_prob:\n",
    "                        max_prob = curr_prob\n",
    "                        max_prev_state = previous_state\n",
    "                        \n",
    "                viterbi_matrix[state][i] = max_prob\n",
    "                backtrack[state][i] = max_prev_state\n",
    "                \n",
    "    #rekonstrukcija optimalne putanje\n",
    "    path = ''\n",
    "    \n",
    "    max_prob = float('-inf')\n",
    "    last_state = None\n",
    "    \n",
    "    for state in range(m):\n",
    "        if viterbi_matrix[state][n-1] > max_prob:\n",
    "            max_prob = viterbi_matrix[state][n-1]\n",
    "            last_state = state\n",
    "        \n",
    "    i = n-1\n",
    "    while i>=0:            \n",
    "        path = str(last_state) + path\n",
    "        \n",
    "        last_state = backtrack[last_state][i]\n",
    "        i -= 1\n",
    "        \n",
    "    for row in viterbi_matrix:\n",
    "        print(row)\n",
    "          \n",
    "    return path            "
   ]
  },
  {
   "cell_type": "code",
   "execution_count": 7,
   "metadata": {},
   "outputs": [
    {
     "name": "stdout",
     "output_type": "stream",
     "text": [
      "[-1.0691970251410239, -2.0725767657924044, -2.636623812613522, -3.1720256779851095, -4.037102720470209, -5.04048246112159, -5.941772719268206, -6.053347494318525, -6.588749359690113, -7.124151225061701, -7.659553090433289, -8.66293283108467, -9.198334696456257, -9.762381743277375, -10.297783608648963]\n",
      "[-0.7006697892139132, -1.2515772580944944, -2.0621220374808313, -3.0389982386336936, -3.484395522744301, -4.035302991624882, -4.586210460505463, -5.3967552398918, -6.373631441044663, -7.350507642197525, -8.327383843350386, -8.863673073089213, -9.840549274242075, -10.651094053628412, -11.392470458205581]\n"
     ]
    },
    {
     "data": {
      "text/plain": [
       "'111111100000000'"
      ]
     },
     "execution_count": 7,
     "metadata": {},
     "output_type": "execute_result"
    }
   ],
   "source": [
    "cg = ['CGCGGCGGCCGATGCGCCTGACGGC', \\\n",
    "      'GCCGATTAGCTAAGCGTAGGCTAAG', \\\n",
    "      'CCGCGGCGGCATTAGCGCGTACGGA', \\\n",
    "      'TCCGGACTGGCGGACCGGCATCGAACA', \\\n",
    "      'CGGATGCCGGCAGCGGGCGGCG']\n",
    "\n",
    "non_cg = ['TAATCTATTATGCTAGGCTGATATT', \\\n",
    "          'TTAGCTGATTATATGCAGTGTATTA', \\\n",
    "          'TATAGGCTTCTAAGGCCAAGGATAA', \\\n",
    "          'CATTGATACAGTAAATAGTATGCAT', \\\n",
    "          'CTTGAAACATTTAGATATATCATTA']    \n",
    "\n",
    "HMM = create_HMM(cg, non_cg)\n",
    "\n",
    "sequence = 'GCATGCCATTTCTAT'\n",
    "\n",
    "viterbi(HMM, sequence)"
   ]
  }
 ],
 "metadata": {
  "kernelspec": {
   "display_name": "Python 3",
   "language": "python",
   "name": "python3"
  },
  "language_info": {
   "codemirror_mode": {
    "name": "ipython",
    "version": 3
   },
   "file_extension": ".py",
   "mimetype": "text/x-python",
   "name": "python",
   "nbconvert_exporter": "python",
   "pygments_lexer": "ipython3",
   "version": "3.8.10"
  }
 },
 "nbformat": 4,
 "nbformat_minor": 2
}
