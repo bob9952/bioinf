{
 "cells": [
  {
   "cell_type": "markdown",
   "id": "f4466d48",
   "metadata": {},
   "source": [
    "Funkcija **symbol_to_number** vrsi preslikavanje simbola nukleotida u odgovarajuce numericke vrednost - cifre iz brojevnog sistema sa osnovom 4. "
   ]
  },
  {
   "cell_type": "code",
   "execution_count": null,
   "id": "0d54617a",
   "metadata": {},
   "outputs": [],
   "source": [
    "def symbol_to_number(symbol):\n",
    "    mapping = {\n",
    "        'A' : 0,   'a' : 0,        \n",
    "        'T' : 1,   't' : 1,\n",
    "        'C' : 2,   'c' : 2,\n",
    "        'G' : 3,   'g' : 3\n",
    "    }\n",
    "    \n",
    "    return mapping[symbol]"
   ]
  },
  {
   "cell_type": "markdown",
   "id": "447f94ad",
   "metadata": {},
   "source": [
    "Funkcija **number_to_symbol** za datu cifru iz sistema sa osnovom 4 vraca odgovarajuci simbol nukleotida."
   ]
  },
  {
   "cell_type": "code",
   "execution_count": null,
   "id": "f80885ab",
   "metadata": {},
   "outputs": [],
   "source": [
    "def number_to_symbol(number):\n",
    "    mapping = {\n",
    "        0 : 'A',\n",
    "        1 : 'T',\n",
    "        2 : 'C',\n",
    "        3 : 'G'\n",
    "    }\n",
    "    \n",
    "    return mapping[number]"
   ]
  },
  {
   "cell_type": "markdown",
   "id": "05a2b83e",
   "metadata": {},
   "source": [
    "Funkcija **hamming_distance** racuna broj pozicija na kojima se niske **string1** i **string2** razlikuju. Podrazumeva se da su niski jednake duzine."
   ]
  },
  {
   "cell_type": "code",
   "execution_count": null,
   "id": "a6bf052d",
   "metadata": {},
   "outputs": [],
   "source": [
    "def hamming_distance(string1, string2):\n",
    "    n = len(string1)\n",
    "    \n",
    "    distance = 0\n",
    "    for i in range(n):\n",
    "        if string1[i] != string2[i]:\n",
    "            distance += 1\n",
    "            \n",
    "    return distance"
   ]
  },
  {
   "cell_type": "markdown",
   "id": "d09f1092",
   "metadata": {},
   "source": [
    "Funkcija **count** vraca matricu dimenzije **k $\\times$ 4** koja za svaku od pozicija (kolona) matrice motiva **motifs** (dimenzije t $\\times$ k) sadrzi broj pojavljivnja svakog od simbola (nukleotida)."
   ]
  },
  {
   "cell_type": "code",
   "execution_count": null,
   "id": "63c7487d",
   "metadata": {},
   "outputs": [],
   "source": [
    "def count(motifs, k):\n",
    "    #          A, T, C, G\n",
    "    counts = [[0, 0, 0, 0] for _ in range(k)]  \n",
    "    \n",
    "    for motif in motifs:\n",
    "        for i in range(k):\n",
    "            current_symbol = motif[i]\n",
    "            number = symbol_to_number(current_symbol)\n",
    "            counts[i][number] += 1\n",
    "            \n",
    "    return counts"
   ]
  },
  {
   "cell_type": "markdown",
   "id": "2e51c684",
   "metadata": {},
   "source": [
    "Funkcija **score** izracunava skor date matrice motiva **motfis** (dimenzije t $\\times$ **k**) koji predstavlja meru slicnosti motiva iz matrice **motifs** medjusobno, odnosno sa njenom **<u>konsenzus niskom</u>** - niskom koja se sastoji od najzastupljenijih nukleotida na svakoj od pozicija, tj, kolona matrice."
   ]
  },
  {
   "cell_type": "code",
   "execution_count": null,
   "id": "fc620e1a",
   "metadata": {},
   "outputs": [],
   "source": [
    "def score(motifs, k):\n",
    "    total_score = 0\n",
    "    \n",
    "    # ======== STUDENTSKI KOD ======== #\n",
    "    \n",
    "    \n",
    "    # ================================ #\n",
    "    \n",
    "    return total_score"
   ]
  },
  {
   "cell_type": "markdown",
   "id": "b18eba5f",
   "metadata": {},
   "source": [
    "Funkcija **count_with_pseudocounts** vraca matricu dimenzije **k $\\times$ 4** koja za svaku od pozicija (kolona) matrice motiva **motifs** (dimenzije t $\\times$ k) sadrzi broj pojavljivnja svakog od simbola (nukleotida). Za incijalne vrednosti brojaca uzima se vrednost **pseudocount** (koja je podrazumevano 0)."
   ]
  },
  {
   "cell_type": "code",
   "execution_count": null,
   "id": "f7a9a0b7",
   "metadata": {},
   "outputs": [],
   "source": [
    "def count_with_pseudocounts(motifs, k, pseudocount=0):\n",
    "    #               A            T            C            G\n",
    "    counts = [[pseudocount, pseudocount, pseudocount, pseudocount] for _ in range(k)]  \n",
    "    \n",
    "    for motif in motifs:\n",
    "        for i in range(k):\n",
    "            current_symbol = motif[i]\n",
    "            number = symbol_to_number(current_symbol)\n",
    "            counts[i][number] += 1\n",
    "            \n",
    "    return counts"
   ]
  },
  {
   "cell_type": "markdown",
   "id": "c61fd94f",
   "metadata": {},
   "source": [
    "Funkcija **create_profile** za datu matricu motiva **motifs** (dimenzije **t** $\\times$ **k**) racuna profilnu matricu (dimenzije **k $\\times$ 4**) koja za svaku od pozicija (kolona) matrice motiva sadrzi verovatnocu pojavljivanja svakog od simbola (nukleotida)."
   ]
  },
  {
   "cell_type": "code",
   "execution_count": null,
   "id": "ca1e281e",
   "metadata": {},
   "outputs": [],
   "source": [
    "def create_profile(motifs, k, t):\n",
    "    pseudocount = 1\n",
    "    counts = count_with_pseudocounts(motifs, k, pseudocount)\n",
    "            \n",
    "    profile = [[None for j in range(4)] for i in range(k)]\n",
    "    \n",
    "    # ======== STUDENTSKI KOD ======== #\n",
    "    \n",
    "    \n",
    "    # ================================ #\n",
    "            \n",
    "    return profile"
   ]
  },
  {
   "cell_type": "markdown",
   "id": "9ae4c34c",
   "metadata": {},
   "source": [
    "Funkcija **probability** izracunava verovatnocu da sekvenca **pattern** pripada skupu motiva koji odgovara datoj profilnoj matrici **profile**, tj. meru slicnosti tog k-grama (k je duzina pattern-a) sa motivima iz odgovarajuceg skupa motiva."
   ]
  },
  {
   "cell_type": "code",
   "execution_count": null,
   "id": "0d57ed2a",
   "metadata": {},
   "outputs": [],
   "source": [
    "def probability(pattern, profile):\n",
    "    prob = 1\n",
    "    \n",
    "    k = len(pattern)\n",
    "    \n",
    "    for i in range(k):\n",
    "        current_symbol = pattern[i]\n",
    "        number = symbol_to_number(current_symbol)\n",
    "        prob *= profile[i][number]\n",
    "        \n",
    "    return prob"
   ]
  },
  {
   "cell_type": "markdown",
   "id": "fb618a15",
   "metadata": {},
   "source": [
    "Funckija **most_probable_kmer** pronalazi najverovatniji k-gram iz sekvence **dna_sequence** u ondosu na datu matricu **profile**."
   ]
  },
  {
   "cell_type": "code",
   "execution_count": null,
   "id": "611437e0",
   "metadata": {},
   "outputs": [],
   "source": [
    "def most_probable_kmer(dna_sequence, k, profile):\n",
    "    max_prob = -1\n",
    "    max_prob_kmer = None\n",
    "    \n",
    "    # ======== STUDENTSKI KOD ======== #\n",
    "    \n",
    "    \n",
    "    # ================================ #\n",
    "            \n",
    "    return max_prob_kmer"
   ]
  },
  {
   "cell_type": "markdown",
   "id": "09c93dbb",
   "metadata": {},
   "source": [
    "Funckija **greedy_motif_search** formira iterativno skup motiva duzine **k** iz skupa od **t** sekvenci **dna_sequences** pohlepnim algoritmom."
   ]
  },
  {
   "cell_type": "code",
   "execution_count": null,
   "id": "798b2189",
   "metadata": {},
   "outputs": [],
   "source": [
    "def greedy_motif_search(dna_sequences, k, t):\n",
    "    best_motifs = None\n",
    "    best_score = float('inf')\n",
    "    \n",
    "    first_sequence = dna_sequences[0]\n",
    "    n = len(first_sequence)\n",
    "    \n",
    "    for i in range(n-k+1):\n",
    "        motif_1 = first_sequence[i:i+k]\n",
    "        motifs = [motif_1]\n",
    "        \n",
    "        # ======== STUDENTSKI KOD ======== #\n",
    "    \n",
    "    \n",
    "        # ================================ #\n",
    "            \n",
    "    return best_motifs"
   ]
  },
  {
   "cell_type": "code",
   "execution_count": null,
   "id": "ac78c878",
   "metadata": {},
   "outputs": [],
   "source": [
    "dna_sequences = ['ttacggtAAC',\n",
    "                 'gATAtctgtc',\n",
    "                 'ACGgcgttcg',\n",
    "                 'ccctAAAgag',\n",
    "                 'cgtcAGAggt']\n",
    "k = 3\n",
    "t = 5\n",
    "\n",
    "print(greedy_motif_search(dna_sequences, k, t))"
   ]
  }
 ],
 "metadata": {
  "kernelspec": {
   "display_name": "Python 3 (ipykernel)",
   "language": "python",
   "name": "python3"
  },
  "language_info": {
   "codemirror_mode": {
    "name": "ipython",
    "version": 3
   },
   "file_extension": ".py",
   "mimetype": "text/x-python",
   "name": "python",
   "nbconvert_exporter": "python",
   "pygments_lexer": "ipython3",
   "version": "3.10.14"
  }
 },
 "nbformat": 4,
 "nbformat_minor": 5
}
