{
 "cells": [
  {
   "cell_type": "markdown",
   "metadata": {},
   "source": [
    "Klasa **Graph** koja se koristi za predstavljanje i izgradnju filogenetskog stabla."
   ]
  },
  {
   "cell_type": "code",
   "execution_count": 1,
   "metadata": {},
   "outputs": [],
   "source": [
    "class Graph:\n",
    "    #konstruktorska funkcija (metod)\n",
    "    def __init__(self, adjacency_list):\n",
    "        self.adjacency_list = adjacency_list\n",
    "        \n",
    "    #metod koji vraca stringovsku reprezentaciju grafa    \n",
    "    def __str__(self):\n",
    "        return f'{self.adjacency_list}'\n",
    "    \n",
    "    #metod koji dodaje novi cvor u graf\n",
    "    def add_node(self, v):\n",
    "        if v not in self.adjacency_list:\n",
    "            self.adjacency_list[v] = []\n",
    "    \n",
    "    #metod koji vraca listu suseda cvora v u grafu\n",
    "    def get_neighbors(self, v):\n",
    "        return self.adjacency_list[v]\n",
    "    \n",
    "    #metod koji dodaje u graf suseda cvora node sa oznakom neighbor na udaljenosti distance\n",
    "    def add_neighbor(self, node, neighbor, distance, undirected=True):\n",
    "        self.adjacency_list[node].append((neighbor, distance))\n",
    "        \n",
    "        if undirected:\n",
    "            if neighbor not in self.adjacency_list:\n",
    "                self.adjacency_list[neighbor] = []\n",
    "              \n",
    "            self.adjacency_list[neighbor].append((node, distance))\n",
    "        \n",
    "    #metod koji uklanja iz grafa suseda cvora node sa oznakom neighbor na udaljenosti distance    \n",
    "    def remove_neighbor(self, node, neighbor, distance, undirected=True):\n",
    "        self.adjacency_list[node].remove((neighbor, distance))\n",
    "        \n",
    "        if undirected:\n",
    "            self.adjacency_list[neighbor].remove((node, distance))    "
   ]
  },
  {
   "cell_type": "markdown",
   "metadata": {},
   "source": [
    "Pomocna klasa <code>DMap</code> ce nam sluziti za reprezentaciju matrice udaljenosti kao <code>dict</code> objekat. "
   ]
  },
  {
   "cell_type": "code",
   "execution_count": 2,
   "metadata": {},
   "outputs": [],
   "source": [
    "class DMap:\n",
    "    #konstruktorska funkcija (metod) koja pravi 2D mapu na osnovu matrice D\n",
    "    def __init__(self, D):\n",
    "        self.D = D\n",
    "        self.D_map = {}\n",
    "        self.n = len(D)\n",
    "        \n",
    "        for i in range(self.n):\n",
    "            self.D_map[i] = {}\n",
    "            for j in range(self.n):\n",
    "                self.D_map[i][j] = D[i][j]\n",
    "              \n",
    "    #metod koji vraca stringovsku reprezentaciju 'mape rastojanja' \n",
    "    def __str__(self):\n",
    "        return f'{self.D_map}'\n",
    "    \n",
    "    #metod koji racuna ukupna udaljenost čvora i od svih ostalih čvorova\n",
    "    def total_distance(self, i):\n",
    "        dist = 0\n",
    "        for j in self.D_map:\n",
    "            dist += self.D_map[i][j]\n",
    "            \n",
    "        return dist\n",
    "    \n",
    "    #metod koji pravi 'mapu rastojanja' D* za datu 'mapu rastojanja' D (self)\n",
    "    def create_D_star(self):\n",
    "        D_star_map = {}\n",
    "        \n",
    "        for i in self.D_map:\n",
    "            D_star_map[i] = {}\n",
    "            for j in self.D_map[i]:\n",
    "                # ======== STUDENTSKI KOD ======== #\n",
    "    \n",
    "    \n",
    "                # ================================ #\n",
    "                \n",
    "        return D_star_map\n",
    "    \n",
    "    #metod koji pronalazi cvorove koji se nalaze na minimalnom rastojanju \n",
    "    #u odnosu na'mapu rastojanja' D* za datu 'mapu rastojanja' D (self)\n",
    "    def minimal_pair_D_star(self):\n",
    "        D_star_map = self.create_D_star()\n",
    "        \n",
    "        min_i = None\n",
    "        min_j = None\n",
    "        min_distance = float('inf')\n",
    "        \n",
    "        for i in D_star_map:\n",
    "            for j in D_star_map:\n",
    "                if i != j:\n",
    "                    current_distance = D_star_map[i][j]\n",
    "                    if current_distance < min_distance:\n",
    "                        min_i = i\n",
    "                        min_j = j\n",
    "                        \n",
    "        return min_i, min_j\n",
    "    \n",
    "    #metod koji u datu 'mapu rastojanja' (self) dodaje vrednosti za novi cvor m koji nastaje spajanjem cvorova i i j\n",
    "    def add_node(self, m, i, j):\n",
    "        self.D_map[m] = {}\n",
    "        \n",
    "        for k in self.D_map:\n",
    "            if k != i and k != j:\n",
    "                if k != m:\n",
    "                    self.D_map[k][m] = 0.5 * (self.D_map[k][i] + self.D_map[k][j] - self.D_map[i][j])\n",
    "                    self.D_map[m][k] = self.D_map[k][m]\n",
    "                else:\n",
    "                    self.D_map[m][k] = 0\n",
    "    \n",
    "    #metod koji izbacuje iz date 'mape rastojanja' (self) vrednosti koje odgovaraju cvoru i\n",
    "    def remove_node(self, i):\n",
    "        del self.D_map[i]\n",
    "        \n",
    "        for j in self.D_map:\n",
    "            if j != i and i in self.D_map[j]:\n",
    "                del self.D_map[j][i]"
   ]
  },
  {
   "cell_type": "markdown",
   "metadata": {},
   "source": [
    "Funkcija **neighbor_joining** konstruise nekoreno filogenetsko stablo koje odgovara matrici rastojanja dimenzije **n** $\\times$ **n** predstavljene objektom klase **D_map**  primenom *Neighbor-Joining algoritma*."
   ]
  },
  {
   "cell_type": "code",
   "execution_count": 3,
   "metadata": {},
   "outputs": [],
   "source": [
    "def neighbor_joining(D_map, n):\n",
    "    #izlaz iz rekurzije\n",
    "    if n == 2:      \n",
    "        [i, j] = list((D_map.D_map.keys()))\n",
    "        return Graph({\n",
    "            i: [(j, D_map.D_map[i][j])],\n",
    "            j: [(i, D_map.D_map[j][i])]\n",
    "        })\n",
    "        \n",
    "    # ======== STUDENTSKI KOD ======== #\n",
    "    \n",
    "    \n",
    "    # ================================ #\n",
    "        \n",
    "    return tree"
   ]
  },
  {
   "cell_type": "code",
   "execution_count": 4,
   "metadata": {},
   "outputs": [
    {
     "name": "stdout",
     "output_type": "stream",
     "text": [
      "{0: [('3+2+1', 11.0)], '3+2+1': [(0, 11.0), ('3+2', 4.0), (1, 2.0)], '3+2': [('3+2+1', 4.0), (3, 7.0), (2, 6.0)], 1: [('3+2+1', 2.0)], 3: [('3+2', 7.0)], 2: [('3+2', 6.0)]}\n"
     ]
    }
   ],
   "source": [
    "D = [[0, 13, 21, 22],\n",
    "    [13, 0, 12, 13],\n",
    "    [21, 12, 0, 13],\n",
    "    [22, 13, 13, 0]]\n",
    "\n",
    "D_map = DMap(D)\n",
    "n = 4\n",
    "print(neighbor_joining(D_map, n))"
   ]
  }
 ],
 "metadata": {
  "kernelspec": {
   "display_name": "Python 3",
   "language": "python",
   "name": "python3"
  },
  "language_info": {
   "codemirror_mode": {
    "name": "ipython",
    "version": 3
   },
   "file_extension": ".py",
   "mimetype": "text/x-python",
   "name": "python",
   "nbconvert_exporter": "python",
   "pygments_lexer": "ipython3",
   "version": "3.8.10"
  }
 },
 "nbformat": 4,
 "nbformat_minor": 5
}
