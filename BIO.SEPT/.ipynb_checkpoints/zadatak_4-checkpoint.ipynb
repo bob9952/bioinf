{
 "cells": [
  {
   "cell_type": "markdown",
   "metadata": {},
   "source": [
    "Funkcija **generate_suffix_array** pravi sufiksni niz za nisku **sequence**."
   ]
  },
  {
   "cell_type": "code",
   "execution_count": null,
   "metadata": {},
   "outputs": [],
   "source": [
    "def generate_suffix_array(sequence):\n",
    "    # ======== STUDENTSKI KOD ======== #\n",
    "    \n",
    "    \n",
    "    # ================================ #\n",
    "    \n",
    "    return suffixes"
   ]
  },
  {
   "cell_type": "markdown",
   "metadata": {},
   "source": [
    "Funkcija **is_prefix** pokusava da upari sablon **pattern** sa prefiksom niske **suffix**."
   ]
  },
  {
   "cell_type": "code",
   "execution_count": null,
   "metadata": {},
   "outputs": [],
   "source": [
    "def is_prefix(pattern, suffix):\n",
    "    n = len(pattern)\n",
    "    m = len(suffix)\n",
    "    \n",
    "    if n > m:\n",
    "        return False\n",
    "    else:\n",
    "        return pattern == suffix[:n]"
   ]
  },
  {
   "cell_type": "markdown",
   "metadata": {},
   "source": [
    "Funkcija **pattern_matching_with_suffix_array** vraca niz ideksa u niski za koju je formiran sufiksni niz **suffix_array** na kojima je pronadjeno uparivanje sa niskom **pattern**."
   ]
  },
  {
   "cell_type": "code",
   "execution_count": null,
   "metadata": {},
   "outputs": [],
   "source": [
    "def pattern_matching_with_suffix_array(suffix_array, pattern):\n",
    "    # ======== STUDENTSKI KOD ======== #\n",
    "    \n",
    "    \n",
    "    # ================================ #"
   ]
  },
  {
   "cell_type": "code",
   "execution_count": null,
   "metadata": {},
   "outputs": [],
   "source": [
    "sequence = 'ATATGCTCTATGCTAGATGTGCTATA'\n",
    "pattern = 'ATG'\n",
    "\n",
    "suffix_array = generate_suffix_array(sequence)\n",
    "\n",
    "print(pattern_matching_with_suffix_array(suffix_array, pattern))"
   ]
  }
 ],
 "metadata": {
  "kernelspec": {
   "display_name": "Python 3",
   "language": "python",
   "name": "python3"
  },
  "language_info": {
   "codemirror_mode": {
    "name": "ipython",
    "version": 3
   },
   "file_extension": ".py",
   "mimetype": "text/x-python",
   "name": "python",
   "nbconvert_exporter": "python",
   "pygments_lexer": "ipython3",
   "version": "3.8.10"
  }
 },
 "nbformat": 4,
 "nbformat_minor": 5
}
