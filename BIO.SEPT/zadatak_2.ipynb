{
 "cells": [
  {
   "cell_type": "markdown",
   "id": "4ced0c57",
   "metadata": {},
   "source": [
    "Funkcija **smith_waterman** pronalazi lokalno poravnanje izmedju sekvenci **seq1** i **seq2** koristeci sorove **match_score**, **missmatch_penalty** i **gap_penalty** za bodovanje poravnanja na pojedinacnim pozicijama. "
   ]
  },
  {
   "cell_type": "code",
   "execution_count": 69,
   "id": "fc3bd250",
   "metadata": {},
   "outputs": [],
   "source": [
    "def smith_waterman(seq1, seq2, match_score, missmatch_penalty, gap_penalty):\n",
    "    # ======== STUDENTSKI KOD ======== #\n",
    "    n = len(seq1) + 1 \n",
    "    m = len(seq2) + 1\n",
    "\n",
    "    print(n)\n",
    "    print(m)\n",
    "    \n",
    "    S = [[0 for j in range(m)] for i in range(n)]\n",
    "    BACKTRACK = [[None for j in range(m)] for i in range(n)]\n",
    "\n",
    "    for i in range(1, n):\n",
    "        # S[i][0] = 0 \n",
    "        BACKTRACK[i][0] = (i-1, 0)\n",
    "\n",
    "    for j in range(1, m):\n",
    "        # S[0][j] = 0\n",
    "        BACKTRACK[0][j] = (0, j-1)\n",
    "\n",
    "    for i in range(1, n):\n",
    "        for j in range(1, m):\n",
    "            from_top = S[i-1][j] + gap_penalty\n",
    "            from_left = S[i][j-1] + gap_penalty\n",
    "            from_diag = S[i-1][j-1] + (match_score if seq1[i-1] == seq2[j-1] else missmatch_penalty)\n",
    "            S[i][j] = max(from_top, from_left, from_diag, 0) # ovde paziti moze 0\n",
    "\n",
    "            # nisam postavio backtrack ...  # OBAVEZNO POSTAVITI BACKTRACKING \n",
    "            if S[i][j] == from_top:\n",
    "                BACKTRACK[i][j] = (i-1, j)\n",
    "            elif S[i][j] == from_left:\n",
    "                BACKTRACK[i][j] = (i, j-1)\n",
    "            else:\n",
    "                BACKTRACK[i][j] = (i-1, j-1)\n",
    "\n",
    "    print(S)\n",
    "    # pronaci lokalni max score u S \n",
    "    max_score = float('-inf')\n",
    "    max_i = None\n",
    "    max_j = None\n",
    "\n",
    "    # maks skor se nadje lokalno \n",
    "    for i in range(n):\n",
    "        for j in range(m):\n",
    "            if S[i][j] > max_score:\n",
    "                max_score = S[i][j]\n",
    "                max_i = i\n",
    "                max_j = j\n",
    "\n",
    "    print(max_i)\n",
    "    print(max_j)\n",
    "    # pa onda od tih indeksa radimo backtrack\n",
    "    (seq1_align, seq2_align) = backtracking_alignment_sw(BACKTRACK, S, max_i, max_j, seq1, seq2)\n",
    "    return (S[max_i][max_j], seq1_align, seq2_align)\n",
    "    \n",
    "    # ================================ #"
   ]
  },
  {
   "cell_type": "markdown",
   "id": "e111028e",
   "metadata": {},
   "source": [
    "Pomocna funkcija **backtracking_alignment_sw** rekonstruise putanju (tj. poravnanje) sekvenci **seq1** i **seq2** koja odgovara izracunatom optimalnom lokalnom poravnanju u matrci skorova **S** na poziciji **i** i **j**."
   ]
  },
  {
   "cell_type": "code",
   "execution_count": 70,
   "id": "dd2e6ecf",
   "metadata": {},
   "outputs": [],
   "source": [
    "def backtracking_alignment_sw(BACKTRACK, S, i, j, seq1, seq2):\n",
    "    seq1_align = ''\n",
    "    seq2_align = ''\n",
    "    # ovo je zicer samo treba da se pazi sta se prosiruje da li seq1_align ili seq2_align ili oba \n",
    "    while BACKTRACK[i][j] != None and S[i][j] != 0:\n",
    "        # ======== STUDENTSKI KOD ======== #\n",
    "        if BACKTRACK[i][j] == (i-1, j):\n",
    "            seq1_align = seq1[i-1] + seq1_align\n",
    "            seq2_align = '-' + seq2_align\n",
    "        elif BACKTRACK[i][j] == (i, j-1):\n",
    "            seq1_align = '-' + seq1_align\n",
    "            seq2_align = seq2_align + seq2[j-1]\n",
    "        else:\n",
    "            seq1_align = seq1[i-1] + seq1_align\n",
    "            seq2_align = seq2[j-1] + seq2_align \n",
    "        # ================================ #\n",
    "            \n",
    "        (i, j) = BACKTRACK[i][j]   \n",
    "        \n",
    "    return (seq1_align, seq2_align)   "
   ]
  },
  {
   "cell_type": "code",
   "execution_count": 71,
   "id": "0bde2827",
   "metadata": {},
   "outputs": [],
   "source": [
    "gap_penalty = -1\n",
    "missmatch_penalty = 0\n",
    "match_score = 1\n",
    "\n",
    "seq1 = 'OIUGNOISGRVISDIOGHIODSHFGMLSVEODRGMSOVFOGHLSDGMOVIDFHGS'\n",
    "seq2 = 'DSHGMLSEOD'"
   ]
  },
  {
   "cell_type": "code",
   "execution_count": 72,
   "id": "6ed2ef36",
   "metadata": {},
   "outputs": [
    {
     "name": "stdout",
     "output_type": "stream",
     "text": [
      "56\n",
      "11\n",
      "[[0, 0, 0, 0, 0, 0, 0, 0, 0, 0, 0], [0, 0, 0, 0, 0, 0, 0, 0, 0, 1, 0], [0, 0, 0, 0, 0, 0, 0, 0, 0, 0, 1], [0, 0, 0, 0, 0, 0, 0, 0, 0, 0, 0], [0, 0, 0, 0, 1, 0, 0, 0, 0, 0, 0], [0, 0, 0, 0, 0, 1, 0, 0, 0, 0, 0], [0, 0, 0, 0, 0, 0, 1, 0, 0, 1, 0], [0, 0, 0, 0, 0, 0, 0, 1, 0, 0, 1], [0, 0, 1, 0, 0, 0, 0, 1, 1, 0, 0], [0, 0, 0, 1, 1, 0, 0, 0, 1, 1, 0], [0, 0, 0, 0, 1, 1, 0, 0, 0, 1, 1], [0, 0, 0, 0, 0, 1, 1, 0, 0, 0, 1], [0, 0, 0, 0, 0, 0, 1, 1, 0, 0, 0], [0, 0, 1, 0, 0, 0, 0, 2, 1, 0, 0], [0, 1, 0, 1, 0, 0, 0, 1, 2, 1, 1], [0, 0, 1, 0, 1, 0, 0, 0, 1, 2, 1], [0, 0, 0, 1, 0, 1, 0, 0, 0, 2, 2], [0, 0, 0, 0, 2, 1, 1, 0, 0, 1, 2], [0, 0, 0, 1, 1, 2, 1, 1, 0, 0, 1], [0, 0, 0, 0, 1, 1, 2, 1, 1, 0, 0], [0, 0, 0, 0, 0, 1, 1, 2, 1, 2, 1], [0, 1, 0, 0, 0, 0, 1, 1, 2, 1, 3], [0, 0, 2, 1, 0, 0, 0, 2, 1, 2, 2], [0, 0, 1, 3, 2, 1, 0, 1, 2, 1, 2], [0, 0, 0, 2, 3, 2, 1, 0, 1, 2, 1], [0, 0, 0, 1, 3, 3, 2, 1, 0, 1, 2], [0, 0, 0, 0, 2, 4, 3, 2, 1, 0, 1], [0, 0, 0, 0, 1, 3, 5, 4, 3, 2, 1], [0, 0, 1, 0, 0, 2, 4, 6, 5, 4, 3], [0, 0, 0, 1, 0, 1, 3, 5, 6, 5, 4], [0, 0, 0, 0, 1, 0, 2, 4, 6, 6, 5], [0, 0, 0, 0, 0, 1, 1, 3, 5, 7, 6], [0, 1, 0, 0, 0, 0, 1, 2, 4, 6, 8], [0, 0, 1, 0, 0, 0, 0, 1, 3, 5, 7], [0, 0, 0, 1, 1, 0, 0, 0, 2, 4, 6], [0, 0, 0, 0, 1, 2, 1, 0, 1, 3, 5], [0, 0, 1, 0, 0, 1, 2, 2, 1, 2, 4], [0, 0, 0, 1, 0, 0, 1, 2, 2, 2, 3], [0, 0, 0, 0, 1, 0, 0, 1, 2, 2, 2], [0, 0, 0, 0, 0, 1, 0, 0, 1, 2, 2], [0, 0, 0, 0, 0, 0, 1, 0, 0, 2, 2], [0, 0, 0, 0, 1, 0, 0, 1, 0, 1, 2], [0, 0, 0, 1, 0, 1, 0, 0, 1, 0, 1], [0, 0, 0, 0, 1, 0, 2, 1, 0, 1, 0], [0, 0, 1, 0, 0, 1, 1, 3, 2, 1, 1], [0, 1, 0, 1, 0, 0, 1, 2, 3, 2, 2], [0, 0, 1, 0, 2, 1, 0, 1, 2, 3, 2], [0, 0, 0, 1, 1, 3, 2, 1, 1, 2, 3], [0, 0, 0, 0, 1, 2, 3, 2, 1, 2, 2], [0, 0, 0, 0, 0, 1, 2, 3, 2, 1, 2], [0, 0, 0, 0, 0, 0, 1, 2, 3, 2, 1], [0, 1, 0, 0, 0, 0, 0, 1, 2, 3, 3], [0, 0, 1, 0, 0, 0, 0, 0, 1, 2, 3], [0, 0, 0, 2, 1, 0, 0, 0, 0, 1, 2], [0, 0, 0, 1, 3, 2, 1, 0, 0, 0, 1], [0, 0, 1, 0, 2, 3, 2, 2, 1, 0, 0]]\n",
      "32\n",
      "10\n",
      "Score:  8\n",
      "Alignment:\n",
      "DSHFGMLSVEOD\n",
      "DSH-GMLS-EOD\n"
     ]
    }
   ],
   "source": [
    "(score, seq1_align, seq2_align) = smith_waterman(seq1, seq2, match_score, missmatch_penalty, gap_penalty)\n",
    "\n",
    "print('Score: ', score)\n",
    "print('Alignment:')\n",
    "print(seq1_align)\n",
    "print(seq2_align)"
   ]
  },
  {
   "cell_type": "code",
   "execution_count": null,
   "id": "3e83091f-53d1-4f01-a5ff-55a1cea60b31",
   "metadata": {},
   "outputs": [],
   "source": []
  },
  {
   "cell_type": "code",
   "execution_count": null,
   "id": "8af2262e-f4fe-41c6-9f9b-84299b19d629",
   "metadata": {},
   "outputs": [],
   "source": []
  }
 ],
 "metadata": {
  "kernelspec": {
   "display_name": "Python 3 (ipykernel)",
   "language": "python",
   "name": "python3"
  },
  "language_info": {
   "codemirror_mode": {
    "name": "ipython",
    "version": 3
   },
   "file_extension": ".py",
   "mimetype": "text/x-python",
   "name": "python",
   "nbconvert_exporter": "python",
   "pygments_lexer": "ipython3",
   "version": "3.10.14"
  }
 },
 "nbformat": 4,
 "nbformat_minor": 5
}
