{
 "cells": [
  {
   "cell_type": "markdown",
   "metadata": {},
   "source": [
    "1. Implementirati modifikaciju algoritma **Faster Frequent Words** koja koristi recnik (<code>dict</code>) za cuvanje brojaca samo onih <code>k</code>-grama koji se pojavljuju u niski <code>text</code>."
   ]
  },
  {
   "cell_type": "code",
   "execution_count": 5,
   "metadata": {},
   "outputs": [],
   "source": [
    "def computing_frequencies_dict(text, k):\n",
    "    frequency_dict = {}\n",
    "    \n",
    "    n = len(text)\n",
    "    for i in range(0, n-k+1):\n",
    "        pattern = text[i : i+k]\n",
    "        \n",
    "        if pattern not in frequency_dict:\n",
    "            frequency_dict[pattern] = 1\n",
    "        else:\n",
    "            frequency_dict[pattern] += 1\n",
    "            \n",
    "    return frequency_dict"
   ]
  },
  {
   "cell_type": "code",
   "execution_count": 12,
   "metadata": {},
   "outputs": [],
   "source": [
    "def faster_frequent_words_dict(text, k):\n",
    "    frequency_dict = computing_frequencies_dict(text, k)\n",
    "    # print(frequency_dict)\n",
    "    max_count = max(frequency_dict.values())\n",
    "    # print(max_count)\n",
    "    frequent_patterns = set([])\n",
    "    \n",
    "    for pattern, count in frequency_dict.items():\n",
    "        if count == max_count:\n",
    "            frequent_patterns.add(pattern)\n",
    "            \n",
    "    return list(frequent_patterns)"
   ]
  },
  {
   "cell_type": "code",
   "execution_count": null,
   "metadata": {},
   "outputs": [],
   "source": []
  },
  {
   "cell_type": "code",
   "execution_count": 13,
   "metadata": {},
   "outputs": [
    {
     "name": "stdout",
     "output_type": "stream",
     "text": [
      "['CTCTTGATC', 'GCATGATCA', 'TCTTGATCA', 'ATGATCAAG', 'AGCATGATC', 'AAGCATGAT']\n"
     ]
    }
   ],
   "source": [
    "oriC = 'ATCAATGATCAACGTAAGCTTCTAAGCATGATCAAGGTGCTCACACAGTTTATCCACAACCTGAGTGGATGACATCAAGATAGGTCGTTGTATCTCCTTCCTCTCGTACTCTCATGACCACGGAAAGATGATCAAGAGAGGATGATTTCTTGGCCATATCGCAATGAATACTTGTGACTTGTGCTTCCAATTGACATCTTCAGCGCCATATTGCGCTGGCCAAGGTGACGGAGCGGGATTACGAAAGCATGATCATGGCTGTTGTTCTGTTTATCTTGTTTTGACTGAGACTTGTTAGGATAGACGGTTTTTCATCACTGACTAGCCAAAGCCTTACTCTGCCTGACATCGACCGTAAATTGATAATGAATTTACATGCTTCCGCGACGATTTACCTCTTGATCATCGATCCGATTGAAGATCTTCAATTGTTAATTCTCTTGCCTCGACTCATAGCCATGATGAGCTCTTGATCA'\n",
    "k = 9\n",
    "\n",
    "print(faster_frequent_words_dict(oriC, k))"
   ]
  },
  {
   "cell_type": "markdown",
   "metadata": {},
   "source": [
    "2. Implementirati rekurzivno funkciju <code>neighbors</code> koja pronalazi sve niske koje su na najvise <code>d</code> Hamigovom rastojanju od zadate niske <code>pattern</code>. Algoritam se bazira na pronalaženju suseda dužine <code>k-1</code> (<code>k</code> je duzina niske <code>pattern</code>) a zatim nadovezivanjem prvog, izmenjenog, karaktera uzorka, ukoliko sused dužine k ima manje od <code>d</code> izmena ili, u suprotnom, nadovezivanjem prvog karaktera polaznog uzorka. Pseudokod algoritma se nalazi na 50. strani u knjizi."
   ]
  },
  {
   "cell_type": "code",
   "execution_count": 14,
   "metadata": {},
   "outputs": [],
   "source": [
    "def hamming_distance(string1, string2):\n",
    "    n = len(string1)       \n",
    "    \n",
    "    distance = 0\n",
    "    for i in range(n):\n",
    "        if string1[i] != string2[i]:\n",
    "            distance += 1\n",
    "            \n",
    "    return distance                  "
   ]
  },
  {
   "cell_type": "code",
   "execution_count": 15,
   "metadata": {},
   "outputs": [],
   "source": [
    "def neighbors(pattern, d):\n",
    "    if d==0:\n",
    "        return {pattern}\n",
    "    \n",
    "    if len(pattern) == 1:\n",
    "        return {'A', 'C', 'G', 'T'}\n",
    "    \n",
    "    neighborhood = set([])\n",
    "    \n",
    "    sufix_neighbors = neighbors(pattern[1:], d)\n",
    "    \n",
    "    for sufix_pattern in sufix_neighbors:\n",
    "        if hamming_distance(pattern[1:], sufix_pattern) < d:\n",
    "            for nucleotide in ['A', 'C', 'G', 'T']:\n",
    "                neighborhood.add(nucleotide + sufix_pattern)\n",
    "        else:\n",
    "            neighborhood.add(pattern[0] + sufix_pattern)\n",
    "            \n",
    "    return list(neighborhood)"
   ]
  },
  {
   "cell_type": "code",
   "execution_count": 16,
   "metadata": {},
   "outputs": [
    {
     "name": "stdout",
     "output_type": "stream",
     "text": [
      "['AAG', 'GAA', 'AGA', 'TAA', 'AAA', 'ACA', 'AAT', 'ATA', 'CAA', 'AAC']\n"
     ]
    }
   ],
   "source": [
    "pattern = 'AAA'\n",
    "d = 1\n",
    "print(neighbors(pattern, d))"
   ]
  },
  {
   "cell_type": "markdown",
   "metadata": {},
   "source": [
    "3. Implementirati modifikaciju algoritma **Frequent Words with Missmatches** koja koristi recnik (<code>dict</code>) za cuvanje brojaca samo onih <code>k</code>-grama koji se pojavljuju u niski <code>text</code> i njihovih <code>d</code>-suseda (<code>k</code>-grama koji se nalaze na najvise <code>d</code> Hamingovom rastojanju)."
   ]
  },
  {
   "cell_type": "code",
   "execution_count": 7,
   "metadata": {},
   "outputs": [],
   "source": [
    "def approximate_pattern_count(text, pattern, d):\n",
    "    n = len(text)\n",
    "    k = len(pattern)\n",
    "    count = 0\n",
    "    \n",
    "    for i in range(n-k+1):\n",
    "        if hamming_distance(pattern, text[i : i+k]) <= d:\n",
    "            count += 1\n",
    "            \n",
    "    return count"
   ]
  },
  {
   "cell_type": "code",
   "execution_count": 8,
   "metadata": {},
   "outputs": [],
   "source": [
    "def frequent_words_with_missmatches_dict(text, k, d):   \n",
    "    frequency_dict = {}\n",
    "    \n",
    "    n = len(text)\n",
    "    for i in range(n-k+1):\n",
    "        pattern = text[i : i + k]                    \n",
    "        neighborhood = neighbors(pattern, d)         \n",
    "        \n",
    "        for neighbor in neighborhood:\n",
    "            if neighbor not in frequency_dict:      \n",
    "                frequency_dict[neighbor] = approximate_pattern_count(text, neighbor, d)\n",
    "            \n",
    "    max_count = max(frequency_dict.values())\n",
    "    \n",
    "    frequent_patterns = set([])\n",
    "    \n",
    "    for pattern, count in frequency_dict.items():\n",
    "        if count == max_count:\n",
    "            frequent_patterns.add(pattern)\n",
    "    \n",
    "    return list(frequent_patterns)"
   ]
  },
  {
   "cell_type": "code",
   "execution_count": 9,
   "metadata": {},
   "outputs": [
    {
     "name": "stdout",
     "output_type": "stream",
     "text": [
      "['GTTG', 'GGTT', 'TTGG']\n"
     ]
    }
   ],
   "source": [
    "text = 'ATATGCTAGTGTCGATGTGCTA'\n",
    "k = 4\n",
    "d = 2\n",
    "\n",
    "print(frequent_words_with_missmatches_dict(text, k, d))"
   ]
  }
 ],
 "metadata": {
  "kernelspec": {
   "display_name": "Python 3 (ipykernel)",
   "language": "python",
   "name": "python3"
  },
  "language_info": {
   "codemirror_mode": {
    "name": "ipython",
    "version": 3
   },
   "file_extension": ".py",
   "mimetype": "text/x-python",
   "name": "python",
   "nbconvert_exporter": "python",
   "pygments_lexer": "ipython3",
   "version": "3.10.14"
  }
 },
 "nbformat": 4,
 "nbformat_minor": 4
}
