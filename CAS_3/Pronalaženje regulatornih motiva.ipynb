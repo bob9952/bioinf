{
 "cells": [
  {
   "cell_type": "markdown",
   "metadata": {},
   "source": [
    "Postavlja se pitanje kako biljke znaju kada je dan a kada je noc, tj. kako znaju kada treba da vrse fotosintezu. Bioritam svih zivih bica kontrolise \"unutrasnji casovnik\" koji nazivamo **cirkadijalni casovnik**. Osnova cirkadijalnog casovnika je na molekularnom nivou - **cirkadijalni geni koji koordiniraju ponasanje stotine drugih gena**.\n",
    "\n",
    "Mi cemo se fokusirati na biljke, jer je kod njih cirkadijalni ritam od egzistencijalnog znacaja, pa stoga ne sme biti promenljiv. Ispostavlja se da svaka celija biljke cuva informaciju o tome da li je dan ili noc, nezavisno od drugih celija. Mehanizam  cirkadijalnog casovnika se zasniva na tome da spoljasnji faktori (kao sto je kolicina sunceve svetlosti, toplote, UV indeks, itd.) kontrolisu sintetisanje tzv. **regulatornih proteina** - proteina koji regulisu sintezu drugih proteina. \n",
    "\n",
    "Kod biljaka su to tri regulatorna proteina **LCY**, **CCA1** i **TOC1**, i oni kontrolisu cirkadijalni casovnik na sledeci nacin: ujutru sunceva svetlost aktivira sintezu proteina **LCY** i **CCA1**, koji sa druge strane inhibira sintezu proteina **TOC1** koja dostize svoj maksimum u toku noci, dok sa druge strane **TOC1** ne inhibira sintezu **LCY** i **CCA1**, vec je pospesuje, ali da bi se ona uopste dogodila potrebna je sunceva svetlost koja ce da aktivira sintezu **LCY** i **CCA1**, i tako pravimo ciklus.\n",
    "\n",
    "Regulatorni proteini koordiniraju ponasanje (tj. sintezu) drugih proteina tako sto se vezuju za odredjene regione njihovih gena i time ili aktiviraju ili blokiraju vezivanje proteina *RNK polimeraze* koja vrsi transkripciju DNK u RNK, i time omogucavaju ili sprecavaju transkripciju tog gena, a samim tim i sintezu odgovarajuceg proteina. Regulatorni proteini koji pozitivno uticu na ekspresiju (transkripciju) gena nazivaju se **induktori** a proteini koji je sprecavaju **represori**. \n",
    "\n",
    "<img src=\"assets/regulation_of_gene_expression.png\" width=\"600\">\n",
    "<br/>\n",
    "\n",
    "Kod svakog gena neposredno pre pocetka kodirajuceg dela gena (nisu svi delovi gena kodirajuci!) nalazi se relativno kratka sekvenca, tzv. **regulatorna sekvenca** u okviru koje se nalaze mesta vezivanja regulatornih proteina. Kod prokariota se regulatorna sekvenca sastoji od dva segmenta - **promotora** i **operatora**. Promotor je pocetni region transkripcije DNK u RNK i za njega se vezuje protein RNK polimeraza. Operator je region za koji se vezuju represori kako bi onemogucili vezivanje RNK polimeraze za promotor. Induktori nemaju svoje mesto vezivanja u okviru regulatorne sekvence, vec se oni vezuju za represor i uzrokuju njihovu promenu oblika tako da vise ne budu u mogucnosti da se vezu za operator, omogucavajuci time vezivanje RNK polimeraze za promotor, a time i ekspresiju gena. Kod eukariota je mehanizam regulacije ekspresije gena znatno kompleksniji proces koji se odvija u vise nivoa, ali je u osnovi princip mehanizma isti. Takodje, kod eukariota regulatorna sekvenca sadrzi vise segmenata koji predstavljaju mesta vezivanja razlicitih proteina koji ucestvuju u procesu regulacije ekspresije gena.\n",
    "\n",
    "Nas interesuje da pronadjemo **regulatorne motive** za dati skup gena za koje pretpostavljamo da su regulisani istim regulatornim proteinom. Drugim recima, zadatak je da u okviru regulatornih sekvenci tih gena pronadjemo mesta vezivanja njima zajednickog regulatornog proteina. Naziv 'regulatorni motivi' potice od toga sto se ne radi nuzno o identicnim podsekvencama, zato sto na njima (kao i na svim drugim delovima DNK) moze doci do mutacija, a da se za tako izmenjeni segment i dalje moze vezati regulatorni protein.\n",
    "\n",
    "Ovaj problem podseca na problem pronalazenja DnaA boksova unutar oriC-a, medjutim ako bismo ovaj problem sveli na taj nadovezivanjem regulatornih sekvenci iz datog skupa, izgubili bismo bioloski smisao, jer bismo dozvolili da se kao regulatorni motiv pronadje sekvenca koja delom pripada jednom a delom drugom genu (tj. njihovim regulatornim sekvencama) ili da se u okviru jednog gena ne pronadje nijedan regulatorni motiv, a u okviru nekog drugog vise regulatornih motiva."
   ]
  },
  {
   "cell_type": "markdown",
   "metadata": {},
   "source": [
    "Nas interesuje da pronadjemo **regulatorne motive** za dati skup gena za koje pretpostavljamo da su regulisani istim regulatornim proteinom. Drugim recima, zadatak je da u okviru regulatornih sekvenci tih gena pronadjemo mesta vezivanja njima zajednickog regulatornog proteina. Naziv 'regulatorni motivi' potice od toga sto se ne radi nuzno o identicnim podsekvencama, zato sto na njima (kao i na svim drugim delovima DNK) moze doci do mutacija, a da se za tako izmenjeni segment i dalje moze vezati regulatorni protein.\n",
    "\n",
    "Ovaj problem podseca na problem pronalazenja DnaA boksova unutar oriC-a, medjutim ako bismo ovaj problem sveli na taj nadovezivanjem regulatornih sekvenci iz datog skupa, izgubili bismo bioloski smisao, jer bismo dozvolili da se kao regulatorni motiv pronadje sekvenca koja delom pripada jednom a delom drugom genu (tj. njihovim regulatornim sekvencama) ili da se u okviru jednog gena ne pronadje nijedan regulatorni motiv, a u okviru nekog drugog vise regulatornih motiva."
   ]
  },
  {
   "cell_type": "markdown",
   "metadata": {},
   "source": [
    "# Median String algoritam"
   ]
  },
  {
   "cell_type": "markdown",
   "metadata": {},
   "source": [
    "**Kanonski motiv** je onaj k-gram koji trazimo (sekvenca za koju se vezuje regulatorni protein bez mutacija), a njegove instance su k-grami koji se u odnosu na njega razlikuju na nekim pozicijama, do na dozvoljen broj odstupanja (mutacija). **Pri cemu, kanonski motiv uopste ne mora da se pojavljuje ni u jednoj sekvenci (genu)!** \n",
    "\n",
    "Problem pronalazenja kanonskog motiva moze da se posmatra kao problem odredjivanja **niske medijane** - srednja niska tj. k-gram za koji postoje u svim sekvencama (genima) k-grami (instance kanonskog motiva) koji u odnosu na njega imaju minimalno ukupno odstupanje (broj mutacija). Otuda i naziv ovog algoritma. \n",
    "\n",
    "Ideja algoritma je da svaki moguci k-gram uzmemo i posmatramo ga kao da je kanonski motiv i u svakoj sekvenci pronadjemo k-grame koji se od njega najmanje razlikuju - to bi bile instance tog kanonskog motiva. Trazena niska medijana (tj. kanonski motiv) je onaj k-gram koji ispunjava prethodni uslov i koji ima najmanje <u>ukupno rastojanje</u>, odnosno pojavljuje se u svim sekvencama sa najmanjim brojem odstupanja.\n",
    "\n",
    "**NAPOMENA:** sa ovako definisanim problemom dozvoljavamo proizvoljan broj mutacija u instancama kanonskog motiva, ali da ukupan broj mutacija bude minimalan!"
   ]
  },
  {
   "cell_type": "code",
   "execution_count": 1,
   "metadata": {},
   "outputs": [],
   "source": [
    "# ideja:\n",
    "# za svaki moguci k-gram uzmemo  i posmatramo ga kao da je kanonski motiv \n",
    "# i u svakoj sekvenci pronadjemo k-grame koji se od njega najmanje razlikuju - to bi bile instance tog kanonskog motiva\n",
    "# Trazena niska medijana je onaj k-gram koji ispunjava prethodni uslov i koji ima najmanje UKUPNO RASTOJANJE, odnosno \n",
    "# pojavljuje se u svim sekvencama sa najmanjim brojem odsupanja"
   ]
  },
  {
   "cell_type": "markdown",
   "metadata": {},
   "source": [
    "Funkcija **symbol_to_number** vrsi preslikavanje simbola nukleotida u odgovarajuce numericke vrednost - cifre iz brojevnog sistema sa osnovom 4. Dodatno definisemo preslikavanje i za mala slova, zato sto u bazama podataka cesto umeju da se pojavljuju u nekim delovima sekvenci a sluze da markiraju segmente sa posebnim karakteristikama."
   ]
  },
  {
   "cell_type": "code",
   "execution_count": 22,
   "metadata": {},
   "outputs": [],
   "source": [
    "def symbol_to_number(symbol):\n",
    "    mapping = {\n",
    "        'A' : 0,   'a' : 0,        \n",
    "        'T' : 1,   't' : 1,\n",
    "        'C' : 2,   'c' : 2,\n",
    "        'G' : 3,   'g' : 3\n",
    "    }\n",
    "    \n",
    "    return mapping[symbol]"
   ]
  },
  {
   "cell_type": "markdown",
   "metadata": {},
   "source": [
    "Funkcija **pattern_to_number** vrsi preslikavanje nukleotidne sekvence **pattern** u odgovarajuci numericku vrednost."
   ]
  },
  {
   "cell_type": "code",
   "execution_count": 23,
   "metadata": {},
   "outputs": [],
   "source": [
    "def pattern_to_number(pattern):\n",
    "    if(len(pattern) == 1):\n",
    "        return symbol_to_number(pattern)\n",
    "    else:\n",
    "        last_symbol = pattern[-1]\n",
    "        return pattern_to_number(pattern[:-1])*4 + symbol_to_number(last_symbol)  "
   ]
  },
  {
   "cell_type": "code",
   "execution_count": 24,
   "metadata": {},
   "outputs": [
    {
     "name": "stdout",
     "output_type": "stream",
     "text": [
      "27\n"
     ]
    }
   ],
   "source": [
    "pattern = 'ATcG'\n",
    "print(pattern_to_number(pattern))"
   ]
  },
  {
   "cell_type": "markdown",
   "metadata": {},
   "source": [
    "Funkcija **number_to_symbol** za datu cifru iz sistema sa osnovom 4 vraca odgovarajuci simbol nukleotida."
   ]
  },
  {
   "cell_type": "code",
   "execution_count": 25,
   "metadata": {},
   "outputs": [],
   "source": [
    "def number_to_symbol(number):\n",
    "    mapping = {\n",
    "        0 : 'A',\n",
    "        1 : 'T',\n",
    "        2 : 'C',\n",
    "        3 : 'G'\n",
    "    }\n",
    "    \n",
    "    return mapping[number]"
   ]
  },
  {
   "cell_type": "markdown",
   "metadata": {},
   "source": [
    "Funkcija **number_to_pattern** prevodi datu numericku vrednost (**number**) u nukleotidnu sekvencu duzine **k**."
   ]
  },
  {
   "cell_type": "code",
   "execution_count": 26,
   "metadata": {},
   "outputs": [],
   "source": [
    "def number_to_pattern(number, k):\n",
    "    if k==1:\n",
    "        return number_to_symbol(number)\n",
    "    else:\n",
    "        return number_to_pattern(number//4, k-1) + number_to_symbol(number%4)"
   ]
  },
  {
   "cell_type": "code",
   "execution_count": 27,
   "metadata": {},
   "outputs": [
    {
     "name": "stdout",
     "output_type": "stream",
     "text": [
      "AAAAAAATCG\n"
     ]
    }
   ],
   "source": [
    "number = 27\n",
    "k = 10\n",
    "print(number_to_pattern(27, 10))"
   ]
  },
  {
   "cell_type": "markdown",
   "metadata": {},
   "source": [
    "Funkcija **hamming_distance** racuna broj pozicija na kojima se niske **string1** i **string2** razlikuju. Podrazumeva se da su niski jednake duzine."
   ]
  },
  {
   "cell_type": "code",
   "execution_count": 28,
   "metadata": {},
   "outputs": [],
   "source": [
    "def hamming_distance(string1, string2):\n",
    "    n = len(string1)\n",
    "    \n",
    "    distance = 0\n",
    "    for i in range(n):\n",
    "        if string1[i] != string2[i]:\n",
    "            distance += 1\n",
    "            \n",
    "    return distance"
   ]
  },
  {
   "cell_type": "code",
   "execution_count": 29,
   "metadata": {},
   "outputs": [
    {
     "name": "stdout",
     "output_type": "stream",
     "text": [
      "3\n"
     ]
    }
   ],
   "source": [
    "string1 = 'ACTCGA'\n",
    "string2 = 'GCTGCA'\n",
    "print(hamming_distance(string1, string2))"
   ]
  },
  {
   "cell_type": "markdown",
   "metadata": {},
   "source": [
    "Funkcija **distance** racuna rastojanje zadate niske **pattern** (kandidat za kanonski motiv) u odnosu na skup sekvenci **dna_sequences** koje se definise kao suma minimuma Hamingovih rastojanja **pattern**-a od k-grama (k je duzina pattern-a) iz pojedinacnih sekvenci skupa **dna_sequences**."
   ]
  },
  {
   "cell_type": "code",
   "execution_count": 30,
   "metadata": {},
   "outputs": [],
   "source": [
    "# funckija rastojanja \n",
    "# racuna rastojanje zadatake niske patern ( KADNIDAT za kannoski motiv) u odnosnu na skup sekvenci dna_sequesnces koji se definise kao \n",
    "# suma minimuma hamingovih rastojanja paterna od k-grama iz pojedinacnih sekvenci skupa dna_sequences"
   ]
  },
  {
   "cell_type": "code",
   "execution_count": 31,
   "metadata": {},
   "outputs": [],
   "source": [
    "def rastojanje(dnk_sekvenca, patern):\n",
    "    k = len(patern)\n",
    "\n",
    "    ukupno_rastojanje = 0\n",
    "    # prodjemo kroz sve sekvece\n",
    "    for sekvenca in dnk_sekvenca:\n",
    "        min_rastojanje = float('inf')\n",
    "        # i onda kroz sve k paterne sekvce \n",
    "        n = len(sekvenca)\n",
    "        for i in range(n-k+1):\n",
    "            # izracunamo tekuce rastojanje \n",
    "            tekuci_patern = sekvenca[i:i+k]\n",
    "            tekuce_rastojanje = hamming_distance(tekuci_patern, patern)\n",
    "            # ako mozemo da azuriramo min rastojanje za k-gram i trenutnu sekvencu uradimo to\n",
    "            if tekuce_rastojanje < min_rastojanje:\n",
    "                min_rastojanje = tekuce_rastojanje\n",
    "        # ukupno rastojanje uvecavamo za min hamingovog rastojanja paterna i k-grama \n",
    "        ukupno_rastojanje += min_rastojanje\n",
    "    return ukupno_rastojanje"
   ]
  },
  {
   "cell_type": "code",
   "execution_count": 32,
   "metadata": {},
   "outputs": [],
   "source": [
    "def distance(dna_sequences, pattern):       \n",
    "    k = len(pattern)\n",
    "    \n",
    "    total_distance = 0\n",
    "    \n",
    "    for sequence in dna_sequences:\n",
    "        min_distance = float('inf')\n",
    "        \n",
    "        n = len(sequence)                      #NAPOMENA: ne moraju sve sekvence iz dna_sequences biti iste duzine!\n",
    "        for i in range(n-k+1):\n",
    "            current_pattern = sequence[i:i+k]\n",
    "            current_distance = hamming_distance(current_pattern, pattern)\n",
    "            \n",
    "            if current_distance < min_distance:\n",
    "                min_distance = current_distance\n",
    "                \n",
    "        total_distance += min_distance\n",
    "        \n",
    "    return total_distance"
   ]
  },
  {
   "cell_type": "code",
   "execution_count": 33,
   "metadata": {},
   "outputs": [
    {
     "name": "stdout",
     "output_type": "stream",
     "text": [
      "5\n"
     ]
    }
   ],
   "source": [
    "dna_sequences = ['ttacggtAAC',\n",
    "                 'gATAtctgtc',\n",
    "                 'ACGgcgttcg',\n",
    "                 'ccctAAAgag',\n",
    "                 'cgtcAGAggt']\n",
    "\n",
    "pattern = 'AAA'\n",
    "\n",
    "print(distance(dna_sequences, pattern))"
   ]
  },
  {
   "cell_type": "code",
   "execution_count": 34,
   "metadata": {},
   "outputs": [
    {
     "name": "stdout",
     "output_type": "stream",
     "text": [
      "5\n"
     ]
    }
   ],
   "source": [
    "print(rastojanje(dna_sequences, pattern))"
   ]
  },
  {
   "cell_type": "markdown",
   "metadata": {},
   "source": [
    "Funkcija **median_string** pronalazi nisku medijanu duzine **k** za zadati skup niski **dna_sequences**."
   ]
  },
  {
   "cell_type": "code",
   "execution_count": null,
   "metadata": {},
   "outputs": [],
   "source": []
  },
  {
   "cell_type": "markdown",
   "metadata": {
    "jp-MarkdownHeadingCollapsed": true
   },
   "source": [
    "Trazena niska medijana (tj. kanonski motiv) je onaj k-gram koji ispunjava prethodni uslov i koji ima najmanje ukupno rastojanje, odnosno pojavljuje se u svim sekvencama sa najmanjim brojem odstupanja."
   ]
  },
  {
   "cell_type": "code",
   "execution_count": 39,
   "metadata": {},
   "outputs": [],
   "source": [
    "def medijana_niska(dnk_sekvenca, k):\n",
    "    # dopuniti\n",
    "    min_rastojanje = float('inf')\n",
    "    min_patern = None\n",
    "\n",
    "    for i in range(0, 4**k):\n",
    "        tekuci_patern = number_to_pattern(i, k)\n",
    "        tekuce_rastojanje = rastojanje(dnk_sekvenca, tekuci_patern)\n",
    "\n",
    "        if tekuce_rastojanje < min_rastojanje:\n",
    "            min_rastojanje = tekuce_rastojanje\n",
    "            min_patern = tekuci_patern\n",
    "\n",
    "    return min_patern"
   ]
  },
  {
   "cell_type": "code",
   "execution_count": 40,
   "metadata": {},
   "outputs": [],
   "source": [
    "def median_string(dna_sequences, k):\n",
    "    min_distance = float('inf')\n",
    "    min_pattern = None                  #median string = kanonski motiv\n",
    "    \n",
    "    for number in range(4**k):\n",
    "        current_pattern = number_to_pattern(number, k)       #kandidat za kanonski motiv\n",
    "        current_distance = distance(dna_sequences, current_pattern)\n",
    "        \n",
    "        if current_distance < min_distance:\n",
    "            min_distance = current_distance\n",
    "            min_pattern = current_pattern\n",
    "            \n",
    "    return min_pattern"
   ]
  },
  {
   "cell_type": "code",
   "execution_count": 41,
   "metadata": {
    "scrolled": true
   },
   "outputs": [
    {
     "name": "stdout",
     "output_type": "stream",
     "text": [
      "AAA\n"
     ]
    }
   ],
   "source": [
    "dna_sequences = ['ttacggtAAC',\n",
    "                 'gATAtctgtc',\n",
    "                 'ACGgcgttcg',\n",
    "                 'ccctAAAgag',\n",
    "                 'cgtcAGAggt']\n",
    "k = 3\n",
    "\n",
    "print(median_string(dna_sequences, k))"
   ]
  },
  {
   "cell_type": "code",
   "execution_count": 42,
   "metadata": {},
   "outputs": [
    {
     "name": "stdout",
     "output_type": "stream",
     "text": [
      "AAA\n"
     ]
    }
   ],
   "source": [
    "dna_sequences = ['ttacggtAAC',\n",
    "                 'gATAtctgtc',\n",
    "                 'ACGgcgttcg',\n",
    "                 'ccctAAAgag',\n",
    "                 'cgtcAGAggt']\n",
    "k = 3\n",
    "\n",
    "print(medijana_niska(dna_sequences, k))"
   ]
  },
  {
   "cell_type": "markdown",
   "metadata": {},
   "source": [
    "# Greedy Motif Search algoritam"
   ]
  },
  {
   "cell_type": "markdown",
   "metadata": {},
   "source": [
    "Algoritmi kod kojih se u svakom koraku uzima lokalno optimalno rešenje i koji <u>ne</u> garantuju da će takvi izbori na kraju dovesti do globalno optimalnog rešenja nazivaju se **pohlepni algoritmi** (eng. greedy algorithms). \n",
    "\n",
    "*Greedy Motif Search algoritam* pronalazi motive u DNK sekvencama pohlepnim pristupom, konstruisuci skup motiva korak po korak, odabirom svakog sledeceg motiva tako da predstavlja najverovatniji k-gram (sa najmanjim brojem mutacija) u odnosu na do tada sastavljen skup motiva. Ovaj algoritam je po pitanju vremenske slozenosti efikasniji od prethodnog algoritma, ali budući da je po prirodi pohlepni algoritam, nemamo garanciju da ce pronaci najbolji skup motiva.\n",
    "\n",
    "**NAPOMENA:** sa ovako definisanim problemom dozvoljavamo proizvoljan broj mutacija, ali da ukupan broj muttacija (u skupu svih motiva) bude minimalan!"
   ]
  },
  {
   "cell_type": "markdown",
   "metadata": {},
   "source": [
    "Funkcija **count** vraca matricu dimenzije **k $\\times$ 4** koja za svaku od pozicija (kolona) matrice motiva **motifs** (dimenzije t $\\times$ k) sadrzi broj pojavljivnja svakog od simbola (nukleotida).\n",
    "\n",
    "**NAPOMENA**: dimenzije counts matrice su obrnute u odnosu na to kako je predstavljeno u knjizi!"
   ]
  },
  {
   "cell_type": "code",
   "execution_count": 44,
   "metadata": {},
   "outputs": [],
   "source": [
    "def count(motifs, k):\n",
    "    #          A, T, C, G\n",
    "    counts = [[0, 0, 0, 0] for _ in range(k)]  \n",
    "    \n",
    "    for motif in motifs:\n",
    "        for i in range(k):\n",
    "            current_symbol = motif[i]\n",
    "            number = symbol_to_number(current_symbol)   # 0, 1, 2 ,, 3..\n",
    "            counts[i][number] += 1\n",
    "            \n",
    "    return counts"
   ]
  },
  {
   "cell_type": "code",
   "execution_count": 48,
   "metadata": {},
   "outputs": [
    {
     "name": "stdout",
     "output_type": "stream",
     "text": [
      "[5, 0, 0, 0]\n",
      "[2, 1, 1, 1]\n",
      "[3, 0, 1, 1]\n"
     ]
    }
   ],
   "source": [
    "motifs = ['AAC',\n",
    "          'ATA',\n",
    "          'ACG',\n",
    "          'AAA',\n",
    "          'AGA']\n",
    "\n",
    "# AAC\n",
    "# ATA\n",
    "# ACG\n",
    "# AAA\n",
    "# AGA \n",
    "# Ovo ovde je za prvu kolu\n",
    "# 5 A \n",
    "# 0 T \n",
    "# 0 C\n",
    "# 0 G\n",
    "\n",
    "k = 3\n",
    "\n",
    "counts = count(motifs, k)\n",
    "\n",
    "for row in counts:\n",
    "    print(row)"
   ]
  },
  {
   "cell_type": "markdown",
   "metadata": {},
   "source": [
    "Funkcija **score** izracunava skor date matrice motiva **motfis** (dimenzije t $\\times$ **k**) koji predstavlja meru slicnosti motiva iz matrice **motifs** medjusobno, odnosno sa njenom **<u>konsenzus niskom</u>** - niskom koja se sastoji od najzastupljenijih nukleotida na svakoj od pozicija, tj, kolona matrice.\n",
    "\n",
    "Racunanje skora se moze realizovati na jedan od sledeca dva nacina (ekvivalentni su): <br/>\n",
    "1\\) zbir pojavljivanja simbola razlicitog od najzastupljenijeg (simbola konsenzus niske koji ogovara toj poziciji/kolini) po svakoj kolini matrice motiva <br/>\n",
    "2\\) zbir Hamingovih rastojanje pojedinacnih motiva (vrsta matrice motiva) od konsenzus niske\n",
    "\n",
    "**NAPOMENA:** konsenzus niska nam ovde sluzi samo da bismo izracunali skor skupa (matrice) motiva, ali zapravo  konsenzus niska finalne matrice motiva koje odaberemo predstavlja trazeni kanonski motiv! "
   ]
  },
  {
   "cell_type": "code",
   "execution_count": 55,
   "metadata": {},
   "outputs": [],
   "source": [
    "def score(motifs, k):\n",
    "    counts = count(motifs, k)\n",
    "    print(counts)     \n",
    "    #formiramo konsenzus nisku na osnovu matrice counts\n",
    "    consensus = [0 for i in range(k)]\n",
    "    \n",
    "    for i in range(k):\n",
    "        most_frequent = counts[i].index(max(counts[i]))  #index() vreca indeks elementa u listi sa datom vrednoscu\n",
    "        print(most_frequent)\n",
    "        consensus[i] = number_to_symbol(most_frequent)\n",
    "        print(consensus[i])\n",
    "        \n",
    "    total_score = 0\n",
    "    # AAA\n",
    "    for motif in motifs:\n",
    "        total_score += hamming_distance(motif, consensus)\n",
    "    \n",
    "    return total_score"
   ]
  },
  {
   "cell_type": "code",
   "execution_count": 56,
   "metadata": {},
   "outputs": [
    {
     "name": "stdout",
     "output_type": "stream",
     "text": [
      "[[5, 0, 0, 0], [2, 1, 1, 1], [3, 0, 1, 1]]\n",
      "0\n",
      "A\n",
      "0\n",
      "A\n",
      "0\n",
      "A\n",
      "5\n"
     ]
    }
   ],
   "source": [
    "motifs = ['AAC',\n",
    "          'ATA',\n",
    "          'ACG',\n",
    "          'AAA',\n",
    "          'AGA']\n",
    "k = 3\n",
    "\n",
    "print(score(motifs, k))"
   ]
  },
  {
   "cell_type": "markdown",
   "metadata": {},
   "source": [
    "**Resenje naseg problema bice matrica motiva koja ima najmanji skor.** Medjutim, ostaje da vidimo kako cemo doci do takve matrice motiva. Kao sto je ranije receno, ideja je da se skup (matrica) motiva konstruise korak po korak,  odabirom svakog sledeceg motiva tako da predstavlja <u>najverovatniji</u> k-gram (u smislu najmanjeg broja mutacija) u odnosu na do tada sastavljen skup motiva. Dakle, bice nam potreban nekakav verovatnosni okvir u kojem ce se vrsiti odabir motiva.\n",
    "\n",
    "Pored matrice counts, bice nam potrebna jos jedna matrica - tzv. **profilna matrica**:\n",
    "- **counts** - matrica apsolutnih frekvencija\n",
    "- **profile** - matrica relativnih frekvencija (verovatnoca)\n",
    "\n",
    "Vrednosti profilne matrice tumacimo kao verovatnoce pojavljivanja svakog od simbola (nukleotida) po kolonama matrice motiva. **Verovatnoca nekog k-grama u odnosu na profilnu matricu se prema tome prirodno definise kao proizvod verovatnoca pojavljivanja svakog od simbola iz k-grama na odgovarajucim pozicijama prema profilnoj matrici.** Ako bismo na osnovu profilne matrice trazili najverovatniji k-gram, to bi odgovaralo konsenzus niski. Za sve ostale k-grame, sto je k-gram blizi (slicniji) konsenzus niski, to ce njegova verovatnoca u odnosu na datu profilnu matricu biti veca. \n",
    "\n",
    "Kako se radi o racunanju verovatnoca, problem je kada se u nekoj od kolona matrice motiva neki simbol (nukleotid) nije pojavio nijednom, jer je tada njegova verovatnoca pojavljivanja u profilnoj matrici 0. To znaci da svi k-grami koji imaju taj nukleotid na toj poziciji, bez obzira sta imaju na ostalim pozicijama, ima verovatnocu tj. meru slicnosti sa prethodno izabranim skupm motivima 0. To je lose, jer ako neki simbol nije do sada vidjen na toj poziciji ne znaci da se on sigurno ne nalazi tu u trazenom resenju (kanonskom motivu), pa bismo na ovaj nacin odbacili i neka dobra resenja.\n",
    "\n",
    "Ovaj problem resavamo uvodjenjem **pseudovrednosti** - malih pozitivnih vrednosti (verovatnoca) kojima zamenjujemo 0 u profilnoj matrici. Njih postavljamo tako sto pre pocetka racunanja count matrice, na osnovu koje se dalje izracunava profilna matrica, inicijalizujemo brojace na svim pozicijama i za sve simbole (nukeotide) na 1. To ima smisao toga da ukoliko je neki ishod moguc, sto to bi znacilo kao da smo ranije imali neki od eksperimenata koji je dao taj ishod, cim znamo da je moguc, pa ga treba uracunati prilikom racunanja verovatnoce. U nasem slucaju se za profilnu matricu racunaju verovatnoce na osnovu $\\textbf{t}$ eksperimenata ($\\textbf{t}$ - broj motiva u matrici motiva), a ovim kao da kazemo da smo umesto $\\textbf{t}$ eksperimenata obavili $\\textbf{t+4}$ eksperimenata, odnosno kao da smo u matricu motiva dodali jos i motive AA...AA, TT...TT, CC...CC i GG...GG."
   ]
  },
  {
   "cell_type": "markdown",
   "metadata": {},
   "source": [
    "Funkcija **count_with_pseudocounts** vraca matricu dimenzije **k $\\times$ 4** koja za svaku od pozicija (kolona) matrice motiva **motifs** (dimenzije t $\\times$ k) sadrzi broj pojavljivnja svakog od simbola (nukleotida). Za incijalne vrednosti brojaca uzima se vrednost **pseudocount** (koja je podrazumevano 0).\n",
    "\n",
    "**NAPOMENA**: dimenzije counts matrice su obrnute u odnosu na to kako je predstavljeno u knjizi!"
   ]
  },
  {
   "cell_type": "code",
   "execution_count": 57,
   "metadata": {},
   "outputs": [],
   "source": [
    "def count_with_pseudocounts(motifs, k, pseudocount=0):\n",
    "    #               A            T            C            G\n",
    "    counts = [[pseudocount, pseudocount, pseudocount, pseudocount] for _ in range(k)]  \n",
    "    \n",
    "    for motif in motifs:\n",
    "        for i in range(k):\n",
    "            current_symbol = motif[i]\n",
    "            number = symbol_to_number(current_symbol)\n",
    "            counts[i][number] += 1\n",
    "            \n",
    "    return counts"
   ]
  },
  {
   "cell_type": "code",
   "execution_count": 58,
   "metadata": {},
   "outputs": [
    {
     "name": "stdout",
     "output_type": "stream",
     "text": [
      "[6, 1, 1, 1]\n",
      "[3, 2, 2, 2]\n",
      "[4, 1, 2, 2]\n"
     ]
    }
   ],
   "source": [
    "motifs = ['AAC',\n",
    "          'ATA',\n",
    "          'ACG',\n",
    "          'AAA',\n",
    "          'AGA']\n",
    "k = 3\n",
    "\n",
    "counts = count_with_pseudocounts(motifs, k, 1)\n",
    "\n",
    "for row in counts:\n",
    "    print(row)"
   ]
  },
  {
   "cell_type": "markdown",
   "metadata": {},
   "source": [
    "Funkcija **create_profile** za datu matricu motiva **motifs** (dimenzije **t** $\\times$ **k**) racuna profilnu matricu (dimenzije **k $\\times$ 4**) koja za svaku od pozicija (kolona) matrice motiva sadrzi verovatnocu pojavljivanja svakog od simbola (nukleotida).\n",
    "\n",
    "**NAPOMENA**: dimenzije profilne matrice su obrnute u odnosu na to kako je predstavljeno u knjizi!"
   ]
  },
  {
   "cell_type": "code",
   "execution_count": 63,
   "metadata": {},
   "outputs": [],
   "source": [
    "# create_profile \n",
    "def napravi_profil(motivi, k, t):\n",
    "    pseudocount = 1\n",
    "    counts = count_with_pseudocounts(motifs, k, pseudocount)\n",
    "\n",
    "    profile = [[None for j in range(4)] for i in range(k)]\n",
    "\n",
    "    for i in range(k):\n",
    "        for j in range(4):\n",
    "            profile[i][j] = counts[i][j] / (t + 4) # a ovde stavljamo t + 4 jer smo gore kao radili sa pseudocounts pa dobijamo t + 4 eksp\n",
    "    return profile"
   ]
  },
  {
   "cell_type": "code",
   "execution_count": 64,
   "metadata": {},
   "outputs": [],
   "source": [
    "def create_profile(motifs, k, t):\n",
    "    pseudocount = 1\n",
    "    counts = count_with_pseudocounts(motifs, k, pseudocount)\n",
    "            \n",
    "    profile = [[None for j in range(4)] for i in range(k)]\n",
    "    \n",
    "    for i in range(k):\n",
    "        for j in range(4):\n",
    "            profile[i][j] = counts[i][j] / (t+4)\n",
    "            \n",
    "    return profile"
   ]
  },
  {
   "cell_type": "code",
   "execution_count": 65,
   "metadata": {},
   "outputs": [
    {
     "name": "stdout",
     "output_type": "stream",
     "text": [
      "[0.6666666666666666, 0.1111111111111111, 0.1111111111111111, 0.1111111111111111]\n",
      "[0.3333333333333333, 0.2222222222222222, 0.2222222222222222, 0.2222222222222222]\n",
      "[0.4444444444444444, 0.1111111111111111, 0.2222222222222222, 0.2222222222222222]\n"
     ]
    }
   ],
   "source": [
    "motifs = ['AAC',\n",
    "          'ATA',\n",
    "          'ACG',\n",
    "          'AAA',\n",
    "          'AGA']\n",
    "k = 3\n",
    "t = 5\n",
    "\n",
    "profile = create_profile(motifs, k, t)\n",
    "\n",
    "for row in profile:\n",
    "    print(row)"
   ]
  },
  {
   "cell_type": "code",
   "execution_count": 66,
   "metadata": {},
   "outputs": [
    {
     "name": "stdout",
     "output_type": "stream",
     "text": [
      "[0.6666666666666666, 0.1111111111111111, 0.1111111111111111, 0.1111111111111111]\n",
      "[0.3333333333333333, 0.2222222222222222, 0.2222222222222222, 0.2222222222222222]\n",
      "[0.4444444444444444, 0.1111111111111111, 0.2222222222222222, 0.2222222222222222]\n"
     ]
    }
   ],
   "source": [
    "motifs = ['AAC',\n",
    "          'ATA',\n",
    "          'ACG',\n",
    "          'AAA',\n",
    "          'AGA']\n",
    "k = 3\n",
    "t = 5\n",
    "\n",
    "profile = napravi_profil(motifs, k, t)\n",
    "\n",
    "for row in profile:\n",
    "    print(row)"
   ]
  },
  {
   "cell_type": "markdown",
   "metadata": {},
   "source": [
    "Funkcija **probability** izracunava verovatnocu da sekvenca **pattern** pripada skupu motiva koji odgovara datoj profilnoj matrici **profile**, tj. meru slicnosti tog k-grama (k je duzina pattern-a) sa motivima iz odgovarajuceg skupa motiva."
   ]
  },
  {
   "cell_type": "code",
   "execution_count": 67,
   "metadata": {},
   "outputs": [],
   "source": [
    "def verovatnoca(patern, profil):\n",
    "    ver = 1\n",
    "\n",
    "    k = len(patern)\n",
    "\n",
    "    for i in range(k):\n",
    "        trenutni_simbol = patern[i]\n",
    "        broj = symbol_to_number(trenutni_simbol)\n",
    "        ver = ver * profile[i][broj]\n",
    "    return ver"
   ]
  },
  {
   "cell_type": "code",
   "execution_count": 68,
   "metadata": {},
   "outputs": [],
   "source": [
    "def probability(pattern, profile):\n",
    "    prob = 1\n",
    "    \n",
    "    k = len(pattern)\n",
    "    \n",
    "    for i in range(k):\n",
    "        current_symbol = pattern[i]\n",
    "        number = symbol_to_number(current_symbol)\n",
    "        prob *= profile[i][number]\n",
    "        \n",
    "    return prob"
   ]
  },
  {
   "cell_type": "code",
   "execution_count": 22,
   "metadata": {},
   "outputs": [
    {
     "name": "stdout",
     "output_type": "stream",
     "text": [
      "0.09876543209876543\n",
      "0.0027434842249657062\n"
     ]
    }
   ],
   "source": [
    "motifs = ['AAC',\n",
    "          'ATA',\n",
    "          'ACG',\n",
    "          'AAA',\n",
    "          'AGA']\n",
    "k = 3\n",
    "t = 5\n",
    "\n",
    "profile = create_profile(motifs, k, t)\n",
    "\n",
    "print(probability('AAA', profile))\n",
    "print(probability('CGT', profile))"
   ]
  },
  {
   "cell_type": "code",
   "execution_count": 70,
   "metadata": {},
   "outputs": [
    {
     "name": "stdout",
     "output_type": "stream",
     "text": [
      "0.09876543209876543\n",
      "0.0027434842249657062\n"
     ]
    }
   ],
   "source": [
    "motifs = ['AAC',\n",
    "          'ATA',\n",
    "          'ACG',\n",
    "          'AAA',\n",
    "          'AGA']\n",
    "k = 3\n",
    "t = 5\n",
    "\n",
    "profile = create_profile(motifs, k, t)\n",
    "\n",
    "print(verovatnoca('AAA', profile))\n",
    "print(verovatnoca('CGT', profile))"
   ]
  },
  {
   "cell_type": "markdown",
   "metadata": {},
   "source": [
    "Funckija **most_probable_kmer** pronalazi najverovatniji k-gram iz sekvence **dna_sequence** u ondosu na datu matricu **profile**."
   ]
  },
  {
   "cell_type": "code",
   "execution_count": 71,
   "metadata": {},
   "outputs": [],
   "source": [
    "def most_probable_kmer(dna_sequence, k, profile):\n",
    "    max_prob = -1\n",
    "    max_prob_kmer = None\n",
    "    \n",
    "    n = len(dna_sequence)\n",
    "    \n",
    "    for i in range(n-k+1):\n",
    "        current_kmer = dna_sequence[i:i+k]\n",
    "        curretn_prob = probability(current_kmer, profile)\n",
    "        \n",
    "        if curretn_prob > max_prob:\n",
    "            max_prob = curretn_prob\n",
    "            max_prob_kmer = current_kmer\n",
    "            \n",
    "    return max_prob_kmer"
   ]
  },
  {
   "cell_type": "code",
   "execution_count": 77,
   "metadata": {},
   "outputs": [
    {
     "name": "stdout",
     "output_type": "stream",
     "text": [
      "AGA\n"
     ]
    }
   ],
   "source": [
    "motifs = ['AAC',\n",
    "          'ATA',\n",
    "          'ACG',\n",
    "          'AAA',\n",
    "          'AGA']\n",
    "k = 3\n",
    "t = 5\n",
    "\n",
    "profile = create_profile(motifs, k, t)\n",
    "\n",
    "print(most_probable_kmer('cgtcAGAggt', 3, profile))"
   ]
  },
  {
   "cell_type": "markdown",
   "metadata": {},
   "source": [
    "Skica (glavnog) algoritma: \n",
    "- fiksiramo jedan k-gram iz prve sekvence (**NAPOMENA:** k-gram iz prve sekvence nemamo u odnosu na sta da evaluiramo, pa zato iteriramo kroz sve k-grame u prvoj sekvenci!)\n",
    "- prolazimo kroz sve ostale sekvence i u svakoj od nijih pronadjemo onaj k-gram koji je najslicniji (najverovatniji) svim prethnodno odabranim k-gramima (**pohlepno biramo u odnosu na prethodno izabrane, tj. na pohlepan nacin minimizujemo skor matrice motiva!**) \n",
    "- formiramo od njih matricu motiva i izracunamo njen skor \n",
    "- ukoliko dobijena matrica motiva ima bolji skor od prethodno najboljeg skora, onda je to novo najbolje resenje\n",
    "- ponavljamo postupak za svaki od k-grama iz prve sekvence\n",
    "\n",
    "Funckija **greedy_motif_search** pronalazi skup motiva duzine **k** iz skupa od **t** sekvenci **dna_sequences** pohlepnim pristupom, formirajuci iterativno skup motiva dodavanjem najverovatnijeg **k**-grama iz i-te sekvence u odnosu na profilnu matricu koja odgovara skupu prethodno izabranih i-1 motiva."
   ]
  },
  {
   "cell_type": "code",
   "execution_count": 76,
   "metadata": {},
   "outputs": [],
   "source": [
    "def greedy_motif_search(dna_sequences, k, t):\n",
    "    best_motifs = None\n",
    "    best_score = float('inf')\n",
    "    \n",
    "    first_sequence = dna_sequences[0]\n",
    "    n = len(first_sequence)\n",
    "    # ovde prolazimo kroz sve k-grame znaci podsnike duzine k \n",
    "    for i in range(n-k+1):\n",
    "        motif_1 = first_sequence[i:i+k] # izaberemo motiv \n",
    "        motifs = [motif_1]\n",
    "\n",
    "        # prolazimo kroz sve ostale sekvence \n",
    "        # prolazimo kroz sve ostale sekvence \n",
    "        # i u svakoj od nijih pronadjemo onaj k-gram koji je najslicniji (najverovatniji) svim prethnodno odabranim k-gramima\n",
    "        for j in range(1, t):\n",
    "            # napravimo profil matricu \n",
    "            profile = create_profile(motifs, k, t)\n",
    "            # pronadjemo onaj k-gram koji je najslicniji (najverovatniji) svim prethnodno odabranim k-gramima\n",
    "            motif_j = most_probable_kmer(dna_sequences[j], k, profile)\n",
    "            # formiramo matricu motiva \n",
    "            motifs.append(motif_j)\n",
    "        # izracunamo skroz za generisanu matricu \n",
    "        current_score = score(motifs, k)\n",
    "        # ako moze azuriramo globalni skor i motive \n",
    "        if current_score < best_score:\n",
    "            best_score = current_score \n",
    "            best_motifs = motifs \n",
    "            \n",
    "    return best_motifs"
   ]
  },
  {
   "cell_type": "code",
   "execution_count": 74,
   "metadata": {},
   "outputs": [
    {
     "name": "stdout",
     "output_type": "stream",
     "text": [
      "[[1, 3, 1, 0], [0, 4, 1, 0], [4, 0, 1, 0]]\n",
      "1\n",
      "T\n",
      "1\n",
      "T\n",
      "0\n",
      "A\n",
      "[[0, 5, 0, 0], [3, 1, 1, 0], [2, 1, 2, 0]]\n",
      "1\n",
      "T\n",
      "0\n",
      "A\n",
      "0\n",
      "A\n",
      "[[5, 0, 0, 0], [1, 1, 2, 1], [1, 0, 0, 4]]\n",
      "0\n",
      "A\n",
      "2\n",
      "C\n",
      "3\n",
      "G\n",
      "[[0, 0, 5, 0], [1, 2, 0, 2], [1, 0, 0, 4]]\n",
      "2\n",
      "C\n",
      "1\n",
      "T\n",
      "3\n",
      "G\n",
      "[[0, 0, 0, 5], [2, 1, 0, 2], [0, 4, 0, 1]]\n",
      "3\n",
      "G\n",
      "0\n",
      "A\n",
      "1\n",
      "T\n",
      "[[1, 0, 1, 3], [0, 5, 0, 0], [3, 1, 1, 0]]\n",
      "3\n",
      "G\n",
      "1\n",
      "T\n",
      "0\n",
      "A\n",
      "[[0, 5, 0, 0], [3, 1, 1, 0], [3, 1, 1, 0]]\n",
      "1\n",
      "T\n",
      "0\n",
      "A\n",
      "0\n",
      "A\n",
      "[[3, 1, 0, 1], [2, 3, 0, 0], [1, 0, 4, 0]]\n",
      "0\n",
      "A\n",
      "1\n",
      "T\n",
      "2\n",
      "C\n",
      "['tAA', 'TAt', 'ttc', 'tAA', 'tcA']\n"
     ]
    }
   ],
   "source": [
    "dna_sequences = ['ttacggtAAC',\n",
    "                 'gATAtctgtc',\n",
    "                 'ACGgcgttcg',\n",
    "                 'ccctAAAgag',\n",
    "                 'cgtcAGAggt']\n",
    "k = 3\n",
    "t = 5\n",
    "\n",
    "print(greedy_motif_search(dna_sequences, k, t))"
   ]
  },
  {
   "cell_type": "code",
   "execution_count": 75,
   "metadata": {},
   "outputs": [
    {
     "name": "stdout",
     "output_type": "stream",
     "text": [
      "[[0, 5, 0, 0], [3, 1, 1, 0], [3, 1, 1, 0]]\n",
      "1\n",
      "T\n",
      "0\n",
      "A\n",
      "0\n",
      "A\n",
      "8\n",
      "[[5, 0, 0, 0], [2, 1, 1, 1], [3, 0, 1, 1]]\n",
      "0\n",
      "A\n",
      "0\n",
      "A\n",
      "0\n",
      "A\n",
      "5\n"
     ]
    }
   ],
   "source": [
    "print(score(['tAA', 'TAt', 'ttc', 'tAA', 'tcA'], 3))\n",
    "print(score(['AAC', 'ATA', 'ACG', 'AAA', 'AGA'], 3))"
   ]
  },
  {
   "cell_type": "markdown",
   "metadata": {},
   "source": [
    "# Randomized Motif Search algoritam"
   ]
  },
  {
   "cell_type": "markdown",
   "metadata": {},
   "source": [
    "Prethodni alogoritam je koristio koncept verovatnoce, ali je i dalje po prirodi bio deterministicki (broj iteracija je fiksan, a i sam njihov redosled je deterministicki odredjen). Ideja je da napravimo probabilisticki algoritam koji ce koristiti prethodno uveden koncept verovatnoce.\n",
    "\n",
    "**<u>Def</u>:** Deterministicki algoritmi su algoritmi koji za isti ulaz uvek daju isti izlaz, pri tom prolazeci uvek kroz isti niz stanja (koraka).\n",
    "\n",
    "**<u>Def</u>:** Probabilisticki algoritmi sadrze korake koji su definisani tako da ne zavise samo od ulaza, nego i od nekih slucajnih dogadjaja (sa pridruzenim verovatnocama). \n",
    "\n",
    "Ta \"slucajnost\" u algoritmu moze uticati na vrednost rezultata izracunavanja algoritma (izlaz algoritma) ili na nacin izvrsavanja algoritma. Prema tome se probabilisticki algoritmi dele na dve tipa - na one koji ne daju zagarantovano tacno resenje ali imaju zagarantovano vreme izvrsavanja (tzv. *Monte Karlo algoritmi*) i na one koji  nemaju zagarantovano vreme izvrsavanja ali uvek daju tacno resenje (tzv. *Las Vegas algoritmi*). Drugim recima, to znaci da probabilisticki algoritmi, za razliku od deterministickih, za isti ulaz razlicita pokretanja algoritma ne moraju dati isti rezultat ili da za razlicite ulaze vreme izvrsavanja algoritma ne mora biti isto (u asimptotskom smislu). \n",
    "\n",
    "<u>Randomizovani algoritmi</u> su specijalan slucaj probabilistickih algoritama kod kojih svi mogući ishodi slucajnih događaja od kojih zavisi izvrsavanja algoritma imaju jednake verovatnoće. Drugim recima, za generisanje slucajnih dogadjaja uvek se koristi uzorkovanje iz uniformne raspodele.\n",
    "\n",
    "Skica Random Motif Search algoritma: \n",
    "- za pocetni skup motiva uzimaju se slucajno izabrani k-grami iz svake od sekvenci\n",
    "- novi skup motiva formiramo tako sto iz svake sekvence biramo k-gram koji je najverovatniji u odnosu na profilnu matricu skupa motiva iz prethodne iteracije (**zapravo se izbor k-grama vrsi slicno kao u prethodnom algoritmu, s tim sto se najverovatniji k-gram i-te sekvence ne bira na osnovu prethodno odabranih i-1 motiva, vec na osnovu celog skupa motiva iz prethodne iteracije**)\n",
    "- ukoliko dobijena nova matrica motiva ima bolji skor od prethodno najboljeg skora, onda je to novo najbolje resenje\n",
    "- ponavljamo taj postupak sve dok uspevamo da dobijemo matricu motiva sa boljim skorom"
   ]
  },
  {
   "cell_type": "markdown",
   "metadata": {},
   "source": [
    "Funkcija **create_motifs_from_profile** pronalazi najverovatnije **k**-grame iz skupa sekvenci **dna_sequences** u odnosu na datu profilnu matricu **profile** i od njih formira (novi) skup motiva."
   ]
  },
  {
   "cell_type": "code",
   "execution_count": 80,
   "metadata": {},
   "outputs": [],
   "source": [
    "def create_motifs_from_profile(dna_sequences, k, profile):\n",
    "    motifs = []\n",
    "    \n",
    "    for sequence in dna_sequences:\n",
    "        motifs.append(most_probable_kmer(sequence, k, profile))\n",
    "        \n",
    "    return motifs"
   ]
  },
  {
   "cell_type": "markdown",
   "metadata": {},
   "source": [
    "Funkcija **randomized_motif_search** za zadati skup od **t** sekvenci **dna_sequences** pronalazi skup motiva duzine **k** probabilistickim pristupom minimizujuci skor matrice motiva, bez garancije za tacno (minimalno) resenje. "
   ]
  },
  {
   "cell_type": "code",
   "execution_count": 81,
   "metadata": {},
   "outputs": [],
   "source": [
    "import random"
   ]
  },
  {
   "cell_type": "code",
   "execution_count": 82,
   "metadata": {},
   "outputs": [],
   "source": [
    "def randomized_motif_search(dna_sequences, k, t):\n",
    "    best_motifs = []\n",
    "    \n",
    "    for sequence in dna_sequences:\n",
    "        n = len(sequence)                    #NAPOMENA: ne moraju sve sekvence iz dna_sequences biti iste duzine!\n",
    "        i = random.randrange(0, n-k+1)\n",
    "        best_motifs.append(sequence[i:i+k])\n",
    "        \n",
    "    best_score = score(best_motifs, k)\n",
    "    \n",
    "    while True:\n",
    "        profile = create_profile(best_motifs, k, t)\n",
    "        new_motifs = create_motifs_from_profile(dna_sequences, k, profile)\n",
    "        \n",
    "        new_score = score(new_motifs, k)\n",
    "        \n",
    "        if new_score < best_score:\n",
    "            best_score = new_score\n",
    "            best_motifs = new_motifs\n",
    "        else:\n",
    "            break\n",
    "            \n",
    "    return best_motifs"
   ]
  },
  {
   "cell_type": "code",
   "execution_count": 86,
   "metadata": {},
   "outputs": [],
   "source": [
    "def random_motiv_pretraga(dna_sekvence, k, t):\n",
    "    najbolji_motivi = []\n",
    "\n",
    "    for sekvenca in dna_sekvence:\n",
    "        n = len(sekvenca)\n",
    "        i = random.randrange(0, n-k+1) # biramo motiv # svakako je random motiv ? \n",
    "        najbolji_motivi.append(sekvenca[i:i+k])\n",
    "\n",
    "    najbolji_skor = score(najbolji_motivi, k)\n",
    "\n",
    "    while True:\n",
    "        profil = create_profile(najbolji_motivi, k, t)\n",
    "        novi_motivi = create_motifs_from_profile(dna_sekvence, k, profil)\n",
    "\n",
    "        novi_skor = score(novi_motivi, k)\n",
    "\n",
    "        if novi_skor > najbolji_skor:\n",
    "            najbolji_skor = novi_skor\n",
    "            najbolji_motivi = novi_motivi\n",
    "        else:\n",
    "            break\n",
    "\n",
    "    return najbolji_motivi"
   ]
  },
  {
   "cell_type": "code",
   "execution_count": 89,
   "metadata": {},
   "outputs": [
    {
     "name": "stdout",
     "output_type": "stream",
     "text": [
      "[[2, 1, 1, 1], [1, 3, 1, 0], [2, 0, 2, 1]]\n",
      "0\n",
      "A\n",
      "1\n",
      "T\n",
      "0\n",
      "A\n",
      "[[1, 2, 1, 1], [0, 5, 0, 0], [3, 0, 2, 0]]\n",
      "1\n",
      "T\n",
      "1\n",
      "T\n",
      "0\n",
      "A\n",
      "['tAA', 'Atc', 'ACG', 'ctA', 'gtc']\n"
     ]
    }
   ],
   "source": [
    "dna_sequences = ['ttacggtAAC',\n",
    "                 'gATAtctgtc',\n",
    "                 'ACGgcgttcg',\n",
    "                 'ccctAAAgag',\n",
    "                 'cgtcAGAggt']\n",
    "k = 3\n",
    "t = len(dna_sequences)\n",
    "\n",
    "print(randomized_motif_search(dna_sequences, k, t))"
   ]
  },
  {
   "cell_type": "code",
   "execution_count": 90,
   "metadata": {},
   "outputs": [
    {
     "name": "stdout",
     "output_type": "stream",
     "text": [
      "[[0, 1, 3, 1], [2, 1, 0, 2], [1, 1, 0, 3]]\n",
      "2\n",
      "C\n",
      "0\n",
      "A\n",
      "3\n",
      "G\n",
      "[[0, 0, 4, 1], [2, 1, 0, 2], [0, 0, 0, 5]]\n",
      "2\n",
      "C\n",
      "0\n",
      "A\n",
      "3\n",
      "G\n",
      "[[0, 0, 4, 1], [2, 1, 0, 2], [0, 0, 0, 5]]\n",
      "2\n",
      "C\n",
      "0\n",
      "A\n",
      "3\n",
      "G\n",
      "['cgg', 'ctg', 'CGg', 'gag', 'cAG']\n"
     ]
    }
   ],
   "source": [
    "dna_sequences = ['ttacggtAAC',\n",
    "                 'gATAtctgtc',\n",
    "                 'ACGgcgttcg',\n",
    "                 'ccctAAAgag',\n",
    "                 'cgtcAGAggt']\n",
    "k = 3\n",
    "t = len(dna_sequences)\n",
    "\n",
    "print(random_motiv_pretraga(dna_sequences, k, t))"
   ]
  },
  {
   "cell_type": "markdown",
   "metadata": {},
   "source": [
    "**NAPOMENA**: iako na prvi pogled po konstrukciji algoritma deluje kao da moze beskonacno da se izvrsava (zbog naizgled beskonacne petlje), zapravo je ogranicen broj koraka time sto ne mozemo skor da smanjujemo u beskonacno, vec do minimalnog skora (od najbolje matrice motiva). Dakle, ovo je Monte Karlo tip algoritma!"
   ]
  },
  {
   "cell_type": "markdown",
   "metadata": {},
   "source": [
    "# Gibbs Sampler algoritam"
   ]
  },
  {
   "cell_type": "markdown",
   "metadata": {},
   "source": [
    "U prethodnim algoritmima smo imali to da se uvek bira najverovatniji k-gram, medjutim mozda nas je bas to sprecavalo da izaberemo neki k-gram koji je malo manje verovatan u odnosu na do tada formiran skup motiva, a da je zapravo bolji kandidat za motiv u odgovarajucoj sekvenci. To moze biti zato sto je skup motiva u odnosu na koji se racuna verovatnoca k-grama u datom trenutku samo delimicno formiran, kao sto je to slucaj kod Greedy Search algoritma, pa se ispostavlja da k-gram koji tada nije delovao kao najbolji izbor ipak to jeste kada se posmatra u odnosu na konacan (kompletiran) skup motiva. Ili je kao kod Randomized Motif Search algoritma skup motiva inicijalno nasumicno odabran, pa samim tim odabir njima najslicnijeg k-grama ne mora predstavljati najbolji izbor. \n",
    "*Algoritam zasnovan na Gibbs-ovom sempliranju*<a name=\"cite_ref-1\"></a>[<sup>[1]</sup>](#cite_note-1), za razliku od prethodnih algoritama, dopusta da u svakom trenutku svaki k-gram moze biti izabran, ali sa odredjenom verovatnocom, proporcionalnoj slicnosti k-grama sa do tada formiranim skupom motiva. Najvecu verovatnocu da bude odabran ce i dalje imati onaj k-gram koji je najverovatniji, ali to ne znaci da nece moci da bude izabran i neki drugi k-gram sa manjom verovatnocom. **Na ovaj nacin dajemo sansu i onim simbolima koji nisu najzastupljeniji na nekoj poziciji da dodju do izrazaja, i time izbegavamo neke lokalne optimume za resenja.** Takodje, u prethodnom algoritmu smo imali da se svi k-grami unutar matrice motiva menjaju u svakoj iteraciji algoritma, i na taj nacin moze da se odbaci potencijalno tacan motiv iz neke od sekvenci. Gibbs Sampler algoritam to radi finije, tako sto menja jedan po jedan motiv.\n",
    "\n",
    "<a name=\"cite_note-1\"></a>[<sup>[1]</sup>](#cite_ref-1) Gibbs-ovo sepliranje - metod za uzorkovanje (sempliranje) iz zadate raspodele uslovljene svim prethodnim uzorkovanjima\n",
    "\n",
    "Izbor k-grama metodom Gibsovog sempliranja:  \n",
    "- za svaki k-gram iz sekvence kojoj odgovara izbaceni motiv izracunati njegovu verovatnocu u odnosu na profilnu matricu formiranu na osnovu preostalih motiva \n",
    "- to su verovatnoce $p_0$, $p_1$, ..., $p_{n-k+1}$  \n",
    "- u skladu sa tom raspodelom verovatnoca slucajnim odabirom izabrati k-gram koji se ubacuje u matricu motiva na mesto izbacenog "
   ]
  },
  {
   "cell_type": "markdown",
   "metadata": {},
   "source": [
    "Funkcija **gibbs_sampling_kmer** slucajnim odabirom bira jedan od **k**-grama iz sekvence **dna_sequence** u skladu sa raspodelom verovatnoca koje **k**-grami imaju u odnosu na profilnu matrucu **profile**. To radi tako sto na brojevnoj pravoj k-gramu koji pocinje na indeksu $i$ i koji ima verovatnocu $p_i$ u odnosu na profilnu matricu dodeli segment duzine $p_i$ na intervalu $[0, p_0 + ... + p_i + ... + p_{n-k+1}]$ $\\bigl($ k-gramu na indeksu $0$ se dodeljuje segment $[0, p_0]$, k-gramu na indeksu $1$ segment $[p_0, p_0 + p_1]$, ..., k-gramu na indeksu $n-k+1$ segment  $[p_0 + ... + p_i + ... + p_{n-k}, p_0 + ... + p_i + ... + p_{n-k+1}]$  $\\bigr)$ i random generatorom izabere broj iz tog intervala. Onaj k-gram kojem odgovara segment u koji \"upada\" random generisan broj, biva izabran.  "
   ]
  },
  {
   "cell_type": "code",
   "execution_count": null,
   "metadata": {},
   "outputs": [],
   "source": [
    "def gibsovo_uzorkovanje_kmer(dnk_sekvence, k, profil):\n",
    "    kmers = []\n",
    "    verovatnoce = []\n",
    "\n",
    "    n = len(dnk_sekvence)\n",
    "\n",
    "    for i in range(n-k+1);\n",
    "        kmer = dnk_sekvence[i:i+k]  # not sure about this \n",
    "        kmers.append(kmer)\n",
    "\n",
    "        kmer_verovatnoca = probability(kmer, profile)\n",
    "        verovatnoce.append(kmer_verovatnoca)\n",
    "\n",
    "    zbir_verovatnoca = sum(verovatnoce)\n",
    "\n",
    "    random_point = random.random() * zbir_verovatnoca # skaliranje tako da random gen broj bude iz intervala [0, prob_sum) \n",
    "\n",
    "    current_sum = 0\n",
    "    for i in range(len(probabilities)):\n",
    "        current_sum += probabilities[i]\n",
    "        \n",
    "        if current_sum >= random_point:\n",
    "            return kmers[i]"
   ]
  },
  {
   "cell_type": "code",
   "execution_count": 93,
   "metadata": {},
   "outputs": [],
   "source": [
    "def gibbs_sampling_kmer(dna_sequence, k, profile):\n",
    "    kmers = []\n",
    "    probabilities = []\n",
    "    \n",
    "    n = len(dna_sequence)\n",
    "    \n",
    "    for i in range(n-k+1):\n",
    "        kmer = dna_sequence[i:i+k]\n",
    "        kmers.append(kmer)\n",
    "        \n",
    "        kmer_probability = probability(kmer, profile)\n",
    "        probabilities.append(kmer_probability)\n",
    "        \n",
    "    probability_sum = sum(probabilities)\n",
    "    \n",
    "    random_point = random.random() * probability_sum     #skaliranje tako da random generisan broj \n",
    "                                                         #bude iz intervala [0, probability_sum) umesto iz [0, 1)\n",
    "    current_sum = 0\n",
    "    for i in range(len(probabilities)):\n",
    "        current_sum += probabilities[i]\n",
    "        \n",
    "        if current_sum >= random_point:\n",
    "            return kmers[i]"
   ]
  },
  {
   "cell_type": "code",
   "execution_count": 94,
   "metadata": {},
   "outputs": [
    {
     "name": "stdout",
     "output_type": "stream",
     "text": [
      "tcA\n"
     ]
    }
   ],
   "source": [
    "motifs = ['AAC',\n",
    "          'ATA',\n",
    "          'ACG',\n",
    "          'AAA',\n",
    "          'AGA']\n",
    "k = 3\n",
    "t = 5\n",
    "\n",
    "profile = create_profile(motifs, k, t)\n",
    "\n",
    "print(gibbs_sampling_kmer('cgtcAGAggt', 3, profile))"
   ]
  },
  {
   "cell_type": "markdown",
   "metadata": {},
   "source": [
    "Skica (glavnog) algoritma: \n",
    "- za pocetni skup motiva uzimaju se slucajno izabrani k-grami iz svake od sekvenci\n",
    "- u svakoj iteraciji na slucajan nacin biramo jedan od motiva iz trenutnog skupa motiva i uklanjamo ga \n",
    "- kreirano profilnu matricu od preostalih motiva i metodom **Gibsovog sempliranja** biramo k-gram kojim zamenjujemo prethodno izbaceni k-gram iz matrice motiva\n",
    "- ukoliko dobijena matrica motiva ima bolji skor od prethodno najboljeg skora, onda je to novo najbolje resenje\n",
    "- ponavljamo prethodne korake N puta (dati maksimalni broj iteracija)\n",
    "\n",
    "Funkcija **gibbs_sampler** pronalazi skup motiva duzine **k** iz skupa od **t** sekvenci **dna_sequences** polazeci od slucajno izabranog skupa motiva i iterativno popravljajuci ga metodom Gibsovog sempliranja. "
   ]
  },
  {
   "cell_type": "code",
   "execution_count": 95,
   "metadata": {},
   "outputs": [],
   "source": [
    "import copy"
   ]
  },
  {
   "cell_type": "code",
   "execution_count": 96,
   "metadata": {},
   "outputs": [],
   "source": [
    "def gibbs_sampler(dna_sequences, k, t, N):\n",
    "    best_motifs = []\n",
    "    \n",
    "    for sequence in dna_sequences:\n",
    "        n = len(sequence)\n",
    "        i = random.randrange(0, n-k+1)\n",
    "        best_motifs.append(sequence[i:i+k])\n",
    "        \n",
    "    best_score = score(best_motifs, k)\n",
    "    \n",
    "    motifs = copy.deepcopy(best_motifs)\n",
    "    \n",
    "    for i in range(N):\n",
    "        i = random.randrange(t)\n",
    "        del motifs[i]\n",
    "        \n",
    "        profile = create_profile(motifs, k, t-1)\n",
    "        motif_i = gibbs_sampling_kmer(dna_sequences[i], k, profile)\n",
    "        motifs.insert(i, motif_i)\n",
    "        \n",
    "        current_score = score(motifs, k)\n",
    "        \n",
    "        if current_score < best_score:\n",
    "            best_score = current_score \n",
    "            best_motifs = copy.deepcopy(motifs)\n",
    "            \n",
    "    return best_motifs"
   ]
  },
  {
   "cell_type": "code",
   "execution_count": null,
   "metadata": {},
   "outputs": [],
   "source": [
    "dna_sequences = ['ttacggtAAC',\n",
    "                 'gATAtctgtc',\n",
    "                 'ACGgcgttcg',\n",
    "                 'ccctAAAgag',\n",
    "                 'cgtcAGAggt']\n",
    "k = 3\n",
    "t = len(dna_sequences)\n",
    "N = 1000\n",
    "\n",
    "print(gibbs_sampler(dna_sequences, k, t, N))"
   ]
  },
  {
   "cell_type": "code",
   "execution_count": null,
   "metadata": {},
   "outputs": [],
   "source": []
  }
 ],
 "metadata": {
  "kernelspec": {
   "display_name": "Python 3 (ipykernel)",
   "language": "python",
   "name": "python3"
  },
  "language_info": {
   "codemirror_mode": {
    "name": "ipython",
    "version": 3
   },
   "file_extension": ".py",
   "mimetype": "text/x-python",
   "name": "python",
   "nbconvert_exporter": "python",
   "pygments_lexer": "ipython3",
   "version": "3.10.14"
  }
 },
 "nbformat": 4,
 "nbformat_minor": 4
}
